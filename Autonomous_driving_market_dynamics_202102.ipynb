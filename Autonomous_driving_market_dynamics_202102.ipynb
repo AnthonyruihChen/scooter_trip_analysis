{
  "nbformat": 4,
  "nbformat_minor": 0,
  "metadata": {
    "colab": {
      "name": "Autonomous_driving_market_dynamics_202102.ipynb",
      "provenance": [],
      "collapsed_sections": [],
      "toc_visible": true,
      "machine_shape": "hm"
    },
    "kernelspec": {
      "display_name": "Python 3",
      "language": "python",
      "name": "python3"
    },
    "language_info": {
      "codemirror_mode": {
        "name": "ipython",
        "version": 3
      },
      "file_extension": ".py",
      "mimetype": "text/x-python",
      "name": "python",
      "nbconvert_exporter": "python",
      "pygments_lexer": "ipython3",
      "version": "3.8.5"
    }
  },
  "cells": [
    {
      "cell_type": "markdown",
      "metadata": {
        "id": "atU9DYh7uXkG"
      },
      "source": [
        "# Executive Summary"
      ]
    },
    {
      "cell_type": "markdown",
      "metadata": {
        "id": "SFlB8fo-epjG"
      },
      "source": [
        "**Summary**\n",
        "\n",
        "Micormobility companies - Company A and Company B are two scooter companies operating in the Metro area of Louisville, KY. \n",
        "\n",
        "We were given their partial operation historical data to analyze the dynamic of the market of Louisville. We analyzed metrics such as ridership, trip duration, trip distance, and concentration of trips. The *key takeaways and recommendations for next steps* will be stated below\n",
        "\n",
        "The objective and scope of this analysis is an initial exploration to understand the operations of both companies's scooter businesss as well as the market. Due to the limitiation of data provided, it prevents us from diving deeper and tease out more insightful patterns (more details will be stated in the *Constrants* section)\n",
        "\n",
        "This initial analysis opens many angles for us to explore. I've brainstormed and provided a few intersting thoughts of next steps. We will set up meetings to sort out priority.\n",
        "\n",
        "\n",
        "**Objective**\n",
        "  * Learn the dynamic of the market of Lousiville, KY, in which the two companies operate\n",
        "  * Estimate the number of scooters company b operates in Louisville, KY.\n",
        "\n",
        "\n",
        "**Main Analysis Steps**\n",
        "\n",
        "Here are the key steps I performed for this analysis:\n",
        "\n",
        " * Exploratory Analysis\n",
        "\n",
        " * Data Preparation and Cleaning\n",
        "\n",
        " * Feature Engineering\n",
        "\n",
        " * Define Metrics\n",
        "\n",
        " * Analysis and Visualization\n",
        "\n",
        " * Estimation of num of scooters with Company B\n",
        "\n",
        "\n",
        "**Key Takeaways**\n",
        "\n",
        "Ridership, Trip duration, and distance may have different patterns across seasons, day fo week, and hours of day. \n",
        " * Company A scooters\n",
        "\n",
        "  * Ridership fluctuation followed the seasons of Lousiville, KY closely. (note that we don't have a complete year of data, it is hard to make a comprehensive intrepretation). From the starting of Aug (summer), the average monthly ridership of Company A increased rapidly from about 3,000 to 50,000 in a month, and hit peak in Oct, Nov 2018. In Fall, with the return of students to Louisville, Ridership reached about 6,000 in October, increased by about 50% compared to that of summer. Since Dec the return of cold weather dramatically brought ridership down to less than 4,000 in December.\n",
        "  * Trip Duration: Average trip duration has been decreasing since 2018-08, and it reaches the lowest in 2018-12. \n",
        "  * Distance in miles: The average distance starts decreasing since weather starts getting colder, and it hits the lowest around 2018-12 for Company A.\n",
        "\n",
        "\n",
        " * Company B scooters\n",
        "  * Ridership: We don't have enough Company B data to tell the ridership patten with seasons, but we noticed that Dec is the valley and ridership increased significantly in Jan 2019.\n",
        "  * Trip Duration: Average trip duration started decreasing in 2018-12, and it reaches the lowest in 2019-01.\n",
        "  * Distance in miles: The average distance starts decreasing since weather starts getting colder, and it hits the lowest around 2019-01 for Company B\n",
        "\n",
        " * Comparison between Company A and Compnay B\n",
        "  * Ridership: \n",
        "    * For Company A, Friday and Saturday peaked with average around 170 - 180 rides per day, while for company B, the peak is around Tuesday and Thursday. It might be the case that Comany A and Company B focus on different operation locations\n",
        "    * Company B has a clear peak around noon while Company A stays high-volumn the entire afternoon and starts dropping around 5pm. Note that it might be lack of data, but we notice that there's no rides at all from 10pm to 3am for Company A. I suspect that holds similar possibility of different focus of operation location\n",
        "  * Trip Duration: \n",
        "    * To compare these two Companies, we can only look at 2018-12, the month that we have data for both companies. Company B outperformed Company A on average trip duration (Company A: 11.85; Company B: 16.27) \n",
        "    * Company A and Company B are quite similar in terms of trip duration pattern over days of week. Looks like Weekends riders tend to take longer rides than workdays. Possibly, people were hanging out around without checking out their scooters.\n",
        "    * Similarlly, Both Company A and Company B have peaks around evening commute hours, and specifically Company A also have peak around early morning commute hours. Clearly, scooters don't get affected by normal traffic as much as other vehicle types, but there's somehow still some minor effect.\n",
        "  * Distance in miles:\n",
        "    * Scooters ran by Company A tend to have longer distance than Company B's. Besides the possiblity that Company A has data for the good weather months, It could be the case that the battery duration of Company A's scooters is longer.\n",
        "    * Looks like the morning commuters using Company A's scooters typically have longer commute distance, as well as their evening commuters, but not as much. While riders riding Company B's scooters tend to ride for consistent shorter range.\n",
        "\n",
        "\n",
        "**Constraints**\n",
        "* Sample size: For both companies, the sample size is small. We should gather at least one year of data, ideally more than two years for pattern consistency and seasonality\n",
        "* Small overlap date range: From a time series perspective, one month of date range overlap would make it hard to make an apple-to-apple comparison on the operations between the two companies. Without the time/date covariates somehow controlled, the interpretation of the differnce on their operation performance could vary\n",
        "* Not enough data for further exploration and analysis.\n",
        "\n",
        "\n",
        "**Recommendation and Next steps**\n",
        "\n",
        "On a high level, my recomendation is we should \n",
        "1. Connect the current findings with our autonomous driving product\n",
        "2. Define our business objective and ORK for further actions\n",
        "3. Collect more data, and keep exploring\n",
        "4. Further analysis to meet OKRs\n",
        "\n",
        "\n",
        "I've brainstormed a few next steps for us to consider. Depending on our OKRs, we shall decide which of the next steps should be prioritized.\n",
        "\n",
        "\n",
        "* Brainstorm within the team and PMs to connect current finding with our autonomous driving products\n",
        "\n",
        "* Data Collection for further analysis to better understand Company A and Company B:\n",
        "  * At least 2 years of historical data - date range overlapping between A and B(capture seasonality)\n",
        "  * Weather data\n",
        "    * Temperature\n",
        "    * Precipitation\n",
        "    * Snow depth\n",
        "  * Elevation change\n",
        "  * Rider ID\n",
        "  * Neigborhood identifier (although this could be approximated by coordinates)\n",
        "  * Profitability: Cost of each ride\n",
        "  * Product Behavior:\n",
        "    * Battery usage\n",
        "    * Charging status\n",
        "  * Customer behavior\n",
        "    * Stationary vs. non-stationary\n",
        "    * Placeback/replacement \n",
        "\n",
        "* More competitor analysis\n",
        "  * Major players: Bird, Lime, etc.\n",
        "  * Small players: Higher expenditure incurred on marketing and promotions of these services in comparison to the revenues generated by the major market players is reducing the sustainability of smaller players; this factor is expected to act as a restraint to the growth of the market\n",
        "  * Analyze where to position our product in the market and what is our competitive advantage (not just against Company A or Company B)\n",
        "  * Address how we can leverage our advantage to take lead in the market over Company A and Company B"
      ]
    },
    {
      "cell_type": "markdown",
      "metadata": {
        "id": "MEtOzjn8uns8"
      },
      "source": [
        "# Assumptions"
      ]
    },
    {
      "cell_type": "markdown",
      "metadata": {
        "id": "ulntScPiu4H3"
      },
      "source": [
        "The overview of the exercise gives the high-level context and background. In order to move on my detailed analysis, there are some assumptions I need to state upfront\n",
        " * please note the assumptions will be summarized here and also stated in the specific section where they are needed\n",
        "\n",
        "Assumptions:\n",
        "\n",
        "I am summarizing all assumptions that I made throughout the analysis here. As audience to this notebook, you can find where these assumptions specifically applied to respectively in the `Detailed Analysis` section.\n",
        "\n",
        " * Context\n",
        "    * All scooters in both Company A and Company B datasets are E-scooters, so only one scooter category\n",
        "    * **The analysis only covers single ride that that doesn't go beyond 15 hours (considering 6 hours of sleep)**. Scooters that were experiencing unusual long hours, such as maintaince, overnight parking without ending the ride, etc. The corresponding trips are not in scope.\n",
        "    * Assume trips with time difference between start and end equal to 0 hour or more than 18 hours, are **tentatively** considered as \"quantionable\" trips, which we were not able to validate the status of those trips. I am eliminating those trips from our analysis.\n",
        "      * Typically in one single ride, it is unlikely for riders to ride more than 15 hours, unless but not limit to 1) the scooter was stationary for quite some time in the middle of the trip and the rider didn't terminate the trip 2) the sensor on the scooter is broken, so it sent wrong data when syncing\n",
        "      * 18-hour might also be a high threshold, but in order not to lose too many data points. **We wil keep in this way until we have enough data to validate stationarity**. The right below bullet point explains the logic of stationary vs  non-stationary. \n",
        "    * **Stationary vs. non-stationary**: For simplicity purpose and due to the limitation of available data, we can hardly validate whether a scooter is stationary. Technically at least six dimensions need to be considered for this. 1) time difference between start time and completed time. 2) trip distance between start and end points 3) battery usage in a trip 4) cost of the trip 5) placeback status 6) maintenance status. Currently we only have 1) or 2) which are not enough for us to validate our interpretation of whether the scooter is stationary or non-stationary. \n",
        "\n",
        " * Data\n",
        "    * Variation or errorness of outliers: Many outliers I detected in the dataset were intuitively incorrect, and thus I removed them. However, it is possible that if we have additional data and domain inputs to validate some of those outliers, they might not necessarily be outliers anymore. In order to continue the analysis, I would like to hold the assumption that with our current knowledge and understanding, these outliers that were removed were not variation but errorness.\n",
        "    * **Datetime**: All datetime fields are in local timezone\n",
        "    * **Distance Unit**:Unit of distance field is consistent through the entire field (no matter if the unit is explicitly indicated)\n",
        "    * **Distance approximation**: Trip distance can be approximated by Haversine distance ( Haversine takes the Earth’s spherical shape into account where formulas like Euclidean distance don’t and hence why Haversine is appropriate to use in this case)\n",
        "    * **Trip distance validation**: the trip distance should be larger than or equal to the **Haversine distance** measured/approximated by corresponding start/end latitude and longitude. If not, the original trip distance might be invalid. This is a reasonable assumption because:\n",
        "\n",
        "     1. distance approximated by corresonding coordinates is Haversine distance/straight line distance\n",
        "     2. trip distance is typically based on Manhattan distance or however the scooter drives on the road (haversine distance is supposed to be the shortest in reality)\n",
        "\n",
        "    * **Trip distance validation (distance = 0)**: Trip distance being 0 is invalid, especially when the approximated Haversine distance indicates the same (if the Haversine distance is not 0, we could use it as a proxy of the trip distance). Zero trip distance could indicate potential situations as below, but before we can collect additional data to validate these trips, to reduce noice, we should consider these trips as outliers or error trips and remove them.\n",
        "    \n",
        "      1. the scooter wasn't successfully activated, or\n",
        "      2. the rider gave up the thought of riding right after activating the scooter, or\n",
        "      3. the data hasn't been accurately recorded\n"
      ]
    },
    {
      "cell_type": "markdown",
      "metadata": {
        "id": "6oNGFpVjuXhw"
      },
      "source": [
        "# Detailed Analysis"
      ]
    },
    {
      "cell_type": "markdown",
      "metadata": {
        "id": "WounzWGGuXU0"
      },
      "source": [
        "## Import packages"
      ]
    },
    {
      "cell_type": "code",
      "metadata": {
        "colab": {
          "base_uri": "https://localhost:8080/"
        },
        "id": "OQ_4peiJoxgK",
        "outputId": "81875e85-9396-4480-82ba-71023b6ade36"
      },
      "source": [
        "# Install non-pre-installed packages\r\n",
        "%pip install geopy\r\n",
        "%pip install gmap\r\n",
        "%pip install folium geopandas\r\n",
        "%pip install plotly_express"
      ],
      "execution_count": 2,
      "outputs": [
        {
          "output_type": "stream",
          "text": [
            "Requirement already satisfied: geopy in /usr/local/lib/python3.6/dist-packages (1.17.0)\n",
            "Requirement already satisfied: geographiclib<2,>=1.49 in /usr/local/lib/python3.6/dist-packages (from geopy) (1.50)\n",
            "Collecting gmap\n",
            "  Downloading https://files.pythonhosted.org/packages/dc/05/7ab51a9f0cc15fac11f0cbd1a21bbc41db566929ed6ebb647a68e45cb4bd/gmap-1.0-py3-none-any.whl\n",
            "Installing collected packages: gmap\n",
            "Successfully installed gmap-1.0\n",
            "Requirement already satisfied: folium in /usr/local/lib/python3.6/dist-packages (0.8.3)\n",
            "Collecting geopandas\n",
            "\u001b[?25l  Downloading https://files.pythonhosted.org/packages/2a/9f/e8a440a993e024c0d3d4e5c7d3346367c50c9a1a3d735caf5ee3bde0aab1/geopandas-0.8.2-py2.py3-none-any.whl (962kB)\n",
            "\u001b[K     |████████████████████████████████| 972kB 11.2MB/s \n",
            "\u001b[?25hRequirement already satisfied: branca>=0.3.0 in /usr/local/lib/python3.6/dist-packages (from folium) (0.4.2)\n",
            "Requirement already satisfied: numpy in /usr/local/lib/python3.6/dist-packages (from folium) (1.19.5)\n",
            "Requirement already satisfied: jinja2 in /usr/local/lib/python3.6/dist-packages (from folium) (2.11.3)\n",
            "Requirement already satisfied: requests in /usr/local/lib/python3.6/dist-packages (from folium) (2.23.0)\n",
            "Requirement already satisfied: six in /usr/local/lib/python3.6/dist-packages (from folium) (1.15.0)\n",
            "Collecting pyproj>=2.2.0\n",
            "\u001b[?25l  Downloading https://files.pythonhosted.org/packages/e4/ab/280e80a67cfc109d15428c0ec56391fc03a65857b7727cf4e6e6f99a4204/pyproj-3.0.0.post1-cp36-cp36m-manylinux2010_x86_64.whl (6.4MB)\n",
            "\u001b[K     |████████████████████████████████| 6.5MB 28.1MB/s \n",
            "\u001b[?25hRequirement already satisfied: shapely in /usr/local/lib/python3.6/dist-packages (from geopandas) (1.7.1)\n",
            "Requirement already satisfied: pandas>=0.23.0 in /usr/local/lib/python3.6/dist-packages (from geopandas) (1.1.5)\n",
            "Collecting fiona\n",
            "\u001b[?25l  Downloading https://files.pythonhosted.org/packages/37/94/4910fd55246c1d963727b03885ead6ef1cd3748a465f7b0239ab25dfc9a3/Fiona-1.8.18-cp36-cp36m-manylinux1_x86_64.whl (14.8MB)\n",
            "\u001b[K     |████████████████████████████████| 14.8MB 46.3MB/s \n",
            "\u001b[?25hRequirement already satisfied: MarkupSafe>=0.23 in /usr/local/lib/python3.6/dist-packages (from jinja2->folium) (1.1.1)\n",
            "Requirement already satisfied: chardet<4,>=3.0.2 in /usr/local/lib/python3.6/dist-packages (from requests->folium) (3.0.4)\n",
            "Requirement already satisfied: idna<3,>=2.5 in /usr/local/lib/python3.6/dist-packages (from requests->folium) (2.10)\n",
            "Requirement already satisfied: urllib3!=1.25.0,!=1.25.1,<1.26,>=1.21.1 in /usr/local/lib/python3.6/dist-packages (from requests->folium) (1.24.3)\n",
            "Requirement already satisfied: certifi>=2017.4.17 in /usr/local/lib/python3.6/dist-packages (from requests->folium) (2020.12.5)\n",
            "Requirement already satisfied: python-dateutil>=2.7.3 in /usr/local/lib/python3.6/dist-packages (from pandas>=0.23.0->geopandas) (2.8.1)\n",
            "Requirement already satisfied: pytz>=2017.2 in /usr/local/lib/python3.6/dist-packages (from pandas>=0.23.0->geopandas) (2018.9)\n",
            "Collecting click-plugins>=1.0\n",
            "  Downloading https://files.pythonhosted.org/packages/e9/da/824b92d9942f4e472702488857914bdd50f73021efea15b4cad9aca8ecef/click_plugins-1.1.1-py2.py3-none-any.whl\n",
            "Requirement already satisfied: attrs>=17 in /usr/local/lib/python3.6/dist-packages (from fiona->geopandas) (20.3.0)\n",
            "Requirement already satisfied: click<8,>=4.0 in /usr/local/lib/python3.6/dist-packages (from fiona->geopandas) (7.1.2)\n",
            "Collecting munch\n",
            "  Downloading https://files.pythonhosted.org/packages/cc/ab/85d8da5c9a45e072301beb37ad7f833cd344e04c817d97e0cc75681d248f/munch-2.5.0-py2.py3-none-any.whl\n",
            "Collecting cligj>=0.5\n",
            "  Downloading https://files.pythonhosted.org/packages/42/1e/947eadf10d6804bf276eb8a038bd5307996dceaaa41cfd21b7a15ec62f5d/cligj-0.7.1-py3-none-any.whl\n",
            "Installing collected packages: pyproj, click-plugins, munch, cligj, fiona, geopandas\n",
            "Successfully installed click-plugins-1.1.1 cligj-0.7.1 fiona-1.8.18 geopandas-0.8.2 munch-2.5.0 pyproj-3.0.0.post1\n",
            "Collecting plotly_express\n",
            "  Downloading https://files.pythonhosted.org/packages/d4/d6/8a2906f51e073a4be80cab35cfa10e7a34853e60f3ed5304ac470852a08d/plotly_express-0.4.1-py2.py3-none-any.whl\n",
            "Requirement already satisfied: scipy>=0.18 in /usr/local/lib/python3.6/dist-packages (from plotly_express) (1.4.1)\n",
            "Requirement already satisfied: statsmodels>=0.9.0 in /usr/local/lib/python3.6/dist-packages (from plotly_express) (0.10.2)\n",
            "Requirement already satisfied: patsy>=0.5 in /usr/local/lib/python3.6/dist-packages (from plotly_express) (0.5.1)\n",
            "Requirement already satisfied: pandas>=0.20.0 in /usr/local/lib/python3.6/dist-packages (from plotly_express) (1.1.5)\n",
            "Requirement already satisfied: numpy>=1.11 in /usr/local/lib/python3.6/dist-packages (from plotly_express) (1.19.5)\n",
            "Requirement already satisfied: plotly>=4.1.0 in /usr/local/lib/python3.6/dist-packages (from plotly_express) (4.4.1)\n",
            "Requirement already satisfied: six in /usr/local/lib/python3.6/dist-packages (from patsy>=0.5->plotly_express) (1.15.0)\n",
            "Requirement already satisfied: python-dateutil>=2.7.3 in /usr/local/lib/python3.6/dist-packages (from pandas>=0.20.0->plotly_express) (2.8.1)\n",
            "Requirement already satisfied: pytz>=2017.2 in /usr/local/lib/python3.6/dist-packages (from pandas>=0.20.0->plotly_express) (2018.9)\n",
            "Requirement already satisfied: retrying>=1.3.3 in /usr/local/lib/python3.6/dist-packages (from plotly>=4.1.0->plotly_express) (1.3.3)\n",
            "Installing collected packages: plotly-express\n",
            "Successfully installed plotly-express-0.4.1\n"
          ],
          "name": "stdout"
        }
      ]
    },
    {
      "cell_type": "code",
      "metadata": {
        "id": "m9Gpk9KWMXvK",
        "colab": {
          "base_uri": "https://localhost:8080/"
        },
        "outputId": "47aeaf61-5cfb-4115-df13-e3135b33bdfa"
      },
      "source": [
        "import pandas as pd\n",
        "import seaborn as sns\n",
        "# from colabtools import drive\n",
        "import io\n",
        "import geopy\n",
        "# trip distance by coordinates\n",
        "from geopy.distance import geodesic\n",
        "# locate city/state by coordinates\n",
        "from geopy.geocoders import Nominatim\n",
        "import random\n",
        "import gmap\n",
        "import geopandas as gpd\n",
        "import matplotlib.pyplot as plt\n",
        "from collections import Counter\n",
        "import plotly_express as px\n",
        "\n",
        "import folium\n",
        "from folium.plugins import HeatMap\n",
        "from folium.plugins import HeatMapWithTime\n",
        "\n",
        "from sklearn.cluster import MeanShift\n",
        "from sklearn.datasets.samples_generator import make_blobs\n",
        "from mpl_toolkits.mplot3d import Axes3D\n",
        "import matplotlib.pyplot as plt\n",
        "from matplotlib import style"
      ],
      "execution_count": 3,
      "outputs": [
        {
          "output_type": "stream",
          "text": [
            "/usr/local/lib/python3.6/dist-packages/sklearn/utils/deprecation.py:144: FutureWarning:\n",
            "\n",
            "The sklearn.datasets.samples_generator module is  deprecated in version 0.22 and will be removed in version 0.24. The corresponding classes / functions should instead be imported from sklearn.datasets. Anything that cannot be imported from sklearn.datasets is now part of the private API.\n",
            "\n"
          ],
          "name": "stderr"
        }
      ]
    },
    {
      "cell_type": "markdown",
      "metadata": {
        "id": "6MNGfHHv-vyR"
      },
      "source": [
        "## Define functions"
      ]
    },
    {
      "cell_type": "code",
      "metadata": {
        "id": "wvJhjWCMyzG-"
      },
      "source": [
        "# Function: load_from_cloud\n",
        "  \"\"\" Load csv files with the filenames in a list from cloud and\n",
        "      concat all files into one data frame\n",
        "  Arguments:\n",
        "      filenames: a list of filenames\n",
        "  Returns:\n",
        "      loaded data frame\n",
        "  \"\"\"\n",
        "def loadFromCloud(filenames):\n",
        "  list_company = []\n",
        "  for filename in filenames:\n",
        "    # load csv files from cloud\n",
        "    df = pd.read_csv(io.BytesIO(uploaded[filename]))\n",
        "    list_company.append(df)\n",
        "  # concat data frames by row and merge them as df\n",
        "  df = pd.concat(list_company, axis = 0)\n",
        "  return df"
      ],
      "execution_count": 4,
      "outputs": []
    },
    {
      "cell_type": "code",
      "metadata": {
        "id": "BpniEPcm-tU_"
      },
      "source": [
        "# Function: generateBaseMap\n",
        "  \"\"\" function to generate map of Louisvelle\n",
        "  Returns:\n",
        "      base map of Lousivelle\n",
        "  \"\"\"\n",
        "def generateBaseMap(default_location=[38.245, -85.7647], default_zoom_start=11):\n",
        "    base_map = folium.Map(location=default_location, control_scale=True, zoom_start=default_zoom_start)\n",
        "    return base_map"
      ],
      "execution_count": 5,
      "outputs": []
    },
    {
      "cell_type": "code",
      "metadata": {
        "id": "R7YGcYlgzu7t"
      },
      "source": [
        "# Function: unique\n",
        "  \"\"\" function to get unique values\n",
        "  Arguments:\n",
        "      list1: a list of elemnts\n",
        "  Returns:\n",
        "      unique list of elements\n",
        "  \"\"\"\n",
        "def unique(list1): \n",
        "    # intilize a null list \n",
        "    unique_list = [] \n",
        "    # traverse for all elements \n",
        "    for x in list1: \n",
        "      # check if exists in unique_list or not \n",
        "      if x not in unique_list: \n",
        "        unique_list.append(x)\n",
        "    return unique_list"
      ],
      "execution_count": 6,
      "outputs": []
    },
    {
      "cell_type": "code",
      "metadata": {
        "id": "Ka7guGX2Oxq5"
      },
      "source": [
        "# Function subset_by_iqr\n",
        "  \"\"\"Remove outliers from a dataframe by column, including optional \n",
        "      whiskers, removing rows for which the column value are \n",
        "      less than Q1-1.5IQR or greater than Q3+1.5IQR.\n",
        "  Arguments:\n",
        "      df: A pandas dataframe to subset\n",
        "      column: Name of the column to calculate the subset from.\n",
        "      whisker_width: Optional, loosen the IQR filter by a\n",
        "                              factor of `whisker_width` * IQR.\n",
        "  Returns:\n",
        "      Filtered dataframe\n",
        "  \"\"\"\n",
        "def subset_by_iqr(df, column, whisker_width=1.5):\n",
        "    # Calculate Q1, Q2 and IQR\n",
        "    q1 = df[column].quantile(0.25)                 \n",
        "    q3 = df[column].quantile(0.75)\n",
        "    iqr = q3 - q1\n",
        "    # Apply filter with respect to IQR, including optional whiskers\n",
        "    filter = (df[column] >= q1 - whisker_width*iqr) & (df[column] <= q3 + whisker_width*iqr)\n",
        "    return df.loc[filter]                                                     "
      ],
      "execution_count": 40,
      "outputs": []
    },
    {
      "cell_type": "code",
      "metadata": {
        "id": "1whZmNiAkSv8"
      },
      "source": [
        "# Function: city_state\n",
        "  \"\"\"Function to locate city and state given coordinates\n",
        "  Arguments:\n",
        "    coord: coordinates (latitude, longitude) of give location\n",
        "  Returns:\n",
        "    city name, state name, country name\n",
        "  \"\"\"\n",
        "from geopy.geocoders import Nominatim\n",
        "geolocator = Nominatim(user_agent=\"geoapiExercises\")\n",
        "def city_state(coord):\n",
        "    location = geolocator.reverse(coord, exactly_one=True, timeout=1000)\n",
        "    address = location.raw['address']\n",
        "    city = address.get('city', '')\n",
        "    state = address.get('state', '')\n",
        "    country = address.get('country', '')\n",
        "    return city, state, country"
      ],
      "execution_count": 8,
      "outputs": []
    },
    {
      "cell_type": "code",
      "metadata": {
        "id": "PRx8ElK1Kxhz"
      },
      "source": [
        "# Function: approximateDistance\n",
        "  \"\"\" Function to approximate distance in miles by start coordinates and end coordinates\n",
        "  Arguments:\n",
        "      df:          input data frame: data source of coordinates\n",
        "      start_coord: start coordinates of a trip (tuple with both latitude and longitude)\n",
        "      end_coord:   end coordinates of a trip (tuple with both latitude and longitude)\n",
        "  Returns:\n",
        "      approximated distance by coordinates\n",
        "  \"\"\"\n",
        "def approximateDistance(df, start_coord = 'start_coordinates', end_coord = 'end_coordinates'):\n",
        "  approximated_distance = []\n",
        "  for x, y in zip(df[start_coord], df[end_coord]):\n",
        "    distance = geodesic(x, y).miles\n",
        "    approximated_distance.append(distance)\n",
        "  return approximated_distance"
      ],
      "execution_count": 9,
      "outputs": []
    },
    {
      "cell_type": "markdown",
      "metadata": {
        "id": "aFEx1etrnrh1"
      },
      "source": [
        "##  Load data files"
      ]
    },
    {
      "cell_type": "code",
      "metadata": {
        "colab": {
          "resources": {
            "http://localhost:8080/nbextensions/google.colab/files.js": {
              "data": "Ly8gQ29weXJpZ2h0IDIwMTcgR29vZ2xlIExMQwovLwovLyBMaWNlbnNlZCB1bmRlciB0aGUgQXBhY2hlIExpY2Vuc2UsIFZlcnNpb24gMi4wICh0aGUgIkxpY2Vuc2UiKTsKLy8geW91IG1heSBub3QgdXNlIHRoaXMgZmlsZSBleGNlcHQgaW4gY29tcGxpYW5jZSB3aXRoIHRoZSBMaWNlbnNlLgovLyBZb3UgbWF5IG9idGFpbiBhIGNvcHkgb2YgdGhlIExpY2Vuc2UgYXQKLy8KLy8gICAgICBodHRwOi8vd3d3LmFwYWNoZS5vcmcvbGljZW5zZXMvTElDRU5TRS0yLjAKLy8KLy8gVW5sZXNzIHJlcXVpcmVkIGJ5IGFwcGxpY2FibGUgbGF3IG9yIGFncmVlZCB0byBpbiB3cml0aW5nLCBzb2Z0d2FyZQovLyBkaXN0cmlidXRlZCB1bmRlciB0aGUgTGljZW5zZSBpcyBkaXN0cmlidXRlZCBvbiBhbiAiQVMgSVMiIEJBU0lTLAovLyBXSVRIT1VUIFdBUlJBTlRJRVMgT1IgQ09ORElUSU9OUyBPRiBBTlkgS0lORCwgZWl0aGVyIGV4cHJlc3Mgb3IgaW1wbGllZC4KLy8gU2VlIHRoZSBMaWNlbnNlIGZvciB0aGUgc3BlY2lmaWMgbGFuZ3VhZ2UgZ292ZXJuaW5nIHBlcm1pc3Npb25zIGFuZAovLyBsaW1pdGF0aW9ucyB1bmRlciB0aGUgTGljZW5zZS4KCi8qKgogKiBAZmlsZW92ZXJ2aWV3IEhlbHBlcnMgZm9yIGdvb2dsZS5jb2xhYiBQeXRob24gbW9kdWxlLgogKi8KKGZ1bmN0aW9uKHNjb3BlKSB7CmZ1bmN0aW9uIHNwYW4odGV4dCwgc3R5bGVBdHRyaWJ1dGVzID0ge30pIHsKICBjb25zdCBlbGVtZW50ID0gZG9jdW1lbnQuY3JlYXRlRWxlbWVudCgnc3BhbicpOwogIGVsZW1lbnQudGV4dENvbnRlbnQgPSB0ZXh0OwogIGZvciAoY29uc3Qga2V5IG9mIE9iamVjdC5rZXlzKHN0eWxlQXR0cmlidXRlcykpIHsKICAgIGVsZW1lbnQuc3R5bGVba2V5XSA9IHN0eWxlQXR0cmlidXRlc1trZXldOwogIH0KICByZXR1cm4gZWxlbWVudDsKfQoKLy8gTWF4IG51bWJlciBvZiBieXRlcyB3aGljaCB3aWxsIGJlIHVwbG9hZGVkIGF0IGEgdGltZS4KY29uc3QgTUFYX1BBWUxPQURfU0laRSA9IDEwMCAqIDEwMjQ7CgpmdW5jdGlvbiBfdXBsb2FkRmlsZXMoaW5wdXRJZCwgb3V0cHV0SWQpIHsKICBjb25zdCBzdGVwcyA9IHVwbG9hZEZpbGVzU3RlcChpbnB1dElkLCBvdXRwdXRJZCk7CiAgY29uc3Qgb3V0cHV0RWxlbWVudCA9IGRvY3VtZW50LmdldEVsZW1lbnRCeUlkKG91dHB1dElkKTsKICAvLyBDYWNoZSBzdGVwcyBvbiB0aGUgb3V0cHV0RWxlbWVudCB0byBtYWtlIGl0IGF2YWlsYWJsZSBmb3IgdGhlIG5leHQgY2FsbAogIC8vIHRvIHVwbG9hZEZpbGVzQ29udGludWUgZnJvbSBQeXRob24uCiAgb3V0cHV0RWxlbWVudC5zdGVwcyA9IHN0ZXBzOwoKICByZXR1cm4gX3VwbG9hZEZpbGVzQ29udGludWUob3V0cHV0SWQpOwp9CgovLyBUaGlzIGlzIHJvdWdobHkgYW4gYXN5bmMgZ2VuZXJhdG9yIChub3Qgc3VwcG9ydGVkIGluIHRoZSBicm93c2VyIHlldCksCi8vIHdoZXJlIHRoZXJlIGFyZSBtdWx0aXBsZSBhc3luY2hyb25vdXMgc3RlcHMgYW5kIHRoZSBQeXRob24gc2lkZSBpcyBnb2luZwovLyB0byBwb2xsIGZvciBjb21wbGV0aW9uIG9mIGVhY2ggc3RlcC4KLy8gVGhpcyB1c2VzIGEgUHJvbWlzZSB0byBibG9jayB0aGUgcHl0aG9uIHNpZGUgb24gY29tcGxldGlvbiBvZiBlYWNoIHN0ZXAsCi8vIHRoZW4gcGFzc2VzIHRoZSByZXN1bHQgb2YgdGhlIHByZXZpb3VzIHN0ZXAgYXMgdGhlIGlucHV0IHRvIHRoZSBuZXh0IHN0ZXAuCmZ1bmN0aW9uIF91cGxvYWRGaWxlc0NvbnRpbnVlKG91dHB1dElkKSB7CiAgY29uc3Qgb3V0cHV0RWxlbWVudCA9IGRvY3VtZW50LmdldEVsZW1lbnRCeUlkKG91dHB1dElkKTsKICBjb25zdCBzdGVwcyA9IG91dHB1dEVsZW1lbnQuc3RlcHM7CgogIGNvbnN0IG5leHQgPSBzdGVwcy5uZXh0KG91dHB1dEVsZW1lbnQubGFzdFByb21pc2VWYWx1ZSk7CiAgcmV0dXJuIFByb21pc2UucmVzb2x2ZShuZXh0LnZhbHVlLnByb21pc2UpLnRoZW4oKHZhbHVlKSA9PiB7CiAgICAvLyBDYWNoZSB0aGUgbGFzdCBwcm9taXNlIHZhbHVlIHRvIG1ha2UgaXQgYXZhaWxhYmxlIHRvIHRoZSBuZXh0CiAgICAvLyBzdGVwIG9mIHRoZSBnZW5lcmF0b3IuCiAgICBvdXRwdXRFbGVtZW50Lmxhc3RQcm9taXNlVmFsdWUgPSB2YWx1ZTsKICAgIHJldHVybiBuZXh0LnZhbHVlLnJlc3BvbnNlOwogIH0pOwp9CgovKioKICogR2VuZXJhdG9yIGZ1bmN0aW9uIHdoaWNoIGlzIGNhbGxlZCBiZXR3ZWVuIGVhY2ggYXN5bmMgc3RlcCBvZiB0aGUgdXBsb2FkCiAqIHByb2Nlc3MuCiAqIEBwYXJhbSB7c3RyaW5nfSBpbnB1dElkIEVsZW1lbnQgSUQgb2YgdGhlIGlucHV0IGZpbGUgcGlja2VyIGVsZW1lbnQuCiAqIEBwYXJhbSB7c3RyaW5nfSBvdXRwdXRJZCBFbGVtZW50IElEIG9mIHRoZSBvdXRwdXQgZGlzcGxheS4KICogQHJldHVybiB7IUl0ZXJhYmxlPCFPYmplY3Q+fSBJdGVyYWJsZSBvZiBuZXh0IHN0ZXBzLgogKi8KZnVuY3Rpb24qIHVwbG9hZEZpbGVzU3RlcChpbnB1dElkLCBvdXRwdXRJZCkgewogIGNvbnN0IGlucHV0RWxlbWVudCA9IGRvY3VtZW50LmdldEVsZW1lbnRCeUlkKGlucHV0SWQpOwogIGlucHV0RWxlbWVudC5kaXNhYmxlZCA9IGZhbHNlOwoKICBjb25zdCBvdXRwdXRFbGVtZW50ID0gZG9jdW1lbnQuZ2V0RWxlbWVudEJ5SWQob3V0cHV0SWQpOwogIG91dHB1dEVsZW1lbnQuaW5uZXJIVE1MID0gJyc7CgogIGNvbnN0IHBpY2tlZFByb21pc2UgPSBuZXcgUHJvbWlzZSgocmVzb2x2ZSkgPT4gewogICAgaW5wdXRFbGVtZW50LmFkZEV2ZW50TGlzdGVuZXIoJ2NoYW5nZScsIChlKSA9PiB7CiAgICAgIHJlc29sdmUoZS50YXJnZXQuZmlsZXMpOwogICAgfSk7CiAgfSk7CgogIGNvbnN0IGNhbmNlbCA9IGRvY3VtZW50LmNyZWF0ZUVsZW1lbnQoJ2J1dHRvbicpOwogIGlucHV0RWxlbWVudC5wYXJlbnRFbGVtZW50LmFwcGVuZENoaWxkKGNhbmNlbCk7CiAgY2FuY2VsLnRleHRDb250ZW50ID0gJ0NhbmNlbCB1cGxvYWQnOwogIGNvbnN0IGNhbmNlbFByb21pc2UgPSBuZXcgUHJvbWlzZSgocmVzb2x2ZSkgPT4gewogICAgY2FuY2VsLm9uY2xpY2sgPSAoKSA9PiB7CiAgICAgIHJlc29sdmUobnVsbCk7CiAgICB9OwogIH0pOwoKICAvLyBXYWl0IGZvciB0aGUgdXNlciB0byBwaWNrIHRoZSBmaWxlcy4KICBjb25zdCBmaWxlcyA9IHlpZWxkIHsKICAgIHByb21pc2U6IFByb21pc2UucmFjZShbcGlja2VkUHJvbWlzZSwgY2FuY2VsUHJvbWlzZV0pLAogICAgcmVzcG9uc2U6IHsKICAgICAgYWN0aW9uOiAnc3RhcnRpbmcnLAogICAgfQogIH07CgogIGNhbmNlbC5yZW1vdmUoKTsKCiAgLy8gRGlzYWJsZSB0aGUgaW5wdXQgZWxlbWVudCBzaW5jZSBmdXJ0aGVyIHBpY2tzIGFyZSBub3QgYWxsb3dlZC4KICBpbnB1dEVsZW1lbnQuZGlzYWJsZWQgPSB0cnVlOwoKICBpZiAoIWZpbGVzKSB7CiAgICByZXR1cm4gewogICAgICByZXNwb25zZTogewogICAgICAgIGFjdGlvbjogJ2NvbXBsZXRlJywKICAgICAgfQogICAgfTsKICB9CgogIGZvciAoY29uc3QgZmlsZSBvZiBmaWxlcykgewogICAgY29uc3QgbGkgPSBkb2N1bWVudC5jcmVhdGVFbGVtZW50KCdsaScpOwogICAgbGkuYXBwZW5kKHNwYW4oZmlsZS5uYW1lLCB7Zm9udFdlaWdodDogJ2JvbGQnfSkpOwogICAgbGkuYXBwZW5kKHNwYW4oCiAgICAgICAgYCgke2ZpbGUudHlwZSB8fCAnbi9hJ30pIC0gJHtmaWxlLnNpemV9IGJ5dGVzLCBgICsKICAgICAgICBgbGFzdCBtb2RpZmllZDogJHsKICAgICAgICAgICAgZmlsZS5sYXN0TW9kaWZpZWREYXRlID8gZmlsZS5sYXN0TW9kaWZpZWREYXRlLnRvTG9jYWxlRGF0ZVN0cmluZygpIDoKICAgICAgICAgICAgICAgICAgICAgICAgICAgICAgICAgICAgJ24vYSd9IC0gYCkpOwogICAgY29uc3QgcGVyY2VudCA9IHNwYW4oJzAlIGRvbmUnKTsKICAgIGxpLmFwcGVuZENoaWxkKHBlcmNlbnQpOwoKICAgIG91dHB1dEVsZW1lbnQuYXBwZW5kQ2hpbGQobGkpOwoKICAgIGNvbnN0IGZpbGVEYXRhUHJvbWlzZSA9IG5ldyBQcm9taXNlKChyZXNvbHZlKSA9PiB7CiAgICAgIGNvbnN0IHJlYWRlciA9IG5ldyBGaWxlUmVhZGVyKCk7CiAgICAgIHJlYWRlci5vbmxvYWQgPSAoZSkgPT4gewogICAgICAgIHJlc29sdmUoZS50YXJnZXQucmVzdWx0KTsKICAgICAgfTsKICAgICAgcmVhZGVyLnJlYWRBc0FycmF5QnVmZmVyKGZpbGUpOwogICAgfSk7CiAgICAvLyBXYWl0IGZvciB0aGUgZGF0YSB0byBiZSByZWFkeS4KICAgIGxldCBmaWxlRGF0YSA9IHlpZWxkIHsKICAgICAgcHJvbWlzZTogZmlsZURhdGFQcm9taXNlLAogICAgICByZXNwb25zZTogewogICAgICAgIGFjdGlvbjogJ2NvbnRpbnVlJywKICAgICAgfQogICAgfTsKCiAgICAvLyBVc2UgYSBjaHVua2VkIHNlbmRpbmcgdG8gYXZvaWQgbWVzc2FnZSBzaXplIGxpbWl0cy4gU2VlIGIvNjIxMTU2NjAuCiAgICBsZXQgcG9zaXRpb24gPSAwOwogICAgd2hpbGUgKHBvc2l0aW9uIDwgZmlsZURhdGEuYnl0ZUxlbmd0aCkgewogICAgICBjb25zdCBsZW5ndGggPSBNYXRoLm1pbihmaWxlRGF0YS5ieXRlTGVuZ3RoIC0gcG9zaXRpb24sIE1BWF9QQVlMT0FEX1NJWkUpOwogICAgICBjb25zdCBjaHVuayA9IG5ldyBVaW50OEFycmF5KGZpbGVEYXRhLCBwb3NpdGlvbiwgbGVuZ3RoKTsKICAgICAgcG9zaXRpb24gKz0gbGVuZ3RoOwoKICAgICAgY29uc3QgYmFzZTY0ID0gYnRvYShTdHJpbmcuZnJvbUNoYXJDb2RlLmFwcGx5KG51bGwsIGNodW5rKSk7CiAgICAgIHlpZWxkIHsKICAgICAgICByZXNwb25zZTogewogICAgICAgICAgYWN0aW9uOiAnYXBwZW5kJywKICAgICAgICAgIGZpbGU6IGZpbGUubmFtZSwKICAgICAgICAgIGRhdGE6IGJhc2U2NCwKICAgICAgICB9LAogICAgICB9OwogICAgICBwZXJjZW50LnRleHRDb250ZW50ID0KICAgICAgICAgIGAke01hdGgucm91bmQoKHBvc2l0aW9uIC8gZmlsZURhdGEuYnl0ZUxlbmd0aCkgKiAxMDApfSUgZG9uZWA7CiAgICB9CiAgfQoKICAvLyBBbGwgZG9uZS4KICB5aWVsZCB7CiAgICByZXNwb25zZTogewogICAgICBhY3Rpb246ICdjb21wbGV0ZScsCiAgICB9CiAgfTsKfQoKc2NvcGUuZ29vZ2xlID0gc2NvcGUuZ29vZ2xlIHx8IHt9OwpzY29wZS5nb29nbGUuY29sYWIgPSBzY29wZS5nb29nbGUuY29sYWIgfHwge307CnNjb3BlLmdvb2dsZS5jb2xhYi5fZmlsZXMgPSB7CiAgX3VwbG9hZEZpbGVzLAogIF91cGxvYWRGaWxlc0NvbnRpbnVlLAp9Owp9KShzZWxmKTsK",
              "ok": true,
              "headers": [
                [
                  "content-type",
                  "application/javascript"
                ]
              ],
              "status": 200,
              "status_text": ""
            }
          },
          "base_uri": "https://localhost:8080/",
          "height": 276
        },
        "id": "Fr0KC3W9tEmh",
        "outputId": "113c8b1e-7b2d-46f3-b056-f4f4dac47f8b"
      },
      "source": [
        "# change directory from google colab into google drive\r\n",
        "from google.colab import files\r\n",
        "uploaded = files.upload()"
      ],
      "execution_count": 10,
      "outputs": [
        {
          "output_type": "display_data",
          "data": {
            "text/html": [
              "\n",
              "     <input type=\"file\" id=\"files-411611c8-e58e-481c-9ce3-3358239e54e3\" name=\"files[]\" multiple disabled\n",
              "        style=\"border:none\" />\n",
              "     <output id=\"result-411611c8-e58e-481c-9ce3-3358239e54e3\">\n",
              "      Upload widget is only available when the cell has been executed in the\n",
              "      current browser session. Please rerun this cell to enable.\n",
              "      </output>\n",
              "      <script src=\"/nbextensions/google.colab/files.js\"></script> "
            ],
            "text/plain": [
              "<IPython.core.display.HTML object>"
            ]
          },
          "metadata": {
            "tags": []
          }
        },
        {
          "output_type": "stream",
          "text": [
            "Saving company_a_1.csv to company_a_1.csv\n",
            "Saving company_a_2.csv to company_a_2.csv\n",
            "Saving company_a_3.csv to company_a_3.csv\n",
            "Saving company_a_4.csv to company_a_4.csv\n",
            "Saving company_a_5.csv to company_a_5.csv\n",
            "Saving company_b_1.csv to company_b_1.csv\n",
            "Saving company_b_2.csv to company_b_2.csv\n"
          ],
          "name": "stdout"
        }
      ]
    },
    {
      "cell_type": "code",
      "metadata": {
        "id": "E9YXJ1MTOA5v"
      },
      "source": [
        "# Load all company a csv files\n",
        "filenames_company_a = [\"company_a_1.csv\", \"company_a_2.csv\", \"company_a_3.csv\", \"company_a_4.csv\", \"company_a_5.csv\"]\n",
        "df_company_a = loadFromCloud(filenames_company_a)"
      ],
      "execution_count": 11,
      "outputs": []
    },
    {
      "cell_type": "code",
      "metadata": {
        "id": "A_Nn9BJQ0sVs"
      },
      "source": [
        "# Load all company b csv files\n",
        "filenames_company_b = [\"company_b_1.csv\", \"company_b_2.csv\"]\n",
        "df_company_b = loadFromCloud(filenames_company_b)"
      ],
      "execution_count": 12,
      "outputs": []
    },
    {
      "cell_type": "code",
      "metadata": {
        "id": "BxZ4Y_mynPLM"
      },
      "source": [
        "# save the output files into Google Drive\n",
        "# from google.colab import drive\n",
        "# drive.mount('/drive')\n",
        "# df_company_a.to_csv('/drive/My Drive/MyCareer/Zoox/data_exercise/df_company_a.csv')\n",
        "# df_company_b.to_csv('/drive/My Drive/MyCareer/Zoox/data_exercise/df_company_b.csv')"
      ],
      "execution_count": null,
      "outputs": []
    },
    {
      "cell_type": "markdown",
      "metadata": {
        "id": "FLOP7wnvE3E2"
      },
      "source": [
        "## Data Dictionary"
      ]
    },
    {
      "cell_type": "markdown",
      "metadata": {
        "id": "G5E-9KvAE6Mn"
      },
      "source": [
        "**df_company_a:**\n",
        "\n",
        "The dataset of Company A. It is a combination of company_a_[1-5].csv\n",
        " * TripID: the unique identifier of trips/rides\n",
        " * ScooterID: the unique identifier of scooters\n",
        " * StartTime: the pick-up datetime of the corresponding trip (assume local timezone)\n",
        " * EndTime: the drop-off datetime of the corresponding trip (assume local timezone)\n",
        " * StartLatitude: the latitude of pick-up location\n",
        " * StartLongitude: the longitude of pick-up location\n",
        " * EndLatitude: the latitude of drop-off location\n",
        " * EndLongitude: the longitude of drop-off location\n",
        " * TripDistance: trip distance (in miles. The logic inference is in the `Distributions of distance` section)\n",
        "\n",
        "**df_company_b:**\n",
        "\n",
        "The dataset of Company B. It is a combination of company_b_[1-2].csv\n",
        "* trip_id: the unique identifier of trips/rides\n",
        "* start_time: the pick-up datetime of the corresponding trip (assume local timezone)\n",
        "* completed_time: the drop-off datetime of the corresponding trip (assume local timezone)\n",
        "* distance_meters: trip distance in meters\n",
        "* start_latitude: the latitude of pick-up location\n",
        "* start_longitude: the longitude of pick-up location\n",
        "* end_latitude: the latitude of drop-off location\n",
        "* end_longitude: the longitude of drop-off location"
      ]
    },
    {
      "cell_type": "code",
      "metadata": {
        "colab": {
          "base_uri": "https://localhost:8080/"
        },
        "id": "zPEa1M3FFMIa",
        "outputId": "b684902d-fe9e-4127-b155-0842dbad52ff"
      },
      "source": [
        "df_company_a.info()"
      ],
      "execution_count": 13,
      "outputs": [
        {
          "output_type": "stream",
          "text": [
            "<class 'pandas.core.frame.DataFrame'>\n",
            "Int64Index: 57365 entries, 0 to 8980\n",
            "Data columns (total 9 columns):\n",
            " #   Column          Non-Null Count  Dtype  \n",
            "---  ------          --------------  -----  \n",
            " 0   TripID          57365 non-null  object \n",
            " 1   ScooterID       57365 non-null  object \n",
            " 2   StartTime       57365 non-null  object \n",
            " 3   EndTime         57365 non-null  object \n",
            " 4   StartLatitude   57365 non-null  float64\n",
            " 5   StartLongitude  57365 non-null  float64\n",
            " 6   EndLatitude     57364 non-null  float64\n",
            " 7   EndLongitude    57364 non-null  float64\n",
            " 8   TripDistance    57365 non-null  float64\n",
            "dtypes: float64(5), object(4)\n",
            "memory usage: 4.4+ MB\n"
          ],
          "name": "stdout"
        }
      ]
    },
    {
      "cell_type": "code",
      "metadata": {
        "colab": {
          "base_uri": "https://localhost:8080/"
        },
        "id": "noK-Cg7eFP5s",
        "outputId": "19eaf953-0051-4fdb-a9cf-39f580f320fb"
      },
      "source": [
        "df_company_b.info()"
      ],
      "execution_count": 14,
      "outputs": [
        {
          "output_type": "stream",
          "text": [
            "<class 'pandas.core.frame.DataFrame'>\n",
            "Int64Index: 10578 entries, 0 to 6489\n",
            "Data columns (total 8 columns):\n",
            " #   Column           Non-Null Count  Dtype  \n",
            "---  ------           --------------  -----  \n",
            " 0   trip_id          10578 non-null  int64  \n",
            " 1   start_time       10578 non-null  object \n",
            " 2   completed_time   10578 non-null  object \n",
            " 3   distance_meters  10578 non-null  int64  \n",
            " 4   start_latitude   10578 non-null  float64\n",
            " 5   start_longitude  10578 non-null  float64\n",
            " 6   end_latitude     10578 non-null  float64\n",
            " 7   end_longitude    10578 non-null  float64\n",
            "dtypes: float64(4), int64(2), object(2)\n",
            "memory usage: 743.8+ KB\n"
          ],
          "name": "stdout"
        }
      ]
    },
    {
      "cell_type": "markdown",
      "metadata": {
        "id": "6uYMlxpgjnZJ"
      },
      "source": [
        "## Exploratory Analysis"
      ]
    },
    {
      "cell_type": "markdown",
      "metadata": {
        "id": "xGERGQBWoyMu"
      },
      "source": [
        "The table structure and features are different between df_company_a and df_company_b.\n",
        "\n",
        "A few concerns with the intial glance of the data:\n",
        "\n",
        "* In `df_company_a`:\n",
        "   1. `StartTime` and EndTime don't have timezone\n",
        "   2. `TripDistance` doesn't specify unit (miles? km?)\n",
        "   3. `StartTime` and `EndTime` haven't specified timezone, but there's no way to verify this with the limitation of the current data source, so I made an [assumption](https://colab.research.google.com/drive/1fHjYA4NBf61nY7GqyHL7DW_RWBdqS6QQ?authuser=1#scrollTo=MEtOzjn8uns8): all datetime fields are in local timezone. I will find out what is the local timezone based on the geo/coordinates info in the later sections.\n",
        "\n",
        "* In `df_company_b`:\n",
        "  1. `start_time` and `completed_time` haven't specified timezone either. I made same assumption similar to what I made for `df_company_a`."
      ]
    },
    {
      "cell_type": "markdown",
      "metadata": {
        "id": "dM0oeeFMn1Cj"
      },
      "source": [
        "### Data overview"
      ]
    },
    {
      "cell_type": "markdown",
      "metadata": {
        "id": "m6g2J951AIeJ"
      },
      "source": [
        "`df_company_a` is the dataframe combined all Company A csv files. It has 57,365 rows and 9 columns.\r\n",
        "\r\n",
        "`df_company_b` is the dataframe combined all Company A csv files. It has 10,578 rows and 8 columns."
      ]
    },
    {
      "cell_type": "code",
      "metadata": {
        "id": "RUOukBN4OSBH",
        "colab": {
          "base_uri": "https://localhost:8080/"
        },
        "outputId": "580ad6a7-61e3-45fb-d2c0-367576c409a4"
      },
      "source": [
        "# 57,365 rows and 9 columns\n",
        "df_company_a.shape"
      ],
      "execution_count": null,
      "outputs": [
        {
          "output_type": "execute_result",
          "data": {
            "text/plain": [
              "(57365, 9)"
            ]
          },
          "metadata": {
            "tags": []
          },
          "execution_count": 11
        }
      ]
    },
    {
      "cell_type": "code",
      "metadata": {
        "id": "spkTSwD0OxnP",
        "colab": {
          "base_uri": "https://localhost:8080/"
        },
        "outputId": "9d2a713d-226e-4580-de0d-2aa04ef3dd49"
      },
      "source": [
        "# 10,578 rows and 8 columns\n",
        "df_company_b.shape"
      ],
      "execution_count": null,
      "outputs": [
        {
          "output_type": "execute_result",
          "data": {
            "text/plain": [
              "(10578, 8)"
            ]
          },
          "metadata": {
            "tags": []
          },
          "execution_count": 8
        }
      ]
    },
    {
      "cell_type": "markdown",
      "metadata": {
        "id": "wXH5FIYf98WY"
      },
      "source": [
        "The date range of `df_company_a` and the date range of `df_company_b` do not have overlap period. It might be a potential argument when comparing their operations - there's only one month (Dec 2018) overlap.\n",
        "\n",
        "* df_company_a (pick-up and drop-off): 2018-08-09 to 2018-12-31\n",
        "* df_company_a (pick-up and drop-off): 2018-12-01 to 2019-01-31"
      ]
    },
    {
      "cell_type": "code",
      "metadata": {
        "colab": {
          "base_uri": "https://localhost:8080/"
        },
        "id": "MjMXoKPL9fT-",
        "outputId": "b86da5d3-2061-4434-cf31-d46462351d3e"
      },
      "source": [
        "# Summary of start time and end time\n",
        "# [TODO item in Data Cleaning section]: standardize time stamp and make assumption of dates and time zone\n",
        "print(\"Company A dataset includes trips of which pick-up date starts from\",\n",
        "      min(pd.DatetimeIndex(df_company_a[\"StartTime\"]).strftime('%Y-%m-%d')),\n",
        "      \"to\", max(pd.DatetimeIndex(df_company_a[\"StartTime\"]).strftime('%Y-%m-%d')))\n",
        "\n",
        "print(\"Company B dataset includes trips of which pick-up date starts from\",\n",
        "      min(pd.DatetimeIndex(df_company_b[\"start_time\"]).strftime('%Y-%m-%d')),\n",
        "      \"to\", max(pd.DatetimeIndex(df_company_b[\"start_time\"]).strftime('%Y-%m-%d')))"
      ],
      "execution_count": null,
      "outputs": [
        {
          "output_type": "stream",
          "text": [
            "Company A dataset includes trips of which pick-up date starts from 2018-08-09 to 2018-12-31\n",
            "Company B dataset includes trips of which pick-up date starts from 2018-12-01 to 2019-01-31\n"
          ],
          "name": "stdout"
        }
      ]
    },
    {
      "cell_type": "code",
      "metadata": {
        "colab": {
          "base_uri": "https://localhost:8080/"
        },
        "id": "KpxEvWAGCERE",
        "outputId": "90576796-5359-4210-dc0b-89407ca65d40"
      },
      "source": [
        "print(\"Company A dataset includes trips of which pick-up date starts from\",\n",
        "      min(pd.DatetimeIndex(df_company_a[\"EndTime\"]).strftime('%Y-%m-%d')),\n",
        "      \"to\", max(pd.DatetimeIndex(df_company_a[\"EndTime\"]).strftime('%Y-%m-%d')))\n",
        "\n",
        "print(\"Company B dataset includes trips of which pick-up date starts from\",\n",
        "      min(pd.DatetimeIndex(df_company_b[\"completed_time\"]).strftime('%Y-%m-%d')),\n",
        "      \"to\", max(pd.DatetimeIndex(df_company_b[\"completed_time\"]).strftime('%Y-%m-%d')))"
      ],
      "execution_count": null,
      "outputs": [
        {
          "output_type": "stream",
          "text": [
            "Company A dataset includes trips of which pick-up date starts from 2018-08-09 to 2018-12-31\n",
            "Company B dataset includes trips of which pick-up date starts from 2018-12-01 to 2019-02-01\n"
          ],
          "name": "stdout"
        }
      ]
    },
    {
      "cell_type": "code",
      "metadata": {
        "colab": {
          "base_uri": "https://localhost:8080/"
        },
        "id": "t8kDJH7Z4TWB",
        "outputId": "fc364ccb-2011-4178-e8dd-03a8b53bbaa7"
      },
      "source": [
        "print(df_company_a.TripID.nunique(), \"unique number of trips with Company A's\", df_company_a.ScooterID.nunique(), \"unique number of scooters\")"
      ],
      "execution_count": null,
      "outputs": [
        {
          "output_type": "stream",
          "text": [
            "57365 unique number of trips with Company A's 858 unique number of scooters\n"
          ],
          "name": "stdout"
        }
      ]
    },
    {
      "cell_type": "code",
      "metadata": {
        "colab": {
          "base_uri": "https://localhost:8080/"
        },
        "id": "oSC3a6k84TK1",
        "outputId": "8859e833-f22b-4c07-f04e-586ddeb68b3d"
      },
      "source": [
        "print(df_company_b.trip_id.nunique(), \"unique number of trips with Company B's scooters (number of scooters unknown with given data, will estimate in later chapter)\")"
      ],
      "execution_count": null,
      "outputs": [
        {
          "output_type": "stream",
          "text": [
            "10578 unique number of trips with Company B's scooters (number of scooters unknown with given data, will estimate in later chapter)\n"
          ],
          "name": "stdout"
        }
      ]
    },
    {
      "cell_type": "code",
      "metadata": {
        "colab": {
          "base_uri": "https://localhost:8080/",
          "height": 289
        },
        "id": "CfPjNeCLzcbS",
        "outputId": "7dd01825-928a-4270-e089-d8f82d2caf6d"
      },
      "source": [
        "# Company A sample data\n",
        "df_company_a.head()"
      ],
      "execution_count": null,
      "outputs": [
        {
          "output_type": "execute_result",
          "data": {
            "text/html": [
              "<div>\n",
              "<style scoped>\n",
              "    .dataframe tbody tr th:only-of-type {\n",
              "        vertical-align: middle;\n",
              "    }\n",
              "\n",
              "    .dataframe tbody tr th {\n",
              "        vertical-align: top;\n",
              "    }\n",
              "\n",
              "    .dataframe thead th {\n",
              "        text-align: right;\n",
              "    }\n",
              "</style>\n",
              "<table border=\"1\" class=\"dataframe\">\n",
              "  <thead>\n",
              "    <tr style=\"text-align: right;\">\n",
              "      <th></th>\n",
              "      <th>TripID</th>\n",
              "      <th>ScooterID</th>\n",
              "      <th>StartTime</th>\n",
              "      <th>EndTime</th>\n",
              "      <th>StartLatitude</th>\n",
              "      <th>StartLongitude</th>\n",
              "      <th>EndLatitude</th>\n",
              "      <th>EndLongitude</th>\n",
              "      <th>TripDistance</th>\n",
              "    </tr>\n",
              "  </thead>\n",
              "  <tbody>\n",
              "    <tr>\n",
              "      <th>0</th>\n",
              "      <td>0e56a534-66f4-448b-8eaa-beab76509955</td>\n",
              "      <td>5bc901d7-b714-4c57-a614-3d7193da825a</td>\n",
              "      <td>8/9/18 10:24</td>\n",
              "      <td>8/9/18 10:26</td>\n",
              "      <td>38.25</td>\n",
              "      <td>-85.76</td>\n",
              "      <td>38.25</td>\n",
              "      <td>-85.76</td>\n",
              "      <td>0.04</td>\n",
              "    </tr>\n",
              "    <tr>\n",
              "      <th>1</th>\n",
              "      <td>d9280fb0-8135-4750-9c71-c610789ba005</td>\n",
              "      <td>3d1905ec-85be-4773-9fe2-34421073363f</td>\n",
              "      <td>8/9/18 10:26</td>\n",
              "      <td>8/9/18 10:56</td>\n",
              "      <td>38.25</td>\n",
              "      <td>-85.74</td>\n",
              "      <td>38.26</td>\n",
              "      <td>-85.77</td>\n",
              "      <td>1.98</td>\n",
              "    </tr>\n",
              "    <tr>\n",
              "      <th>2</th>\n",
              "      <td>48fa27f3-3b19-4f0e-8665-ee0b188445fd</td>\n",
              "      <td>5bc901d7-b714-4c57-a614-3d7193da825a</td>\n",
              "      <td>8/9/18 10:26</td>\n",
              "      <td>8/9/18 10:35</td>\n",
              "      <td>38.25</td>\n",
              "      <td>-85.76</td>\n",
              "      <td>38.25</td>\n",
              "      <td>-85.76</td>\n",
              "      <td>0.06</td>\n",
              "    </tr>\n",
              "    <tr>\n",
              "      <th>3</th>\n",
              "      <td>6321b580-9055-4418-8c17-1d39a4d49027</td>\n",
              "      <td>4d49088f-4038-4dfb-9d55-e58a157d56d5</td>\n",
              "      <td>8/9/18 10:37</td>\n",
              "      <td>8/9/18 10:56</td>\n",
              "      <td>38.25</td>\n",
              "      <td>-85.74</td>\n",
              "      <td>38.26</td>\n",
              "      <td>-85.77</td>\n",
              "      <td>1.85</td>\n",
              "    </tr>\n",
              "    <tr>\n",
              "      <th>4</th>\n",
              "      <td>d05bf0bb-f6ee-489e-a32c-a93e15b626f8</td>\n",
              "      <td>e398ff1b-5d6b-4f15-b493-a988c7ab07b6</td>\n",
              "      <td>8/9/18 10:41</td>\n",
              "      <td>8/9/18 10:47</td>\n",
              "      <td>38.26</td>\n",
              "      <td>-85.75</td>\n",
              "      <td>38.26</td>\n",
              "      <td>-85.76</td>\n",
              "      <td>0.35</td>\n",
              "    </tr>\n",
              "  </tbody>\n",
              "</table>\n",
              "</div>"
            ],
            "text/plain": [
              "                                 TripID  ... TripDistance\n",
              "0  0e56a534-66f4-448b-8eaa-beab76509955  ...         0.04\n",
              "1  d9280fb0-8135-4750-9c71-c610789ba005  ...         1.98\n",
              "2  48fa27f3-3b19-4f0e-8665-ee0b188445fd  ...         0.06\n",
              "3  6321b580-9055-4418-8c17-1d39a4d49027  ...         1.85\n",
              "4  d05bf0bb-f6ee-489e-a32c-a93e15b626f8  ...         0.35\n",
              "\n",
              "[5 rows x 9 columns]"
            ]
          },
          "metadata": {
            "tags": []
          },
          "execution_count": 26
        }
      ]
    },
    {
      "cell_type": "code",
      "metadata": {
        "colab": {
          "base_uri": "https://localhost:8080/",
          "height": 202
        },
        "id": "83jmvsyQaPWf",
        "outputId": "e0af05fa-2ed6-4b05-9535-aa959534535e"
      },
      "source": [
        "# Company B sample data\r\n",
        "df_company_b.head()"
      ],
      "execution_count": null,
      "outputs": [
        {
          "output_type": "execute_result",
          "data": {
            "text/html": [
              "<div>\n",
              "<style scoped>\n",
              "    .dataframe tbody tr th:only-of-type {\n",
              "        vertical-align: middle;\n",
              "    }\n",
              "\n",
              "    .dataframe tbody tr th {\n",
              "        vertical-align: top;\n",
              "    }\n",
              "\n",
              "    .dataframe thead th {\n",
              "        text-align: right;\n",
              "    }\n",
              "</style>\n",
              "<table border=\"1\" class=\"dataframe\">\n",
              "  <thead>\n",
              "    <tr style=\"text-align: right;\">\n",
              "      <th></th>\n",
              "      <th>trip_id</th>\n",
              "      <th>start_time</th>\n",
              "      <th>completed_time</th>\n",
              "      <th>distance_meters</th>\n",
              "      <th>start_latitude</th>\n",
              "      <th>start_longitude</th>\n",
              "      <th>end_latitude</th>\n",
              "      <th>end_longitude</th>\n",
              "    </tr>\n",
              "  </thead>\n",
              "  <tbody>\n",
              "    <tr>\n",
              "      <th>0</th>\n",
              "      <td>26559444</td>\n",
              "      <td>2018-12-02T12:41:26.000+00:00</td>\n",
              "      <td>2018-12-02T12:45:40.000+00:00</td>\n",
              "      <td>382</td>\n",
              "      <td>38.23</td>\n",
              "      <td>-85.75</td>\n",
              "      <td>38.23</td>\n",
              "      <td>-85.76</td>\n",
              "    </tr>\n",
              "    <tr>\n",
              "      <th>1</th>\n",
              "      <td>26559031</td>\n",
              "      <td>2018-12-02T12:39:24.000+00:00</td>\n",
              "      <td>2018-12-02T12:41:49.000+00:00</td>\n",
              "      <td>109</td>\n",
              "      <td>38.26</td>\n",
              "      <td>-85.75</td>\n",
              "      <td>38.26</td>\n",
              "      <td>-85.76</td>\n",
              "    </tr>\n",
              "    <tr>\n",
              "      <th>2</th>\n",
              "      <td>26552748</td>\n",
              "      <td>2018-12-02T12:08:07.000+00:00</td>\n",
              "      <td>2018-12-02T12:18:29.000+00:00</td>\n",
              "      <td>2547</td>\n",
              "      <td>38.21</td>\n",
              "      <td>-85.75</td>\n",
              "      <td>38.23</td>\n",
              "      <td>-85.75</td>\n",
              "    </tr>\n",
              "    <tr>\n",
              "      <th>3</th>\n",
              "      <td>26559594</td>\n",
              "      <td>2018-12-02T12:42:16.000+00:00</td>\n",
              "      <td>2018-12-02T12:56:58.000+00:00</td>\n",
              "      <td>1575</td>\n",
              "      <td>38.26</td>\n",
              "      <td>-85.76</td>\n",
              "      <td>38.26</td>\n",
              "      <td>-85.76</td>\n",
              "    </tr>\n",
              "    <tr>\n",
              "      <th>4</th>\n",
              "      <td>26557132</td>\n",
              "      <td>2018-12-02T12:30:01.000+00:00</td>\n",
              "      <td>2018-12-02T12:48:30.000+00:00</td>\n",
              "      <td>37</td>\n",
              "      <td>38.22</td>\n",
              "      <td>-85.75</td>\n",
              "      <td>38.23</td>\n",
              "      <td>-85.76</td>\n",
              "    </tr>\n",
              "  </tbody>\n",
              "</table>\n",
              "</div>"
            ],
            "text/plain": [
              "    trip_id                     start_time  ... end_latitude  end_longitude\n",
              "0  26559444  2018-12-02T12:41:26.000+00:00  ...        38.23         -85.76\n",
              "1  26559031  2018-12-02T12:39:24.000+00:00  ...        38.26         -85.76\n",
              "2  26552748  2018-12-02T12:08:07.000+00:00  ...        38.23         -85.75\n",
              "3  26559594  2018-12-02T12:42:16.000+00:00  ...        38.26         -85.76\n",
              "4  26557132  2018-12-02T12:30:01.000+00:00  ...        38.23         -85.76\n",
              "\n",
              "[5 rows x 8 columns]"
            ]
          },
          "metadata": {
            "tags": []
          },
          "execution_count": 27
        }
      ]
    },
    {
      "cell_type": "markdown",
      "metadata": {
        "id": "WKGkxd4jG6mF"
      },
      "source": [
        "### Missing values"
      ]
    },
    {
      "cell_type": "code",
      "metadata": {
        "colab": {
          "base_uri": "https://localhost:8080/"
        },
        "id": "TTBFsTOiG4mK",
        "outputId": "b61309c7-1e62-4b64-a970-274cbd2d2027"
      },
      "source": [
        "# Separate numerical and categorical fields\r\n",
        "num_vars_a = df_company_a.columns[df_company_a.dtypes == 'object']\r\n",
        "cat_vars_a = df_company_a.columns[df_company_a.dtypes != 'object']\r\n",
        "\r\n",
        "num_vars_b = df_company_b.columns[df_company_b.dtypes == 'object']\r\n",
        "cat_vars_b = df_company_b.columns[df_company_b.dtypes != 'object']\r\n",
        "\r\n",
        "print(\"Numerical fields of Company A dataset: \", num_vars_a)\r\n",
        "print(\"Categorical fields of Company A dataset: \", cat_vars_a)\r\n",
        "print(\"Numerical fields of Company B dataset: \", num_vars_b)\r\n",
        "print(\"Categorical fields of Company B dataset: \", num_vars_b)"
      ],
      "execution_count": null,
      "outputs": [
        {
          "output_type": "stream",
          "text": [
            "Numerical fields of Company A dataset:  Index(['TripID', 'ScooterID', 'StartTime', 'EndTime'], dtype='object')\n",
            "Categorical fields of Company A dataset:  Index(['StartLatitude', 'StartLongitude', 'EndLatitude', 'EndLongitude',\n",
            "       'TripDistance'],\n",
            "      dtype='object')\n",
            "Numerical fields of Company B dataset:  Index(['start_time', 'completed_time'], dtype='object')\n",
            "Categorical fields of Company B dataset:  Index(['start_time', 'completed_time'], dtype='object')\n"
          ],
          "name": "stdout"
        }
      ]
    },
    {
      "cell_type": "markdown",
      "metadata": {
        "id": "3qc4h8fYxv91"
      },
      "source": [
        "I only see one observation with missing values in `EndLongitude` and `EndLatitude` of `df_company_a`. Looks like the two missing values are missing at random. For simplifity and efficiency purpose, I will delete the observation rather than imputation. In addition, the dataset is large and deleting one observation wouldn't result in bias."
      ]
    },
    {
      "cell_type": "code",
      "metadata": {
        "id": "L_I6Efn6TuLH",
        "colab": {
          "base_uri": "https://localhost:8080/"
        },
        "outputId": "2daa4187-97b8-418e-d01d-f7c9f1765025"
      },
      "source": [
        "# Quick glance on missing values across datasets\r\n",
        "print(\"Missing value counts within the numerical columns of Company A dataset\")\r\n",
        "print(df_company_a[num_vars_a].isnull().sum().sort_values(ascending = False))\r\n",
        "print(\"====================================================================\")\r\n",
        "print(\"Missing value counts within the categorical columns of Company A dataset\")\r\n",
        "print(df_company_a[cat_vars_a].isnull().sum().sort_values(ascending = False))\r\n",
        "print(\"====================================================================\")\r\n",
        "print(\"Missing value counts within the numerical columns of Company B dataset\")\r\n",
        "print(df_company_b[num_vars_b].isnull().sum().sort_values(ascending = False))\r\n",
        "print(\"====================================================================\")\r\n",
        "print(\"Missing value counts within the categorical columns of Company B dataset\")\r\n",
        "print(df_company_b[cat_vars_b].isnull().sum().sort_values(ascending = False))"
      ],
      "execution_count": null,
      "outputs": [
        {
          "output_type": "stream",
          "text": [
            "Missing value counts within the numerical columns of Company A dataset\n",
            "EndTime      0\n",
            "StartTime    0\n",
            "ScooterID    0\n",
            "TripID       0\n",
            "dtype: int64\n",
            "====================================================================\n",
            "Missing value counts within the categorical columns of Company A dataset\n",
            "EndLongitude      1\n",
            "EndLatitude       1\n",
            "TripDistance      0\n",
            "StartLongitude    0\n",
            "StartLatitude     0\n",
            "dtype: int64\n",
            "====================================================================\n",
            "Missing value counts within the numerical columns of Company B dataset\n",
            "completed_time    0\n",
            "start_time        0\n",
            "dtype: int64\n",
            "====================================================================\n",
            "Missing value counts within the categorical columns of Company B dataset\n",
            "end_longitude      0\n",
            "end_latitude       0\n",
            "start_longitude    0\n",
            "start_latitude     0\n",
            "distance_meters    0\n",
            "trip_id            0\n",
            "dtype: int64\n"
          ],
          "name": "stdout"
        }
      ]
    },
    {
      "cell_type": "code",
      "metadata": {
        "id": "mjFokIUsUq_O",
        "colab": {
          "base_uri": "https://localhost:8080/",
          "height": 80
        },
        "outputId": "02351d9f-9802-42d2-eff8-204d2b14ae2c"
      },
      "source": [
        "# Show the observation with missing values\n",
        "# [TODO item in Data Cleaning section]: remove the below observation in Data Cleaning\n",
        "df_company_a[df_company_a[\"EndLongitude\"].isnull()]"
      ],
      "execution_count": null,
      "outputs": [
        {
          "output_type": "execute_result",
          "data": {
            "text/html": [
              "<div>\n",
              "<style scoped>\n",
              "    .dataframe tbody tr th:only-of-type {\n",
              "        vertical-align: middle;\n",
              "    }\n",
              "\n",
              "    .dataframe tbody tr th {\n",
              "        vertical-align: top;\n",
              "    }\n",
              "\n",
              "    .dataframe thead th {\n",
              "        text-align: right;\n",
              "    }\n",
              "</style>\n",
              "<table border=\"1\" class=\"dataframe\">\n",
              "  <thead>\n",
              "    <tr style=\"text-align: right;\">\n",
              "      <th></th>\n",
              "      <th>TripID</th>\n",
              "      <th>ScooterID</th>\n",
              "      <th>StartTime</th>\n",
              "      <th>EndTime</th>\n",
              "      <th>StartLatitude</th>\n",
              "      <th>StartLongitude</th>\n",
              "      <th>EndLatitude</th>\n",
              "      <th>EndLongitude</th>\n",
              "      <th>TripDistance</th>\n",
              "    </tr>\n",
              "  </thead>\n",
              "  <tbody>\n",
              "    <tr>\n",
              "      <th>5405</th>\n",
              "      <td>c607c2b1-38be-4746-90b1-73fe4af50667</td>\n",
              "      <td>249129eb-fdc7-450d-8309-923dea26a394</td>\n",
              "      <td>11/14/18 11:26</td>\n",
              "      <td>11/14/18 11:30</td>\n",
              "      <td>38.25</td>\n",
              "      <td>-85.76</td>\n",
              "      <td>NaN</td>\n",
              "      <td>NaN</td>\n",
              "      <td>0.37</td>\n",
              "    </tr>\n",
              "  </tbody>\n",
              "</table>\n",
              "</div>"
            ],
            "text/plain": [
              "                                    TripID  ... TripDistance\n",
              "5405  c607c2b1-38be-4746-90b1-73fe4af50667  ...         0.37\n",
              "\n",
              "[1 rows x 9 columns]"
            ]
          },
          "metadata": {
            "tags": []
          },
          "execution_count": 11
        }
      ]
    },
    {
      "cell_type": "markdown",
      "metadata": {
        "id": "aOvVdnoW_T2B"
      },
      "source": [
        "### Exploring fields"
      ]
    },
    {
      "cell_type": "markdown",
      "metadata": {
        "id": "_euK-j82DFyG"
      },
      "source": [
        "A few observations from below data exploration\r\n",
        "\r\n",
        "*   The unit of trip distance for Company A dataset is not specified, so we cannot make a good comparison yet. I will use the coordinates info to infer what unit it is. According the above summary statistics, it is likely in miles.\r\n",
        "\r\n",
        "  *   **[TODO item in Data Cleaning section]**: it is clearly stated in the dataset that vehicle trip distance for Company B is in meter but not clearly stated for Company A\r\n",
        "\r\n",
        "  *   Validation: Will need to use geo coordinator to validate and infer what unit the distance is in for Company A\r\n",
        "\r\n",
        "*  The min value of `TripDistance` in `df_company_a` is negative. It is either a data issue or mistaken data entry. There potentially could be more than just this one data issue within the distance fields in both datasets.\r\n",
        "\r\n",
        "  *   **[TODO item in Data Cleaning section]**: validate and clean the distance fields for both Company A and Company B dataset. \r\n",
        "\r\n",
        "* Apparently there are outliers in both `df_company_a` and `df_company_b` have a long tail on the right. `df_company_a` also has some negative values on the left. These outliers might introduce too much bias and certainly these doesn't seem to be caused by the normal data variation. e.g. negative distance is certainly not reasonable. Long distance more than 6 digits is also not intuitively reasonable. We should handle them in the `Handle outliers and error data`\r\n"
      ]
    },
    {
      "cell_type": "code",
      "metadata": {
        "id": "0h1CIqHbhw5A",
        "colab": {
          "base_uri": "https://localhost:8080/"
        },
        "outputId": "42a35d44-d1db-43ae-c2d9-5ca642c85d66"
      },
      "source": [
        "# Summary of trips and scooters\n",
        "print(len(df_company_a[\"TripID\"].unique()), \"unique trips in Company A dataset\")\n",
        "print(len(df_company_b[\"trip_id\"].unique()), \"unique trips in Company B dataset\")\n",
        "print(len(df_company_a[\"ScooterID\"].unique()), \"unique scooters in Company A dataset\")\n",
        "print(\"there's no ScooterID in the Company B dataset, and this is one of the goal for this analysis - esitamte how many scooters operated in this geography\")"
      ],
      "execution_count": null,
      "outputs": [
        {
          "output_type": "stream",
          "text": [
            "57365 unique trips in Company A dataset\n",
            "10578 unique trips in Company B dataset\n",
            "858 unique scooters in Company A dataset\n",
            "there's no ScooterID in the Company B dataset, and this is one of the goal for this analyssi - esitamte how many scooters operated in this geography\n"
          ],
          "name": "stdout"
        }
      ]
    },
    {
      "cell_type": "code",
      "metadata": {
        "id": "kb2Fbo0Dh-Zs",
        "colab": {
          "base_uri": "https://localhost:8080/"
        },
        "outputId": "2a2371a8-c730-4f90-b57e-c64fcdda43f2"
      },
      "source": [
        "# Summary statistics of trip distance\n",
        "print(\"Trip distance summary for Company A vehicles\")\n",
        "print(df_company_a[\"TripDistance\"].describe().apply(lambda x: format(x, 'f')))\n",
        "print(\"============================================\")\n",
        "print(\"Trip distance summary for Company B vehicles\")\n",
        "print(df_company_b[\"distance_meters\"].describe())"
      ],
      "execution_count": null,
      "outputs": [
        {
          "output_type": "stream",
          "text": [
            "Trip distance summary for Company A vehicles\n",
            "count      57365.000000\n",
            "mean         149.124670\n",
            "std        13521.637796\n",
            "min       -10344.410000\n",
            "25%            0.290000\n",
            "50%            0.750000\n",
            "75%            1.740000\n",
            "max      1334377.660000\n",
            "Name: TripDistance, dtype: object\n",
            "============================================\n",
            "Trip distance summary for Company B vehicles\n",
            "count     10578.000000\n",
            "mean       1486.692759\n",
            "std        2203.422186\n",
            "min           0.000000\n",
            "25%         479.000000\n",
            "50%         913.000000\n",
            "75%        1754.000000\n",
            "max      100000.000000\n",
            "Name: distance_meters, dtype: float64\n"
          ],
          "name": "stdout"
        }
      ]
    },
    {
      "cell_type": "code",
      "metadata": {
        "colab": {
          "base_uri": "https://localhost:8080/",
          "height": 292
        },
        "id": "yUceTEOhX-5r",
        "outputId": "9d36d125-c039-4981-de06-4990210b1cfa"
      },
      "source": [
        "df_company_a[\"TripDistance\"].hist()\n",
        "plt.title(\"historgram of TripDistance of Company A\")\n",
        "plt.show()"
      ],
      "execution_count": null,
      "outputs": [
        {
          "output_type": "display_data",
          "data": {
            "image/png": "[encoded data removed]",
            "text/plain": [
              "<Figure size 432x288 with 1 Axes>"
            ]
          },
          "metadata": {
            "tags": [],
            "needs_background": "light"
          }
        }
      ]
    },
    {
      "cell_type": "code",
      "metadata": {
        "colab": {
          "base_uri": "https://localhost:8080/",
          "height": 280
        },
        "id": "jITvtLmPX-p1",
        "outputId": "e6fb40f0-e226-4a24-9472-d5555e615c21"
      },
      "source": [
        "df_company_b[\"distance_meters\"].hist()\n",
        "plt.title(\"historgram of distance_meters of Company B\")\n",
        "plt.show()"
      ],
      "execution_count": null,
      "outputs": [
        {
          "output_type": "display_data",
          "data": {
            "image/png": "[encoded data removed]",
            "text/plain": [
              "<Figure size 432x288 with 1 Axes>"
            ]
          },
          "metadata": {
            "tags": [],
            "needs_background": "light"
          }
        }
      ]
    },
    {
      "cell_type": "markdown",
      "metadata": {
        "id": "pS5gMys3VwUD"
      },
      "source": [
        "### Datetime"
      ]
    },
    {
      "cell_type": "markdown",
      "metadata": {
        "id": "uZLfIfi_WIGH"
      },
      "source": [
        "Comparing the pick-up datetime and drop-off datetime for both Company A and Company B, there's no trip with pick-up datetime greater than drop-off datetime"
      ]
    },
    {
      "cell_type": "code",
      "metadata": {
        "id": "LMDQY-kUV6oz",
        "colab": {
          "base_uri": "https://localhost:8080/",
          "height": 49
        },
        "outputId": "8401e2b2-d54c-48cb-cbd3-d343f37b6bf9"
      },
      "source": [
        "df_company_a[pd.DatetimeIndex(df_company_a[\"StartTime\"]).strftime('%b-%d-%Y %H:%M') > pd.DatetimeIndex(df_company_a[\"EndTime\"]).strftime('%b-%d-%Y %H:%M')]"
      ],
      "execution_count": 15,
      "outputs": [
        {
          "output_type": "execute_result",
          "data": {
            "text/html": [
              "<div>\n",
              "<style scoped>\n",
              "    .dataframe tbody tr th:only-of-type {\n",
              "        vertical-align: middle;\n",
              "    }\n",
              "\n",
              "    .dataframe tbody tr th {\n",
              "        vertical-align: top;\n",
              "    }\n",
              "\n",
              "    .dataframe thead th {\n",
              "        text-align: right;\n",
              "    }\n",
              "</style>\n",
              "<table border=\"1\" class=\"dataframe\">\n",
              "  <thead>\n",
              "    <tr style=\"text-align: right;\">\n",
              "      <th></th>\n",
              "      <th>TripID</th>\n",
              "      <th>ScooterID</th>\n",
              "      <th>StartTime</th>\n",
              "      <th>EndTime</th>\n",
              "      <th>StartLatitude</th>\n",
              "      <th>StartLongitude</th>\n",
              "      <th>EndLatitude</th>\n",
              "      <th>EndLongitude</th>\n",
              "      <th>TripDistance</th>\n",
              "    </tr>\n",
              "  </thead>\n",
              "  <tbody>\n",
              "  </tbody>\n",
              "</table>\n",
              "</div>"
            ],
            "text/plain": [
              "Empty DataFrame\n",
              "Columns: [TripID, ScooterID, StartTime, EndTime, StartLatitude, StartLongitude, EndLatitude, EndLongitude, TripDistance]\n",
              "Index: []"
            ]
          },
          "metadata": {
            "tags": []
          },
          "execution_count": 15
        }
      ]
    },
    {
      "cell_type": "code",
      "metadata": {
        "id": "hUzWvSCaVv_9"
      },
      "source": [
        "df_company_b[pd.DatetimeIndex(df_company_b[\"start_time\"]).strftime('%b-%d-%Y %H:%M') > pd.DatetimeIndex(df_company_b[\"completed_time\"]).strftime('%b-%d-%Y %H:%M')]"
      ],
      "execution_count": null,
      "outputs": []
    },
    {
      "cell_type": "markdown",
      "metadata": {
        "id": "xTeWE3Xb_cs6"
      },
      "source": [
        "### Distributions of distance"
      ]
    },
    {
      "cell_type": "markdown",
      "metadata": {
        "id": "5me5RQJRdZjm"
      },
      "source": [
        "In the above section, I noticed that the distance field units are not unified between `df_company_a` and `df_company_b`.\n",
        "\n",
        "* `distance_meters` of `df_company_b` is in meters as how the field name describes.\n",
        "\n",
        "* `TripDistance` of `df_company_a` hasn't indicated what unit it is. Good news is that we have coordinates data which could be used to approximate the straight line distance between two points on earth. I said it is \"approximate\" mainly because vehicles typically don't drive stright line between two points on earth.\n",
        "\n",
        "**Assumptions:**\n",
        "\n",
        "1. **Trip distance > approximated distance**: Because of the above logic, the distance approximated by coordinates should be smaller than the trip distance in the same unit. If not, it is likely there's a measurement error on the specific trip distance in the dataset. Below is the reasoning of this assumption:\n",
        "    * distance approximated by corresonding coordinates is straight line distance\n",
        "    * trip distance is typically based on Manhattan distance or however the vehicle drives on the road\n",
        "\n",
        "2. **Trip distance being 0 is invalid**: if a trip has 0 distance, there are two possibilities:\n",
        "\n",
        "    * The vehicle didn't move at all\n",
        "    * The vehicle\n",
        "\n",
        "3. **Unit of trip distance is consitent through the whole field**\n",
        "4. **Road plan of Louisville, KY is not complex**: From `Geographical location` section we know that the two mobility companies are operating in Louisville, KY. This is a reasonable assumption based on the reality of general road plan of Louisville, KY."
      ]
    },
    {
      "cell_type": "code",
      "metadata": {
        "id": "xpEblssBwXP3"
      },
      "source": [
        "# Create coordinates columns for Company A\n",
        "df_company_a[\"start_coordinates\"] = df_company_a[[\"StartLatitude\",\"StartLongitude\"]].apply(tuple, axis = 1)\n",
        "df_company_a[\"end_coordinates\"] = df_company_a[[\"EndLatitude\",\"EndLongitude\"]].apply(tuple, axis = 1)\n",
        "\n",
        "# Create coordinates columns for Company B\n",
        "df_company_b[\"start_coordinates\"] = df_company_b[[\"start_latitude\",\"start_longitude\"]].apply(tuple, axis = 1)\n",
        "df_company_b[\"end_coordinates\"] = df_company_b[[\"end_latitude\",\"end_longitude\"]].apply(tuple, axis = 1)"
      ],
      "execution_count": 17,
      "outputs": []
    },
    {
      "cell_type": "code",
      "metadata": {
        "colab": {
          "base_uri": "https://localhost:8080/",
          "height": 221
        },
        "id": "tDMnGY-pxPI1",
        "outputId": "8021b607-d41a-44be-f453-eb27c7c36247"
      },
      "source": [
        "print(\"Start and End coordinates of Company A dataset\")\n",
        "df_company_a[[\"start_coordinates\", \"end_coordinates\"]].head()"
      ],
      "execution_count": null,
      "outputs": [
        {
          "output_type": "stream",
          "text": [
            "Start and End coordinates of Company A dataset\n"
          ],
          "name": "stdout"
        },
        {
          "output_type": "execute_result",
          "data": {
            "text/html": [
              "<div>\n",
              "<style scoped>\n",
              "    .dataframe tbody tr th:only-of-type {\n",
              "        vertical-align: middle;\n",
              "    }\n",
              "\n",
              "    .dataframe tbody tr th {\n",
              "        vertical-align: top;\n",
              "    }\n",
              "\n",
              "    .dataframe thead th {\n",
              "        text-align: right;\n",
              "    }\n",
              "</style>\n",
              "<table border=\"1\" class=\"dataframe\">\n",
              "  <thead>\n",
              "    <tr style=\"text-align: right;\">\n",
              "      <th></th>\n",
              "      <th>start_coordinates</th>\n",
              "      <th>end_coordinates</th>\n",
              "    </tr>\n",
              "  </thead>\n",
              "  <tbody>\n",
              "    <tr>\n",
              "      <th>0</th>\n",
              "      <td>(38.25, -85.76)</td>\n",
              "      <td>(38.25, -85.76)</td>\n",
              "    </tr>\n",
              "    <tr>\n",
              "      <th>1</th>\n",
              "      <td>(38.25, -85.74)</td>\n",
              "      <td>(38.26, -85.77)</td>\n",
              "    </tr>\n",
              "    <tr>\n",
              "      <th>2</th>\n",
              "      <td>(38.25, -85.76)</td>\n",
              "      <td>(38.25, -85.76)</td>\n",
              "    </tr>\n",
              "    <tr>\n",
              "      <th>3</th>\n",
              "      <td>(38.25, -85.74)</td>\n",
              "      <td>(38.26, -85.77)</td>\n",
              "    </tr>\n",
              "    <tr>\n",
              "      <th>4</th>\n",
              "      <td>(38.26, -85.75)</td>\n",
              "      <td>(38.26, -85.76)</td>\n",
              "    </tr>\n",
              "  </tbody>\n",
              "</table>\n",
              "</div>"
            ],
            "text/plain": [
              "  start_coordinates  end_coordinates\n",
              "0   (38.25, -85.76)  (38.25, -85.76)\n",
              "1   (38.25, -85.74)  (38.26, -85.77)\n",
              "2   (38.25, -85.76)  (38.25, -85.76)\n",
              "3   (38.25, -85.74)  (38.26, -85.77)\n",
              "4   (38.26, -85.75)  (38.26, -85.76)"
            ]
          },
          "metadata": {
            "tags": []
          },
          "execution_count": 10
        }
      ]
    },
    {
      "cell_type": "code",
      "metadata": {
        "colab": {
          "base_uri": "https://localhost:8080/",
          "height": 221
        },
        "id": "m72Sp1NFxcCW",
        "outputId": "c6ac6a9f-548f-4f23-e519-d48d598516fd"
      },
      "source": [
        "print(\"Start and End coordinates of Company B dataset\")\n",
        "df_company_b[[\"start_coordinates\", \"end_coordinates\"]].head()"
      ],
      "execution_count": null,
      "outputs": [
        {
          "output_type": "stream",
          "text": [
            "Start and End coordinates of Company B dataset\n"
          ],
          "name": "stdout"
        },
        {
          "output_type": "execute_result",
          "data": {
            "text/html": [
              "<div>\n",
              "<style scoped>\n",
              "    .dataframe tbody tr th:only-of-type {\n",
              "        vertical-align: middle;\n",
              "    }\n",
              "\n",
              "    .dataframe tbody tr th {\n",
              "        vertical-align: top;\n",
              "    }\n",
              "\n",
              "    .dataframe thead th {\n",
              "        text-align: right;\n",
              "    }\n",
              "</style>\n",
              "<table border=\"1\" class=\"dataframe\">\n",
              "  <thead>\n",
              "    <tr style=\"text-align: right;\">\n",
              "      <th></th>\n",
              "      <th>start_coordinates</th>\n",
              "      <th>end_coordinates</th>\n",
              "    </tr>\n",
              "  </thead>\n",
              "  <tbody>\n",
              "    <tr>\n",
              "      <th>0</th>\n",
              "      <td>(38.23, -85.75)</td>\n",
              "      <td>(38.23, -85.76)</td>\n",
              "    </tr>\n",
              "    <tr>\n",
              "      <th>1</th>\n",
              "      <td>(38.26, -85.75)</td>\n",
              "      <td>(38.26, -85.76)</td>\n",
              "    </tr>\n",
              "    <tr>\n",
              "      <th>2</th>\n",
              "      <td>(38.21, -85.75)</td>\n",
              "      <td>(38.23, -85.75)</td>\n",
              "    </tr>\n",
              "    <tr>\n",
              "      <th>3</th>\n",
              "      <td>(38.26, -85.76)</td>\n",
              "      <td>(38.26, -85.76)</td>\n",
              "    </tr>\n",
              "    <tr>\n",
              "      <th>4</th>\n",
              "      <td>(38.22, -85.75)</td>\n",
              "      <td>(38.23, -85.76)</td>\n",
              "    </tr>\n",
              "  </tbody>\n",
              "</table>\n",
              "</div>"
            ],
            "text/plain": [
              "  start_coordinates  end_coordinates\n",
              "0   (38.23, -85.75)  (38.23, -85.76)\n",
              "1   (38.26, -85.75)  (38.26, -85.76)\n",
              "2   (38.21, -85.75)  (38.23, -85.75)\n",
              "3   (38.26, -85.76)  (38.26, -85.76)\n",
              "4   (38.22, -85.75)  (38.23, -85.76)"
            ]
          },
          "metadata": {
            "tags": []
          },
          "execution_count": 113
        }
      ]
    },
    {
      "cell_type": "code",
      "metadata": {
        "id": "xq-sli4EhItA"
      },
      "source": [
        "# take random sample of 1000 for inferencing the distance unit of TripDistance\n",
        "sample_company_a = df_company_a.sample(n=1000, random_state=1)"
      ],
      "execution_count": 18,
      "outputs": []
    },
    {
      "cell_type": "code",
      "metadata": {
        "colab": {
          "base_uri": "https://localhost:8080/",
          "height": 204
        },
        "id": "IyLTuXMjkrfT",
        "outputId": "e1362586-75bc-476c-84dc-43d307d9cbab"
      },
      "source": [
        "sample_company_a[\"approximated_distance\"] = approximateDistance(sample_company_a)\n",
        "sample_company_a[[\"approximated_distance\", \"TripDistance\"]].head()"
      ],
      "execution_count": 19,
      "outputs": [
        {
          "output_type": "execute_result",
          "data": {
            "text/html": [
              "<div>\n",
              "<style scoped>\n",
              "    .dataframe tbody tr th:only-of-type {\n",
              "        vertical-align: middle;\n",
              "    }\n",
              "\n",
              "    .dataframe tbody tr th {\n",
              "        vertical-align: top;\n",
              "    }\n",
              "\n",
              "    .dataframe thead th {\n",
              "        text-align: right;\n",
              "    }\n",
              "</style>\n",
              "<table border=\"1\" class=\"dataframe\">\n",
              "  <thead>\n",
              "    <tr style=\"text-align: right;\">\n",
              "      <th></th>\n",
              "      <th>approximated_distance</th>\n",
              "      <th>TripDistance</th>\n",
              "    </tr>\n",
              "  </thead>\n",
              "  <tbody>\n",
              "    <tr>\n",
              "      <th>521</th>\n",
              "      <td>0.000000</td>\n",
              "      <td>0.00</td>\n",
              "    </tr>\n",
              "    <tr>\n",
              "      <th>4046</th>\n",
              "      <td>1.287986</td>\n",
              "      <td>0.98</td>\n",
              "    </tr>\n",
              "    <tr>\n",
              "      <th>4030</th>\n",
              "      <td>0.543833</td>\n",
              "      <td>0.36</td>\n",
              "    </tr>\n",
              "    <tr>\n",
              "      <th>744</th>\n",
              "      <td>1.087666</td>\n",
              "      <td>1.22</td>\n",
              "    </tr>\n",
              "    <tr>\n",
              "      <th>6435</th>\n",
              "      <td>0.000000</td>\n",
              "      <td>0.38</td>\n",
              "    </tr>\n",
              "  </tbody>\n",
              "</table>\n",
              "</div>"
            ],
            "text/plain": [
              "      approximated_distance  TripDistance\n",
              "521                0.000000          0.00\n",
              "4046               1.287986          0.98\n",
              "4030               0.543833          0.36\n",
              "744                1.087666          1.22\n",
              "6435               0.000000          0.38"
            ]
          },
          "metadata": {
            "tags": []
          },
          "execution_count": 19
        }
      ]
    },
    {
      "cell_type": "code",
      "metadata": {
        "colab": {
          "base_uri": "https://localhost:8080/"
        },
        "id": "Amr68zmE7VpY",
        "outputId": "2004f6dd-8f00-48ed-b9da-560d787be9c7"
      },
      "source": [
        "# Out of the 1000 trips of Company A, about 806 trips have trip distance larger than or equal to approximated distance.\n",
        "# 194 are opposite\n",
        "Counter(round(sample_company_a[\"approximated_distance\"],2) <= round(sample_company_a[\"TripDistance\"],2))"
      ],
      "execution_count": null,
      "outputs": [
        {
          "output_type": "execute_result",
          "data": {
            "text/plain": [
              "Counter({False: 194, True: 806})"
            ]
          },
          "metadata": {
            "tags": []
          },
          "execution_count": 166
        }
      ]
    },
    {
      "cell_type": "markdown",
      "metadata": {
        "id": "-0EUm9YfhPzs"
      },
      "source": [
        "**Conclusion**\n",
        "Comparing the trip distance and approxiamted distance below, the TripDistance field should be in \"miles\" (assuming the entire field is consistent on unit). We will handle unifying the unit of trip distance in the data cleaning section.\n",
        "\n",
        "**Details**\n",
        "\n",
        "One Assumption: the trip distance should be larger than the distance measured by corresponding start/end latitude and longitude. It is a reasonable assumption because:\n",
        "\n",
        "  1. distance measured by corresonding coordinates is straight line distance\n",
        "  2. trip distance is typically based on Manhattan distance or however the vehicle drives on the road\n",
        "\n",
        "For some of the 806 trips, their approximated distance is 0, while their trip distance might not always be 0 and might not be always a valid trip:\n",
        "\n",
        "* trip distance = 0: the vehicle never leave the start place (this is an invalid trip)\n",
        "* trip distance > 0: the trip might leave the start place but returns back (this is possible and valid trip)\n",
        "\n",
        "For the 194 trips, it is not sensible that trip distance is smaller than approximated stright-line distance.\n",
        "\n",
        "**To handle these invalid trips in the data cleaning section**\n",
        "\n",
        "* For trips with trip distance = 0 and approximated distance = 0, they will be removed\n",
        "* For trips with trip distance < approximated stright-line distance, we will apply a reasonable incremental factor *for simplicity purpose* (X120% based on the suburb road plan of Louisville, KY). However, to be more precise, we could analyze the valid trip and aggregate the difference between trip distance and approximated distance to achieve a precise aggregated level increment factor. We will keep it simple here.\n"
      ]
    },
    {
      "cell_type": "code",
      "metadata": {
        "colab": {
          "base_uri": "https://localhost:8080/",
          "height": 479
        },
        "id": "iHLcnqtIgnFJ",
        "outputId": "ff18b711-b3d7-4aaa-e89f-b4a1280e8864"
      },
      "source": [
        "# Take a look at some of the 806 trips\n",
        "sample_company_a[round(sample_company_a[\"approximated_distance\"],2) <= round(sample_company_a[\"TripDistance\"],2)].head()"
      ],
      "execution_count": null,
      "outputs": [
        {
          "output_type": "execute_result",
          "data": {
            "text/html": [
              "<div>\n",
              "<style scoped>\n",
              "    .dataframe tbody tr th:only-of-type {\n",
              "        vertical-align: middle;\n",
              "    }\n",
              "\n",
              "    .dataframe tbody tr th {\n",
              "        vertical-align: top;\n",
              "    }\n",
              "\n",
              "    .dataframe thead th {\n",
              "        text-align: right;\n",
              "    }\n",
              "</style>\n",
              "<table border=\"1\" class=\"dataframe\">\n",
              "  <thead>\n",
              "    <tr style=\"text-align: right;\">\n",
              "      <th></th>\n",
              "      <th>TripID</th>\n",
              "      <th>ScooterID</th>\n",
              "      <th>StartTime</th>\n",
              "      <th>EndTime</th>\n",
              "      <th>StartLatitude</th>\n",
              "      <th>StartLongitude</th>\n",
              "      <th>EndLatitude</th>\n",
              "      <th>EndLongitude</th>\n",
              "      <th>TripDistance</th>\n",
              "      <th>start_coordinates</th>\n",
              "      <th>end_coordinates</th>\n",
              "      <th>approximated_distance</th>\n",
              "    </tr>\n",
              "  </thead>\n",
              "  <tbody>\n",
              "    <tr>\n",
              "      <th>521</th>\n",
              "      <td>74665a43-6401-4306-809a-e943fe6c0659</td>\n",
              "      <td>0558dae3-7185-4d6e-8cf7-1993aa08ee23</td>\n",
              "      <td>9/30/18 16:50</td>\n",
              "      <td>9/30/18 16:52</td>\n",
              "      <td>38.24</td>\n",
              "      <td>-85.72</td>\n",
              "      <td>38.24</td>\n",
              "      <td>-85.72</td>\n",
              "      <td>0.00</td>\n",
              "      <td>(38.24, -85.72)</td>\n",
              "      <td>(38.24, -85.72)</td>\n",
              "      <td>0.000000</td>\n",
              "    </tr>\n",
              "    <tr>\n",
              "      <th>744</th>\n",
              "      <td>c2a248b1-0342-4a70-97d7-87f0ac21a42b</td>\n",
              "      <td>902452f7-e7d1-4de6-807a-0d106f52a57f</td>\n",
              "      <td>9/2/18 15:41</td>\n",
              "      <td>9/2/18 15:54</td>\n",
              "      <td>38.26</td>\n",
              "      <td>-85.74</td>\n",
              "      <td>38.26</td>\n",
              "      <td>-85.76</td>\n",
              "      <td>1.22</td>\n",
              "      <td>(38.26, -85.74)</td>\n",
              "      <td>(38.26, -85.76)</td>\n",
              "      <td>1.087666</td>\n",
              "    </tr>\n",
              "    <tr>\n",
              "      <th>6435</th>\n",
              "      <td>2b1bc478-8667-47be-b7f8-c925cceddc59</td>\n",
              "      <td>7e7b9cc6-ebf8-4caa-93f4-b1902206ca28</td>\n",
              "      <td>11/16/18 17:29</td>\n",
              "      <td>11/16/18 17:34</td>\n",
              "      <td>38.22</td>\n",
              "      <td>-85.76</td>\n",
              "      <td>38.22</td>\n",
              "      <td>-85.76</td>\n",
              "      <td>0.38</td>\n",
              "      <td>(38.22, -85.76)</td>\n",
              "      <td>(38.22, -85.76)</td>\n",
              "      <td>0.000000</td>\n",
              "    </tr>\n",
              "    <tr>\n",
              "      <th>7772</th>\n",
              "      <td>85bf9d15-3968-409e-8607-0b9ce716cf46</td>\n",
              "      <td>b7575f59-9b2a-4a9d-95d1-7f8a7e5f368e</td>\n",
              "      <td>12/27/18 14:18</td>\n",
              "      <td>12/27/18 14:39</td>\n",
              "      <td>38.26</td>\n",
              "      <td>-85.77</td>\n",
              "      <td>38.24</td>\n",
              "      <td>-85.75</td>\n",
              "      <td>2.62</td>\n",
              "      <td>(38.26, -85.77)</td>\n",
              "      <td>(38.24, -85.75)</td>\n",
              "      <td>1.756772</td>\n",
              "    </tr>\n",
              "    <tr>\n",
              "      <th>1424</th>\n",
              "      <td>30affaa3-5c94-4aa6-8b6b-b41f5334f248</td>\n",
              "      <td>304760d5-cfbe-441d-b3c7-71ab17378925</td>\n",
              "      <td>10/2/18 13:00</td>\n",
              "      <td>10/2/18 13:04</td>\n",
              "      <td>38.26</td>\n",
              "      <td>-85.76</td>\n",
              "      <td>38.26</td>\n",
              "      <td>-85.76</td>\n",
              "      <td>0.00</td>\n",
              "      <td>(38.26, -85.76)</td>\n",
              "      <td>(38.26, -85.76)</td>\n",
              "      <td>0.000000</td>\n",
              "    </tr>\n",
              "  </tbody>\n",
              "</table>\n",
              "</div>"
            ],
            "text/plain": [
              "                                    TripID  ... approximated_distance\n",
              "521   74665a43-6401-4306-809a-e943fe6c0659  ...              0.000000\n",
              "744   c2a248b1-0342-4a70-97d7-87f0ac21a42b  ...              1.087666\n",
              "6435  2b1bc478-8667-47be-b7f8-c925cceddc59  ...              0.000000\n",
              "7772  85bf9d15-3968-409e-8607-0b9ce716cf46  ...              1.756772\n",
              "1424  30affaa3-5c94-4aa6-8b6b-b41f5334f248  ...              0.000000\n",
              "\n",
              "[5 rows x 12 columns]"
            ]
          },
          "metadata": {
            "tags": []
          },
          "execution_count": 170
        }
      ]
    },
    {
      "cell_type": "code",
      "metadata": {
        "colab": {
          "base_uri": "https://localhost:8080/",
          "height": 479
        },
        "id": "USU_G2OR8NRF",
        "outputId": "76b2173c-c6e3-4282-ee43-ff333a8746a7"
      },
      "source": [
        "# Take a look at some of the 194 trips\n",
        "sample_company_a[round(sample_company_a[\"approximated_distance\"],2) > round(sample_company_a[\"TripDistance\"],2)].head()"
      ],
      "execution_count": null,
      "outputs": [
        {
          "output_type": "execute_result",
          "data": {
            "text/html": [
              "<div>\n",
              "<style scoped>\n",
              "    .dataframe tbody tr th:only-of-type {\n",
              "        vertical-align: middle;\n",
              "    }\n",
              "\n",
              "    .dataframe tbody tr th {\n",
              "        vertical-align: top;\n",
              "    }\n",
              "\n",
              "    .dataframe thead th {\n",
              "        text-align: right;\n",
              "    }\n",
              "</style>\n",
              "<table border=\"1\" class=\"dataframe\">\n",
              "  <thead>\n",
              "    <tr style=\"text-align: right;\">\n",
              "      <th></th>\n",
              "      <th>TripID</th>\n",
              "      <th>ScooterID</th>\n",
              "      <th>StartTime</th>\n",
              "      <th>EndTime</th>\n",
              "      <th>StartLatitude</th>\n",
              "      <th>StartLongitude</th>\n",
              "      <th>EndLatitude</th>\n",
              "      <th>EndLongitude</th>\n",
              "      <th>TripDistance</th>\n",
              "      <th>start_coordinates</th>\n",
              "      <th>end_coordinates</th>\n",
              "      <th>approximated_distance</th>\n",
              "    </tr>\n",
              "  </thead>\n",
              "  <tbody>\n",
              "    <tr>\n",
              "      <th>4046</th>\n",
              "      <td>8e4e0744-6f42-469e-8d5c-254ed3b6ad7d</td>\n",
              "      <td>286a5134-e0c9-4f09-b918-659b63e2b253</td>\n",
              "      <td>8/22/18 20:40</td>\n",
              "      <td>8/22/18 20:47</td>\n",
              "      <td>38.25</td>\n",
              "      <td>-85.75</td>\n",
              "      <td>38.26</td>\n",
              "      <td>-85.73</td>\n",
              "      <td>0.98</td>\n",
              "      <td>(38.25, -85.75)</td>\n",
              "      <td>(38.26, -85.73)</td>\n",
              "      <td>1.287986</td>\n",
              "    </tr>\n",
              "    <tr>\n",
              "      <th>4030</th>\n",
              "      <td>6fbcf85f-41a2-47db-8861-1b7b89df68a4</td>\n",
              "      <td>880d4b75-4862-4d81-96a5-244ccb684892</td>\n",
              "      <td>11/11/18 12:23</td>\n",
              "      <td>11/11/18 12:29</td>\n",
              "      <td>38.26</td>\n",
              "      <td>-85.76</td>\n",
              "      <td>38.26</td>\n",
              "      <td>-85.75</td>\n",
              "      <td>0.36</td>\n",
              "      <td>(38.26, -85.76)</td>\n",
              "      <td>(38.26, -85.75)</td>\n",
              "      <td>0.543833</td>\n",
              "    </tr>\n",
              "    <tr>\n",
              "      <th>8905</th>\n",
              "      <td>4e258101-51bf-4498-ad3b-a9e359c305fe</td>\n",
              "      <td>0dc9e08d-d0c6-46c0-b579-b797c004876b</td>\n",
              "      <td>9/20/18 15:03</td>\n",
              "      <td>9/20/18 15:06</td>\n",
              "      <td>38.25</td>\n",
              "      <td>-85.75</td>\n",
              "      <td>38.25</td>\n",
              "      <td>-85.76</td>\n",
              "      <td>0.51</td>\n",
              "      <td>(38.25, -85.75)</td>\n",
              "      <td>(38.25, -85.76)</td>\n",
              "      <td>0.543908</td>\n",
              "    </tr>\n",
              "    <tr>\n",
              "      <th>156</th>\n",
              "      <td>1a234c2c-256c-4118-9f05-6381deec51ff</td>\n",
              "      <td>70ab53de-6322-4a2e-a399-f69aa6b2817e</td>\n",
              "      <td>9/1/18 14:17</td>\n",
              "      <td>9/1/18 14:21</td>\n",
              "      <td>38.26</td>\n",
              "      <td>-85.76</td>\n",
              "      <td>38.25</td>\n",
              "      <td>-85.76</td>\n",
              "      <td>0.43</td>\n",
              "      <td>(38.26, -85.76)</td>\n",
              "      <td>(38.25, -85.76)</td>\n",
              "      <td>0.689730</td>\n",
              "    </tr>\n",
              "    <tr>\n",
              "      <th>1653</th>\n",
              "      <td>f993fa6b-f48c-443a-8928-f7dd18cc572f</td>\n",
              "      <td>63442dca-7fc2-4e1b-a88c-37bbc5ffea3f</td>\n",
              "      <td>9/3/18 16:55</td>\n",
              "      <td>9/3/18 16:59</td>\n",
              "      <td>38.26</td>\n",
              "      <td>-85.74</td>\n",
              "      <td>38.25</td>\n",
              "      <td>-85.74</td>\n",
              "      <td>0.58</td>\n",
              "      <td>(38.26, -85.74)</td>\n",
              "      <td>(38.25, -85.74)</td>\n",
              "      <td>0.689730</td>\n",
              "    </tr>\n",
              "  </tbody>\n",
              "</table>\n",
              "</div>"
            ],
            "text/plain": [
              "                                    TripID  ... approximated_distance\n",
              "4046  8e4e0744-6f42-469e-8d5c-254ed3b6ad7d  ...              1.287986\n",
              "4030  6fbcf85f-41a2-47db-8861-1b7b89df68a4  ...              0.543833\n",
              "8905  4e258101-51bf-4498-ad3b-a9e359c305fe  ...              0.543908\n",
              "156   1a234c2c-256c-4118-9f05-6381deec51ff  ...              0.689730\n",
              "1653  f993fa6b-f48c-443a-8928-f7dd18cc572f  ...              0.689730\n",
              "\n",
              "[5 rows x 12 columns]"
            ]
          },
          "metadata": {
            "tags": []
          },
          "execution_count": 169
        }
      ]
    },
    {
      "cell_type": "markdown",
      "metadata": {
        "id": "HIPbYdHfyKSL"
      },
      "source": [
        "Compare it against the trip distance \n",
        "Assumption: the trip distance should be larger than the distance measured by corresponding start/end latitude and longitude. It is a reasonable assumption because:\n",
        "\n",
        "  1. distance measured by corresonding coordinates is straight line distance\n",
        "  2. trip distance is typically based on Manhattan distance or however the vehicle drives on the road"
      ]
    },
    {
      "cell_type": "markdown",
      "metadata": {
        "id": "y0Pr1y8TdRJK"
      },
      "source": [
        "Both `TripDistance` in `df_company_a` and `distance_meters` in `df_company_b` has a long tail on the right and huge spike on the left. I need to verify whether the long tail is due to outliers or distance computation error.\n",
        "\n",
        "**Note this is only for exploration/observation purpose but not for comparison purpose**"
      ]
    },
    {
      "cell_type": "code",
      "metadata": {
        "colab": {
          "base_uri": "https://localhost:8080/"
        },
        "id": "ZACiDmzWXNB9",
        "outputId": "0525edcd-12fd-4809-fc26-d38c7f00d504"
      },
      "source": [
        "df_company_a[\"TripDistance\"].describe()"
      ],
      "execution_count": null,
      "outputs": [
        {
          "output_type": "execute_result",
          "data": {
            "text/plain": [
              "count    5.736500e+04\n",
              "mean     1.491247e+02\n",
              "std      1.352164e+04\n",
              "min     -1.034441e+04\n",
              "25%      2.900000e-01\n",
              "50%      7.500000e-01\n",
              "75%      1.740000e+00\n",
              "max      1.334378e+06\n",
              "Name: TripDistance, dtype: float64"
            ]
          },
          "metadata": {
            "tags": []
          },
          "execution_count": 145
        }
      ]
    },
    {
      "cell_type": "code",
      "metadata": {
        "colab": {
          "base_uri": "https://localhost:8080/",
          "height": 311
        },
        "id": "bvPNVOGeGbb7",
        "outputId": "ea5ab10c-ed63-4248-982b-02a04f26bbc8"
      },
      "source": [
        "# Raw TripDistance in miles counts distribution for scooter trips of Company A\r\n",
        "df_company_a[\"TripDistance\"].plot.hist(bins = 20, title = \"TripDistance counts distribution\")\r\n"
      ],
      "execution_count": null,
      "outputs": [
        {
          "output_type": "execute_result",
          "data": {
            "text/plain": [
              "<matplotlib.axes._subplots.AxesSubplot at 0x7fd56d4989b0>"
            ]
          },
          "metadata": {
            "tags": []
          },
          "execution_count": 15
        },
        {
          "output_type": "display_data",
          "data": {
            "image/png": "[encoded data removed]",
            "text/plain": [
              "<Figure size 432x288 with 1 Axes>"
            ]
          },
          "metadata": {
            "tags": [],
            "needs_background": "light"
          }
        }
      ]
    },
    {
      "cell_type": "code",
      "metadata": {
        "colab": {
          "base_uri": "https://localhost:8080/",
          "height": 312
        },
        "id": "BAwpC7FbbWL4",
        "outputId": "dc015c21-2999-4e40-ae0e-8caa6701543e"
      },
      "source": [
        "# Closer look (cut off potential outliers)\n",
        "plt.hist(df_company_a[\"TripDistance\"], bins=30, range=[0.0001, 2], align='mid')\n",
        "plt.title(\"TripDistance counts distribution closer peak\")\n",
        "plt.xlabel(\"TripDistance\")\n",
        "plt.ylabel(\"Counts\")"
      ],
      "execution_count": null,
      "outputs": [
        {
          "output_type": "execute_result",
          "data": {
            "text/plain": [
              "Text(0, 0.5, 'Counts')"
            ]
          },
          "metadata": {
            "tags": []
          },
          "execution_count": 18
        },
        {
          "output_type": "display_data",
          "data": {
            "image/png": "[encoded data removed]",
            "text/plain": [
              "<Figure size 432x288 with 1 Axes>"
            ]
          },
          "metadata": {
            "tags": [],
            "needs_background": "light"
          }
        }
      ]
    },
    {
      "cell_type": "code",
      "metadata": {
        "colab": {
          "base_uri": "https://localhost:8080/",
          "height": 298
        },
        "id": "u0O3JXhNTSuA",
        "outputId": "887a766a-c701-4ccb-c34a-9aff9b21fe9a"
      },
      "source": [
        "# Raw distance in meters counts distribution for scooter trips of Company B\n",
        "df_company_b[\"distance_meters\"].plot.hist(bins = 20, title = \"distance_meters counts distribution\")"
      ],
      "execution_count": null,
      "outputs": [
        {
          "output_type": "execute_result",
          "data": {
            "text/plain": [
              "<matplotlib.axes._subplots.AxesSubplot at 0x7fd56c96ff98>"
            ]
          },
          "metadata": {
            "tags": []
          },
          "execution_count": 19
        },
        {
          "output_type": "display_data",
          "data": {
            "image/png": "[encoded data removed]",
            "text/plain": [
              "<Figure size 432x288 with 1 Axes>"
            ]
          },
          "metadata": {
            "tags": [],
            "needs_background": "light"
          }
        }
      ]
    },
    {
      "cell_type": "code",
      "metadata": {
        "colab": {
          "base_uri": "https://localhost:8080/",
          "height": 313
        },
        "id": "J2FYKt2LQwKR",
        "outputId": "99a298ca-66bf-4edf-c557-7187b6d0adb4"
      },
      "source": [
        "# Closer look (cut off potential outliers)\n",
        "plt.hist(df_company_b[\"distance_meters\"], bins = 20, range=[0.001, 10000], align='mid')\n",
        "plt.title(\"distance_meters counts distribution closer peak\")\n",
        "plt.xlabel(\"distance_meters\")\n",
        "plt.ylabel(\"counts\")"
      ],
      "execution_count": null,
      "outputs": [
        {
          "output_type": "execute_result",
          "data": {
            "text/plain": [
              "Text(0, 0.5, 'counts')"
            ]
          },
          "metadata": {
            "tags": []
          },
          "execution_count": 14
        },
        {
          "output_type": "display_data",
          "data": {
            "image/png": "[encoded data removed]",
            "text/plain": [
              "<Figure size 432x288 with 1 Axes>"
            ]
          },
          "metadata": {
            "tags": [],
            "needs_background": "light"
          }
        }
      ]
    },
    {
      "cell_type": "markdown",
      "metadata": {
        "id": "20PYU2Bc_knW"
      },
      "source": [
        "### Geographical location"
      ]
    },
    {
      "cell_type": "markdown",
      "metadata": {
        "id": "dwNESoyixuAF"
      },
      "source": [
        "Let's first take a look at the range of geographical location - both latitude and longitude.\n",
        "\n",
        "**Assumption**\n",
        "\n",
        "Given these two are scooter companies, so typically it is only for local commute. Any trips goes outside the range of the local community should be consider outliers or data error.\n",
        "\n",
        "For Company A\n",
        "\n",
        "* The min value of End Latitude is 0, and max value of End Longitude is also 0. These seem to be data issue\n",
        "* The values of Start locations look fine\n",
        "\n",
        "For Company B\n",
        "\n",
        "* The min value of End Latitude is 19.42 and max value of End Longitude is 2.36.\n",
        "They seems to be the outliers\n",
        "* THe values of Start locations look fine\n",
        "\n",
        "Both Company A and Company B operate marjorly around Louisville, KY, but they also have rides pick-up or drop-off in suburb towns around Louisville.\n"
      ]
    },
    {
      "cell_type": "code",
      "metadata": {
        "colab": {
          "base_uri": "https://localhost:8080/"
        },
        "id": "mAu-Xt0ebk7I",
        "outputId": "12b458b7-11fb-429d-97a3-7b0634f70970"
      },
      "source": [
        "# Company A trip start locations\n",
        "print(\"Company A trip start locations\")\n",
        "print(\"Start Latitude of trips is between\", df_company_a[\"StartLatitude\"].min(), \"and\", df_company_a[\"StartLatitude\"].max())\n",
        "print(\"Start Longitude of trips is between\", df_company_a[\"StartLongitude\"].min(), \"and\", df_company_a[\"StartLongitude\"].max())\n",
        "print(\"End Latitude of trips is between\", df_company_a[\"EndLatitude\"].min(), \"and\", df_company_a[\"EndLatitude\"].max())\n",
        "print(\"End Longitude of trips is between\", df_company_a[\"EndLongitude\"].min(), \"and\", df_company_a[\"EndLongitude\"].max())\n"
      ],
      "execution_count": null,
      "outputs": [
        {
          "output_type": "stream",
          "text": [
            "Company A trip start locations\n",
            "Start Latitude of trips is between 38.1 and 38.34\n",
            "Start Longitude of trips is between -85.9 and -85.49\n",
            "End Latitude of trips is between 0.0 and 41.3\n",
            "End Longitude of trips is between -122.42 and 0.0\n"
          ],
          "name": "stdout"
        }
      ]
    },
    {
      "cell_type": "code",
      "metadata": {
        "colab": {
          "base_uri": "https://localhost:8080/"
        },
        "id": "I6SdEKgRBoq6",
        "outputId": "b9f0d07a-ad11-4327-85e0-3ff19e879658"
      },
      "source": [
        "# Company B trip start locations\n",
        "print(\"Company B trip start locations\")\n",
        "print(\"Start Latitude of trips is between\", df_company_b[\"start_latitude\"].min(), \"and\", df_company_b[\"start_latitude\"].max())\n",
        "print(\"Start Longitude of trips is between\", df_company_b[\"start_longitude\"].min(), \"and\", df_company_b[\"start_longitude\"].max())\n",
        "print(\"End Latitude of trips is between\", df_company_b[\"end_latitude\"].min(), \"and\", df_company_b[\"end_latitude\"].max())\n",
        "print(\"End Longitude of trips is between\", df_company_b[\"end_longitude\"].min(), \"and\", df_company_b[\"end_longitude\"].max())\n"
      ],
      "execution_count": null,
      "outputs": [
        {
          "output_type": "stream",
          "text": [
            "Company B trip start locations\n",
            "Start Latitude of trips is between 38.09 and 38.32\n",
            "Start Longitude of trips is between -85.81 and -85.56\n",
            "End Latitude of trips is between 19.42 and 48.86\n",
            "End Longitude of trips is between -121.89 and 2.36\n"
          ],
          "name": "stdout"
        }
      ]
    },
    {
      "cell_type": "code",
      "metadata": {
        "colab": {
          "base_uri": "https://localhost:8080/",
          "height": 366
        },
        "id": "sxRbcJozKxYQ",
        "outputId": "f3836b11-f4d9-4d05-bb89-c25ecb83db4e"
      },
      "source": [
        "# Plot the below two charts to detect outliers\n",
        "# Company A - Scatter plot of End Latitude vs. End Longitude\n",
        "sns.regplot('EndLatitude','EndLongitude', data = df_company_a).set_title(\"Company A - End Latitude vs. End Longitude\")"
      ],
      "execution_count": null,
      "outputs": [
        {
          "output_type": "stream",
          "text": [
            "/usr/local/lib/python3.6/dist-packages/seaborn/_decorators.py:43: FutureWarning: Pass the following variables as keyword args: x, y. From version 0.12, the only valid positional argument will be `data`, and passing other arguments without an explicit keyword will result in an error or misinterpretation.\n",
            "  FutureWarning\n"
          ],
          "name": "stderr"
        },
        {
          "output_type": "execute_result",
          "data": {
            "text/plain": [
              "Text(0.5, 1.0, 'Company A - End Latitude vs. End Longitude')"
            ]
          },
          "metadata": {
            "tags": []
          },
          "execution_count": 218
        },
        {
          "output_type": "display_data",
          "data": {
            "image/png": "[encoded data removed]",
            "text/plain": [
              "<Figure size 432x288 with 1 Axes>"
            ]
          },
          "metadata": {
            "tags": [],
            "needs_background": "light"
          }
        }
      ]
    },
    {
      "cell_type": "code",
      "metadata": {
        "colab": {
          "base_uri": "https://localhost:8080/",
          "height": 367
        },
        "id": "QYO9uUiWMMVx",
        "outputId": "0ac8de07-54fc-4abd-8b34-84ebf1a2e27d"
      },
      "source": [
        "# Company B - Scatter plot of End Latitude vs. End Longitude\n",
        "sns.regplot('end_latitude','end_longitude', data = df_company_b).set_title(\"Company B - End Latitude vs. End Longitude\")"
      ],
      "execution_count": null,
      "outputs": [
        {
          "output_type": "stream",
          "text": [
            "/usr/local/lib/python3.6/dist-packages/seaborn/_decorators.py:43: FutureWarning: Pass the following variables as keyword args: x, y. From version 0.12, the only valid positional argument will be `data`, and passing other arguments without an explicit keyword will result in an error or misinterpretation.\n",
            "  FutureWarning\n"
          ],
          "name": "stderr"
        },
        {
          "output_type": "execute_result",
          "data": {
            "text/plain": [
              "Text(0.5, 1.0, 'Company B - End Latitude vs. End Longitude')"
            ]
          },
          "metadata": {
            "tags": []
          },
          "execution_count": 219
        },
        {
          "output_type": "display_data",
          "data": {
            "image/png": "[encoded data removed]",
            "text/plain": [
              "<Figure size 432x288 with 1 Axes>"
            ]
          },
          "metadata": {
            "tags": [],
            "needs_background": "light"
          }
        }
      ]
    },
    {
      "cell_type": "markdown",
      "metadata": {
        "id": "bMy4NhgGy5G0"
      },
      "source": [
        "Apparently, all trips by Company A and Company B are operated around the same area. I took a list of uniuqe instances from the datasets to tell us that the majority of rides were operated in Louisville, KY, but some were also operated in city/towns close to Louisville, such as Bellewood, St. Matthews, etc.\n",
        "\n",
        "The data also shows there some outliers that certainly are not possible, such as Paris-France, Tempe-Arizona, Ciudad de México, México. These outliers should be removed."
      ]
    },
    {
      "cell_type": "code",
      "metadata": {
        "id": "0x3D25B3xLIV"
      },
      "source": [
        "unique_start_coord_a = df_company_a.start_coordinates.unique().tolist()\n",
        "unique_start_city_state_a = unique([city_state(unique_start_coord_a) for unique_start_coord_a in unique_start_coord_a])"
      ],
      "execution_count": null,
      "outputs": []
    },
    {
      "cell_type": "code",
      "metadata": {
        "id": "ccibUI3I7tiu"
      },
      "source": [
        "unique_start_coord_b = df_company_b.start_coordinates.unique().tolist()\n",
        "unique_start_city_state_b = unique([city_state(unique_start_coord_b) for unique_start_coord_b in unique_start_coord_b])"
      ],
      "execution_count": null,
      "outputs": []
    },
    {
      "cell_type": "code",
      "metadata": {
        "id": "5QqoJV-R9lxo"
      },
      "source": [
        "unique_end_coord_b = df_company_b.end_coordinates.unique().tolist()\n",
        "unique_end_city_state_b = unique([city_state(unique_end_coord_b) for unique_end_coord_b in unique_end_coord_b])"
      ],
      "execution_count": null,
      "outputs": []
    },
    {
      "cell_type": "code",
      "metadata": {
        "colab": {
          "base_uri": "https://localhost:8080/"
        },
        "id": "xRZwCRmpwwJt",
        "outputId": "c341bdc9-a1dd-4719-c2bb-e77e2b9539b5"
      },
      "source": [
        "unique_start_city_state_a"
      ],
      "execution_count": null,
      "outputs": [
        {
          "output_type": "execute_result",
          "data": {
            "text/plain": [
              "[('Louisville', 'Kentucky', 'United States'),\n",
              " ('', 'Indiana', 'United States'),\n",
              " ('Bellewood', 'Kentucky', 'United States'),\n",
              " ('St. Matthews', 'Kentucky', 'United States'),\n",
              " ('', 'Kentucky', 'United States')]"
            ]
          },
          "metadata": {
            "tags": []
          },
          "execution_count": 275
        }
      ]
    },
    {
      "cell_type": "code",
      "metadata": {
        "colab": {
          "base_uri": "https://localhost:8080/"
        },
        "id": "xkfbU2lmhOwr",
        "outputId": "cda0f4bc-8f88-4cff-fd14-b3719f61023a"
      },
      "source": [
        "unique_start_city_state_b"
      ],
      "execution_count": null,
      "outputs": [
        {
          "output_type": "execute_result",
          "data": {
            "text/plain": [
              "[('Louisville', 'Kentucky', 'United States'),\n",
              " ('St. Matthews', 'Kentucky', 'United States'),\n",
              " ('', 'Indiana', 'United States'),\n",
              " ('', 'Kentucky', 'United States')]"
            ]
          },
          "metadata": {
            "tags": []
          },
          "execution_count": 276
        }
      ]
    },
    {
      "cell_type": "code",
      "metadata": {
        "colab": {
          "base_uri": "https://localhost:8080/"
        },
        "id": "QGcSpR9uCU-8",
        "outputId": "b1f75893-2007-4155-a0ae-7b454e19fcfb"
      },
      "source": [
        "unique_end_city_state_b"
      ],
      "execution_count": null,
      "outputs": [
        {
          "output_type": "execute_result",
          "data": {
            "text/plain": [
              "[('Louisville', 'Kentucky', 'United States'),\n",
              " ('St. Matthews', 'Kentucky', 'United States'),\n",
              " ('', 'Kentucky', 'United States'),\n",
              " ('', 'Indiana', 'United States'),\n",
              " ('Tempe', 'Arizona', 'United States'),\n",
              " ('Paris', 'Île-de-France', 'France'),\n",
              " ('Fort Lauderdale', 'Florida', 'United States'),\n",
              " ('San Jose', 'California', 'United States'),\n",
              " ('Reno', 'Nevada', 'United States'),\n",
              " ('Ciudad de México', '', 'México')]"
            ]
          },
          "metadata": {
            "tags": []
          },
          "execution_count": 281
        }
      ]
    },
    {
      "cell_type": "code",
      "metadata": {
        "colab": {
          "base_uri": "https://localhost:8080/",
          "height": 838
        },
        "id": "Fb3E63I9Mcwb",
        "outputId": "4745228a-5a0e-4fda-f9e7-52e8b7951374"
      },
      "source": [
        "# Company A: Heat Map to identify the concentration of starting dockless rides\n",
        "df_copy = df_company_a.copy()\n",
        "df_copy['count'] = 1\n",
        "base_map = generateBaseMap()\n",
        "\n",
        "HeatMap(data=df_copy[['StartLatitude', 'StartLongitude', 'count']].groupby(['StartLatitude', 'StartLongitude']).sum().reset_index().values.tolist(), radius=8, max_zoom=13).add_to(base_map)\n",
        "\n",
        "\n",
        "base_map"
      ],
      "execution_count": 21,
      "outputs": [
        {
          "output_type": "execute_result",
          "data": {
            "text/html": [
              "<div style=\"width:100%;\"><div style=\"position:relative;width:100%;height:0;padding-bottom:60%;\"><span style=\"color:#565656\">Make this Notebook Trusted to load map: File -> Trust Notebook</span><iframe src=\"about:blank\" style=\"position:absolute;width:100%;height:100%;left:0;top:0;border:none !important;\" data-html=%3C%21DOCTYPE%20html%3E%0A%3Chead%3E%20%20%20%20%0A%20%20%20%20%3Cmeta%20http-equiv%3D%22content-type%22%20content%3D%22text/html%3B%20charset%3DUTF-8%22%20/%3E%0A%20%20%20%20%3Cscript%3EL_PREFER_CANVAS%3Dfalse%3B%20L_NO_TOUCH%3Dfalse%3B%20L_DISABLE_3D%3Dfalse%3B%3C/script%3E%0A%20%20%20%20%3Cscript%20src%3D%22https%3A//cdn.jsdelivr.net/npm/leaflet%401.4.0/dist/leaflet.js%22%3E%3C/script%3E%0A%20%20%20%20%3Cscript%20src%3D%22https%3A//code.jquery.com/jquery-1.12.4.min.js%22%3E%3C/script%3E%0A%20%20%20%20%3Cscript%20src%3D%22https%3A//maxcdn.bootstrapcdn.com/bootstrap/3.2.0/js/bootstrap.min.js%22%3E%3C/script%3E%0A%20%20%20%20%3Cscript%20src%3D%22https%3A//cdnjs.cloudflare.com/ajax/libs/Leaflet.awesome-markers/2.0.2/leaflet.awesome-markers.js%22%3E%3C/script%3E%0A%20%20%20%20%3Clink%20rel%3D%22stylesheet%22%20href%3D%22https%3A//cdn.jsdelivr.net/npm/leaflet%401.4.0/dist/leaflet.css%22/%3E%0A%20%20%20%20%3Clink%20rel%3D%22stylesheet%22%20href%3D%22https%3A//maxcdn.bootstrapcdn.com/bootstrap/3.2.0/css/bootstrap.min.css%22/%3E%0A%20%20%20%20%3Clink%20rel%3D%22stylesheet%22%20href%3D%22https%3A//maxcdn.bootstrapcdn.com/bootstrap/3.2.0/css/bootstrap-theme.min.css%22/%3E%0A%20%20%20%20%3Clink%20rel%3D%22stylesheet%22%20href%3D%22https%3A//maxcdn.bootstrapcdn.com/font-awesome/4.6.3/css/font-awesome.min.css%22/%3E%0A%20%20%20%20%3Clink%20rel%3D%22stylesheet%22%20href%3D%22https%3A//cdnjs.cloudflare.com/ajax/libs/Leaflet.awesome-markers/2.0.2/leaflet.awesome-markers.css%22/%3E%0A%20%20%20%20%3Clink%20rel%3D%22stylesheet%22%20href%3D%22https%3A//rawcdn.githack.com/python-visualization/folium/master/folium/templates/leaflet.awesome.rotate.css%22/%3E%0A%20%20%20%20%3Cstyle%3Ehtml%2C%20body%20%7Bwidth%3A%20100%25%3Bheight%3A%20100%25%3Bmargin%3A%200%3Bpadding%3A%200%3B%7D%3C/style%3E%0A%20%20%20%20%3Cstyle%3E%23map%20%7Bposition%3Aabsolute%3Btop%3A0%3Bbottom%3A0%3Bright%3A0%3Bleft%3A0%3B%7D%3C/style%3E%0A%20%20%20%20%0A%20%20%20%20%3Cmeta%20name%3D%22viewport%22%20content%3D%22width%3Ddevice-width%2C%0A%20%20%20%20%20%20%20%20initial-scale%3D1.0%2C%20maximum-scale%3D1.0%2C%20user-scalable%3Dno%22%20/%3E%0A%20%20%20%20%3Cstyle%3E%23map_c88343c8c53344b0ae3dbbc13ee0e4b0%20%7B%0A%20%20%20%20%20%20%20%20position%3A%20relative%3B%0A%20%20%20%20%20%20%20%20width%3A%20100.0%25%3B%0A%20%20%20%20%20%20%20%20height%3A%20100.0%25%3B%0A%20%20%20%20%20%20%20%20left%3A%200.0%25%3B%0A%20%20%20%20%20%20%20%20top%3A%200.0%25%3B%0A%20%20%20%20%20%20%20%20%7D%0A%20%20%20%20%3C/style%3E%0A%20%20%20%20%3Cscript%20src%3D%22https%3A//leaflet.github.io/Leaflet.heat/dist/leaflet-heat.js%22%3E%3C/script%3E%0A%3C/head%3E%0A%3Cbody%3E%20%20%20%20%0A%20%20%20%20%0A%20%20%20%20%3Cdiv%20class%3D%22folium-map%22%20id%3D%22map_c88343c8c53344b0ae3dbbc13ee0e4b0%22%20%3E%3C/div%3E%0A%3C/body%3E%0A%3Cscript%3E%20%20%20%20%0A%20%20%20%20%0A%20%20%20%20%0A%20%20%20%20%20%20%20%20var%20bounds%20%3D%20null%3B%0A%20%20%20%20%0A%0A%20%20%20%20var%20map_c88343c8c53344b0ae3dbbc13ee0e4b0%20%3D%20L.map%28%0A%20%20%20%20%20%20%20%20%27map_c88343c8c53344b0ae3dbbc13ee0e4b0%27%2C%20%7B%0A%20%20%20%20%20%20%20%20center%3A%20%5B38.245%2C%20-85.7647%5D%2C%0A%20%20%20%20%20%20%20%20zoom%3A%2011%2C%0A%20%20%20%20%20%20%20%20maxBounds%3A%20bounds%2C%0A%20%20%20%20%20%20%20%20layers%3A%20%5B%5D%2C%0A%20%20%20%20%20%20%20%20worldCopyJump%3A%20false%2C%0A%20%20%20%20%20%20%20%20crs%3A%20L.CRS.EPSG3857%2C%0A%20%20%20%20%20%20%20%20zoomControl%3A%20true%2C%0A%20%20%20%20%20%20%20%20%7D%29%3B%0AL.control.scale%28%29.addTo%28map_c88343c8c53344b0ae3dbbc13ee0e4b0%29%3B%0A%0A%20%20%20%20%0A%20%20%20%20var%20tile_layer_6385c7d6e529429f9accefcfbc9aef07%20%3D%20L.tileLayer%28%0A%20%20%20%20%20%20%20%20%27https%3A//%7Bs%7D.tile.openstreetmap.org/%7Bz%7D/%7Bx%7D/%7By%7D.png%27%2C%0A%20%20%20%20%20%20%20%20%7B%0A%20%20%20%20%20%20%20%20%22attribution%22%3A%20null%2C%0A%20%20%20%20%20%20%20%20%22detectRetina%22%3A%20false%2C%0A%20%20%20%20%20%20%20%20%22maxNativeZoom%22%3A%2018%2C%0A%20%20%20%20%20%20%20%20%22maxZoom%22%3A%2018%2C%0A%20%20%20%20%20%20%20%20%22minZoom%22%3A%200%2C%0A%20%20%20%20%20%20%20%20%22noWrap%22%3A%20false%2C%0A%20%20%20%20%20%20%20%20%22opacity%22%3A%201%2C%0A%20%20%20%20%20%20%20%20%22subdomains%22%3A%20%22abc%22%2C%0A%20%20%20%20%20%20%20%20%22tms%22%3A%20false%0A%7D%29.addTo%28map_c88343c8c53344b0ae3dbbc13ee0e4b0%29%3B%0A%20%20%20%20%0A%20%20%20%20%20%20%20%20%20%20%20%20var%20heat_map_cab576a58b7146a48a4ec1f6f5d331cc%20%3D%20L.heatLayer%28%0A%20%20%20%20%20%20%20%20%20%20%20%20%20%20%20%20%5B%5B38.1%2C%20-85.88%2C%204.0%5D%2C%20%5B38.1%2C%20-85.87%2C%203.0%5D%2C%20%5B38.12%2C%20-85.74%2C%205.0%5D%2C%20%5B38.12%2C%20-85.7%2C%203.0%5D%2C%20%5B38.12%2C%20-85.69%2C%204.0%5D%2C%20%5B38.15%2C%20-85.9%2C%207.0%5D%2C%20%5B38.15%2C%20-85.82%2C%201.0%5D%2C%20%5B38.15%2C%20-85.61%2C%203.0%5D%2C%20%5B38.16%2C%20-85.85%2C%201.0%5D%2C%20%5B38.16%2C%20-85.78%2C%205.0%5D%2C%20%5B38.16%2C%20-85.67%2C%201.0%5D%2C%20%5B38.16%2C%20-85.66%2C%201.0%5D%2C%20%5B38.17%2C%20-85.84%2C%201.0%5D%2C%20%5B38.17%2C%20-85.76%2C%202.0%5D%2C%20%5B38.17%2C%20-85.67%2C%201.0%5D%2C%20%5B38.17%2C%20-85.64%2C%201.0%5D%2C%20%5B38.17%2C%20-85.56%2C%201.0%5D%2C%20%5B38.18%2C%20-85.82%2C%202.0%5D%2C%20%5B38.18%2C%20-85.79%2C%204.0%5D%2C%20%5B38.18%2C%20-85.77%2C%201.0%5D%2C%20%5B38.18%2C%20-85.76%2C%204.0%5D%2C%20%5B38.18%2C%20-85.72%2C%201.0%5D%2C%20%5B38.18%2C%20-85.7%2C%201.0%5D%2C%20%5B38.19%2C%20-85.81%2C%202.0%5D%2C%20%5B38.19%2C%20-85.8%2C%201.0%5D%2C%20%5B38.19%2C%20-85.79%2C%2011.0%5D%2C%20%5B38.19%2C%20-85.78%2C%2018.0%5D%2C%20%5B38.19%2C%20-85.77%2C%2013.0%5D%2C%20%5B38.19%2C%20-85.76%2C%201.0%5D%2C%20%5B38.19%2C%20-85.75%2C%203.0%5D%2C%20%5B38.19%2C%20-85.74%2C%202.0%5D%2C%20%5B38.19%2C%20-85.73%2C%201.0%5D%2C%20%5B38.19%2C%20-85.72%2C%201.0%5D%2C%20%5B38.19%2C%20-85.71%2C%204.0%5D%2C%20%5B38.19%2C%20-85.7%2C%201.0%5D%2C%20%5B38.19%2C%20-85.68%2C%201.0%5D%2C%20%5B38.19%2C%20-85.67%2C%201.0%5D%2C%20%5B38.19%2C%20-85.5%2C%201.0%5D%2C%20%5B38.19%2C%20-85.49%2C%201.0%5D%2C%20%5B38.2%2C%20-85.8%2C%208.0%5D%2C%20%5B38.2%2C%20-85.79%2C%203.0%5D%2C%20%5B38.2%2C%20-85.78%2C%2044.0%5D%2C%20%5B38.2%2C%20-85.77%2C%2024.0%5D%2C%20%5B38.2%2C%20-85.76%2C%20266.0%5D%2C%20%5B38.2%2C%20-85.75%2C%2054.0%5D%2C%20%5B38.2%2C%20-85.74%2C%20280.0%5D%2C%20%5B38.2%2C%20-85.73%2C%204.0%5D%2C%20%5B38.2%2C%20-85.71%2C%202.0%5D%2C%20%5B38.2%2C%20-85.7%2C%204.0%5D%2C%20%5B38.2%2C%20-85.68%2C%202.0%5D%2C%20%5B38.2%2C%20-85.67%2C%203.0%5D%2C%20%5B38.2%2C%20-85.66%2C%206.0%5D%2C%20%5B38.2%2C%20-85.64%2C%202.0%5D%2C%20%5B38.2%2C%20-85.62%2C%204.0%5D%2C%20%5B38.2%2C%20-85.57%2C%201.0%5D%2C%20%5B38.21%2C%20-85.81%2C%206.0%5D%2C%20%5B38.21%2C%20-85.79%2C%202.0%5D%2C%20%5B38.21%2C%20-85.78%2C%2013.0%5D%2C%20%5B38.21%2C%20-85.77%2C%20135.0%5D%2C%20%5B38.21%2C%20-85.76%2C%201201.0%5D%2C%20%5B38.21%2C%20-85.75%2C%20455.0%5D%2C%20%5B38.21%2C%20-85.74%2C%2033.0%5D%2C%20%5B38.21%2C%20-85.73%2C%201.0%5D%2C%20%5B38.21%2C%20-85.72%2C%205.0%5D%2C%20%5B38.21%2C%20-85.7%2C%2010.0%5D%2C%20%5B38.21%2C%20-85.69%2C%205.0%5D%2C%20%5B38.21%2C%20-85.68%2C%202.0%5D%2C%20%5B38.21%2C%20-85.67%2C%2028.0%5D%2C%20%5B38.21%2C%20-85.66%2C%201.0%5D%2C%20%5B38.21%2C%20-85.64%2C%2013.0%5D%2C%20%5B38.21%2C%20-85.63%2C%202.0%5D%2C%20%5B38.21%2C%20-85.59%2C%201.0%5D%2C%20%5B38.22%2C%20-85.81%2C%202.0%5D%2C%20%5B38.22%2C%20-85.8%2C%204.0%5D%2C%20%5B38.22%2C%20-85.78%2C%206.0%5D%2C%20%5B38.22%2C%20-85.77%2C%20392.0%5D%2C%20%5B38.22%2C%20-85.76%2C%206084.0%5D%2C%20%5B38.22%2C%20-85.75%2C%20426.0%5D%2C%20%5B38.22%2C%20-85.74%2C%2075.0%5D%2C%20%5B38.22%2C%20-85.73%2C%2024.0%5D%2C%20%5B38.22%2C%20-85.71%2C%2080.0%5D%2C%20%5B38.22%2C%20-85.7%2C%20234.0%5D%2C%20%5B38.22%2C%20-85.69%2C%20797.0%5D%2C%20%5B38.22%2C%20-85.68%2C%2077.0%5D%2C%20%5B38.22%2C%20-85.67%2C%2012.0%5D%2C%20%5B38.22%2C%20-85.66%2C%202.0%5D%2C%20%5B38.22%2C%20-85.65%2C%201.0%5D%2C%20%5B38.22%2C%20-85.63%2C%201.0%5D%2C%20%5B38.22%2C%20-85.56%2C%201.0%5D%2C%20%5B38.23%2C%20-85.81%2C%201.0%5D%2C%20%5B38.23%2C%20-85.8%2C%201.0%5D%2C%20%5B38.23%2C%20-85.79%2C%204.0%5D%2C%20%5B38.23%2C%20-85.78%2C%2017.0%5D%2C%20%5B38.23%2C%20-85.77%2C%20100.0%5D%2C%20%5B38.23%2C%20-85.76%2C%201208.0%5D%2C%20%5B38.23%2C%20-85.75%2C%20295.0%5D%2C%20%5B38.23%2C%20-85.74%2C%20186.0%5D%2C%20%5B38.23%2C%20-85.73%2C%2094.0%5D%2C%20%5B38.23%2C%20-85.72%2C%20123.0%5D%2C%20%5B38.23%2C%20-85.71%2C%201908.0%5D%2C%20%5B38.23%2C%20-85.7%2C%20878.0%5D%2C%20%5B38.23%2C%20-85.69%2C%2092.0%5D%2C%20%5B38.23%2C%20-85.68%2C%2019.0%5D%2C%20%5B38.23%2C%20-85.67%2C%2015.0%5D%2C%20%5B38.24%2C%20-85.83%2C%201.0%5D%2C%20%5B38.24%2C%20-85.81%2C%201.0%5D%2C%20%5B38.24%2C%20-85.8%2C%208.0%5D%2C%20%5B38.24%2C%20-85.79%2C%203.0%5D%2C%20%5B38.24%2C%20-85.78%2C%207.0%5D%2C%20%5B38.24%2C%20-85.77%2C%2028.0%5D%2C%20%5B38.24%2C%20-85.76%2C%20779.0%5D%2C%20%5B38.24%2C%20-85.75%2C%20355.0%5D%2C%20%5B38.24%2C%20-85.74%2C%20118.0%5D%2C%20%5B38.24%2C%20-85.73%2C%201066.0%5D%2C%20%5B38.24%2C%20-85.72%2C%203905.0%5D%2C%20%5B38.24%2C%20-85.71%2C%20216.0%5D%2C%20%5B38.24%2C%20-85.7%2C%20134.0%5D%2C%20%5B38.24%2C%20-85.69%2C%208.0%5D%2C%20%5B38.24%2C%20-85.68%2C%202.0%5D%2C%20%5B38.24%2C%20-85.67%2C%208.0%5D%2C%20%5B38.24%2C%20-85.65%2C%203.0%5D%2C%20%5B38.24%2C%20-85.64%2C%201.0%5D%2C%20%5B38.24%2C%20-85.63%2C%202.0%5D%2C%20%5B38.25%2C%20-85.83%2C%205.0%5D%2C%20%5B38.25%2C%20-85.82%2C%203.0%5D%2C%20%5B38.25%2C%20-85.81%2C%203.0%5D%2C%20%5B38.25%2C%20-85.8%2C%206.0%5D%2C%20%5B38.25%2C%20-85.79%2C%2023.0%5D%2C%20%5B38.25%2C%20-85.78%2C%2024.0%5D%2C%20%5B38.25%2C%20-85.77%2C%2067.0%5D%2C%20%5B38.25%2C%20-85.76%2C%209236.0%5D%2C%20%5B38.25%2C%20-85.75%2C%203705.0%5D%2C%20%5B38.25%2C%20-85.74%2C%204704.0%5D%2C%20%5B38.25%2C%20-85.73%2C%20762.0%5D%2C%20%5B38.25%2C%20-85.72%2C%20175.0%5D%2C%20%5B38.25%2C%20-85.71%2C%20229.0%5D%2C%20%5B38.25%2C%20-85.7%2C%20597.0%5D%2C%20%5B38.25%2C%20-85.69%2C%20105.0%5D%2C%20%5B38.25%2C%20-85.68%2C%207.0%5D%2C%20%5B38.25%2C%20-85.67%2C%2014.0%5D%2C%20%5B38.25%2C%20-85.66%2C%2034.0%5D%2C%20%5B38.25%2C%20-85.65%2C%2035.0%5D%2C%20%5B38.25%2C%20-85.63%2C%203.0%5D%2C%20%5B38.25%2C%20-85.62%2C%201.0%5D%2C%20%5B38.26%2C%20-85.82%2C%201.0%5D%2C%20%5B38.26%2C%20-85.81%2C%205.0%5D%2C%20%5B38.26%2C%20-85.8%2C%207.0%5D%2C%20%5B38.26%2C%20-85.79%2C%2010.0%5D%2C%20%5B38.26%2C%20-85.78%2C%2021.0%5D%2C%20%5B38.26%2C%20-85.77%2C%20190.0%5D%2C%20%5B38.26%2C%20-85.76%2C%206628.0%5D%2C%20%5B38.26%2C%20-85.75%2C%205419.0%5D%2C%20%5B38.26%2C%20-85.74%2C%201566.0%5D%2C%20%5B38.26%2C%20-85.73%2C%20452.0%5D%2C%20%5B38.26%2C%20-85.72%2C%20188.0%5D%2C%20%5B38.26%2C%20-85.71%2C%20119.0%5D%2C%20%5B38.26%2C%20-85.7%2C%2045.0%5D%2C%20%5B38.26%2C%20-85.69%2C%2016.0%5D%2C%20%5B38.26%2C%20-85.68%2C%206.0%5D%2C%20%5B38.26%2C%20-85.67%2C%203.0%5D%2C%20%5B38.26%2C%20-85.66%2C%201.0%5D%2C%20%5B38.26%2C%20-85.65%2C%207.0%5D%2C%20%5B38.26%2C%20-85.64%2C%201.0%5D%2C%20%5B38.26%2C%20-85.58%2C%202.0%5D%2C%20%5B38.27%2C%20-85.81%2C%201.0%5D%2C%20%5B38.27%2C%20-85.8%2C%201.0%5D%2C%20%5B38.27%2C%20-85.79%2C%206.0%5D%2C%20%5B38.27%2C%20-85.78%2C%2028.0%5D%2C%20%5B38.27%2C%20-85.76%2C%205.0%5D%2C%20%5B38.27%2C%20-85.75%2C%2012.0%5D%2C%20%5B38.27%2C%20-85.74%2C%20162.0%5D%2C%20%5B38.27%2C%20-85.73%2C%2044.0%5D%2C%20%5B38.27%2C%20-85.72%2C%2062.0%5D%2C%20%5B38.27%2C%20-85.71%2C%2010.0%5D%2C%20%5B38.27%2C%20-85.7%2C%2010.0%5D%2C%20%5B38.27%2C%20-85.69%2C%201.0%5D%2C%20%5B38.27%2C%20-85.67%2C%201.0%5D%2C%20%5B38.27%2C%20-85.64%2C%203.0%5D%2C%20%5B38.27%2C%20-85.61%2C%202.0%5D%2C%20%5B38.27%2C%20-85.51%2C%201.0%5D%2C%20%5B38.28%2C%20-85.82%2C%206.0%5D%2C%20%5B38.28%2C%20-85.76%2C%205.0%5D%2C%20%5B38.28%2C%20-85.75%2C%202.0%5D%2C%20%5B38.28%2C%20-85.74%2C%203.0%5D%2C%20%5B38.28%2C%20-85.73%2C%208.0%5D%2C%20%5B38.28%2C%20-85.72%2C%201.0%5D%2C%20%5B38.28%2C%20-85.7%2C%205.0%5D%2C%20%5B38.28%2C%20-85.67%2C%201.0%5D%2C%20%5B38.29%2C%20-85.82%2C%202.0%5D%2C%20%5B38.29%2C%20-85.81%2C%201.0%5D%2C%20%5B38.29%2C%20-85.8%2C%203.0%5D%2C%20%5B38.29%2C%20-85.67%2C%202.0%5D%2C%20%5B38.32%2C%20-85.8%2C%201.0%5D%2C%20%5B38.32%2C%20-85.77%2C%204.0%5D%2C%20%5B38.33%2C%20-85.63%2C%203.0%5D%2C%20%5B38.34%2C%20-85.73%2C%201.0%5D%5D%2C%0A%20%20%20%20%20%20%20%20%20%20%20%20%20%20%20%20%7B%0A%20%20%20%20%20%20%20%20%20%20%20%20%20%20%20%20%20%20%20%20minOpacity%3A%200.5%2C%0A%20%20%20%20%20%20%20%20%20%20%20%20%20%20%20%20%20%20%20%20maxZoom%3A%2013%2C%0A%20%20%20%20%20%20%20%20%20%20%20%20%20%20%20%20%20%20%20%20max%3A%201.0%2C%0A%20%20%20%20%20%20%20%20%20%20%20%20%20%20%20%20%20%20%20%20radius%3A%208%2C%0A%20%20%20%20%20%20%20%20%20%20%20%20%20%20%20%20%20%20%20%20blur%3A%2015%2C%0A%20%20%20%20%20%20%20%20%20%20%20%20%20%20%20%20%20%20%20%20gradient%3A%20null%0A%20%20%20%20%20%20%20%20%20%20%20%20%20%20%20%20%20%20%20%20%7D%29%0A%20%20%20%20%20%20%20%20%20%20%20%20%20%20%20%20.addTo%28map_c88343c8c53344b0ae3dbbc13ee0e4b0%29%3B%0A%20%20%20%20%20%20%20%20%0A%3C/script%3E onload=\"this.contentDocument.open();this.contentDocument.write(    decodeURIComponent(this.getAttribute('data-html')));this.contentDocument.close();\" allowfullscreen webkitallowfullscreen mozallowfullscreen></iframe></div></div>"
            ],
            "text/plain": [
              "<folium.folium.Map at 0x7f474ba4da58>"
            ]
          },
          "metadata": {
            "tags": []
          },
          "execution_count": 21
        }
      ]
    },
    {
      "cell_type": "code",
      "metadata": {
        "colab": {
          "base_uri": "https://localhost:8080/",
          "height": 838
        },
        "id": "_yRTpnhtMclB",
        "outputId": "95d45230-8d6e-43ad-c2b9-d361ca430a7d"
      },
      "source": [
        "# Company A: Heat Map to identify the concentration of Ending dockless rides\n",
        "df_copy = df_company_a.copy()\n",
        "df_copy['count'] = 1\n",
        "base_map = generateBaseMap()\n",
        "\n",
        "HeatMap(data=df_copy[['EndLatitude', 'EndLongitude', 'count']].groupby(['EndLatitude', 'EndLongitude']).sum().reset_index().values.tolist(), radius=8, max_zoom=13).add_to(base_map)\n",
        "\n",
        "\n",
        "base_map"
      ],
      "execution_count": 22,
      "outputs": [
        {
          "output_type": "execute_result",
          "data": {
            "text/html": [
              "<div style=\"width:100%;\"><div style=\"position:relative;width:100%;height:0;padding-bottom:60%;\"><span style=\"color:#565656\">Make this Notebook Trusted to load map: File -> Trust Notebook</span><iframe src=\"about:blank\" style=\"position:absolute;width:100%;height:100%;left:0;top:0;border:none !important;\" data-html=%3C%21DOCTYPE%20html%3E%0A%3Chead%3E%20%20%20%20%0A%20%20%20%20%3Cmeta%20http-equiv%3D%22content-type%22%20content%3D%22text/html%3B%20charset%3DUTF-8%22%20/%3E%0A%20%20%20%20%3Cscript%3EL_PREFER_CANVAS%3Dfalse%3B%20L_NO_TOUCH%3Dfalse%3B%20L_DISABLE_3D%3Dfalse%3B%3C/script%3E%0A%20%20%20%20%3Cscript%20src%3D%22https%3A//cdn.jsdelivr.net/npm/leaflet%401.4.0/dist/leaflet.js%22%3E%3C/script%3E%0A%20%20%20%20%3Cscript%20src%3D%22https%3A//code.jquery.com/jquery-1.12.4.min.js%22%3E%3C/script%3E%0A%20%20%20%20%3Cscript%20src%3D%22https%3A//maxcdn.bootstrapcdn.com/bootstrap/3.2.0/js/bootstrap.min.js%22%3E%3C/script%3E%0A%20%20%20%20%3Cscript%20src%3D%22https%3A//cdnjs.cloudflare.com/ajax/libs/Leaflet.awesome-markers/2.0.2/leaflet.awesome-markers.js%22%3E%3C/script%3E%0A%20%20%20%20%3Clink%20rel%3D%22stylesheet%22%20href%3D%22https%3A//cdn.jsdelivr.net/npm/leaflet%401.4.0/dist/leaflet.css%22/%3E%0A%20%20%20%20%3Clink%20rel%3D%22stylesheet%22%20href%3D%22https%3A//maxcdn.bootstrapcdn.com/bootstrap/3.2.0/css/bootstrap.min.css%22/%3E%0A%20%20%20%20%3Clink%20rel%3D%22stylesheet%22%20href%3D%22https%3A//maxcdn.bootstrapcdn.com/bootstrap/3.2.0/css/bootstrap-theme.min.css%22/%3E%0A%20%20%20%20%3Clink%20rel%3D%22stylesheet%22%20href%3D%22https%3A//maxcdn.bootstrapcdn.com/font-awesome/4.6.3/css/font-awesome.min.css%22/%3E%0A%20%20%20%20%3Clink%20rel%3D%22stylesheet%22%20href%3D%22https%3A//cdnjs.cloudflare.com/ajax/libs/Leaflet.awesome-markers/2.0.2/leaflet.awesome-markers.css%22/%3E%0A%20%20%20%20%3Clink%20rel%3D%22stylesheet%22%20href%3D%22https%3A//rawcdn.githack.com/python-visualization/folium/master/folium/templates/leaflet.awesome.rotate.css%22/%3E%0A%20%20%20%20%3Cstyle%3Ehtml%2C%20body%20%7Bwidth%3A%20100%25%3Bheight%3A%20100%25%3Bmargin%3A%200%3Bpadding%3A%200%3B%7D%3C/style%3E%0A%20%20%20%20%3Cstyle%3E%23map%20%7Bposition%3Aabsolute%3Btop%3A0%3Bbottom%3A0%3Bright%3A0%3Bleft%3A0%3B%7D%3C/style%3E%0A%20%20%20%20%0A%20%20%20%20%3Cmeta%20name%3D%22viewport%22%20content%3D%22width%3Ddevice-width%2C%0A%20%20%20%20%20%20%20%20initial-scale%3D1.0%2C%20maximum-scale%3D1.0%2C%20user-scalable%3Dno%22%20/%3E%0A%20%20%20%20%3Cstyle%3E%23map_50b6241ce5094067994ff59da134b43a%20%7B%0A%20%20%20%20%20%20%20%20position%3A%20relative%3B%0A%20%20%20%20%20%20%20%20width%3A%20100.0%25%3B%0A%20%20%20%20%20%20%20%20height%3A%20100.0%25%3B%0A%20%20%20%20%20%20%20%20left%3A%200.0%25%3B%0A%20%20%20%20%20%20%20%20top%3A%200.0%25%3B%0A%20%20%20%20%20%20%20%20%7D%0A%20%20%20%20%3C/style%3E%0A%20%20%20%20%3Cscript%20src%3D%22https%3A//leaflet.github.io/Leaflet.heat/dist/leaflet-heat.js%22%3E%3C/script%3E%0A%3C/head%3E%0A%3Cbody%3E%20%20%20%20%0A%20%20%20%20%0A%20%20%20%20%3Cdiv%20class%3D%22folium-map%22%20id%3D%22map_50b6241ce5094067994ff59da134b43a%22%20%3E%3C/div%3E%0A%3C/body%3E%0A%3Cscript%3E%20%20%20%20%0A%20%20%20%20%0A%20%20%20%20%0A%20%20%20%20%20%20%20%20var%20bounds%20%3D%20null%3B%0A%20%20%20%20%0A%0A%20%20%20%20var%20map_50b6241ce5094067994ff59da134b43a%20%3D%20L.map%28%0A%20%20%20%20%20%20%20%20%27map_50b6241ce5094067994ff59da134b43a%27%2C%20%7B%0A%20%20%20%20%20%20%20%20center%3A%20%5B38.245%2C%20-85.7647%5D%2C%0A%20%20%20%20%20%20%20%20zoom%3A%2011%2C%0A%20%20%20%20%20%20%20%20maxBounds%3A%20bounds%2C%0A%20%20%20%20%20%20%20%20layers%3A%20%5B%5D%2C%0A%20%20%20%20%20%20%20%20worldCopyJump%3A%20false%2C%0A%20%20%20%20%20%20%20%20crs%3A%20L.CRS.EPSG3857%2C%0A%20%20%20%20%20%20%20%20zoomControl%3A%20true%2C%0A%20%20%20%20%20%20%20%20%7D%29%3B%0AL.control.scale%28%29.addTo%28map_50b6241ce5094067994ff59da134b43a%29%3B%0A%0A%20%20%20%20%0A%20%20%20%20var%20tile_layer_1ee444e8e7ee4ba6b885a2626aeec051%20%3D%20L.tileLayer%28%0A%20%20%20%20%20%20%20%20%27https%3A//%7Bs%7D.tile.openstreetmap.org/%7Bz%7D/%7Bx%7D/%7By%7D.png%27%2C%0A%20%20%20%20%20%20%20%20%7B%0A%20%20%20%20%20%20%20%20%22attribution%22%3A%20null%2C%0A%20%20%20%20%20%20%20%20%22detectRetina%22%3A%20false%2C%0A%20%20%20%20%20%20%20%20%22maxNativeZoom%22%3A%2018%2C%0A%20%20%20%20%20%20%20%20%22maxZoom%22%3A%2018%2C%0A%20%20%20%20%20%20%20%20%22minZoom%22%3A%200%2C%0A%20%20%20%20%20%20%20%20%22noWrap%22%3A%20false%2C%0A%20%20%20%20%20%20%20%20%22opacity%22%3A%201%2C%0A%20%20%20%20%20%20%20%20%22subdomains%22%3A%20%22abc%22%2C%0A%20%20%20%20%20%20%20%20%22tms%22%3A%20false%0A%7D%29.addTo%28map_50b6241ce5094067994ff59da134b43a%29%3B%0A%20%20%20%20%0A%20%20%20%20%20%20%20%20%20%20%20%20var%20heat_map_08e5d026ce484670963aa8c6b8017c00%20%3D%20L.heatLayer%28%0A%20%20%20%20%20%20%20%20%20%20%20%20%20%20%20%20%5B%5B0.0%2C%200.0%2C%201.0%5D%2C%20%5B26.12%2C%20-80.14%2C%201.0%5D%2C%20%5B33.4%2C%20-111.87%2C%203.0%5D%2C%20%5B36.16%2C%20-86.77%2C%201.0%5D%2C%20%5B37.81%2C%20-122.42%2C%201.0%5D%2C%20%5B38.1%2C%20-85.88%2C%203.0%5D%2C%20%5B38.1%2C%20-85.87%2C%204.0%5D%2C%20%5B38.1%2C%20-85.8%2C%201.0%5D%2C%20%5B38.12%2C%20-85.78%2C%201.0%5D%2C%20%5B38.12%2C%20-85.74%2C%204.0%5D%2C%20%5B38.12%2C%20-85.7%2C%203.0%5D%2C%20%5B38.12%2C%20-85.69%2C%203.0%5D%2C%20%5B38.12%2C%20-85.64%2C%201.0%5D%2C%20%5B38.13%2C%20-85.75%2C%202.0%5D%2C%20%5B38.14%2C%20-85.85%2C%201.0%5D%2C%20%5B38.14%2C%20-85.84%2C%202.0%5D%2C%20%5B38.14%2C%20-85.77%2C%202.0%5D%2C%20%5B38.14%2C%20-85.75%2C%201.0%5D%2C%20%5B38.14%2C%20-85.69%2C%201.0%5D%2C%20%5B38.14%2C%20-85.6%2C%201.0%5D%2C%20%5B38.15%2C%20-85.9%2C%207.0%5D%2C%20%5B38.15%2C%20-85.78%2C%201.0%5D%2C%20%5B38.15%2C%20-85.77%2C%201.0%5D%2C%20%5B38.15%2C%20-85.69%2C%201.0%5D%2C%20%5B38.15%2C%20-85.61%2C%202.0%5D%2C%20%5B38.16%2C%20-85.83%2C%202.0%5D%2C%20%5B38.16%2C%20-85.78%2C%205.0%5D%2C%20%5B38.16%2C%20-85.76%2C%201.0%5D%2C%20%5B38.16%2C%20-85.67%2C%201.0%5D%2C%20%5B38.16%2C%20-85.66%2C%201.0%5D%2C%20%5B38.17%2C%20-85.84%2C%201.0%5D%2C%20%5B38.17%2C%20-85.83%2C%201.0%5D%2C%20%5B38.17%2C%20-85.78%2C%201.0%5D%2C%20%5B38.17%2C%20-85.64%2C%201.0%5D%2C%20%5B38.18%2C%20-85.82%2C%202.0%5D%2C%20%5B38.18%2C%20-85.79%2C%204.0%5D%2C%20%5B38.18%2C%20-85.78%2C%207.0%5D%2C%20%5B38.18%2C%20-85.77%2C%202.0%5D%2C%20%5B38.18%2C%20-85.76%2C%207.0%5D%2C%20%5B38.18%2C%20-85.72%2C%202.0%5D%2C%20%5B38.18%2C%20-85.7%2C%201.0%5D%2C%20%5B38.18%2C%20-85.63%2C%201.0%5D%2C%20%5B38.19%2C%20-85.81%2C%203.0%5D%2C%20%5B38.19%2C%20-85.8%2C%202.0%5D%2C%20%5B38.19%2C%20-85.79%2C%2029.0%5D%2C%20%5B38.19%2C%20-85.78%2C%2034.0%5D%2C%20%5B38.19%2C%20-85.77%2C%2021.0%5D%2C%20%5B38.19%2C%20-85.76%2C%204.0%5D%2C%20%5B38.19%2C%20-85.75%2C%207.0%5D%2C%20%5B38.19%2C%20-85.74%2C%206.0%5D%2C%20%5B38.19%2C%20-85.73%2C%205.0%5D%2C%20%5B38.19%2C%20-85.72%2C%202.0%5D%2C%20%5B38.19%2C%20-85.71%2C%205.0%5D%2C%20%5B38.19%2C%20-85.7%2C%201.0%5D%2C%20%5B38.19%2C%20-85.68%2C%202.0%5D%2C%20%5B38.19%2C%20-85.67%2C%201.0%5D%2C%20%5B38.19%2C%20-85.63%2C%201.0%5D%2C%20%5B38.19%2C%20-85.49%2C%202.0%5D%2C%20%5B38.2%2C%20-85.8%2C%2010.0%5D%2C%20%5B38.2%2C%20-85.79%2C%206.0%5D%2C%20%5B38.2%2C%20-85.78%2C%2062.0%5D%2C%20%5B38.2%2C%20-85.77%2C%2036.0%5D%2C%20%5B38.2%2C%20-85.76%2C%20291.0%5D%2C%20%5B38.2%2C%20-85.75%2C%2091.0%5D%2C%20%5B38.2%2C%20-85.74%2C%20287.0%5D%2C%20%5B38.2%2C%20-85.73%2C%2011.0%5D%2C%20%5B38.2%2C%20-85.72%2C%202.0%5D%2C%20%5B38.2%2C%20-85.71%2C%208.0%5D%2C%20%5B38.2%2C%20-85.7%2C%204.0%5D%2C%20%5B38.2%2C%20-85.69%2C%203.0%5D%2C%20%5B38.2%2C%20-85.68%2C%203.0%5D%2C%20%5B38.2%2C%20-85.67%2C%209.0%5D%2C%20%5B38.2%2C%20-85.66%2C%2016.0%5D%2C%20%5B38.2%2C%20-85.64%2C%203.0%5D%2C%20%5B38.2%2C%20-85.62%2C%204.0%5D%2C%20%5B38.2%2C%20-85.57%2C%201.0%5D%2C%20%5B38.21%2C%20-85.81%2C%208.0%5D%2C%20%5B38.21%2C%20-85.8%2C%201.0%5D%2C%20%5B38.21%2C%20-85.79%2C%204.0%5D%2C%20%5B38.21%2C%20-85.78%2C%2027.0%5D%2C%20%5B38.21%2C%20-85.77%2C%20201.0%5D%2C%20%5B38.21%2C%20-85.76%2C%201534.0%5D%2C%20%5B38.21%2C%20-85.75%2C%20613.0%5D%2C%20%5B38.21%2C%20-85.74%2C%2060.0%5D%2C%20%5B38.21%2C%20-85.73%2C%205.0%5D%2C%20%5B38.21%2C%20-85.72%2C%208.0%5D%2C%20%5B38.21%2C%20-85.7%2C%2015.0%5D%2C%20%5B38.21%2C%20-85.69%2C%206.0%5D%2C%20%5B38.21%2C%20-85.68%2C%205.0%5D%2C%20%5B38.21%2C%20-85.67%2C%2044.0%5D%2C%20%5B38.21%2C%20-85.66%2C%201.0%5D%2C%20%5B38.21%2C%20-85.64%2C%2017.0%5D%2C%20%5B38.21%2C%20-85.63%2C%203.0%5D%2C%20%5B38.22%2C%20-85.81%2C%205.0%5D%2C%20%5B38.22%2C%20-85.8%2C%204.0%5D%2C%20%5B38.22%2C%20-85.79%2C%205.0%5D%2C%20%5B38.22%2C%20-85.78%2C%203.0%5D%2C%20%5B38.22%2C%20-85.77%2C%20538.0%5D%2C%20%5B38.22%2C%20-85.76%2C%205316.0%5D%2C%20%5B38.22%2C%20-85.75%2C%20491.0%5D%2C%20%5B38.22%2C%20-85.74%2C%20134.0%5D%2C%20%5B38.22%2C%20-85.73%2C%2041.0%5D%2C%20%5B38.22%2C%20-85.72%2C%202.0%5D%2C%20%5B38.22%2C%20-85.71%2C%20112.0%5D%2C%20%5B38.22%2C%20-85.7%2C%20330.0%5D%2C%20%5B38.22%2C%20-85.69%2C%20567.0%5D%2C%20%5B38.22%2C%20-85.68%2C%2086.0%5D%2C%20%5B38.22%2C%20-85.67%2C%2016.0%5D%2C%20%5B38.22%2C%20-85.66%2C%206.0%5D%2C%20%5B38.22%2C%20-85.65%2C%204.0%5D%2C%20%5B38.22%2C%20-85.63%2C%201.0%5D%2C%20%5B38.22%2C%20-85.56%2C%201.0%5D%2C%20%5B38.23%2C%20-85.81%2C%202.0%5D%2C%20%5B38.23%2C%20-85.8%2C%206.0%5D%2C%20%5B38.23%2C%20-85.79%2C%208.0%5D%2C%20%5B38.23%2C%20-85.78%2C%2012.0%5D%2C%20%5B38.23%2C%20-85.77%2C%20140.0%5D%2C%20%5B38.23%2C%20-85.76%2C%201223.0%5D%2C%20%5B38.23%2C%20-85.75%2C%20292.0%5D%2C%20%5B38.23%2C%20-85.74%2C%20279.0%5D%2C%20%5B38.23%2C%20-85.73%2C%20167.0%5D%2C%20%5B38.23%2C%20-85.72%2C%20211.0%5D%2C%20%5B38.23%2C%20-85.71%2C%201727.0%5D%2C%20%5B38.23%2C%20-85.7%2C%20861.0%5D%2C%20%5B38.23%2C%20-85.69%2C%20135.0%5D%2C%20%5B38.23%2C%20-85.68%2C%2033.0%5D%2C%20%5B38.23%2C%20-85.67%2C%2011.0%5D%2C%20%5B38.24%2C%20-85.83%2C%201.0%5D%2C%20%5B38.24%2C%20-85.82%2C%202.0%5D%2C%20%5B38.24%2C%20-85.81%2C%209.0%5D%2C%20%5B38.24%2C%20-85.8%2C%2016.0%5D%2C%20%5B38.24%2C%20-85.79%2C%205.0%5D%2C%20%5B38.24%2C%20-85.78%2C%208.0%5D%2C%20%5B38.24%2C%20-85.77%2C%2035.0%5D%2C%20%5B38.24%2C%20-85.76%2C%20970.0%5D%2C%20%5B38.24%2C%20-85.75%2C%20466.0%5D%2C%20%5B38.24%2C%20-85.74%2C%20206.0%5D%2C%20%5B38.24%2C%20-85.73%2C%201185.0%5D%2C%20%5B38.24%2C%20-85.72%2C%203286.0%5D%2C%20%5B38.24%2C%20-85.71%2C%20335.0%5D%2C%20%5B38.24%2C%20-85.7%2C%20185.0%5D%2C%20%5B38.24%2C%20-85.69%2C%2024.0%5D%2C%20%5B38.24%2C%20-85.68%2C%204.0%5D%2C%20%5B38.24%2C%20-85.67%2C%2012.0%5D%2C%20%5B38.24%2C%20-85.66%2C%201.0%5D%2C%20%5B38.24%2C%20-85.65%2C%203.0%5D%2C%20%5B38.24%2C%20-85.64%2C%203.0%5D%2C%20%5B38.24%2C%20-85.63%2C%204.0%5D%2C%20%5B38.25%2C%20-85.83%2C%207.0%5D%2C%20%5B38.25%2C%20-85.82%2C%204.0%5D%2C%20%5B38.25%2C%20-85.81%2C%207.0%5D%2C%20%5B38.25%2C%20-85.8%2C%2015.0%5D%2C%20%5B38.25%2C%20-85.79%2C%2036.0%5D%2C%20%5B38.25%2C%20-85.78%2C%2049.0%5D%2C%20%5B38.25%2C%20-85.77%2C%20128.0%5D%2C%20%5B38.25%2C%20-85.76%2C%208494.0%5D%2C%20%5B38.25%2C%20-85.75%2C%204003.0%5D%2C%20%5B38.25%2C%20-85.74%2C%204248.0%5D%2C%20%5B38.25%2C%20-85.73%2C%201002.0%5D%2C%20%5B38.25%2C%20-85.72%2C%20201.0%5D%2C%20%5B38.25%2C%20-85.71%2C%20230.0%5D%2C%20%5B38.25%2C%20-85.7%2C%20416.0%5D%2C%20%5B38.25%2C%20-85.69%2C%20159.0%5D%2C%20%5B38.25%2C%20-85.68%2C%2021.0%5D%2C%20%5B38.25%2C%20-85.67%2C%2020.0%5D%2C%20%5B38.25%2C%20-85.66%2C%2047.0%5D%2C%20%5B38.25%2C%20-85.65%2C%2051.0%5D%2C%20%5B38.25%2C%20-85.63%2C%204.0%5D%2C%20%5B38.25%2C%20-85.62%2C%201.0%5D%2C%20%5B38.25%2C%20-85.61%2C%201.0%5D%2C%20%5B38.25%2C%20-85.58%2C%202.0%5D%2C%20%5B38.26%2C%20-85.82%2C%201.0%5D%2C%20%5B38.26%2C%20-85.81%2C%2013.0%5D%2C%20%5B38.26%2C%20-85.8%2C%2014.0%5D%2C%20%5B38.26%2C%20-85.79%2C%2020.0%5D%2C%20%5B38.26%2C%20-85.78%2C%2061.0%5D%2C%20%5B38.26%2C%20-85.77%2C%20280.0%5D%2C%20%5B38.26%2C%20-85.76%2C%206049.0%5D%2C%20%5B38.26%2C%20-85.75%2C%205162.0%5D%2C%20%5B38.26%2C%20-85.74%2C%201819.0%5D%2C%20%5B38.26%2C%20-85.73%2C%20602.0%5D%2C%20%5B38.26%2C%20-85.72%2C%20279.0%5D%2C%20%5B38.26%2C%20-85.71%2C%20144.0%5D%2C%20%5B38.26%2C%20-85.7%2C%2074.0%5D%2C%20%5B38.26%2C%20-85.69%2C%2018.0%5D%2C%20%5B38.26%2C%20-85.68%2C%2011.0%5D%2C%20%5B38.26%2C%20-85.67%2C%202.0%5D%2C%20%5B38.26%2C%20-85.65%2C%2010.0%5D%2C%20%5B38.26%2C%20-85.64%2C%202.0%5D%2C%20%5B38.26%2C%20-85.62%2C%201.0%5D%2C%20%5B38.27%2C%20-85.82%2C%201.0%5D%2C%20%5B38.27%2C%20-85.81%2C%202.0%5D%2C%20%5B38.27%2C%20-85.8%2C%203.0%5D%2C%20%5B38.27%2C%20-85.79%2C%2014.0%5D%2C%20%5B38.27%2C%20-85.78%2C%2044.0%5D%2C%20%5B38.27%2C%20-85.76%2C%204.0%5D%2C%20%5B38.27%2C%20-85.75%2C%2018.0%5D%2C%20%5B38.27%2C%20-85.74%2C%20207.0%5D%2C%20%5B38.27%2C%20-85.73%2C%2037.0%5D%2C%20%5B38.27%2C%20-85.72%2C%2068.0%5D%2C%20%5B38.27%2C%20-85.71%2C%2012.0%5D%2C%20%5B38.27%2C%20-85.7%2C%2011.0%5D%2C%20%5B38.27%2C%20-85.69%2C%201.0%5D%2C%20%5B38.27%2C%20-85.66%2C%201.0%5D%2C%20%5B38.27%2C%20-85.64%2C%204.0%5D%2C%20%5B38.27%2C%20-85.61%2C%203.0%5D%2C%20%5B38.27%2C%20-85.6%2C%201.0%5D%2C%20%5B38.27%2C%20-85.51%2C%201.0%5D%2C%20%5B38.28%2C%20-85.82%2C%205.0%5D%2C%20%5B38.28%2C%20-85.76%2C%204.0%5D%2C%20%5B38.28%2C%20-85.75%2C%203.0%5D%2C%20%5B38.28%2C%20-85.74%2C%203.0%5D%2C%20%5B38.28%2C%20-85.73%2C%2012.0%5D%2C%20%5B38.28%2C%20-85.72%2C%201.0%5D%2C%20%5B38.28%2C%20-85.7%2C%2016.0%5D%2C%20%5B38.28%2C%20-85.69%2C%201.0%5D%2C%20%5B38.28%2C%20-85.67%2C%201.0%5D%2C%20%5B38.28%2C%20-85.63%2C%202.0%5D%2C%20%5B38.29%2C%20-85.82%2C%202.0%5D%2C%20%5B38.29%2C%20-85.81%2C%201.0%5D%2C%20%5B38.29%2C%20-85.8%2C%204.0%5D%2C%20%5B38.29%2C%20-85.76%2C%201.0%5D%2C%20%5B38.29%2C%20-85.75%2C%201.0%5D%2C%20%5B38.29%2C%20-85.73%2C%201.0%5D%2C%20%5B38.29%2C%20-85.67%2C%201.0%5D%2C%20%5B38.3%2C%20-85.76%2C%201.0%5D%2C%20%5B38.3%2C%20-85.75%2C%201.0%5D%2C%20%5B38.3%2C%20-85.73%2C%201.0%5D%2C%20%5B38.3%2C%20-85.72%2C%201.0%5D%2C%20%5B38.31%2C%20-85.84%2C%201.0%5D%2C%20%5B38.31%2C%20-85.71%2C%201.0%5D%2C%20%5B38.32%2C%20-85.77%2C%204.0%5D%2C%20%5B38.32%2C%20-85.76%2C%201.0%5D%2C%20%5B38.33%2C%20-85.81%2C%201.0%5D%2C%20%5B38.33%2C%20-85.63%2C%204.0%5D%2C%20%5B38.34%2C%20-85.73%2C%204.0%5D%2C%20%5B38.34%2C%20-85.64%2C%201.0%5D%2C%20%5B40.8%2C%20-86.0%2C%201.0%5D%2C%20%5B41.3%2C%20-84.35%2C%201.0%5D%5D%2C%0A%20%20%20%20%20%20%20%20%20%20%20%20%20%20%20%20%7B%0A%20%20%20%20%20%20%20%20%20%20%20%20%20%20%20%20%20%20%20%20minOpacity%3A%200.5%2C%0A%20%20%20%20%20%20%20%20%20%20%20%20%20%20%20%20%20%20%20%20maxZoom%3A%2013%2C%0A%20%20%20%20%20%20%20%20%20%20%20%20%20%20%20%20%20%20%20%20max%3A%201.0%2C%0A%20%20%20%20%20%20%20%20%20%20%20%20%20%20%20%20%20%20%20%20radius%3A%208%2C%0A%20%20%20%20%20%20%20%20%20%20%20%20%20%20%20%20%20%20%20%20blur%3A%2015%2C%0A%20%20%20%20%20%20%20%20%20%20%20%20%20%20%20%20%20%20%20%20gradient%3A%20null%0A%20%20%20%20%20%20%20%20%20%20%20%20%20%20%20%20%20%20%20%20%7D%29%0A%20%20%20%20%20%20%20%20%20%20%20%20%20%20%20%20.addTo%28map_50b6241ce5094067994ff59da134b43a%29%3B%0A%20%20%20%20%20%20%20%20%0A%3C/script%3E onload=\"this.contentDocument.open();this.contentDocument.write(    decodeURIComponent(this.getAttribute('data-html')));this.contentDocument.close();\" allowfullscreen webkitallowfullscreen mozallowfullscreen></iframe></div></div>"
            ],
            "text/plain": [
              "<folium.folium.Map at 0x7f474c9734a8>"
            ]
          },
          "metadata": {
            "tags": []
          },
          "execution_count": 22
        }
      ]
    },
    {
      "cell_type": "code",
      "metadata": {
        "colab": {
          "base_uri": "https://localhost:8080/",
          "height": 838
        },
        "id": "nKBkkg90D3zb",
        "outputId": "d5662475-e48a-4f0f-ea9a-10dee6401b3c"
      },
      "source": [
        "# Company B: Heat Map to identify the concentration of starting dockless rides\n",
        "df_copy = df_company_b.copy()\n",
        "df_copy['count'] = 1\n",
        "base_map = generateBaseMap()\n",
        "\n",
        "HeatMap(data=df_copy[['start_latitude', 'start_longitude', 'count']].groupby(['start_latitude', 'start_longitude']).sum().reset_index().values.tolist(), radius=8, max_zoom=13).add_to(base_map)\n",
        "\n",
        "\n",
        "base_map"
      ],
      "execution_count": 29,
      "outputs": [
        {
          "output_type": "execute_result",
          "data": {
            "text/html": [
              "<div style=\"width:100%;\"><div style=\"position:relative;width:100%;height:0;padding-bottom:60%;\"><span style=\"color:#565656\">Make this Notebook Trusted to load map: File -> Trust Notebook</span><iframe src=\"about:blank\" style=\"position:absolute;width:100%;height:100%;left:0;top:0;border:none !important;\" data-html=%3C%21DOCTYPE%20html%3E%0A%3Chead%3E%20%20%20%20%0A%20%20%20%20%3Cmeta%20http-equiv%3D%22content-type%22%20content%3D%22text/html%3B%20charset%3DUTF-8%22%20/%3E%0A%20%20%20%20%3Cscript%3EL_PREFER_CANVAS%3Dfalse%3B%20L_NO_TOUCH%3Dfalse%3B%20L_DISABLE_3D%3Dfalse%3B%3C/script%3E%0A%20%20%20%20%3Cscript%20src%3D%22https%3A//cdn.jsdelivr.net/npm/leaflet%401.4.0/dist/leaflet.js%22%3E%3C/script%3E%0A%20%20%20%20%3Cscript%20src%3D%22https%3A//code.jquery.com/jquery-1.12.4.min.js%22%3E%3C/script%3E%0A%20%20%20%20%3Cscript%20src%3D%22https%3A//maxcdn.bootstrapcdn.com/bootstrap/3.2.0/js/bootstrap.min.js%22%3E%3C/script%3E%0A%20%20%20%20%3Cscript%20src%3D%22https%3A//cdnjs.cloudflare.com/ajax/libs/Leaflet.awesome-markers/2.0.2/leaflet.awesome-markers.js%22%3E%3C/script%3E%0A%20%20%20%20%3Clink%20rel%3D%22stylesheet%22%20href%3D%22https%3A//cdn.jsdelivr.net/npm/leaflet%401.4.0/dist/leaflet.css%22/%3E%0A%20%20%20%20%3Clink%20rel%3D%22stylesheet%22%20href%3D%22https%3A//maxcdn.bootstrapcdn.com/bootstrap/3.2.0/css/bootstrap.min.css%22/%3E%0A%20%20%20%20%3Clink%20rel%3D%22stylesheet%22%20href%3D%22https%3A//maxcdn.bootstrapcdn.com/bootstrap/3.2.0/css/bootstrap-theme.min.css%22/%3E%0A%20%20%20%20%3Clink%20rel%3D%22stylesheet%22%20href%3D%22https%3A//maxcdn.bootstrapcdn.com/font-awesome/4.6.3/css/font-awesome.min.css%22/%3E%0A%20%20%20%20%3Clink%20rel%3D%22stylesheet%22%20href%3D%22https%3A//cdnjs.cloudflare.com/ajax/libs/Leaflet.awesome-markers/2.0.2/leaflet.awesome-markers.css%22/%3E%0A%20%20%20%20%3Clink%20rel%3D%22stylesheet%22%20href%3D%22https%3A//rawcdn.githack.com/python-visualization/folium/master/folium/templates/leaflet.awesome.rotate.css%22/%3E%0A%20%20%20%20%3Cstyle%3Ehtml%2C%20body%20%7Bwidth%3A%20100%25%3Bheight%3A%20100%25%3Bmargin%3A%200%3Bpadding%3A%200%3B%7D%3C/style%3E%0A%20%20%20%20%3Cstyle%3E%23map%20%7Bposition%3Aabsolute%3Btop%3A0%3Bbottom%3A0%3Bright%3A0%3Bleft%3A0%3B%7D%3C/style%3E%0A%20%20%20%20%0A%20%20%20%20%3Cmeta%20name%3D%22viewport%22%20content%3D%22width%3Ddevice-width%2C%0A%20%20%20%20%20%20%20%20initial-scale%3D1.0%2C%20maximum-scale%3D1.0%2C%20user-scalable%3Dno%22%20/%3E%0A%20%20%20%20%3Cstyle%3E%23map_d27f31ab79da45e5acc3763e06595e8b%20%7B%0A%20%20%20%20%20%20%20%20position%3A%20relative%3B%0A%20%20%20%20%20%20%20%20width%3A%20100.0%25%3B%0A%20%20%20%20%20%20%20%20height%3A%20100.0%25%3B%0A%20%20%20%20%20%20%20%20left%3A%200.0%25%3B%0A%20%20%20%20%20%20%20%20top%3A%200.0%25%3B%0A%20%20%20%20%20%20%20%20%7D%0A%20%20%20%20%3C/style%3E%0A%20%20%20%20%3Cscript%20src%3D%22https%3A//leaflet.github.io/Leaflet.heat/dist/leaflet-heat.js%22%3E%3C/script%3E%0A%3C/head%3E%0A%3Cbody%3E%20%20%20%20%0A%20%20%20%20%0A%20%20%20%20%3Cdiv%20class%3D%22folium-map%22%20id%3D%22map_d27f31ab79da45e5acc3763e06595e8b%22%20%3E%3C/div%3E%0A%3C/body%3E%0A%3Cscript%3E%20%20%20%20%0A%20%20%20%20%0A%20%20%20%20%0A%20%20%20%20%20%20%20%20var%20bounds%20%3D%20null%3B%0A%20%20%20%20%0A%0A%20%20%20%20var%20map_d27f31ab79da45e5acc3763e06595e8b%20%3D%20L.map%28%0A%20%20%20%20%20%20%20%20%27map_d27f31ab79da45e5acc3763e06595e8b%27%2C%20%7B%0A%20%20%20%20%20%20%20%20center%3A%20%5B38.245%2C%20-85.7647%5D%2C%0A%20%20%20%20%20%20%20%20zoom%3A%2011%2C%0A%20%20%20%20%20%20%20%20maxBounds%3A%20bounds%2C%0A%20%20%20%20%20%20%20%20layers%3A%20%5B%5D%2C%0A%20%20%20%20%20%20%20%20worldCopyJump%3A%20false%2C%0A%20%20%20%20%20%20%20%20crs%3A%20L.CRS.EPSG3857%2C%0A%20%20%20%20%20%20%20%20zoomControl%3A%20true%2C%0A%20%20%20%20%20%20%20%20%7D%29%3B%0AL.control.scale%28%29.addTo%28map_d27f31ab79da45e5acc3763e06595e8b%29%3B%0A%0A%20%20%20%20%0A%20%20%20%20var%20tile_layer_484e1aa186c64cf699aed6e41e12a766%20%3D%20L.tileLayer%28%0A%20%20%20%20%20%20%20%20%27https%3A//%7Bs%7D.tile.openstreetmap.org/%7Bz%7D/%7Bx%7D/%7By%7D.png%27%2C%0A%20%20%20%20%20%20%20%20%7B%0A%20%20%20%20%20%20%20%20%22attribution%22%3A%20null%2C%0A%20%20%20%20%20%20%20%20%22detectRetina%22%3A%20false%2C%0A%20%20%20%20%20%20%20%20%22maxNativeZoom%22%3A%2018%2C%0A%20%20%20%20%20%20%20%20%22maxZoom%22%3A%2018%2C%0A%20%20%20%20%20%20%20%20%22minZoom%22%3A%200%2C%0A%20%20%20%20%20%20%20%20%22noWrap%22%3A%20false%2C%0A%20%20%20%20%20%20%20%20%22opacity%22%3A%201%2C%0A%20%20%20%20%20%20%20%20%22subdomains%22%3A%20%22abc%22%2C%0A%20%20%20%20%20%20%20%20%22tms%22%3A%20false%0A%7D%29.addTo%28map_d27f31ab79da45e5acc3763e06595e8b%29%3B%0A%20%20%20%20%0A%20%20%20%20%20%20%20%20%20%20%20%20var%20heat_map_981c4ba1136b4688ac54edf69179a36d%20%3D%20L.heatLayer%28%0A%20%20%20%20%20%20%20%20%20%20%20%20%20%20%20%20%5B%5B38.09%2C%20-85.56%2C%207.0%5D%2C%20%5B38.16%2C%20-85.73%2C%201.0%5D%2C%20%5B38.18%2C%20-85.77%2C%201.0%5D%2C%20%5B38.18%2C%20-85.75%2C%202.0%5D%2C%20%5B38.19%2C%20-85.81%2C%201.0%5D%2C%20%5B38.19%2C%20-85.79%2C%201.0%5D%2C%20%5B38.19%2C%20-85.78%2C%201.0%5D%2C%20%5B38.2%2C%20-85.79%2C%203.0%5D%2C%20%5B38.2%2C%20-85.78%2C%205.0%5D%2C%20%5B38.2%2C%20-85.77%2C%201.0%5D%2C%20%5B38.2%2C%20-85.76%2C%20127.0%5D%2C%20%5B38.2%2C%20-85.75%2C%206.0%5D%2C%20%5B38.2%2C%20-85.74%2C%202.0%5D%2C%20%5B38.21%2C%20-85.8%2C%201.0%5D%2C%20%5B38.21%2C%20-85.78%2C%206.0%5D%2C%20%5B38.21%2C%20-85.77%2C%2072.0%5D%2C%20%5B38.21%2C%20-85.76%2C%20778.0%5D%2C%20%5B38.21%2C%20-85.75%2C%20279.0%5D%2C%20%5B38.21%2C%20-85.74%2C%2031.0%5D%2C%20%5B38.21%2C%20-85.73%2C%202.0%5D%2C%20%5B38.21%2C%20-85.69%2C%203.0%5D%2C%20%5B38.21%2C%20-85.68%2C%201.0%5D%2C%20%5B38.22%2C%20-85.78%2C%202.0%5D%2C%20%5B38.22%2C%20-85.77%2C%20152.0%5D%2C%20%5B38.22%2C%20-85.76%2C%203014.0%5D%2C%20%5B38.22%2C%20-85.75%2C%20390.0%5D%2C%20%5B38.22%2C%20-85.74%2C%2032.0%5D%2C%20%5B38.22%2C%20-85.73%2C%201.0%5D%2C%20%5B38.22%2C%20-85.71%2C%206.0%5D%2C%20%5B38.22%2C%20-85.7%2C%2010.0%5D%2C%20%5B38.22%2C%20-85.69%2C%207.0%5D%2C%20%5B38.22%2C%20-85.67%2C%202.0%5D%2C%20%5B38.23%2C%20-85.81%2C%201.0%5D%2C%20%5B38.23%2C%20-85.78%2C%202.0%5D%2C%20%5B38.23%2C%20-85.77%2C%2087.0%5D%2C%20%5B38.23%2C%20-85.76%2C%20736.0%5D%2C%20%5B38.23%2C%20-85.75%2C%2099.0%5D%2C%20%5B38.23%2C%20-85.74%2C%2085.0%5D%2C%20%5B38.23%2C%20-85.73%2C%2017.0%5D%2C%20%5B38.23%2C%20-85.72%2C%2013.0%5D%2C%20%5B38.23%2C%20-85.71%2C%2088.0%5D%2C%20%5B38.23%2C%20-85.7%2C%2040.0%5D%2C%20%5B38.23%2C%20-85.69%2C%201.0%5D%2C%20%5B38.23%2C%20-85.68%2C%201.0%5D%2C%20%5B38.24%2C%20-85.78%2C%204.0%5D%2C%20%5B38.24%2C%20-85.77%2C%202.0%5D%2C%20%5B38.24%2C%20-85.76%2C%20230.0%5D%2C%20%5B38.24%2C%20-85.75%2C%206.0%5D%2C%20%5B38.24%2C%20-85.74%2C%209.0%5D%2C%20%5B38.24%2C%20-85.73%2C%20134.0%5D%2C%20%5B38.24%2C%20-85.72%2C%20501.0%5D%2C%20%5B38.24%2C%20-85.71%2C%207.0%5D%2C%20%5B38.24%2C%20-85.7%2C%203.0%5D%2C%20%5B38.24%2C%20-85.69%2C%204.0%5D%2C%20%5B38.25%2C%20-85.81%2C%201.0%5D%2C%20%5B38.25%2C%20-85.8%2C%201.0%5D%2C%20%5B38.25%2C%20-85.78%2C%202.0%5D%2C%20%5B38.25%2C%20-85.77%2C%206.0%5D%2C%20%5B38.25%2C%20-85.76%2C%20858.0%5D%2C%20%5B38.25%2C%20-85.75%2C%20366.0%5D%2C%20%5B38.25%2C%20-85.74%2C%20227.0%5D%2C%20%5B38.25%2C%20-85.73%2C%2079.0%5D%2C%20%5B38.25%2C%20-85.72%2C%203.0%5D%2C%20%5B38.25%2C%20-85.7%2C%206.0%5D%2C%20%5B38.25%2C%20-85.69%2C%202.0%5D%2C%20%5B38.25%2C%20-85.66%2C%203.0%5D%2C%20%5B38.25%2C%20-85.65%2C%208.0%5D%2C%20%5B38.26%2C%20-85.81%2C%202.0%5D%2C%20%5B38.26%2C%20-85.78%2C%2013.0%5D%2C%20%5B38.26%2C%20-85.77%2C%2017.0%5D%2C%20%5B38.26%2C%20-85.76%2C%201307.0%5D%2C%20%5B38.26%2C%20-85.75%2C%20486.0%5D%2C%20%5B38.26%2C%20-85.74%2C%20122.0%5D%2C%20%5B38.26%2C%20-85.73%2C%2018.0%5D%2C%20%5B38.26%2C%20-85.72%2C%204.0%5D%2C%20%5B38.26%2C%20-85.68%2C%202.0%5D%2C%20%5B38.27%2C%20-85.79%2C%201.0%5D%2C%20%5B38.27%2C%20-85.78%2C%2010.0%5D%2C%20%5B38.27%2C%20-85.74%2C%209.0%5D%2C%20%5B38.27%2C%20-85.72%2C%203.0%5D%2C%20%5B38.27%2C%20-85.69%2C%202.0%5D%2C%20%5B38.31%2C%20-85.58%2C%201.0%5D%2C%20%5B38.32%2C%20-85.63%2C%202.0%5D%5D%2C%0A%20%20%20%20%20%20%20%20%20%20%20%20%20%20%20%20%7B%0A%20%20%20%20%20%20%20%20%20%20%20%20%20%20%20%20%20%20%20%20minOpacity%3A%200.5%2C%0A%20%20%20%20%20%20%20%20%20%20%20%20%20%20%20%20%20%20%20%20maxZoom%3A%2013%2C%0A%20%20%20%20%20%20%20%20%20%20%20%20%20%20%20%20%20%20%20%20max%3A%201.0%2C%0A%20%20%20%20%20%20%20%20%20%20%20%20%20%20%20%20%20%20%20%20radius%3A%208%2C%0A%20%20%20%20%20%20%20%20%20%20%20%20%20%20%20%20%20%20%20%20blur%3A%2015%2C%0A%20%20%20%20%20%20%20%20%20%20%20%20%20%20%20%20%20%20%20%20gradient%3A%20null%0A%20%20%20%20%20%20%20%20%20%20%20%20%20%20%20%20%20%20%20%20%7D%29%0A%20%20%20%20%20%20%20%20%20%20%20%20%20%20%20%20.addTo%28map_d27f31ab79da45e5acc3763e06595e8b%29%3B%0A%20%20%20%20%20%20%20%20%0A%3C/script%3E onload=\"this.contentDocument.open();this.contentDocument.write(    decodeURIComponent(this.getAttribute('data-html')));this.contentDocument.close();\" allowfullscreen webkitallowfullscreen mozallowfullscreen></iframe></div></div>"
            ],
            "text/plain": [
              "<folium.folium.Map at 0x7f474b9b7cc0>"
            ]
          },
          "metadata": {
            "tags": []
          },
          "execution_count": 29
        }
      ]
    },
    {
      "cell_type": "code",
      "metadata": {
        "colab": {
          "base_uri": "https://localhost:8080/",
          "height": 838
        },
        "id": "dL5i7sGYMcbo",
        "outputId": "7efd08fa-1175-4b89-f07d-55f5477352db"
      },
      "source": [
        "# Company B: Heat Map to identify the concentration of ending dockless rides\n",
        "df_copy = df_company_b.copy()\n",
        "df_copy['count'] = 1\n",
        "base_map = generateBaseMap()\n",
        "\n",
        "HeatMap(data=df_copy[['end_latitude', 'end_longitude', 'count']].groupby(['end_latitude', 'end_longitude']).sum().reset_index().values.tolist(), radius=8, max_zoom=13).add_to(base_map)\n",
        "\n",
        "base_map"
      ],
      "execution_count": 30,
      "outputs": [
        {
          "output_type": "execute_result",
          "data": {
            "text/html": [
              "<div style=\"width:100%;\"><div style=\"position:relative;width:100%;height:0;padding-bottom:60%;\"><span style=\"color:#565656\">Make this Notebook Trusted to load map: File -> Trust Notebook</span><iframe src=\"about:blank\" style=\"position:absolute;width:100%;height:100%;left:0;top:0;border:none !important;\" data-html=%3C%21DOCTYPE%20html%3E%0A%3Chead%3E%20%20%20%20%0A%20%20%20%20%3Cmeta%20http-equiv%3D%22content-type%22%20content%3D%22text/html%3B%20charset%3DUTF-8%22%20/%3E%0A%20%20%20%20%3Cscript%3EL_PREFER_CANVAS%3Dfalse%3B%20L_NO_TOUCH%3Dfalse%3B%20L_DISABLE_3D%3Dfalse%3B%3C/script%3E%0A%20%20%20%20%3Cscript%20src%3D%22https%3A//cdn.jsdelivr.net/npm/leaflet%401.4.0/dist/leaflet.js%22%3E%3C/script%3E%0A%20%20%20%20%3Cscript%20src%3D%22https%3A//code.jquery.com/jquery-1.12.4.min.js%22%3E%3C/script%3E%0A%20%20%20%20%3Cscript%20src%3D%22https%3A//maxcdn.bootstrapcdn.com/bootstrap/3.2.0/js/bootstrap.min.js%22%3E%3C/script%3E%0A%20%20%20%20%3Cscript%20src%3D%22https%3A//cdnjs.cloudflare.com/ajax/libs/Leaflet.awesome-markers/2.0.2/leaflet.awesome-markers.js%22%3E%3C/script%3E%0A%20%20%20%20%3Clink%20rel%3D%22stylesheet%22%20href%3D%22https%3A//cdn.jsdelivr.net/npm/leaflet%401.4.0/dist/leaflet.css%22/%3E%0A%20%20%20%20%3Clink%20rel%3D%22stylesheet%22%20href%3D%22https%3A//maxcdn.bootstrapcdn.com/bootstrap/3.2.0/css/bootstrap.min.css%22/%3E%0A%20%20%20%20%3Clink%20rel%3D%22stylesheet%22%20href%3D%22https%3A//maxcdn.bootstrapcdn.com/bootstrap/3.2.0/css/bootstrap-theme.min.css%22/%3E%0A%20%20%20%20%3Clink%20rel%3D%22stylesheet%22%20href%3D%22https%3A//maxcdn.bootstrapcdn.com/font-awesome/4.6.3/css/font-awesome.min.css%22/%3E%0A%20%20%20%20%3Clink%20rel%3D%22stylesheet%22%20href%3D%22https%3A//cdnjs.cloudflare.com/ajax/libs/Leaflet.awesome-markers/2.0.2/leaflet.awesome-markers.css%22/%3E%0A%20%20%20%20%3Clink%20rel%3D%22stylesheet%22%20href%3D%22https%3A//rawcdn.githack.com/python-visualization/folium/master/folium/templates/leaflet.awesome.rotate.css%22/%3E%0A%20%20%20%20%3Cstyle%3Ehtml%2C%20body%20%7Bwidth%3A%20100%25%3Bheight%3A%20100%25%3Bmargin%3A%200%3Bpadding%3A%200%3B%7D%3C/style%3E%0A%20%20%20%20%3Cstyle%3E%23map%20%7Bposition%3Aabsolute%3Btop%3A0%3Bbottom%3A0%3Bright%3A0%3Bleft%3A0%3B%7D%3C/style%3E%0A%20%20%20%20%0A%20%20%20%20%3Cmeta%20name%3D%22viewport%22%20content%3D%22width%3Ddevice-width%2C%0A%20%20%20%20%20%20%20%20initial-scale%3D1.0%2C%20maximum-scale%3D1.0%2C%20user-scalable%3Dno%22%20/%3E%0A%20%20%20%20%3Cstyle%3E%23map_c200d45ccb75491997a368c69ba364f5%20%7B%0A%20%20%20%20%20%20%20%20position%3A%20relative%3B%0A%20%20%20%20%20%20%20%20width%3A%20100.0%25%3B%0A%20%20%20%20%20%20%20%20height%3A%20100.0%25%3B%0A%20%20%20%20%20%20%20%20left%3A%200.0%25%3B%0A%20%20%20%20%20%20%20%20top%3A%200.0%25%3B%0A%20%20%20%20%20%20%20%20%7D%0A%20%20%20%20%3C/style%3E%0A%20%20%20%20%3Cscript%20src%3D%22https%3A//leaflet.github.io/Leaflet.heat/dist/leaflet-heat.js%22%3E%3C/script%3E%0A%3C/head%3E%0A%3Cbody%3E%20%20%20%20%0A%20%20%20%20%0A%20%20%20%20%3Cdiv%20class%3D%22folium-map%22%20id%3D%22map_c200d45ccb75491997a368c69ba364f5%22%20%3E%3C/div%3E%0A%3C/body%3E%0A%3Cscript%3E%20%20%20%20%0A%20%20%20%20%0A%20%20%20%20%0A%20%20%20%20%20%20%20%20var%20bounds%20%3D%20null%3B%0A%20%20%20%20%0A%0A%20%20%20%20var%20map_c200d45ccb75491997a368c69ba364f5%20%3D%20L.map%28%0A%20%20%20%20%20%20%20%20%27map_c200d45ccb75491997a368c69ba364f5%27%2C%20%7B%0A%20%20%20%20%20%20%20%20center%3A%20%5B38.245%2C%20-85.7647%5D%2C%0A%20%20%20%20%20%20%20%20zoom%3A%2011%2C%0A%20%20%20%20%20%20%20%20maxBounds%3A%20bounds%2C%0A%20%20%20%20%20%20%20%20layers%3A%20%5B%5D%2C%0A%20%20%20%20%20%20%20%20worldCopyJump%3A%20false%2C%0A%20%20%20%20%20%20%20%20crs%3A%20L.CRS.EPSG3857%2C%0A%20%20%20%20%20%20%20%20zoomControl%3A%20true%2C%0A%20%20%20%20%20%20%20%20%7D%29%3B%0AL.control.scale%28%29.addTo%28map_c200d45ccb75491997a368c69ba364f5%29%3B%0A%0A%20%20%20%20%0A%20%20%20%20var%20tile_layer_a5c68310cd124dc7b9a899a72989e26e%20%3D%20L.tileLayer%28%0A%20%20%20%20%20%20%20%20%27https%3A//%7Bs%7D.tile.openstreetmap.org/%7Bz%7D/%7Bx%7D/%7By%7D.png%27%2C%0A%20%20%20%20%20%20%20%20%7B%0A%20%20%20%20%20%20%20%20%22attribution%22%3A%20null%2C%0A%20%20%20%20%20%20%20%20%22detectRetina%22%3A%20false%2C%0A%20%20%20%20%20%20%20%20%22maxNativeZoom%22%3A%2018%2C%0A%20%20%20%20%20%20%20%20%22maxZoom%22%3A%2018%2C%0A%20%20%20%20%20%20%20%20%22minZoom%22%3A%200%2C%0A%20%20%20%20%20%20%20%20%22noWrap%22%3A%20false%2C%0A%20%20%20%20%20%20%20%20%22opacity%22%3A%201%2C%0A%20%20%20%20%20%20%20%20%22subdomains%22%3A%20%22abc%22%2C%0A%20%20%20%20%20%20%20%20%22tms%22%3A%20false%0A%7D%29.addTo%28map_c200d45ccb75491997a368c69ba364f5%29%3B%0A%20%20%20%20%0A%20%20%20%20%20%20%20%20%20%20%20%20var%20heat_map_11d626a6e18c4aaba3668067e16ee22a%20%3D%20L.heatLayer%28%0A%20%20%20%20%20%20%20%20%20%20%20%20%20%20%20%20%5B%5B19.42%2C%20-99.16%2C%201.0%5D%2C%20%5B26.12%2C%20-80.15%2C%201.0%5D%2C%20%5B33.42%2C%20-111.94%2C%201.0%5D%2C%20%5B37.34%2C%20-121.89%2C%201.0%5D%2C%20%5B38.09%2C%20-85.56%2C%207.0%5D%2C%20%5B38.14%2C%20-85.77%2C%203.0%5D%2C%20%5B38.15%2C%20-85.76%2C%201.0%5D%2C%20%5B38.16%2C%20-85.77%2C%201.0%5D%2C%20%5B38.16%2C%20-85.73%2C%201.0%5D%2C%20%5B38.17%2C%20-85.78%2C%201.0%5D%2C%20%5B38.18%2C%20-85.77%2C%203.0%5D%2C%20%5B38.18%2C%20-85.75%2C%201.0%5D%2C%20%5B38.19%2C%20-85.81%2C%202.0%5D%2C%20%5B38.19%2C%20-85.79%2C%205.0%5D%2C%20%5B38.19%2C%20-85.78%2C%201.0%5D%2C%20%5B38.19%2C%20-85.77%2C%201.0%5D%2C%20%5B38.19%2C%20-85.76%2C%201.0%5D%2C%20%5B38.2%2C%20-85.84%2C%202.0%5D%2C%20%5B38.2%2C%20-85.79%2C%205.0%5D%2C%20%5B38.2%2C%20-85.78%2C%2013.0%5D%2C%20%5B38.2%2C%20-85.76%2C%20207.0%5D%2C%20%5B38.2%2C%20-85.75%2C%209.0%5D%2C%20%5B38.2%2C%20-85.74%2C%203.0%5D%2C%20%5B38.2%2C%20-85.69%2C%201.0%5D%2C%20%5B38.21%2C%20-85.8%2C%203.0%5D%2C%20%5B38.21%2C%20-85.78%2C%2011.0%5D%2C%20%5B38.21%2C%20-85.77%2C%20122.0%5D%2C%20%5B38.21%2C%20-85.76%2C%20753.0%5D%2C%20%5B38.21%2C%20-85.75%2C%20281.0%5D%2C%20%5B38.21%2C%20-85.74%2C%2030.0%5D%2C%20%5B38.21%2C%20-85.73%2C%202.0%5D%2C%20%5B38.21%2C%20-85.71%2C%201.0%5D%2C%20%5B38.21%2C%20-85.69%2C%205.0%5D%2C%20%5B38.21%2C%20-85.68%2C%201.0%5D%2C%20%5B38.22%2C%20-85.78%2C%202.0%5D%2C%20%5B38.22%2C%20-85.77%2C%20254.0%5D%2C%20%5B38.22%2C%20-85.76%2C%202660.0%5D%2C%20%5B38.22%2C%20-85.75%2C%20382.0%5D%2C%20%5B38.22%2C%20-85.74%2C%2037.0%5D%2C%20%5B38.22%2C%20-85.73%2C%201.0%5D%2C%20%5B38.22%2C%20-85.71%2C%2012.0%5D%2C%20%5B38.22%2C%20-85.7%2C%208.0%5D%2C%20%5B38.22%2C%20-85.69%2C%2015.0%5D%2C%20%5B38.22%2C%20-85.67%2C%202.0%5D%2C%20%5B38.23%2C%20-85.81%2C%204.0%5D%2C%20%5B38.23%2C%20-85.79%2C%201.0%5D%2C%20%5B38.23%2C%20-85.78%2C%204.0%5D%2C%20%5B38.23%2C%20-85.77%2C%20126.0%5D%2C%20%5B38.23%2C%20-85.76%2C%20679.0%5D%2C%20%5B38.23%2C%20-85.75%2C%20146.0%5D%2C%20%5B38.23%2C%20-85.74%2C%20110.0%5D%2C%20%5B38.23%2C%20-85.73%2C%2035.0%5D%2C%20%5B38.23%2C%20-85.72%2C%2029.0%5D%2C%20%5B38.23%2C%20-85.71%2C%2096.0%5D%2C%20%5B38.23%2C%20-85.7%2C%2054.0%5D%2C%20%5B38.23%2C%20-85.69%2C%202.0%5D%2C%20%5B38.23%2C%20-85.68%2C%203.0%5D%2C%20%5B38.24%2C%20-85.79%2C%201.0%5D%2C%20%5B38.24%2C%20-85.78%2C%205.0%5D%2C%20%5B38.24%2C%20-85.77%2C%206.0%5D%2C%20%5B38.24%2C%20-85.76%2C%20207.0%5D%2C%20%5B38.24%2C%20-85.75%2C%2024.0%5D%2C%20%5B38.24%2C%20-85.74%2C%2025.0%5D%2C%20%5B38.24%2C%20-85.73%2C%20131.0%5D%2C%20%5B38.24%2C%20-85.72%2C%20390.0%5D%2C%20%5B38.24%2C%20-85.71%2C%2020.0%5D%2C%20%5B38.24%2C%20-85.7%2C%2012.0%5D%2C%20%5B38.24%2C%20-85.69%2C%205.0%5D%2C%20%5B38.24%2C%20-85.65%2C%201.0%5D%2C%20%5B38.24%2C%20-85.64%2C%201.0%5D%2C%20%5B38.25%2C%20-85.81%2C%207.0%5D%2C%20%5B38.25%2C%20-85.8%2C%201.0%5D%2C%20%5B38.25%2C%20-85.79%2C%202.0%5D%2C%20%5B38.25%2C%20-85.78%2C%204.0%5D%2C%20%5B38.25%2C%20-85.77%2C%2014.0%5D%2C%20%5B38.25%2C%20-85.76%2C%20891.0%5D%2C%20%5B38.25%2C%20-85.75%2C%20426.0%5D%2C%20%5B38.25%2C%20-85.74%2C%20241.0%5D%2C%20%5B38.25%2C%20-85.73%2C%2082.0%5D%2C%20%5B38.25%2C%20-85.72%2C%2013.0%5D%2C%20%5B38.25%2C%20-85.71%2C%201.0%5D%2C%20%5B38.25%2C%20-85.7%2C%2012.0%5D%2C%20%5B38.25%2C%20-85.69%2C%207.0%5D%2C%20%5B38.25%2C%20-85.68%2C%202.0%5D%2C%20%5B38.25%2C%20-85.66%2C%206.0%5D%2C%20%5B38.25%2C%20-85.65%2C%204.0%5D%2C%20%5B38.25%2C%20-85.62%2C%203.0%5D%2C%20%5B38.26%2C%20-85.81%2C%205.0%5D%2C%20%5B38.26%2C%20-85.8%2C%202.0%5D%2C%20%5B38.26%2C%20-85.79%2C%202.0%5D%2C%20%5B38.26%2C%20-85.78%2C%2020.0%5D%2C%20%5B38.26%2C%20-85.77%2C%2039.0%5D%2C%20%5B38.26%2C%20-85.76%2C%201045.0%5D%2C%20%5B38.26%2C%20-85.75%2C%20495.0%5D%2C%20%5B38.26%2C%20-85.74%2C%20163.0%5D%2C%20%5B38.26%2C%20-85.73%2C%2031.0%5D%2C%20%5B38.26%2C%20-85.72%2C%205.0%5D%2C%20%5B38.26%2C%20-85.71%2C%201.0%5D%2C%20%5B38.26%2C%20-85.7%2C%209.0%5D%2C%20%5B38.26%2C%20-85.68%2C%204.0%5D%2C%20%5B38.26%2C%20-85.67%2C%201.0%5D%2C%20%5B38.26%2C%20-85.65%2C%201.0%5D%2C%20%5B38.27%2C%20-85.81%2C%203.0%5D%2C%20%5B38.27%2C%20-85.79%2C%201.0%5D%2C%20%5B38.27%2C%20-85.78%2C%2024.0%5D%2C%20%5B38.27%2C%20-85.75%2C%203.0%5D%2C%20%5B38.27%2C%20-85.74%2C%2021.0%5D%2C%20%5B38.27%2C%20-85.73%2C%201.0%5D%2C%20%5B38.27%2C%20-85.72%2C%204.0%5D%2C%20%5B38.27%2C%20-85.7%2C%201.0%5D%2C%20%5B38.27%2C%20-85.69%2C%202.0%5D%2C%20%5B38.28%2C%20-85.79%2C%201.0%5D%2C%20%5B38.3%2C%20-85.57%2C%201.0%5D%2C%20%5B38.31%2C%20-85.58%2C%202.0%5D%2C%20%5B39.53%2C%20-119.81%2C%201.0%5D%2C%20%5B48.84%2C%202.36%2C%201.0%5D%2C%20%5B48.86%2C%202.32%2C%201.0%5D%2C%20%5B48.86%2C%202.33%2C%201.0%5D%5D%2C%0A%20%20%20%20%20%20%20%20%20%20%20%20%20%20%20%20%7B%0A%20%20%20%20%20%20%20%20%20%20%20%20%20%20%20%20%20%20%20%20minOpacity%3A%200.5%2C%0A%20%20%20%20%20%20%20%20%20%20%20%20%20%20%20%20%20%20%20%20maxZoom%3A%2013%2C%0A%20%20%20%20%20%20%20%20%20%20%20%20%20%20%20%20%20%20%20%20max%3A%201.0%2C%0A%20%20%20%20%20%20%20%20%20%20%20%20%20%20%20%20%20%20%20%20radius%3A%208%2C%0A%20%20%20%20%20%20%20%20%20%20%20%20%20%20%20%20%20%20%20%20blur%3A%2015%2C%0A%20%20%20%20%20%20%20%20%20%20%20%20%20%20%20%20%20%20%20%20gradient%3A%20null%0A%20%20%20%20%20%20%20%20%20%20%20%20%20%20%20%20%20%20%20%20%7D%29%0A%20%20%20%20%20%20%20%20%20%20%20%20%20%20%20%20.addTo%28map_c200d45ccb75491997a368c69ba364f5%29%3B%0A%20%20%20%20%20%20%20%20%0A%3C/script%3E onload=\"this.contentDocument.open();this.contentDocument.write(    decodeURIComponent(this.getAttribute('data-html')));this.contentDocument.close();\" allowfullscreen webkitallowfullscreen mozallowfullscreen></iframe></div></div>"
            ],
            "text/plain": [
              "<folium.folium.Map at 0x7f474b98e438>"
            ]
          },
          "metadata": {
            "tags": []
          },
          "execution_count": 30
        }
      ]
    },
    {
      "cell_type": "markdown",
      "metadata": {
        "id": "qdjXPfCZY5st"
      },
      "source": [
        "## Data Preparation and Cleaning"
      ]
    },
    {
      "cell_type": "markdown",
      "metadata": {
        "id": "5NRa7wyApPQc"
      },
      "source": [
        "To summarize what we need to do in data cleaning section\n",
        "\n",
        "* Remove missing values \n",
        "\n",
        "* Handle missing values\n",
        "  * Trips wiht 0 trip distance shown in dataset as well as 0 approximated Haversine distance by given coordinates\n",
        "  * The data also shows there some outliers that certainly are not possible, such as Paris-France, Tempe-Arizona, Ciudad de México, México. These outliers should be removed.\n",
        "\n",
        "* Adjust TripDistance by incremental factor\n",
        "  * The Haversine distance are close to a stright line distance. To use that as a proxy of trip distance is a bit under-estimated (trips are typically following Manhattan distance)\n",
        "  * To acheive a relatively reasonable approximation (close enough to reality), I applied a 20% incremental factor on top of the approximated Haversine distance (the reasoning also stated in the Assumption section at the beginning)\n",
        "\n",
        "* Unify distance unit\n",
        "  * Unlike `distance_meters` in `df_company_a`, `TripDistance` in `df_company_b` hasn't indicated it's unit\n",
        "  * As we are analyzing operations in US, converting distance unit to *mile* would be more sensible and audience friendly"
      ]
    },
    {
      "cell_type": "markdown",
      "metadata": {
        "id": "HoLAMyiL3yi4"
      },
      "source": [
        "### Handle Missing Values"
      ]
    },
    {
      "cell_type": "code",
      "metadata": {
        "id": "ZYDzMd3OVv65"
      },
      "source": [
        "df_company_a_clean = df_company_a.dropna()"
      ],
      "execution_count": 31,
      "outputs": []
    },
    {
      "cell_type": "markdown",
      "metadata": {
        "id": "SXahUkQOAPeh"
      },
      "source": [
        "### Approximate trip distance by coordinates (Haversine distance)"
      ]
    },
    {
      "cell_type": "code",
      "metadata": {
        "colab": {
          "base_uri": "https://localhost:8080/"
        },
        "id": "Pgpgze3QTOIE",
        "outputId": "8a7a9f93-6776-40ac-b10c-14fa0818fc5e"
      },
      "source": [
        "df_company_a_clean[\"approximated_distance\"] = approximateDistance(df_company_a_clean)"
      ],
      "execution_count": 32,
      "outputs": [
        {
          "output_type": "stream",
          "text": [
            "/usr/local/lib/python3.6/dist-packages/ipykernel_launcher.py:1: SettingWithCopyWarning:\n",
            "\n",
            "\n",
            "A value is trying to be set on a copy of a slice from a DataFrame.\n",
            "Try using .loc[row_indexer,col_indexer] = value instead\n",
            "\n",
            "See the caveats in the documentation: https://pandas.pydata.org/pandas-docs/stable/user_guide/indexing.html#returning-a-view-versus-a-copy\n",
            "\n"
          ],
          "name": "stderr"
        }
      ]
    },
    {
      "cell_type": "markdown",
      "metadata": {
        "id": "UhFnnSswJwv0"
      },
      "source": [
        "### Handle Outliers and error data #1\n",
        "\n",
        "*   List item\n",
        "*   List item\n",
        "\n"
      ]
    },
    {
      "cell_type": "markdown",
      "metadata": {
        "id": "6HZti2rlRtOh"
      },
      "source": [
        "We were able to find out some outliers from the above two sections under `Exploratory Analysis`, and we will remove the outliers in this section\n",
        "\n",
        "* **Distributions of distance**:\n",
        "    * For Company A, trips with 0 trip distance as well as 0 approximated distance\n",
        "\n",
        "* **Geographical location**:\n",
        "    * For both Company A and Company B, trips that are far away from the suburb range of Louisville, KY."
      ]
    },
    {
      "cell_type": "code",
      "metadata": {
        "id": "frIJzLj3RkHk"
      },
      "source": [
        "# Remove trips with 0 trip distance and 0 approximated distance\n",
        "df_company_a_clean = df_company_a_clean.loc[(df_company_a_clean[\"TripDistance\"] != 0) | (df_company_a_clean[\"approximated_distance\"] != 0)]"
      ],
      "execution_count": 33,
      "outputs": []
    },
    {
      "cell_type": "code",
      "metadata": {
        "id": "EYQK86UfEM-H"
      },
      "source": [
        "# remove outlier coordinates\n",
        "df_company_a_clean = df_company_a_clean.loc[\n",
        "                        (df_company_a_clean[\"EndLatitude\"] < 39)\n",
        "                      & (df_company_a_clean[\"EndLatitude\"] > 38)\n",
        "                      & (df_company_a_clean[\"EndLongitude\"] < -85) \n",
        "                      & (df_company_a_clean[\"EndLongitude\"] > -86)]"
      ],
      "execution_count": 34,
      "outputs": []
    },
    {
      "cell_type": "code",
      "metadata": {
        "colab": {
          "base_uri": "https://localhost:8080/",
          "height": 479
        },
        "id": "njWaiFREeQXg",
        "outputId": "6b2e349a-42e6-4cc8-926e-8aeb363d412a"
      },
      "source": [
        "# trips with trip distance smaller than the approximated distance\n",
        "df_company_a_clean[round(df_company_a_clean[\"approximated_distance\"],2) > round(df_company_a_clean[\"TripDistance\"],2)].head()"
      ],
      "execution_count": null,
      "outputs": [
        {
          "output_type": "execute_result",
          "data": {
            "text/html": [
              "<div>\n",
              "<style scoped>\n",
              "    .dataframe tbody tr th:only-of-type {\n",
              "        vertical-align: middle;\n",
              "    }\n",
              "\n",
              "    .dataframe tbody tr th {\n",
              "        vertical-align: top;\n",
              "    }\n",
              "\n",
              "    .dataframe thead th {\n",
              "        text-align: right;\n",
              "    }\n",
              "</style>\n",
              "<table border=\"1\" class=\"dataframe\">\n",
              "  <thead>\n",
              "    <tr style=\"text-align: right;\">\n",
              "      <th></th>\n",
              "      <th>TripID</th>\n",
              "      <th>ScooterID</th>\n",
              "      <th>StartTime</th>\n",
              "      <th>EndTime</th>\n",
              "      <th>StartLatitude</th>\n",
              "      <th>StartLongitude</th>\n",
              "      <th>EndLatitude</th>\n",
              "      <th>EndLongitude</th>\n",
              "      <th>TripDistance</th>\n",
              "      <th>start_coordinates</th>\n",
              "      <th>end_coordinates</th>\n",
              "      <th>approximated_distance</th>\n",
              "    </tr>\n",
              "  </thead>\n",
              "  <tbody>\n",
              "    <tr>\n",
              "      <th>4</th>\n",
              "      <td>d05bf0bb-f6ee-489e-a32c-a93e15b626f8</td>\n",
              "      <td>e398ff1b-5d6b-4f15-b493-a988c7ab07b6</td>\n",
              "      <td>8/9/18 10:41</td>\n",
              "      <td>8/9/18 10:47</td>\n",
              "      <td>38.26</td>\n",
              "      <td>-85.75</td>\n",
              "      <td>38.26</td>\n",
              "      <td>-85.76</td>\n",
              "      <td>0.35</td>\n",
              "      <td>(38.26, -85.75)</td>\n",
              "      <td>(38.26, -85.76)</td>\n",
              "      <td>0.543833</td>\n",
              "    </tr>\n",
              "    <tr>\n",
              "      <th>21</th>\n",
              "      <td>295c05a4-4de8-4eaa-a348-d82e8d074c2b</td>\n",
              "      <td>47797a69-52df-4dea-ab79-54083930ae12</td>\n",
              "      <td>8/9/18 11:18</td>\n",
              "      <td>8/9/18 11:25</td>\n",
              "      <td>38.25</td>\n",
              "      <td>-85.76</td>\n",
              "      <td>38.26</td>\n",
              "      <td>-85.76</td>\n",
              "      <td>0.60</td>\n",
              "      <td>(38.25, -85.76)</td>\n",
              "      <td>(38.26, -85.76)</td>\n",
              "      <td>0.689730</td>\n",
              "    </tr>\n",
              "    <tr>\n",
              "      <th>22</th>\n",
              "      <td>c5eddf4d-a0a8-46b1-8f57-998e395d1741</td>\n",
              "      <td>286a5134-e0c9-4f09-b918-659b63e2b253</td>\n",
              "      <td>8/9/18 11:19</td>\n",
              "      <td>8/9/18 11:25</td>\n",
              "      <td>38.25</td>\n",
              "      <td>-85.75</td>\n",
              "      <td>38.26</td>\n",
              "      <td>-85.75</td>\n",
              "      <td>0.53</td>\n",
              "      <td>(38.25, -85.75)</td>\n",
              "      <td>(38.26, -85.75)</td>\n",
              "      <td>0.689730</td>\n",
              "    </tr>\n",
              "    <tr>\n",
              "      <th>23</th>\n",
              "      <td>65f3dc7a-148e-4142-bd81-b2b6d1cbf0c7</td>\n",
              "      <td>e36c96a1-8f71-4f47-96cc-b6c9a62e89fa</td>\n",
              "      <td>8/9/18 11:19</td>\n",
              "      <td>8/9/18 11:26</td>\n",
              "      <td>38.25</td>\n",
              "      <td>-85.76</td>\n",
              "      <td>38.26</td>\n",
              "      <td>-85.76</td>\n",
              "      <td>0.56</td>\n",
              "      <td>(38.25, -85.76)</td>\n",
              "      <td>(38.26, -85.76)</td>\n",
              "      <td>0.689730</td>\n",
              "    </tr>\n",
              "    <tr>\n",
              "      <th>25</th>\n",
              "      <td>aa03c0bf-25e4-43dc-bc36-9b8078508cfa</td>\n",
              "      <td>c0edeabd-f51c-44de-b1d7-6c104773e188</td>\n",
              "      <td>8/9/18 11:19</td>\n",
              "      <td>8/9/18 11:25</td>\n",
              "      <td>38.25</td>\n",
              "      <td>-85.75</td>\n",
              "      <td>38.26</td>\n",
              "      <td>-85.75</td>\n",
              "      <td>0.50</td>\n",
              "      <td>(38.25, -85.75)</td>\n",
              "      <td>(38.26, -85.75)</td>\n",
              "      <td>0.689730</td>\n",
              "    </tr>\n",
              "  </tbody>\n",
              "</table>\n",
              "</div>"
            ],
            "text/plain": [
              "                                  TripID  ... approximated_distance\n",
              "4   d05bf0bb-f6ee-489e-a32c-a93e15b626f8  ...              0.543833\n",
              "21  295c05a4-4de8-4eaa-a348-d82e8d074c2b  ...              0.689730\n",
              "22  c5eddf4d-a0a8-46b1-8f57-998e395d1741  ...              0.689730\n",
              "23  65f3dc7a-148e-4142-bd81-b2b6d1cbf0c7  ...              0.689730\n",
              "25  aa03c0bf-25e4-43dc-bc36-9b8078508cfa  ...              0.689730\n",
              "\n",
              "[5 rows x 12 columns]"
            ]
          },
          "metadata": {
            "tags": []
          },
          "execution_count": 164
        }
      ]
    },
    {
      "cell_type": "markdown",
      "metadata": {
        "id": "7-qt1gZQfTeH"
      },
      "source": [
        "### Adjust TripDistance by incremental factor"
      ]
    },
    {
      "cell_type": "code",
      "metadata": {
        "id": "XWE1NdgbiL9v"
      },
      "source": [
        "# Apply 120% incremental factor to adjust TripDistance for trips whose approximated distance is larger than their Trip Distance\n",
        "df_company_a_clean.loc[df_company_a_clean[\"approximated_distance\"] > df_company_a_clean[\"TripDistance\"],[\"TripDistance\"]] = df_company_a_clean.loc[df_company_a_clean[\"approximated_distance\"] > df_company_a_clean[\"TripDistance\"],[\"approximated_distance\"]]*1.2"
      ],
      "execution_count": 35,
      "outputs": []
    },
    {
      "cell_type": "markdown",
      "metadata": {
        "id": "fKMaSYtc6yPa"
      },
      "source": [
        "### Unify distance unit"
      ]
    },
    {
      "cell_type": "markdown",
      "metadata": {
        "id": "BxV3Gp2UYdVk"
      },
      "source": [
        "Convert the unit of all distance fields to miles"
      ]
    },
    {
      "cell_type": "code",
      "metadata": {
        "id": "YV6neYU9eOqN"
      },
      "source": [
        "# meters to miles conversation rate is 0.621371*10^-3\n",
        "df_company_b[\"distance_miles\"] = df_company_b[\"distance_meters\"] * 0.621371/1000\n",
        "df_company_b_clean = df_company_b"
      ],
      "execution_count": 36,
      "outputs": []
    },
    {
      "cell_type": "markdown",
      "metadata": {
        "id": "uZ6DnY_W5CVB"
      },
      "source": [
        "### Rename Columns in df_company_a"
      ]
    },
    {
      "cell_type": "markdown",
      "metadata": {
        "id": "ZdGTGew1qmgX"
      },
      "source": [
        "Keep column names consistent (snake style) between two data frames. In the following sections of the study, I will use the below names to name columns in both data frames - `df_company_a` and `df_company_b`\r\n",
        "\r\n",
        "Rename column names in `df_company_a` as below:\r\n",
        "* `TripID` -> `trip_id`\r\n",
        "* `ScooterID`\t-> `scooter_id`\r\n",
        "* `StartTime` -> `start_time`\t\r\n",
        "* `EndTime`\t-> `completed_time`\r\n",
        "* `StartLatitude` -> `start_latitude`\r\n",
        "* `StartLongitude` -> `start_longitude`\r\n",
        "* `EndLatitude` -> `end_latitude`\r\n",
        "* `EndLongitude` -> `end_longitude`\r\n",
        "* `TripDistance` -> `distance_miles` (According to above inference, I think this TripDistance is in miles, in order to make it consistent with `distance_miles` in `df_company_b`. I will rename it as `distance_miles`.\r\n",
        "\t\t\t"
      ]
    },
    {
      "cell_type": "code",
      "metadata": {
        "id": "46mkF_anVfRH"
      },
      "source": [
        "df_company_a_clean.columns = [\"trip_id\", \"scooter_id\", \"start_time\", \"completed_time\", \"start_latitude\", \"start_longitude\", \"end_latitude\", \"end_longitude\", \"distance_miles\", \"start_coordinates\", \"end_coordinates\", \"approximated_distance\"]"
      ],
      "execution_count": 37,
      "outputs": []
    },
    {
      "cell_type": "markdown",
      "metadata": {
        "id": "cyDKdEOB6Gn3"
      },
      "source": [
        "### Drop unneeded columns"
      ]
    },
    {
      "cell_type": "code",
      "metadata": {
        "id": "coDB8Yiq6KDc"
      },
      "source": [
        "df_company_b_clean = df_company_b.drop(columns=\"distance_meters\")\n",
        "df_company_a_clean = df_company_a_clean.drop(columns =\"approximated_distance\")"
      ],
      "execution_count": 38,
      "outputs": []
    },
    {
      "cell_type": "markdown",
      "metadata": {
        "id": "Mr8DfwkYa5V3"
      },
      "source": [
        "### Handle Outliers #2"
      ]
    },
    {
      "cell_type": "markdown",
      "metadata": {
        "id": "QlfK1KV2b-u3"
      },
      "source": [
        "For simplicity purpose, I applied IQR method with 1.5 whisker width to remove outliers from `df_company_a_clean` and `df_company_b_clean`"
      ]
    },
    {
      "cell_type": "code",
      "metadata": {
        "colab": {
          "base_uri": "https://localhost:8080/"
        },
        "id": "UB0ZwRMga8sw",
        "outputId": "bcd89bdf-0fb2-4862-ab2c-a6c111504ccc"
      },
      "source": [
        "df_company_a_clean[\"distance_miles\"].describe().apply(lambda x: format(x, 'f'))"
      ],
      "execution_count": 39,
      "outputs": [
        {
          "output_type": "execute_result",
          "data": {
            "text/plain": [
              "count      41053.000000\n",
              "mean         208.601750\n",
              "std        15983.383836\n",
              "min            0.010000\n",
              "25%            0.500000\n",
              "50%            1.130000\n",
              "75%            2.310000\n",
              "max      1334377.660000\n",
              "Name: distance_miles, dtype: object"
            ]
          },
          "metadata": {
            "tags": []
          },
          "execution_count": 39
        }
      ]
    },
    {
      "cell_type": "code",
      "metadata": {
        "colab": {
          "base_uri": "https://localhost:8080/",
          "height": 263
        },
        "id": "PriF-Otlct31",
        "outputId": "9d7918d7-0133-475f-faf1-af0e16f2dfef"
      },
      "source": [
        "sns.boxplot( y=df_company_a_clean[\"distance_miles\"] );\n",
        "plt.show()"
      ],
      "execution_count": null,
      "outputs": [
        {
          "output_type": "display_data",
          "data": {
            "image/png": "[encoded data removed]",
            "text/plain": [
              "<Figure size 432x288 with 1 Axes>"
            ]
          },
          "metadata": {
            "tags": [],
            "needs_background": "light"
          }
        }
      ]
    },
    {
      "cell_type": "code",
      "metadata": {
        "colab": {
          "base_uri": "https://localhost:8080/"
        },
        "id": "pB_MPscrbzu5",
        "outputId": "d1a2490d-5afe-4be8-d030-7dc04c7c9b0c"
      },
      "source": [
        "df_company_b_clean[\"distance_miles\"].describe().apply(lambda x: format(x, 'f'))"
      ],
      "execution_count": null,
      "outputs": [
        {
          "output_type": "execute_result",
          "data": {
            "text/plain": [
              "count    10578.000000\n",
              "mean         0.923788\n",
              "std          1.369143\n",
              "min          0.000000\n",
              "25%          0.297637\n",
              "50%          0.567312\n",
              "75%          1.089885\n",
              "max         62.137100\n",
              "Name: distance_miles, dtype: object"
            ]
          },
          "metadata": {
            "tags": []
          },
          "execution_count": 171
        }
      ]
    },
    {
      "cell_type": "code",
      "metadata": {
        "colab": {
          "base_uri": "https://localhost:8080/",
          "height": 253
        },
        "id": "PpKeRXHEcGkg",
        "outputId": "e6a931cc-4aad-4393-c509-2a13d8237a5e"
      },
      "source": [
        "sns.boxplot( y=df_company_b_clean[\"distance_miles\"] );\n",
        "plt.show()"
      ],
      "execution_count": null,
      "outputs": [
        {
          "output_type": "display_data",
          "data": {
            "image/png": "[encoded data removed]",
            "text/plain": [
              "<Figure size 432x288 with 1 Axes>"
            ]
          },
          "metadata": {
            "tags": [],
            "needs_background": "light"
          }
        }
      ]
    },
    {
      "cell_type": "code",
      "metadata": {
        "id": "xaccyHw1eiMb"
      },
      "source": [
        "# IQR filter with 1.5 whisker width applied on df_company_a_clean\n",
        "df_company_a_clean = subset_by_iqr(df_company_a_clean, 'distance_miles', whisker_width=1.5)"
      ],
      "execution_count": 41,
      "outputs": []
    },
    {
      "cell_type": "code",
      "metadata": {
        "id": "gu1F5zyCexUr"
      },
      "source": [
        "# IQR filter with 1.5 whisker width applied on df_company_b_clean\n",
        "df_company_b_clean = subset_by_iqr(df_company_b_clean, 'distance_miles', whisker_width=1.5)"
      ],
      "execution_count": 42,
      "outputs": []
    },
    {
      "cell_type": "code",
      "metadata": {
        "colab": {
          "base_uri": "https://localhost:8080/",
          "height": 267
        },
        "id": "V4grlxjvfHID",
        "outputId": "93ca15fb-e6e9-4fe8-c296-8137cbac96fb"
      },
      "source": [
        "# Boxplot of distance_miles of df_company_a\n",
        "sns.boxplot( y=df_company_a_clean[\"distance_miles\"] );\n",
        "plt.title(\"Boxplot of distance_miles of df_company_a\")\n",
        "plt.show()"
      ],
      "execution_count": null,
      "outputs": [
        {
          "output_type": "display_data",
          "data": {
            "image/png": "[encoded data removed]",
            "text/plain": [
              "<Figure size 432x288 with 1 Axes>"
            ]
          },
          "metadata": {
            "tags": [],
            "needs_background": "light"
          }
        }
      ]
    },
    {
      "cell_type": "code",
      "metadata": {
        "colab": {
          "base_uri": "https://localhost:8080/",
          "height": 267
        },
        "id": "TdjoJKjmfKJ6",
        "outputId": "9b219af8-0825-4fae-b9cb-41e561791598"
      },
      "source": [
        "# Boxplot of distance_miles of df_company_b\n",
        "sns.boxplot( y=df_company_b_clean[\"distance_miles\"] );\n",
        "plt.title(\"Boxplot of distance_miles of df_company_b\")\n",
        "plt.show()"
      ],
      "execution_count": null,
      "outputs": [
        {
          "output_type": "display_data",
          "data": {
            "image/png": "[encoded data removed]",
            "text/plain": [
              "<Figure size 432x288 with 1 Axes>"
            ]
          },
          "metadata": {
            "tags": [],
            "needs_background": "light"
          }
        }
      ]
    },
    {
      "cell_type": "code",
      "metadata": {
        "id": "S-StEWt7Ne8q"
      },
      "source": [
        "# # save the output files into Google Drive\n",
        "# from google.colab import drive\n",
        "# drive.mount('/drive')\n",
        "# df_company_a_clean.to_csv('/drive/My Drive/MyCareer/Zoox/data_exercise/df_company_a.csv')\n",
        "# df_company_b_clean.to_csv('/drive/My Drive/MyCareer/Zoox/data_exercise/df_company_b.csv')"
      ],
      "execution_count": null,
      "outputs": []
    },
    {
      "cell_type": "markdown",
      "metadata": {
        "id": "dFugE_90EorE"
      },
      "source": [
        "## Feature Engineering"
      ]
    },
    {
      "cell_type": "markdown",
      "metadata": {
        "id": "iXfD8XNW6qQx"
      },
      "source": [
        "### Convert Time stamps to same format"
      ]
    },
    {
      "cell_type": "markdown",
      "metadata": {
        "id": "7y0vOfb45QrF"
      },
      "source": [
        "Convert `start_time` and `completed_time` in `df_company_a` and `df_company_b` into the same format as Month-Day-Year Hour:Minute:Second"
      ]
    },
    {
      "cell_type": "code",
      "metadata": {
        "id": "RJnSjhIY5Giq"
      },
      "source": [
        "# df_company_a_clean\n",
        "df_company_a_clean[\"start_time\"] = df_company_a_clean[\"start_time\"].apply(lambda x: pd.Timestamp(x).strftime('%b-%d-%Y %H:%M'))\n",
        "df_company_a_clean[\"completed_time\"] = df_company_a_clean[\"completed_time\"].apply(lambda x: pd.Timestamp(x).strftime('%b-%d-%Y %H:%M'))\n",
        "\n",
        "# df_company_b_clean\n",
        "df_company_b_clean[\"start_time\"] = df_company_b_clean[\"start_time\"].apply(lambda x: pd.Timestamp(x).strftime('%b-%d-%Y %H:%M'))\n",
        "df_company_b_clean[\"completed_time\"] = df_company_b_clean[\"completed_time\"].apply(lambda x: pd.Timestamp(x).strftime('%b-%d-%Y %H:%M'))"
      ],
      "execution_count": 43,
      "outputs": []
    },
    {
      "cell_type": "markdown",
      "metadata": {
        "id": "iEVFgbwvE0mK"
      },
      "source": [
        "### Trip Duration"
      ]
    },
    {
      "cell_type": "markdown",
      "metadata": {
        "id": "EAvXblMbZxOn"
      },
      "source": [
        "Calculate `trip_duration_hours` by substracting trip `completed_time` by `start_time`."
      ]
    },
    {
      "cell_type": "code",
      "metadata": {
        "id": "Snk6at0-ZwuF"
      },
      "source": [
        "df_company_a_clean[\"trip_duration_hours\"] = (df_company_a_clean.completed_time.astype('datetime64[ns]') - df_company_a_clean.start_time.astype('datetime64[ns]')).astype('timedelta64[m]')\n",
        "df_company_b_clean[\"trip_duration_hours\"] = (df_company_b_clean.completed_time.astype('datetime64[ns]') - df_company_b_clean.start_time.astype('datetime64[ns]')).astype('timedelta64[m]')\n"
      ],
      "execution_count": 44,
      "outputs": []
    },
    {
      "cell_type": "markdown",
      "metadata": {
        "id": "3lm2Rlf0ujy-"
      },
      "source": [
        "As we can see, both df_company_a and df_company_b have trips took more than 24 hours. "
      ]
    },
    {
      "cell_type": "code",
      "metadata": {
        "colab": {
          "base_uri": "https://localhost:8080/"
        },
        "id": "SF9maWi7kmDZ",
        "outputId": "5c542d16-3bb5-475b-c8a0-05ffd362ab61"
      },
      "source": [
        "df_company_a_clean[\"trip_duration_hours\"].describe()"
      ],
      "execution_count": 45,
      "outputs": [
        {
          "output_type": "execute_result",
          "data": {
            "text/plain": [
              "count    38293.000000\n",
              "mean        16.166976\n",
              "std         24.503812\n",
              "min          0.000000\n",
              "25%          6.000000\n",
              "50%         11.000000\n",
              "75%         21.000000\n",
              "max       3167.000000\n",
              "Name: trip_duration_hours, dtype: float64"
            ]
          },
          "metadata": {
            "tags": []
          },
          "execution_count": 45
        }
      ]
    },
    {
      "cell_type": "code",
      "metadata": {
        "colab": {
          "base_uri": "https://localhost:8080/"
        },
        "id": "dqUXGhZ6krd_",
        "outputId": "2000369a-05be-4eef-b491-8e174512a39a"
      },
      "source": [
        "df_company_b_clean[\"trip_duration_hours\"].describe()"
      ],
      "execution_count": null,
      "outputs": [
        {
          "output_type": "execute_result",
          "data": {
            "text/plain": [
              "count    9608.000000\n",
              "mean       10.082015\n",
              "std        15.895082\n",
              "min         0.000000\n",
              "25%         3.000000\n",
              "50%         6.000000\n",
              "75%        11.000000\n",
              "max       697.000000\n",
              "Name: trip_duration_hours, dtype: float64"
            ]
          },
          "metadata": {
            "tags": []
          },
          "execution_count": 186
        }
      ]
    },
    {
      "cell_type": "code",
      "metadata": {
        "colab": {
          "base_uri": "https://localhost:8080/",
          "height": 312
        },
        "id": "5lRxoXucgRGF",
        "outputId": "f380564e-dd2b-4664-fe3b-cbfab32d40e7"
      },
      "source": [
        "sns.boxplot(x= df_company_a_clean[\"trip_duration_hours\"])\n",
        "plt.title(\"trip duration in hours of company A\")\n",
        "plt.show"
      ],
      "execution_count": null,
      "outputs": [
        {
          "output_type": "execute_result",
          "data": {
            "text/plain": [
              "<function matplotlib.pyplot.show>"
            ]
          },
          "metadata": {
            "tags": []
          },
          "execution_count": 191
        },
        {
          "output_type": "display_data",
          "data": {
            "image/png": "[encoded data removed]",
            "text/plain": [
              "<Figure size 432x288 with 1 Axes>"
            ]
          },
          "metadata": {
            "tags": [],
            "needs_background": "light"
          }
        }
      ]
    },
    {
      "cell_type": "code",
      "metadata": {
        "colab": {
          "base_uri": "https://localhost:8080/",
          "height": 312
        },
        "id": "axwO8XQAgGAq",
        "outputId": "762cdaf7-b27c-4a8b-efad-85dc1e7ddcbc"
      },
      "source": [
        "sns.boxplot(x= df_company_b_clean[\"trip_duration_hours\"])\n",
        "plt.title(\"trip duration in hours of company B\")\n",
        "plt.show"
      ],
      "execution_count": null,
      "outputs": [
        {
          "output_type": "execute_result",
          "data": {
            "text/plain": [
              "<function matplotlib.pyplot.show>"
            ]
          },
          "metadata": {
            "tags": []
          },
          "execution_count": 192
        },
        {
          "output_type": "display_data",
          "data": {
            "image/png": "[encoded data removed]",
            "text/plain": [
              "<Figure size 432x288 with 1 Axes>"
            ]
          },
          "metadata": {
            "tags": [],
            "needs_background": "light"
          }
        }
      ]
    },
    {
      "cell_type": "code",
      "metadata": {
        "id": "e4B8zCJ2grYU"
      },
      "source": [
        "# IQR filter with 1.5 whisker width applied on df_company_a_clean\n",
        "df_company_a_clean = subset_by_iqr(df_company_a_clean, 'trip_duration_hours', whisker_width=1.5)"
      ],
      "execution_count": 46,
      "outputs": []
    },
    {
      "cell_type": "code",
      "metadata": {
        "id": "qnxiBHtzgrVm"
      },
      "source": [
        "# IQR filter with 1.5 whisker width applied on df_company_b_clean\n",
        "df_company_b_clean = subset_by_iqr(df_company_b_clean, 'trip_duration_hours', whisker_width=1.5)"
      ],
      "execution_count": 47,
      "outputs": []
    },
    {
      "cell_type": "code",
      "metadata": {
        "colab": {
          "base_uri": "https://localhost:8080/",
          "height": 311
        },
        "id": "iAlaKrHyj_uX",
        "outputId": "8cecd74f-be0d-4274-9e56-9875488ee469"
      },
      "source": [
        "# Closer look (cut off potential outliers)\n",
        "plt.hist(df_company_a_clean[\"trip_duration_hours\"], bins=10, align='mid')\n",
        "plt.title(\"Trip duration distribution closer peak\")\n",
        "plt.xlabel(\"Trip duration in hours\")\n",
        "plt.ylabel(\"Counts\")"
      ],
      "execution_count": null,
      "outputs": [
        {
          "output_type": "execute_result",
          "data": {
            "text/plain": [
              "Text(0, 0.5, 'Counts')"
            ]
          },
          "metadata": {
            "tags": []
          },
          "execution_count": 195
        },
        {
          "output_type": "display_data",
          "data": {
            "image/png": "[encoded data removed]",
            "text/plain": [
              "<Figure size 432x288 with 1 Axes>"
            ]
          },
          "metadata": {
            "tags": [],
            "needs_background": "light"
          }
        }
      ]
    },
    {
      "cell_type": "code",
      "metadata": {
        "colab": {
          "base_uri": "https://localhost:8080/",
          "height": 311
        },
        "id": "gZ2G_iktvRyK",
        "outputId": "915af091-8c18-4334-c419-667127f73f6a"
      },
      "source": [
        "# Closer look (cut off potential outliers)\n",
        "plt.hist(df_company_b_clean[\"trip_duration_hours\"], bins=10, align='mid')\n",
        "plt.title(\"Trip duration distribution closer peak\")\n",
        "plt.xlabel(\"Trip duration in hours\")\n",
        "plt.ylabel(\"Counts\")"
      ],
      "execution_count": null,
      "outputs": [
        {
          "output_type": "execute_result",
          "data": {
            "text/plain": [
              "Text(0, 0.5, 'Counts')"
            ]
          },
          "metadata": {
            "tags": []
          },
          "execution_count": 196
        },
        {
          "output_type": "display_data",
          "data": {
            "image/png": "[encoded data removed]",
            "text/plain": [
              "<Figure size 432x288 with 1 Axes>"
            ]
          },
          "metadata": {
            "tags": [],
            "needs_background": "light"
          }
        }
      ]
    },
    {
      "cell_type": "markdown",
      "metadata": {
        "id": "x9ZZA2Xnlrqo"
      },
      "source": [
        "Remove data points with duration hours is 0 but distance greater than 0 and duration hours is more than 15 hours."
      ]
    },
    {
      "cell_type": "code",
      "metadata": {
        "id": "Ry_7bOhTlrZz"
      },
      "source": [
        "df_company_a_clean = df_company_a_clean[(df_company_a_clean[\"trip_duration_hours\"] > 0) & (df_company_a_clean[\"trip_duration_hours\"] <= 15)]"
      ],
      "execution_count": 48,
      "outputs": []
    },
    {
      "cell_type": "code",
      "metadata": {
        "id": "0eAZ_HEYlrUG"
      },
      "source": [
        "df_company_b_clean = df_company_b_clean[(df_company_b_clean[\"trip_duration_hours\"] > 0) & (df_company_b_clean[\"trip_duration_hours\"] <= 15)]"
      ],
      "execution_count": 49,
      "outputs": []
    },
    {
      "cell_type": "code",
      "metadata": {
        "colab": {
          "base_uri": "https://localhost:8080/",
          "height": 311
        },
        "id": "U3NcsGqGniek",
        "outputId": "6eb01272-b817-4f3a-8f47-5c468a832575"
      },
      "source": [
        "# Closer look (cut off potential outliers)\n",
        "plt.hist(df_company_a_clean[\"trip_duration_hours\"], bins=10, align='mid')\n",
        "plt.title(\"Trip duration distribution closer peak after filtering\")\n",
        "plt.xlabel(\"Trip duration in hours\")\n",
        "plt.ylabel(\"Counts\")"
      ],
      "execution_count": null,
      "outputs": [
        {
          "output_type": "execute_result",
          "data": {
            "text/plain": [
              "Text(0, 0.5, 'Counts')"
            ]
          },
          "metadata": {
            "tags": []
          },
          "execution_count": 229
        },
        {
          "output_type": "display_data",
          "data": {
            "image/png": "[encoded data removed]",
            "text/plain": [
              "<Figure size 432x288 with 1 Axes>"
            ]
          },
          "metadata": {
            "tags": [],
            "needs_background": "light"
          }
        }
      ]
    },
    {
      "cell_type": "code",
      "metadata": {
        "colab": {
          "base_uri": "https://localhost:8080/",
          "height": 311
        },
        "id": "RKKxaaJoniel",
        "outputId": "de8088a4-411e-4462-b899-f278d5bcc5a1"
      },
      "source": [
        "# Closer look (cut off potential outliers)\n",
        "plt.hist(df_company_b_clean[\"trip_duration_hours\"], bins=10, align='mid')\n",
        "plt.title(\"Trip duration distribution closer peak after filtering\")\n",
        "plt.xlabel(\"Trip duration in hours\")\n",
        "plt.ylabel(\"Counts\")"
      ],
      "execution_count": null,
      "outputs": [
        {
          "output_type": "execute_result",
          "data": {
            "text/plain": [
              "Text(0, 0.5, 'Counts')"
            ]
          },
          "metadata": {
            "tags": []
          },
          "execution_count": 230
        },
        {
          "output_type": "display_data",
          "data": {
            "image/png": "[encoded data removed]",
            "text/plain": [
              "<Figure size 432x288 with 1 Axes>"
            ]
          },
          "metadata": {
            "tags": [],
            "needs_background": "light"
          }
        }
      ]
    },
    {
      "cell_type": "markdown",
      "metadata": {
        "id": "MrD9GNt2XW2x"
      },
      "source": [
        "Convert `start_time` and `completed_time` to the same date format as `start_date` and `completed_date`"
      ]
    },
    {
      "cell_type": "code",
      "metadata": {
        "id": "piSV6ylVYqWa"
      },
      "source": [
        "# df_company_a_clean\n",
        "df_company_a_clean[\"start_date\"] = pd.DatetimeIndex(df_company_a_clean[\"start_time\"]).strftime('%Y-%m-%d')\n",
        "df_company_a_clean[\"completed_date\"] = pd.DatetimeIndex(df_company_a_clean[\"completed_time\"]).strftime('%Y-%m-%d')\n",
        "\n",
        "# df_company_b_clean\n",
        "df_company_b_clean[\"start_date\"] = pd.DatetimeIndex(df_company_b_clean[\"start_time\"]).strftime('%Y-%m-%d')\n",
        "df_company_b_clean[\"completed_date\"] = pd.DatetimeIndex(df_company_b_clean[\"completed_time\"]).strftime('%Y-%m-%d')"
      ],
      "execution_count": 50,
      "outputs": []
    },
    {
      "cell_type": "markdown",
      "metadata": {
        "id": "CoOFYxf89NV7"
      },
      "source": [
        "### Month\n",
        "\n",
        "\n",
        "\n",
        "\n"
      ]
    },
    {
      "cell_type": "markdown",
      "metadata": {
        "id": "gwfmVGxSM0yv"
      },
      "source": [
        "Convert `start_date` and `completed_date` to `start_month` and `completed_month`"
      ]
    },
    {
      "cell_type": "code",
      "metadata": {
        "id": "xGtXn1jPMA74"
      },
      "source": [
        "# df_company_a_clean\n",
        "df_company_a_clean[\"start_year_month\"] = pd.DatetimeIndex(df_company_a_clean[\"start_time\"]).strftime('%Y-%m')\n",
        "df_company_a_clean[\"completed_year_month\"] = pd.DatetimeIndex(df_company_a_clean[\"completed_time\"]).strftime('%Y-%m')\n",
        "\n",
        "# df_company_b_clean\n",
        "df_company_b_clean[\"start_year_month\"] = pd.DatetimeIndex(df_company_b_clean[\"start_time\"]).strftime('%Y-%m')\n",
        "df_company_b_clean[\"completed_year_month\"] = pd.DatetimeIndex(df_company_b_clean[\"completed_time\"]).strftime('%Y-%m')"
      ],
      "execution_count": 51,
      "outputs": []
    },
    {
      "cell_type": "markdown",
      "metadata": {
        "id": "c36oZo6DD7-n"
      },
      "source": [
        "### Year-Week"
      ]
    },
    {
      "cell_type": "markdown",
      "metadata": {
        "id": "3VHtJuXPNAbG"
      },
      "source": [
        "Convert `start_date` and `completed_date` to `start_year_week` and `completed_year_week`"
      ]
    },
    {
      "cell_type": "code",
      "metadata": {
        "id": "zGj1f776IdIV"
      },
      "source": [
        "# df_company_a_clean\n",
        "df_company_a_clean[\"start_year_week\"] = pd.DatetimeIndex(df_company_a_clean[\"start_time\"]).strftime('%Y-%U')\n",
        "df_company_a_clean[\"completed_year_week\"] = pd.DatetimeIndex(df_company_a_clean[\"completed_time\"]).strftime('%Y-%U')\n",
        "\n",
        "# df_company_b_clean\n",
        "df_company_b_clean[\"start_year_week\"] = pd.DatetimeIndex(df_company_b_clean[\"start_time\"]).strftime('%Y-%U')\n",
        "df_company_b_clean[\"completed_year_week\"] = pd.DatetimeIndex(df_company_b_clean[\"completed_time\"]).strftime('%Y-%U')"
      ],
      "execution_count": 52,
      "outputs": []
    },
    {
      "cell_type": "markdown",
      "metadata": {
        "id": "q7GsziSpErkA"
      },
      "source": [
        "### Day of Week"
      ]
    },
    {
      "cell_type": "markdown",
      "metadata": {
        "id": "WXHYXapkXzBW"
      },
      "source": [
        "Convert `start_date` and `completed_date` to `start_day_of_week` and `completed_day_of_week`"
      ]
    },
    {
      "cell_type": "code",
      "metadata": {
        "id": "MxkQqxvROS_O"
      },
      "source": [
        "df_company_a_clean[\"start_day_of_week\"] = pd.DatetimeIndex(df_company_a_clean[\"start_time\"]).strftime('%A')\n",
        "df_company_a_clean[\"completed_day_of_week\"] = pd.DatetimeIndex(df_company_a_clean[\"completed_time\"]).strftime('%A')\n",
        "\n",
        "df_company_b_clean[\"start_day_of_week\"] = pd.DatetimeIndex(df_company_b_clean[\"start_time\"]).strftime('%A')\n",
        "df_company_b_clean[\"completed_day_of_week\"] = pd.DatetimeIndex(df_company_b_clean[\"completed_time\"]).strftime('%A')"
      ],
      "execution_count": 53,
      "outputs": []
    },
    {
      "cell_type": "markdown",
      "metadata": {
        "id": "RDAgqfHBErfz"
      },
      "source": [
        "### Hour of Day"
      ]
    },
    {
      "cell_type": "markdown",
      "metadata": {
        "id": "vpl4GdpyX8om"
      },
      "source": [
        "Convert `start_date` and `completed_date` to `start_hour_of_day` and `completed_hour_of_day`"
      ]
    },
    {
      "cell_type": "code",
      "metadata": {
        "id": "XBdw-eo6O799"
      },
      "source": [
        "df_company_a_clean[\"start_hour_of_day\"] = pd.DatetimeIndex(df_company_a_clean[\"start_time\"]).strftime('%H')\n",
        "df_company_a_clean[\"completed_hour_of_day\"] = pd.DatetimeIndex(df_company_a_clean[\"completed_time\"]).strftime('%H')\n",
        "\n",
        "df_company_b_clean[\"start_hour_of_day\"] = pd.DatetimeIndex(df_company_b_clean[\"start_time\"]).strftime('%H')\n",
        "df_company_b_clean[\"completed_hour_of_day\"] = pd.DatetimeIndex(df_company_b_clean[\"completed_time\"]).strftime('%H')"
      ],
      "execution_count": 54,
      "outputs": []
    },
    {
      "cell_type": "markdown",
      "metadata": {
        "id": "34HYQlfj-z0r"
      },
      "source": [
        "### Union `df_company_a_clean` and `df_company_b_clean`"
      ]
    },
    {
      "cell_type": "code",
      "metadata": {
        "id": "vDKrJdblPm7K"
      },
      "source": [
        "df_company_a_clean[\"Company\"] = \"Company A\"\n",
        "df_company_b_clean[\"Company\"] = \"Company B\""
      ],
      "execution_count": 55,
      "outputs": []
    },
    {
      "cell_type": "code",
      "metadata": {
        "id": "A8ztscQ5P8IY"
      },
      "source": [
        "df_company_both_clean = pd.concat([df_company_a_clean, df_company_b_clean])"
      ],
      "execution_count": 56,
      "outputs": []
    },
    {
      "cell_type": "markdown",
      "metadata": {
        "id": "SDbfBXI5tXa-"
      },
      "source": [
        "## Define Metrics"
      ]
    },
    {
      "cell_type": "markdown",
      "metadata": {
        "id": "9mD0IwT73_Yz"
      },
      "source": [
        "Here are the main metrics I analyzed below. All metrics have been expanded by Month of Year, Day of Week, Hour of Day, etc. I also provide heatmaps for understanding concentrations of trips as well as rides flow.\n",
        "1. Ridership: count of rides\n",
        "2. Trip Duration: trip duration in hour\n",
        "3. Distance: trip distance in miles"
      ]
    },
    {
      "cell_type": "markdown",
      "metadata": {
        "id": "doL53TQFtaGw"
      },
      "source": [
        "## Analysis in Visualization"
      ]
    },
    {
      "cell_type": "markdown",
      "metadata": {
        "id": "-PquwBwFFv50"
      },
      "source": [
        "### Ridership"
      ]
    },
    {
      "cell_type": "markdown",
      "metadata": {
        "id": "YvsMUKwDyEgY"
      },
      "source": [
        "Ridership is affected by the seasons and day fo week and hours of day.  Ridership, especially Company A, fluctuation followed the seasons of Lousiville, KY closely. (note that we don't have a complete year of data, it is hard to make a comprehensive intrepretation)\n",
        "\n",
        "**Season/Months**: From the starting of Aug (summer), the average monthly ridership of Company A increased rapidly from about 3,000 to 50,000 in a month, and hit peak in Oct, Nov 2018.\n",
        "\n",
        "In Fall, with the return of students to Louisville, Ridership reached about 6,000 in October, increased by about 50% compared to that of summer. Since Dec the return of cold weather dramatically brought ridership down to less than 4,000 in December.\n",
        "\n",
        "We don't have enough Company B data to tell the ridership patten with seasons, but we noticed that Dec is the valley and ridership increased significantly in Jan 2019.\n",
        "\n",
        "**Day of Week:**: For company A, Friday and Saturday peaked with average around 170 - 180 rides per day, while for company B,  the peak is around Tuesday and Thursday. It might be the case that Comany A and Company B focus on different operation locations\n",
        "\n",
        "**Hour of Day:**: \n",
        "\n",
        "Company B has a clear peak around noon while Company A stays high-volumn the entire afternoon and starts dropping around 5pm.\n",
        "\n",
        "Note that it might be lack of data, but we notice that there's no rides at all from 10pm to 3am for Company A. I suspect that holds similar possibily of different focus of operation location\n",
        "\n",
        "\n",
        "**What I would do with more data:**\n",
        "\n",
        " * With more months, I would compare the ridership patten of fall and winter against spring and summer. Typically summer would hit the global peak.\n",
        " * With more years, I would look into the seasonality of the ridership patten, to see if the fluctuation is consistent\n",
        " * Add Weather data: There are several compenents - temperature, precipitation, snow depth. With it we would know the correlation between them and scooter ridership.\n",
        " * Add elevation change data: compare ridership of downhill trips vs. uphill trips, and understand whether scooter mobilty is against the slopes.\n",
        " * Add neigborhoood data: easy to identify \"compus-related\" vs. \"local\" rides. Help to find out imbalance between demand (pick-up) and supply (drop-off) and build strategical scooter replacement plan."
      ]
    },
    {
      "cell_type": "markdown",
      "metadata": {
        "id": "ATqyOvLsJGLK"
      },
      "source": [
        "Month of Year Ridership\n"
      ]
    },
    {
      "cell_type": "code",
      "metadata": {
        "colab": {
          "base_uri": "https://localhost:8080/",
          "height": 295
        },
        "id": "WovctCr-I_i4",
        "outputId": "6ed8264e-5b09-454c-fc35-a8de700d381d"
      },
      "source": [
        "sns.set_context('paper')\n",
        "sns.countplot(x= 'start_year_month', hue='Company', data=df_company_both_clean, palette = 'Blues')\n",
        "plt.title(\"Monthly Ridership by Company\")\n",
        "plt.show()\n"
      ],
      "execution_count": null,
      "outputs": [
        {
          "output_type": "display_data",
          "data": {
            "image/png": "[encoded data removed]",
            "text/plain": [
              "<Figure size 432x288 with 1 Axes>"
            ]
          },
          "metadata": {
            "tags": [],
            "needs_background": "light"
          }
        }
      ]
    },
    {
      "cell_type": "markdown",
      "metadata": {
        "id": "WWiIL_4JUbHy"
      },
      "source": [
        "Day of Week Ridership"
      ]
    },
    {
      "cell_type": "code",
      "metadata": {
        "id": "z9UlyBzmW20j"
      },
      "source": [
        "df_ridership_day_of_week = df_company_both_clean.groupby([\"Company\", \"start_date\", \"start_day_of_week\"]).size().reset_index(name = \"rides\")"
      ],
      "execution_count": null,
      "outputs": []
    },
    {
      "cell_type": "code",
      "metadata": {
        "colab": {
          "base_uri": "https://localhost:8080/",
          "height": 295
        },
        "id": "UrirB6H9VTJm",
        "outputId": "13e56379-2bcd-4be6-a2df-05ad7eda9088"
      },
      "source": [
        "order = [\"Sunday\", \"Monday\", \"Tuesday\", \"Wednesday\", \"Thursday\", \"Friday\", \"Saturday\"]\n",
        "sns.barplot(x = 'start_day_of_week', y = 'rides', hue = 'Company', data = df_ridership_day_of_week,\n",
        "            palette = 'Blues', edgecolor = 'w', order = order)\n",
        "df_ridership_day_of_week.groupby(['start_day_of_week', 'Company']).mean()\n",
        "plt.title(\"Average ridership per day of week\")\n",
        "plt.show()"
      ],
      "execution_count": null,
      "outputs": [
        {
          "output_type": "display_data",
          "data": {
            "image/png": "[encoded data removed]",
            "text/plain": [
              "<Figure size 432x288 with 1 Axes>"
            ]
          },
          "metadata": {
            "tags": [],
            "needs_background": "light"
          }
        }
      ]
    },
    {
      "cell_type": "markdown",
      "metadata": {
        "id": "LwWnavFdePGA"
      },
      "source": [
        "Hour of Day Ridership"
      ]
    },
    {
      "cell_type": "code",
      "metadata": {
        "id": "Dz6JTv1kShnB"
      },
      "source": [
        "df_ridership_hour_of_day = df_company_both_clean.groupby([\"Company\", \"start_date\", \"start_hour_of_day\"]).size().reset_index(name = \"rides\")"
      ],
      "execution_count": 63,
      "outputs": []
    },
    {
      "cell_type": "code",
      "metadata": {
        "colab": {
          "base_uri": "https://localhost:8080/",
          "height": 405
        },
        "id": "W_8qRxbsSkbE",
        "outputId": "74e4f76d-7baa-403f-d87d-6a168bc43287"
      },
      "source": [
        "plt.figure(figsize=(16, 6))\n",
        "order = df_ridership_hour_of_day.sort_values('start_hour_of_day').start_hour_of_day.unique().tolist()\n",
        "sns.barplot(x = 'start_hour_of_day', y = 'rides', hue = 'Company', data = df_ridership_hour_of_day,\n",
        "            palette = 'Blues', edgecolor = 'w',\n",
        "            order=order)\n",
        "df_ridership_hour_of_day.groupby(['start_hour_of_day', 'Company']).mean()\n",
        "plt.title(\"Average ridership per hour of day\")\n",
        "plt.show()"
      ],
      "execution_count": 70,
      "outputs": [
        {
          "output_type": "display_data",
          "data": {
            "image/png": "[encoded data removed]",
            "text/plain": [
              "<Figure size 1152x432 with 1 Axes>"
            ]
          },
          "metadata": {
            "tags": [],
            "needs_background": "light"
          }
        }
      ]
    },
    {
      "cell_type": "markdown",
      "metadata": {
        "id": "uYGd_9GbJMyB"
      },
      "source": [
        "### Trip duration"
      ]
    },
    {
      "cell_type": "markdown",
      "metadata": {
        "id": "m1Xa094DUUeh"
      },
      "source": [
        "For Company A, average trip duration has been decreasing since 2018-08, and it reaches the lowest in 2018-12. Company B holds a similar pattern, and the average trip duration reaches the lowest in 2019-01.\n",
        "\n",
        "To compare these two Companies, we can only look at 2018-12, the month that we have data for both companies. Company B outperformed Company A on average trip duration (Company A: 11.85; Company B: 16.27\n",
        "\n",
        "Day of Week:\n",
        "\n",
        "Company A and Company B are quite similar in terms of trip duration pattern over days of week. Looks like Weekends riders tend to take longer rides than workdays. Possibly, people were hanging out around without checking out their scooters.\n",
        "\n",
        "Hour of Day:\n",
        "\n",
        "Similarlly, Both Company A and Company B have peaks around evening commute hours, and specifically Company A also have peak around early morning commute hours. Clearly, scooters don't get affected by normal traffic as much as other vehicle types, but there's somehow still some minor effect."
      ]
    },
    {
      "cell_type": "code",
      "metadata": {
        "colab": {
          "base_uri": "https://localhost:8080/"
        },
        "id": "Ut2vH_LMDKn2",
        "outputId": "27f0000f-6841-47e6-84d4-a6a2ffcc79af"
      },
      "source": [
        "df_company_both_clean.groupby([\"Company\", \"start_year_month\"]).mean()[\"trip_duration_hours\"]"
      ],
      "execution_count": null,
      "outputs": [
        {
          "output_type": "execute_result",
          "data": {
            "text/plain": [
              "Company    start_year_month\n",
              "Company A  2018-08             7.912281\n",
              "           2018-09             7.969033\n",
              "           2018-10             7.857970\n",
              "           2018-11             6.920234\n",
              "           2018-12             6.766730\n",
              "Company B  2018-12             6.314525\n",
              "           2019-01             5.514275\n",
              "Name: trip_duration_hours, dtype: float64"
            ]
          },
          "metadata": {
            "tags": []
          },
          "execution_count": 243
        }
      ]
    },
    {
      "cell_type": "code",
      "metadata": {
        "colab": {
          "base_uri": "https://localhost:8080/",
          "height": 295
        },
        "id": "zvHABSyFeyZM",
        "outputId": "2c2fdc04-f609-4155-89b9-62f778936fad"
      },
      "source": [
        "sns.barplot(x = 'start_year_month', y = 'trip_duration_hours', hue = 'Company', data = df_company_both_clean,\n",
        "            palette = 'Blues', edgecolor = 'w')\n",
        "plt.title(\"Average trip duration by month\")\n",
        "plt.show()"
      ],
      "execution_count": null,
      "outputs": [
        {
          "output_type": "display_data",
          "data": {
            "image/png": "[encoded data removed]",
            "text/plain": [
              "<Figure size 432x288 with 1 Axes>"
            ]
          },
          "metadata": {
            "tags": [],
            "needs_background": "light"
          }
        }
      ]
    },
    {
      "cell_type": "code",
      "metadata": {
        "colab": {
          "base_uri": "https://localhost:8080/",
          "height": 296
        },
        "id": "6cU3rZyu-FEz",
        "outputId": "551cd8ac-0a86-4f56-8b41-6f58d1f2c370"
      },
      "source": [
        "sns.barplot(x = 'start_day_of_week', y = 'trip_duration_hours', hue = 'Company', data = df_company_both_clean,\n",
        "            palette = 'Blues', edgecolor = 'w')\n",
        "plt.title(\"Average trip duration in hours by day of week\")\n",
        "plt.show()"
      ],
      "execution_count": 77,
      "outputs": [
        {
          "output_type": "display_data",
          "data": {
            "image/png": "[encoded data removed]",
            "text/plain": [
              "<Figure size 432x288 with 1 Axes>"
            ]
          },
          "metadata": {
            "tags": [],
            "needs_background": "light"
          }
        }
      ]
    },
    {
      "cell_type": "code",
      "metadata": {
        "colab": {
          "base_uri": "https://localhost:8080/",
          "height": 405
        },
        "id": "6H5973Js-OcZ",
        "outputId": "62efdc02-506e-41ae-973e-9349c06f04b2"
      },
      "source": [
        "plt.figure(figsize=(16, 6))\n",
        "order = df_ridership_hour_of_day.sort_values('start_hour_of_day').start_hour_of_day.unique().tolist()\n",
        "sns.barplot(x = 'start_hour_of_day', y = 'trip_duration_hours', hue = 'Company', data = df_company_both_clean,\n",
        "            palette = 'Blues', edgecolor = 'w',\n",
        "            order = order)\n",
        "plt.title(\"Average trip duration in hours by day of week\")\n",
        "plt.show()"
      ],
      "execution_count": 76,
      "outputs": [
        {
          "output_type": "display_data",
          "data": {
            "image/png": "[encoded data removed]",
            "text/plain": [
              "<Figure size 1152x432 with 1 Axes>"
            ]
          },
          "metadata": {
            "tags": [],
            "needs_background": "light"
          }
        }
      ]
    },
    {
      "cell_type": "markdown",
      "metadata": {
        "id": "7V7Dc2_sqW8z"
      },
      "source": [
        "### Distance"
      ]
    },
    {
      "cell_type": "markdown",
      "metadata": {
        "id": "j-pl4YzcZjT2"
      },
      "source": [
        "The average distance starts decreasing since weather starts getting colder, and it hits the lowest around 2018-12 for Company A and 2019-01 for Company B.\n",
        "\n",
        "Day of Week:\n",
        "\n",
        "Scooters ran by Company A tend to have longer distance than Company B's. Besides the possiblity that Company A has data for the good weather months, It could be the case that the battery duration of Company A's scooters is longer.\n",
        "\n",
        "Hour of Day:\n",
        "\n",
        "Looks like the morning commuters using Company A's scooters typically have longer commute distance, as well as their evening commuters, but not as much. While riders riding Company B's scooters tend to ride for consistent shorter range."
      ]
    },
    {
      "cell_type": "code",
      "metadata": {
        "colab": {
          "base_uri": "https://localhost:8080/"
        },
        "id": "SE3jrBC-DTCW",
        "outputId": "0974828d-a9e4-4201-e8d7-f49a0ee78959"
      },
      "source": [
        "df_company_both_clean.groupby([\"Company\", \"start_year_month\"]).mean()[\"distance_miles\"]"
      ],
      "execution_count": null,
      "outputs": [
        {
          "output_type": "execute_result",
          "data": {
            "text/plain": [
              "Company    start_year_month\n",
              "Company A  2018-08             0.900391\n",
              "           2018-09             0.850911\n",
              "           2018-10             0.790503\n",
              "           2018-11             0.687198\n",
              "           2018-12             0.658403\n",
              "Company B  2018-12             0.586584\n",
              "           2019-01             0.523737\n",
              "Name: distance_miles, dtype: float64"
            ]
          },
          "metadata": {
            "tags": []
          },
          "execution_count": 245
        }
      ]
    },
    {
      "cell_type": "code",
      "metadata": {
        "colab": {
          "base_uri": "https://localhost:8080/",
          "height": 295
        },
        "id": "pjHhNGcr2LNv",
        "outputId": "f907b2d8-a0bc-4c24-f893-d78469071589"
      },
      "source": [
        "sns.barplot(x = 'start_year_month', y = 'distance_miles', hue = 'Company', data = df_company_both_clean,\n",
        "            palette = 'Blues', edgecolor = 'w')\n",
        "plt.title(\"Average distance miles by day of week\")\n",
        "plt.show()"
      ],
      "execution_count": null,
      "outputs": [
        {
          "output_type": "display_data",
          "data": {
            "image/png": "[encoded data removed]",
            "text/plain": [
              "<Figure size 432x288 with 1 Axes>"
            ]
          },
          "metadata": {
            "tags": [],
            "needs_background": "light"
          }
        }
      ]
    },
    {
      "cell_type": "code",
      "metadata": {
        "colab": {
          "base_uri": "https://localhost:8080/"
        },
        "id": "bFJEjpug129b",
        "outputId": "8fabb9e7-e31f-462a-f3c9-7956b2141da0"
      },
      "source": [
        "df_company_both_clean.groupby([\"Company\", \"start_day_of_week\"]).mean()[\"distance_miles\"]"
      ],
      "execution_count": null,
      "outputs": [
        {
          "output_type": "execute_result",
          "data": {
            "text/plain": [
              "Company    start_day_of_week\n",
              "Company A  Friday               0.756356\n",
              "           Monday               0.754542\n",
              "           Saturday             0.786036\n",
              "           Sunday               0.814979\n",
              "           Thursday             0.726975\n",
              "           Tuesday              0.772204\n",
              "           Wednesday            0.760844\n",
              "Company B  Friday               0.546025\n",
              "           Monday               0.537879\n",
              "           Saturday             0.539399\n",
              "           Sunday               0.573036\n",
              "           Thursday             0.549589\n",
              "           Tuesday              0.543520\n",
              "           Wednesday            0.541048\n",
              "Name: distance_miles, dtype: float64"
            ]
          },
          "metadata": {
            "tags": []
          },
          "execution_count": 292
        }
      ]
    },
    {
      "cell_type": "code",
      "metadata": {
        "colab": {
          "base_uri": "https://localhost:8080/",
          "height": 295
        },
        "id": "fhYb7Gmg1-5V",
        "outputId": "382a542c-5c5d-45c2-d202-83632e98006d"
      },
      "source": [
        "sns.barplot(x = 'start_day_of_week', y = 'distance_miles', hue = 'Company', data = df_company_both_clean,\n",
        "            palette = 'Blues', edgecolor = 'w')\n",
        "plt.title(\"Average distance miles by day of week\")\n",
        "plt.show()"
      ],
      "execution_count": null,
      "outputs": [
        {
          "output_type": "display_data",
          "data": {
            "image/png": "[encoded data removed]",
            "text/plain": [
              "<Figure size 432x288 with 1 Axes>"
            ]
          },
          "metadata": {
            "tags": [],
            "needs_background": "light"
          }
        }
      ]
    },
    {
      "cell_type": "code",
      "metadata": {
        "colab": {
          "base_uri": "https://localhost:8080/",
          "height": 405
        },
        "id": "wuy6MiJX-XI4",
        "outputId": "e5ffffde-188e-46f3-a7dd-9be8e29bdb05"
      },
      "source": [
        "plt.figure(figsize=(16, 6))\n",
        "order = df_ridership_hour_of_day.sort_values('start_hour_of_day').start_hour_of_day.unique().tolist()\n",
        "sns.barplot(x = 'start_hour_of_day', y = 'distance_miles', hue = 'Company', data = df_company_both_clean,\n",
        "            palette = 'Blues', edgecolor = 'w',\n",
        "            order = order)\n",
        "plt.title(\"Average distance miles by hour of day\")\n",
        "plt.show()"
      ],
      "execution_count": 80,
      "outputs": [
        {
          "output_type": "display_data",
          "data": {
            "image/png": "[encoded data removed]",
            "text/plain": [
              "<Figure size 1152x432 with 1 Axes>"
            ]
          },
          "metadata": {
            "tags": [],
            "needs_background": "light"
          }
        }
      ]
    },
    {
      "cell_type": "code",
      "metadata": {
        "colab": {
          "base_uri": "https://localhost:8080/"
        },
        "id": "nhdi1sqOLWQ6",
        "outputId": "4b0b9128-b99b-464f-a4d8-d18883320013"
      },
      "source": [
        "df_company_both_clean.groupby(\"Company\").scooter_id.nunique()"
      ],
      "execution_count": 73,
      "outputs": [
        {
          "output_type": "execute_result",
          "data": {
            "text/plain": [
              "Company\n",
              "Company A    831\n",
              "Company B      0\n",
              "Name: scooter_id, dtype: int64"
            ]
          },
          "metadata": {
            "tags": []
          },
          "execution_count": 73
        }
      ]
    },
    {
      "cell_type": "markdown",
      "metadata": {
        "id": "UTzV11hUmuz_"
      },
      "source": [
        "### Trip heat maps"
      ]
    },
    {
      "cell_type": "markdown",
      "metadata": {
        "id": "TL-s4Pb3sq_2"
      },
      "source": [
        "The below heat maps shows us how the concentration of starting rides and completing rides distributed during workdays and weekends.\n",
        "\n",
        "Ideally, I would also plot a few heat maps with time. We can segment hours by 2-hour windows, and see how the heat map changes as time goes. This could help us understand how the traffic flows and how people rides to different areas of the city 2-hour by 2-hour.\n",
        "\n",
        "Unfortunately, the HeatMapWithTime package is not working recently. This could be a potential AI in next steps."
      ]
    },
    {
      "cell_type": "markdown",
      "metadata": {
        "id": "pDnOkFtN92dy"
      },
      "source": [
        "#### Company A - Workdays vs. Weekends"
      ]
    },
    {
      "cell_type": "markdown",
      "metadata": {
        "id": "pKNQmtXuRREF"
      },
      "source": [
        "For Company A, during workdays, trips tend to start relatively further away from the center of Louisville, and end relatively closer to the center of Louisville. \n",
        "\n",
        "During weekends, trips tend to start relatively further from center of the Louisville and ends also closer to the center of Louisville, but more spread. Looks like people tend to hang out riding scooters in more suburb areas of the city over weekends.\n"
      ]
    },
    {
      "cell_type": "code",
      "metadata": {
        "id": "AZRhlvX-tWkW",
        "colab": {
          "base_uri": "https://localhost:8080/",
          "height": 838
        },
        "outputId": "724e3510-8a22-41ff-ce35-f8050fbcfc99"
      },
      "source": [
        "# Company A: Heat Map to identify the concentration of starting dockless rides (pick-up) during workdays\n",
        "df_copy = df_company_a_clean[df_company_a_clean[\"start_day_of_week\"].isin([\"Monday\", \"Tuesday\", \"Wednesday\", \"Thursday\", \"Friday\"])].copy()\n",
        "df_copy['count'] = 1\n",
        "base_map = generateBaseMap()\n",
        "\n",
        "HeatMap(data=df_copy[['start_latitude', 'start_longitude', 'count']].groupby(['start_latitude', 'start_longitude']).sum().reset_index().values.tolist(), radius=8, max_zoom=13).add_to(base_map)\n",
        "\n",
        "base_map"
      ],
      "execution_count": null,
      "outputs": [
        {
          "output_type": "execute_result",
          "data": {
            "text/html": [
              "<div style=\"width:100%;\"><div style=\"position:relative;width:100%;height:0;padding-bottom:60%;\"><span style=\"color:#565656\">Make this Notebook Trusted to load map: File -> Trust Notebook</span><iframe src=\"about:blank\" style=\"position:absolute;width:100%;height:100%;left:0;top:0;border:none !important;\" data-html=%3C%21DOCTYPE%20html%3E%0A%3Chead%3E%20%20%20%20%0A%20%20%20%20%3Cmeta%20http-equiv%3D%22content-type%22%20content%3D%22text/html%3B%20charset%3DUTF-8%22%20/%3E%0A%20%20%20%20%3Cscript%3EL_PREFER_CANVAS%3Dfalse%3B%20L_NO_TOUCH%3Dfalse%3B%20L_DISABLE_3D%3Dfalse%3B%3C/script%3E%0A%20%20%20%20%3Cscript%20src%3D%22https%3A//cdn.jsdelivr.net/npm/leaflet%401.4.0/dist/leaflet.js%22%3E%3C/script%3E%0A%20%20%20%20%3Cscript%20src%3D%22https%3A//code.jquery.com/jquery-1.12.4.min.js%22%3E%3C/script%3E%0A%20%20%20%20%3Cscript%20src%3D%22https%3A//maxcdn.bootstrapcdn.com/bootstrap/3.2.0/js/bootstrap.min.js%22%3E%3C/script%3E%0A%20%20%20%20%3Cscript%20src%3D%22https%3A//cdnjs.cloudflare.com/ajax/libs/Leaflet.awesome-markers/2.0.2/leaflet.awesome-markers.js%22%3E%3C/script%3E%0A%20%20%20%20%3Clink%20rel%3D%22stylesheet%22%20href%3D%22https%3A//cdn.jsdelivr.net/npm/leaflet%401.4.0/dist/leaflet.css%22/%3E%0A%20%20%20%20%3Clink%20rel%3D%22stylesheet%22%20href%3D%22https%3A//maxcdn.bootstrapcdn.com/bootstrap/3.2.0/css/bootstrap.min.css%22/%3E%0A%20%20%20%20%3Clink%20rel%3D%22stylesheet%22%20href%3D%22https%3A//maxcdn.bootstrapcdn.com/bootstrap/3.2.0/css/bootstrap-theme.min.css%22/%3E%0A%20%20%20%20%3Clink%20rel%3D%22stylesheet%22%20href%3D%22https%3A//maxcdn.bootstrapcdn.com/font-awesome/4.6.3/css/font-awesome.min.css%22/%3E%0A%20%20%20%20%3Clink%20rel%3D%22stylesheet%22%20href%3D%22https%3A//cdnjs.cloudflare.com/ajax/libs/Leaflet.awesome-markers/2.0.2/leaflet.awesome-markers.css%22/%3E%0A%20%20%20%20%3Clink%20rel%3D%22stylesheet%22%20href%3D%22https%3A//rawcdn.githack.com/python-visualization/folium/master/folium/templates/leaflet.awesome.rotate.css%22/%3E%0A%20%20%20%20%3Cstyle%3Ehtml%2C%20body%20%7Bwidth%3A%20100%25%3Bheight%3A%20100%25%3Bmargin%3A%200%3Bpadding%3A%200%3B%7D%3C/style%3E%0A%20%20%20%20%3Cstyle%3E%23map%20%7Bposition%3Aabsolute%3Btop%3A0%3Bbottom%3A0%3Bright%3A0%3Bleft%3A0%3B%7D%3C/style%3E%0A%20%20%20%20%0A%20%20%20%20%3Cmeta%20name%3D%22viewport%22%20content%3D%22width%3Ddevice-width%2C%0A%20%20%20%20%20%20%20%20initial-scale%3D1.0%2C%20maximum-scale%3D1.0%2C%20user-scalable%3Dno%22%20/%3E%0A%20%20%20%20%3Cstyle%3E%23map_388feb2f9d9041589ad6ea8aa16be13d%20%7B%0A%20%20%20%20%20%20%20%20position%3A%20relative%3B%0A%20%20%20%20%20%20%20%20width%3A%20100.0%25%3B%0A%20%20%20%20%20%20%20%20height%3A%20100.0%25%3B%0A%20%20%20%20%20%20%20%20left%3A%200.0%25%3B%0A%20%20%20%20%20%20%20%20top%3A%200.0%25%3B%0A%20%20%20%20%20%20%20%20%7D%0A%20%20%20%20%3C/style%3E%0A%20%20%20%20%3Cscript%20src%3D%22https%3A//leaflet.github.io/Leaflet.heat/dist/leaflet-heat.js%22%3E%3C/script%3E%0A%3C/head%3E%0A%3Cbody%3E%20%20%20%20%0A%20%20%20%20%0A%20%20%20%20%3Cdiv%20class%3D%22folium-map%22%20id%3D%22map_388feb2f9d9041589ad6ea8aa16be13d%22%20%3E%3C/div%3E%0A%3C/body%3E%0A%3Cscript%3E%20%20%20%20%0A%20%20%20%20%0A%20%20%20%20%0A%20%20%20%20%20%20%20%20var%20bounds%20%3D%20null%3B%0A%20%20%20%20%0A%0A%20%20%20%20var%20map_388feb2f9d9041589ad6ea8aa16be13d%20%3D%20L.map%28%0A%20%20%20%20%20%20%20%20%27map_388feb2f9d9041589ad6ea8aa16be13d%27%2C%20%7B%0A%20%20%20%20%20%20%20%20center%3A%20%5B38.245%2C%20-85.7647%5D%2C%0A%20%20%20%20%20%20%20%20zoom%3A%2011%2C%0A%20%20%20%20%20%20%20%20maxBounds%3A%20bounds%2C%0A%20%20%20%20%20%20%20%20layers%3A%20%5B%5D%2C%0A%20%20%20%20%20%20%20%20worldCopyJump%3A%20false%2C%0A%20%20%20%20%20%20%20%20crs%3A%20L.CRS.EPSG3857%2C%0A%20%20%20%20%20%20%20%20zoomControl%3A%20true%2C%0A%20%20%20%20%20%20%20%20%7D%29%3B%0AL.control.scale%28%29.addTo%28map_388feb2f9d9041589ad6ea8aa16be13d%29%3B%0A%0A%20%20%20%20%0A%20%20%20%20var%20tile_layer_463e48c700c54b4dbc7da24828d38841%20%3D%20L.tileLayer%28%0A%20%20%20%20%20%20%20%20%27https%3A//%7Bs%7D.tile.openstreetmap.org/%7Bz%7D/%7Bx%7D/%7By%7D.png%27%2C%0A%20%20%20%20%20%20%20%20%7B%0A%20%20%20%20%20%20%20%20%22attribution%22%3A%20null%2C%0A%20%20%20%20%20%20%20%20%22detectRetina%22%3A%20false%2C%0A%20%20%20%20%20%20%20%20%22maxNativeZoom%22%3A%2018%2C%0A%20%20%20%20%20%20%20%20%22maxZoom%22%3A%2018%2C%0A%20%20%20%20%20%20%20%20%22minZoom%22%3A%200%2C%0A%20%20%20%20%20%20%20%20%22noWrap%22%3A%20false%2C%0A%20%20%20%20%20%20%20%20%22opacity%22%3A%201%2C%0A%20%20%20%20%20%20%20%20%22subdomains%22%3A%20%22abc%22%2C%0A%20%20%20%20%20%20%20%20%22tms%22%3A%20false%0A%7D%29.addTo%28map_388feb2f9d9041589ad6ea8aa16be13d%29%3B%0A%20%20%20%20%0A%20%20%20%20%20%20%20%20%20%20%20%20var%20heat_map_e892aed336f34542b16d80ac7b1f52be%20%3D%20L.heatLayer%28%0A%20%20%20%20%20%20%20%20%20%20%20%20%20%20%20%20%5B%5B38.1%2C%20-85.88%2C%203.0%5D%2C%20%5B38.1%2C%20-85.87%2C%202.0%5D%2C%20%5B38.12%2C%20-85.74%2C%201.0%5D%2C%20%5B38.12%2C%20-85.7%2C%201.0%5D%2C%20%5B38.15%2C%20-85.61%2C%201.0%5D%2C%20%5B38.16%2C%20-85.78%2C%201.0%5D%2C%20%5B38.16%2C%20-85.67%2C%201.0%5D%2C%20%5B38.18%2C%20-85.82%2C%201.0%5D%2C%20%5B38.18%2C%20-85.76%2C%201.0%5D%2C%20%5B38.19%2C%20-85.8%2C%201.0%5D%2C%20%5B38.19%2C%20-85.79%2C%205.0%5D%2C%20%5B38.19%2C%20-85.78%2C%207.0%5D%2C%20%5B38.19%2C%20-85.77%2C%203.0%5D%2C%20%5B38.19%2C%20-85.76%2C%201.0%5D%2C%20%5B38.19%2C%20-85.75%2C%201.0%5D%2C%20%5B38.19%2C%20-85.74%2C%202.0%5D%2C%20%5B38.19%2C%20-85.71%2C%201.0%5D%2C%20%5B38.2%2C%20-85.78%2C%2010.0%5D%2C%20%5B38.2%2C%20-85.77%2C%208.0%5D%2C%20%5B38.2%2C%20-85.76%2C%2077.0%5D%2C%20%5B38.2%2C%20-85.75%2C%202.0%5D%2C%20%5B38.2%2C%20-85.74%2C%2020.0%5D%2C%20%5B38.2%2C%20-85.73%2C%201.0%5D%2C%20%5B38.2%2C%20-85.71%2C%202.0%5D%2C%20%5B38.2%2C%20-85.68%2C%201.0%5D%2C%20%5B38.2%2C%20-85.62%2C%203.0%5D%2C%20%5B38.21%2C%20-85.81%2C%201.0%5D%2C%20%5B38.21%2C%20-85.79%2C%201.0%5D%2C%20%5B38.21%2C%20-85.78%2C%203.0%5D%2C%20%5B38.21%2C%20-85.77%2C%2038.0%5D%2C%20%5B38.21%2C%20-85.76%2C%20496.0%5D%2C%20%5B38.21%2C%20-85.75%2C%20157.0%5D%2C%20%5B38.21%2C%20-85.74%2C%209.0%5D%2C%20%5B38.21%2C%20-85.73%2C%201.0%5D%2C%20%5B38.21%2C%20-85.72%2C%201.0%5D%2C%20%5B38.21%2C%20-85.69%2C%202.0%5D%2C%20%5B38.21%2C%20-85.67%2C%206.0%5D%2C%20%5B38.21%2C%20-85.64%2C%207.0%5D%2C%20%5B38.21%2C%20-85.63%2C%201.0%5D%2C%20%5B38.22%2C%20-85.8%2C%201.0%5D%2C%20%5B38.22%2C%20-85.77%2C%20174.0%5D%2C%20%5B38.22%2C%20-85.76%2C%203002.0%5D%2C%20%5B38.22%2C%20-85.75%2C%20166.0%5D%2C%20%5B38.22%2C%20-85.74%2C%2014.0%5D%2C%20%5B38.22%2C%20-85.73%2C%208.0%5D%2C%20%5B38.22%2C%20-85.71%2C%2015.0%5D%2C%20%5B38.22%2C%20-85.7%2C%2092.0%5D%2C%20%5B38.22%2C%20-85.69%2C%20146.0%5D%2C%20%5B38.22%2C%20-85.68%2C%2014.0%5D%2C%20%5B38.22%2C%20-85.67%2C%203.0%5D%2C%20%5B38.22%2C%20-85.66%2C%201.0%5D%2C%20%5B38.23%2C%20-85.79%2C%203.0%5D%2C%20%5B38.23%2C%20-85.78%2C%202.0%5D%2C%20%5B38.23%2C%20-85.77%2C%2029.0%5D%2C%20%5B38.23%2C%20-85.76%2C%20362.0%5D%2C%20%5B38.23%2C%20-85.75%2C%2090.0%5D%2C%20%5B38.23%2C%20-85.74%2C%2062.0%5D%2C%20%5B38.23%2C%20-85.73%2C%2025.0%5D%2C%20%5B38.23%2C%20-85.72%2C%2028.0%5D%2C%20%5B38.23%2C%20-85.71%2C%20407.0%5D%2C%20%5B38.23%2C%20-85.7%2C%20162.0%5D%2C%20%5B38.23%2C%20-85.69%2C%2016.0%5D%2C%20%5B38.23%2C%20-85.68%2C%202.0%5D%2C%20%5B38.23%2C%20-85.67%2C%202.0%5D%2C%20%5B38.24%2C%20-85.8%2C%202.0%5D%2C%20%5B38.24%2C%20-85.79%2C%201.0%5D%2C%20%5B38.24%2C%20-85.78%2C%202.0%5D%2C%20%5B38.24%2C%20-85.77%2C%207.0%5D%2C%20%5B38.24%2C%20-85.76%2C%20233.0%5D%2C%20%5B38.24%2C%20-85.75%2C%20112.0%5D%2C%20%5B38.24%2C%20-85.74%2C%2036.0%5D%2C%20%5B38.24%2C%20-85.73%2C%20281.0%5D%2C%20%5B38.24%2C%20-85.72%2C%20868.0%5D%2C%20%5B38.24%2C%20-85.71%2C%2050.0%5D%2C%20%5B38.24%2C%20-85.7%2C%2015.0%5D%2C%20%5B38.24%2C%20-85.69%2C%201.0%5D%2C%20%5B38.24%2C%20-85.67%2C%202.0%5D%2C%20%5B38.25%2C%20-85.83%2C%202.0%5D%2C%20%5B38.25%2C%20-85.82%2C%201.0%5D%2C%20%5B38.25%2C%20-85.81%2C%202.0%5D%2C%20%5B38.25%2C%20-85.8%2C%201.0%5D%2C%20%5B38.25%2C%20-85.79%2C%204.0%5D%2C%20%5B38.25%2C%20-85.78%2C%207.0%5D%2C%20%5B38.25%2C%20-85.77%2C%2024.0%5D%2C%20%5B38.25%2C%20-85.76%2C%203414.0%5D%2C%20%5B38.25%2C%20-85.75%2C%201043.0%5D%2C%20%5B38.25%2C%20-85.74%2C%201175.0%5D%2C%20%5B38.25%2C%20-85.73%2C%20191.0%5D%2C%20%5B38.25%2C%20-85.72%2C%2049.0%5D%2C%20%5B38.25%2C%20-85.71%2C%2037.0%5D%2C%20%5B38.25%2C%20-85.7%2C%20113.0%5D%2C%20%5B38.25%2C%20-85.69%2C%2028.0%5D%2C%20%5B38.25%2C%20-85.67%2C%201.0%5D%2C%20%5B38.25%2C%20-85.66%2C%2011.0%5D%2C%20%5B38.25%2C%20-85.65%2C%208.0%5D%2C%20%5B38.25%2C%20-85.63%2C%201.0%5D%2C%20%5B38.26%2C%20-85.82%2C%201.0%5D%2C%20%5B38.26%2C%20-85.81%2C%202.0%5D%2C%20%5B38.26%2C%20-85.8%2C%203.0%5D%2C%20%5B38.26%2C%20-85.79%2C%202.0%5D%2C%20%5B38.26%2C%20-85.78%2C%2010.0%5D%2C%20%5B38.26%2C%20-85.77%2C%2051.0%5D%2C%20%5B38.26%2C%20-85.76%2C%201787.0%5D%2C%20%5B38.26%2C%20-85.75%2C%201449.0%5D%2C%20%5B38.26%2C%20-85.74%2C%20330.0%5D%2C%20%5B38.26%2C%20-85.73%2C%2096.0%5D%2C%20%5B38.26%2C%20-85.72%2C%2033.0%5D%2C%20%5B38.26%2C%20-85.71%2C%2031.0%5D%2C%20%5B38.26%2C%20-85.7%2C%207.0%5D%2C%20%5B38.26%2C%20-85.69%2C%202.0%5D%2C%20%5B38.26%2C%20-85.65%2C%201.0%5D%2C%20%5B38.26%2C%20-85.58%2C%202.0%5D%2C%20%5B38.27%2C%20-85.79%2C%203.0%5D%2C%20%5B38.27%2C%20-85.78%2C%2016.0%5D%2C%20%5B38.27%2C%20-85.75%2C%203.0%5D%2C%20%5B38.27%2C%20-85.74%2C%2032.0%5D%2C%20%5B38.27%2C%20-85.73%2C%2011.0%5D%2C%20%5B38.27%2C%20-85.72%2C%209.0%5D%2C%20%5B38.27%2C%20-85.71%2C%201.0%5D%2C%20%5B38.27%2C%20-85.64%2C%203.0%5D%2C%20%5B38.28%2C%20-85.74%2C%202.0%5D%2C%20%5B38.28%2C%20-85.73%2C%203.0%5D%2C%20%5B38.29%2C%20-85.82%2C%201.0%5D%2C%20%5B38.29%2C%20-85.8%2C%201.0%5D%2C%20%5B38.32%2C%20-85.77%2C%203.0%5D%5D%2C%0A%20%20%20%20%20%20%20%20%20%20%20%20%20%20%20%20%7B%0A%20%20%20%20%20%20%20%20%20%20%20%20%20%20%20%20%20%20%20%20minOpacity%3A%200.5%2C%0A%20%20%20%20%20%20%20%20%20%20%20%20%20%20%20%20%20%20%20%20maxZoom%3A%2013%2C%0A%20%20%20%20%20%20%20%20%20%20%20%20%20%20%20%20%20%20%20%20max%3A%201.0%2C%0A%20%20%20%20%20%20%20%20%20%20%20%20%20%20%20%20%20%20%20%20radius%3A%208%2C%0A%20%20%20%20%20%20%20%20%20%20%20%20%20%20%20%20%20%20%20%20blur%3A%2015%2C%0A%20%20%20%20%20%20%20%20%20%20%20%20%20%20%20%20%20%20%20%20gradient%3A%20null%0A%20%20%20%20%20%20%20%20%20%20%20%20%20%20%20%20%20%20%20%20%7D%29%0A%20%20%20%20%20%20%20%20%20%20%20%20%20%20%20%20.addTo%28map_388feb2f9d9041589ad6ea8aa16be13d%29%3B%0A%20%20%20%20%20%20%20%20%0A%3C/script%3E onload=\"this.contentDocument.open();this.contentDocument.write(    decodeURIComponent(this.getAttribute('data-html')));this.contentDocument.close();\" allowfullscreen webkitallowfullscreen mozallowfullscreen></iframe></div></div>"
            ],
            "text/plain": [
              "<folium.folium.Map at 0x7f5c4cb6aa20>"
            ]
          },
          "metadata": {
            "tags": []
          },
          "execution_count": 286
        }
      ]
    },
    {
      "cell_type": "code",
      "metadata": {
        "colab": {
          "base_uri": "https://localhost:8080/",
          "height": 838
        },
        "id": "sm4fz3kF-BPD",
        "outputId": "9e8f7c63-e9b0-410f-f3f1-f1f34085ff0b"
      },
      "source": [
        "# Company A: Heat Map to identify the concentration of completing dockless rides (drop-off) during workdays\n",
        "df_copy = df_company_a_clean[df_company_a_clean[\"completed_day_of_week\"].isin([\"Monday\", \"Tuesday\", \"Wednesday\", \"Thursday\", \"Friday\"])].copy()\n",
        "df_copy['count'] = 1\n",
        "base_map = generateBaseMap()\n",
        "\n",
        "HeatMap(data=df_copy[['end_latitude', 'end_longitude', 'count']].groupby(['end_latitude', 'end_longitude']).sum().reset_index().values.tolist(), radius=8, max_zoom=13).add_to(base_map)\n",
        "\n",
        "base_map"
      ],
      "execution_count": null,
      "outputs": [
        {
          "output_type": "execute_result",
          "data": {
            "text/html": [
              "<div style=\"width:100%;\"><div style=\"position:relative;width:100%;height:0;padding-bottom:60%;\"><span style=\"color:#565656\">Make this Notebook Trusted to load map: File -> Trust Notebook</span><iframe src=\"about:blank\" style=\"position:absolute;width:100%;height:100%;left:0;top:0;border:none !important;\" data-html=%3C%21DOCTYPE%20html%3E%0A%3Chead%3E%20%20%20%20%0A%20%20%20%20%3Cmeta%20http-equiv%3D%22content-type%22%20content%3D%22text/html%3B%20charset%3DUTF-8%22%20/%3E%0A%20%20%20%20%3Cscript%3EL_PREFER_CANVAS%3Dfalse%3B%20L_NO_TOUCH%3Dfalse%3B%20L_DISABLE_3D%3Dfalse%3B%3C/script%3E%0A%20%20%20%20%3Cscript%20src%3D%22https%3A//cdn.jsdelivr.net/npm/leaflet%401.4.0/dist/leaflet.js%22%3E%3C/script%3E%0A%20%20%20%20%3Cscript%20src%3D%22https%3A//code.jquery.com/jquery-1.12.4.min.js%22%3E%3C/script%3E%0A%20%20%20%20%3Cscript%20src%3D%22https%3A//maxcdn.bootstrapcdn.com/bootstrap/3.2.0/js/bootstrap.min.js%22%3E%3C/script%3E%0A%20%20%20%20%3Cscript%20src%3D%22https%3A//cdnjs.cloudflare.com/ajax/libs/Leaflet.awesome-markers/2.0.2/leaflet.awesome-markers.js%22%3E%3C/script%3E%0A%20%20%20%20%3Clink%20rel%3D%22stylesheet%22%20href%3D%22https%3A//cdn.jsdelivr.net/npm/leaflet%401.4.0/dist/leaflet.css%22/%3E%0A%20%20%20%20%3Clink%20rel%3D%22stylesheet%22%20href%3D%22https%3A//maxcdn.bootstrapcdn.com/bootstrap/3.2.0/css/bootstrap.min.css%22/%3E%0A%20%20%20%20%3Clink%20rel%3D%22stylesheet%22%20href%3D%22https%3A//maxcdn.bootstrapcdn.com/bootstrap/3.2.0/css/bootstrap-theme.min.css%22/%3E%0A%20%20%20%20%3Clink%20rel%3D%22stylesheet%22%20href%3D%22https%3A//maxcdn.bootstrapcdn.com/font-awesome/4.6.3/css/font-awesome.min.css%22/%3E%0A%20%20%20%20%3Clink%20rel%3D%22stylesheet%22%20href%3D%22https%3A//cdnjs.cloudflare.com/ajax/libs/Leaflet.awesome-markers/2.0.2/leaflet.awesome-markers.css%22/%3E%0A%20%20%20%20%3Clink%20rel%3D%22stylesheet%22%20href%3D%22https%3A//rawcdn.githack.com/python-visualization/folium/master/folium/templates/leaflet.awesome.rotate.css%22/%3E%0A%20%20%20%20%3Cstyle%3Ehtml%2C%20body%20%7Bwidth%3A%20100%25%3Bheight%3A%20100%25%3Bmargin%3A%200%3Bpadding%3A%200%3B%7D%3C/style%3E%0A%20%20%20%20%3Cstyle%3E%23map%20%7Bposition%3Aabsolute%3Btop%3A0%3Bbottom%3A0%3Bright%3A0%3Bleft%3A0%3B%7D%3C/style%3E%0A%20%20%20%20%0A%20%20%20%20%3Cmeta%20name%3D%22viewport%22%20content%3D%22width%3Ddevice-width%2C%0A%20%20%20%20%20%20%20%20initial-scale%3D1.0%2C%20maximum-scale%3D1.0%2C%20user-scalable%3Dno%22%20/%3E%0A%20%20%20%20%3Cstyle%3E%23map_1afc4b33937748d1b4bee843f6c0e782%20%7B%0A%20%20%20%20%20%20%20%20position%3A%20relative%3B%0A%20%20%20%20%20%20%20%20width%3A%20100.0%25%3B%0A%20%20%20%20%20%20%20%20height%3A%20100.0%25%3B%0A%20%20%20%20%20%20%20%20left%3A%200.0%25%3B%0A%20%20%20%20%20%20%20%20top%3A%200.0%25%3B%0A%20%20%20%20%20%20%20%20%7D%0A%20%20%20%20%3C/style%3E%0A%20%20%20%20%3Cscript%20src%3D%22https%3A//leaflet.github.io/Leaflet.heat/dist/leaflet-heat.js%22%3E%3C/script%3E%0A%3C/head%3E%0A%3Cbody%3E%20%20%20%20%0A%20%20%20%20%0A%20%20%20%20%3Cdiv%20class%3D%22folium-map%22%20id%3D%22map_1afc4b33937748d1b4bee843f6c0e782%22%20%3E%3C/div%3E%0A%3C/body%3E%0A%3Cscript%3E%20%20%20%20%0A%20%20%20%20%0A%20%20%20%20%0A%20%20%20%20%20%20%20%20var%20bounds%20%3D%20null%3B%0A%20%20%20%20%0A%0A%20%20%20%20var%20map_1afc4b33937748d1b4bee843f6c0e782%20%3D%20L.map%28%0A%20%20%20%20%20%20%20%20%27map_1afc4b33937748d1b4bee843f6c0e782%27%2C%20%7B%0A%20%20%20%20%20%20%20%20center%3A%20%5B38.245%2C%20-85.7647%5D%2C%0A%20%20%20%20%20%20%20%20zoom%3A%2011%2C%0A%20%20%20%20%20%20%20%20maxBounds%3A%20bounds%2C%0A%20%20%20%20%20%20%20%20layers%3A%20%5B%5D%2C%0A%20%20%20%20%20%20%20%20worldCopyJump%3A%20false%2C%0A%20%20%20%20%20%20%20%20crs%3A%20L.CRS.EPSG3857%2C%0A%20%20%20%20%20%20%20%20zoomControl%3A%20true%2C%0A%20%20%20%20%20%20%20%20%7D%29%3B%0AL.control.scale%28%29.addTo%28map_1afc4b33937748d1b4bee843f6c0e782%29%3B%0A%0A%20%20%20%20%0A%20%20%20%20var%20tile_layer_c0aded7d7bad425ba814fc6974b9e408%20%3D%20L.tileLayer%28%0A%20%20%20%20%20%20%20%20%27https%3A//%7Bs%7D.tile.openstreetmap.org/%7Bz%7D/%7Bx%7D/%7By%7D.png%27%2C%0A%20%20%20%20%20%20%20%20%7B%0A%20%20%20%20%20%20%20%20%22attribution%22%3A%20null%2C%0A%20%20%20%20%20%20%20%20%22detectRetina%22%3A%20false%2C%0A%20%20%20%20%20%20%20%20%22maxNativeZoom%22%3A%2018%2C%0A%20%20%20%20%20%20%20%20%22maxZoom%22%3A%2018%2C%0A%20%20%20%20%20%20%20%20%22minZoom%22%3A%200%2C%0A%20%20%20%20%20%20%20%20%22noWrap%22%3A%20false%2C%0A%20%20%20%20%20%20%20%20%22opacity%22%3A%201%2C%0A%20%20%20%20%20%20%20%20%22subdomains%22%3A%20%22abc%22%2C%0A%20%20%20%20%20%20%20%20%22tms%22%3A%20false%0A%7D%29.addTo%28map_1afc4b33937748d1b4bee843f6c0e782%29%3B%0A%20%20%20%20%0A%20%20%20%20%20%20%20%20%20%20%20%20var%20heat_map_66f3882dd6fa47c8a389403604504541%20%3D%20L.heatLayer%28%0A%20%20%20%20%20%20%20%20%20%20%20%20%20%20%20%20%5B%5B38.1%2C%20-85.88%2C%202.0%5D%2C%20%5B38.1%2C%20-85.87%2C%203.0%5D%2C%20%5B38.12%2C%20-85.74%2C%201.0%5D%2C%20%5B38.12%2C%20-85.7%2C%201.0%5D%2C%20%5B38.15%2C%20-85.61%2C%201.0%5D%2C%20%5B38.16%2C%20-85.83%2C%201.0%5D%2C%20%5B38.16%2C%20-85.78%2C%201.0%5D%2C%20%5B38.16%2C%20-85.67%2C%201.0%5D%2C%20%5B38.18%2C%20-85.76%2C%201.0%5D%2C%20%5B38.19%2C%20-85.8%2C%201.0%5D%2C%20%5B38.19%2C%20-85.79%2C%208.0%5D%2C%20%5B38.19%2C%20-85.78%2C%207.0%5D%2C%20%5B38.19%2C%20-85.77%2C%203.0%5D%2C%20%5B38.19%2C%20-85.75%2C%201.0%5D%2C%20%5B38.19%2C%20-85.74%2C%202.0%5D%2C%20%5B38.19%2C%20-85.71%2C%202.0%5D%2C%20%5B38.2%2C%20-85.78%2C%2014.0%5D%2C%20%5B38.2%2C%20-85.77%2C%2011.0%5D%2C%20%5B38.2%2C%20-85.76%2C%2075.0%5D%2C%20%5B38.2%2C%20-85.75%2C%202.0%5D%2C%20%5B38.2%2C%20-85.74%2C%2019.0%5D%2C%20%5B38.2%2C%20-85.73%2C%201.0%5D%2C%20%5B38.2%2C%20-85.71%2C%201.0%5D%2C%20%5B38.2%2C%20-85.68%2C%201.0%5D%2C%20%5B38.2%2C%20-85.67%2C%203.0%5D%2C%20%5B38.2%2C%20-85.66%2C%203.0%5D%2C%20%5B38.2%2C%20-85.62%2C%203.0%5D%2C%20%5B38.21%2C%20-85.81%2C%201.0%5D%2C%20%5B38.21%2C%20-85.78%2C%2010.0%5D%2C%20%5B38.21%2C%20-85.77%2C%2041.0%5D%2C%20%5B38.21%2C%20-85.76%2C%20599.0%5D%2C%20%5B38.21%2C%20-85.75%2C%20214.0%5D%2C%20%5B38.21%2C%20-85.74%2C%2021.0%5D%2C%20%5B38.21%2C%20-85.73%2C%201.0%5D%2C%20%5B38.21%2C%20-85.72%2C%201.0%5D%2C%20%5B38.21%2C%20-85.7%2C%204.0%5D%2C%20%5B38.21%2C%20-85.69%2C%202.0%5D%2C%20%5B38.21%2C%20-85.67%2C%208.0%5D%2C%20%5B38.21%2C%20-85.64%2C%206.0%5D%2C%20%5B38.22%2C%20-85.8%2C%201.0%5D%2C%20%5B38.22%2C%20-85.79%2C%201.0%5D%2C%20%5B38.22%2C%20-85.77%2C%20225.0%5D%2C%20%5B38.22%2C%20-85.76%2C%202710.0%5D%2C%20%5B38.22%2C%20-85.75%2C%20197.0%5D%2C%20%5B38.22%2C%20-85.74%2C%2038.0%5D%2C%20%5B38.22%2C%20-85.73%2C%2011.0%5D%2C%20%5B38.22%2C%20-85.72%2C%201.0%5D%2C%20%5B38.22%2C%20-85.71%2C%2024.0%5D%2C%20%5B38.22%2C%20-85.7%2C%20106.0%5D%2C%20%5B38.22%2C%20-85.69%2C%20110.0%5D%2C%20%5B38.22%2C%20-85.68%2C%2025.0%5D%2C%20%5B38.22%2C%20-85.67%2C%202.0%5D%2C%20%5B38.22%2C%20-85.66%2C%201.0%5D%2C%20%5B38.23%2C%20-85.8%2C%201.0%5D%2C%20%5B38.23%2C%20-85.79%2C%203.0%5D%2C%20%5B38.23%2C%20-85.78%2C%202.0%5D%2C%20%5B38.23%2C%20-85.77%2C%2055.0%5D%2C%20%5B38.23%2C%20-85.76%2C%20364.0%5D%2C%20%5B38.23%2C%20-85.75%2C%2088.0%5D%2C%20%5B38.23%2C%20-85.74%2C%2080.0%5D%2C%20%5B38.23%2C%20-85.73%2C%2045.0%5D%2C%20%5B38.23%2C%20-85.72%2C%2045.0%5D%2C%20%5B38.23%2C%20-85.71%2C%20359.0%5D%2C%20%5B38.23%2C%20-85.7%2C%20151.0%5D%2C%20%5B38.23%2C%20-85.69%2C%2025.0%5D%2C%20%5B38.23%2C%20-85.68%2C%204.0%5D%2C%20%5B38.23%2C%20-85.67%2C%202.0%5D%2C%20%5B38.24%2C%20-85.8%2C%203.0%5D%2C%20%5B38.24%2C%20-85.79%2C%202.0%5D%2C%20%5B38.24%2C%20-85.78%2C%202.0%5D%2C%20%5B38.24%2C%20-85.77%2C%2010.0%5D%2C%20%5B38.24%2C%20-85.76%2C%20322.0%5D%2C%20%5B38.24%2C%20-85.75%2C%20167.0%5D%2C%20%5B38.24%2C%20-85.74%2C%2066.0%5D%2C%20%5B38.24%2C%20-85.73%2C%20290.0%5D%2C%20%5B38.24%2C%20-85.72%2C%20763.0%5D%2C%20%5B38.24%2C%20-85.71%2C%2070.0%5D%2C%20%5B38.24%2C%20-85.7%2C%2024.0%5D%2C%20%5B38.24%2C%20-85.69%2C%204.0%5D%2C%20%5B38.24%2C%20-85.67%2C%202.0%5D%2C%20%5B38.25%2C%20-85.83%2C%202.0%5D%2C%20%5B38.25%2C%20-85.81%2C%203.0%5D%2C%20%5B38.25%2C%20-85.8%2C%202.0%5D%2C%20%5B38.25%2C%20-85.79%2C%2011.0%5D%2C%20%5B38.25%2C%20-85.78%2C%2016.0%5D%2C%20%5B38.25%2C%20-85.77%2C%2039.0%5D%2C%20%5B38.25%2C%20-85.76%2C%203182.0%5D%2C%20%5B38.25%2C%20-85.75%2C%201131.0%5D%2C%20%5B38.25%2C%20-85.74%2C%201068.0%5D%2C%20%5B38.25%2C%20-85.73%2C%20274.0%5D%2C%20%5B38.25%2C%20-85.72%2C%2054.0%5D%2C%20%5B38.25%2C%20-85.71%2C%2035.0%5D%2C%20%5B38.25%2C%20-85.7%2C%2094.0%5D%2C%20%5B38.25%2C%20-85.69%2C%2046.0%5D%2C%20%5B38.25%2C%20-85.68%2C%201.0%5D%2C%20%5B38.25%2C%20-85.67%2C%201.0%5D%2C%20%5B38.25%2C%20-85.66%2C%208.0%5D%2C%20%5B38.25%2C%20-85.65%2C%208.0%5D%2C%20%5B38.25%2C%20-85.63%2C%201.0%5D%2C%20%5B38.25%2C%20-85.58%2C%202.0%5D%2C%20%5B38.26%2C%20-85.82%2C%201.0%5D%2C%20%5B38.26%2C%20-85.81%2C%201.0%5D%2C%20%5B38.26%2C%20-85.8%2C%204.0%5D%2C%20%5B38.26%2C%20-85.79%2C%204.0%5D%2C%20%5B38.26%2C%20-85.78%2C%2039.0%5D%2C%20%5B38.26%2C%20-85.77%2C%2062.0%5D%2C%20%5B38.26%2C%20-85.76%2C%201673.0%5D%2C%20%5B38.26%2C%20-85.75%2C%201379.0%5D%2C%20%5B38.26%2C%20-85.74%2C%20374.0%5D%2C%20%5B38.26%2C%20-85.73%2C%20136.0%5D%2C%20%5B38.26%2C%20-85.72%2C%2050.0%5D%2C%20%5B38.26%2C%20-85.71%2C%2035.0%5D%2C%20%5B38.26%2C%20-85.7%2C%2010.0%5D%2C%20%5B38.26%2C%20-85.69%2C%202.0%5D%2C%20%5B38.26%2C%20-85.65%2C%201.0%5D%2C%20%5B38.27%2C%20-85.79%2C%204.0%5D%2C%20%5B38.27%2C%20-85.78%2C%2019.0%5D%2C%20%5B38.27%2C%20-85.75%2C%202.0%5D%2C%20%5B38.27%2C%20-85.74%2C%2036.0%5D%2C%20%5B38.27%2C%20-85.73%2C%208.0%5D%2C%20%5B38.27%2C%20-85.72%2C%2011.0%5D%2C%20%5B38.27%2C%20-85.71%2C%203.0%5D%2C%20%5B38.27%2C%20-85.64%2C%204.0%5D%2C%20%5B38.28%2C%20-85.74%2C%202.0%5D%2C%20%5B38.28%2C%20-85.73%2C%201.0%5D%2C%20%5B38.28%2C%20-85.72%2C%201.0%5D%2C%20%5B38.29%2C%20-85.81%2C%201.0%5D%2C%20%5B38.29%2C%20-85.8%2C%201.0%5D%2C%20%5B38.32%2C%20-85.77%2C%203.0%5D%5D%2C%0A%20%20%20%20%20%20%20%20%20%20%20%20%20%20%20%20%7B%0A%20%20%20%20%20%20%20%20%20%20%20%20%20%20%20%20%20%20%20%20minOpacity%3A%200.5%2C%0A%20%20%20%20%20%20%20%20%20%20%20%20%20%20%20%20%20%20%20%20maxZoom%3A%2013%2C%0A%20%20%20%20%20%20%20%20%20%20%20%20%20%20%20%20%20%20%20%20max%3A%201.0%2C%0A%20%20%20%20%20%20%20%20%20%20%20%20%20%20%20%20%20%20%20%20radius%3A%208%2C%0A%20%20%20%20%20%20%20%20%20%20%20%20%20%20%20%20%20%20%20%20blur%3A%2015%2C%0A%20%20%20%20%20%20%20%20%20%20%20%20%20%20%20%20%20%20%20%20gradient%3A%20null%0A%20%20%20%20%20%20%20%20%20%20%20%20%20%20%20%20%20%20%20%20%7D%29%0A%20%20%20%20%20%20%20%20%20%20%20%20%20%20%20%20.addTo%28map_1afc4b33937748d1b4bee843f6c0e782%29%3B%0A%20%20%20%20%20%20%20%20%0A%3C/script%3E onload=\"this.contentDocument.open();this.contentDocument.write(    decodeURIComponent(this.getAttribute('data-html')));this.contentDocument.close();\" allowfullscreen webkitallowfullscreen mozallowfullscreen></iframe></div></div>"
            ],
            "text/plain": [
              "<folium.folium.Map at 0x7f5c4f85ef98>"
            ]
          },
          "metadata": {
            "tags": []
          },
          "execution_count": 287
        }
      ]
    },
    {
      "cell_type": "code",
      "metadata": {
        "colab": {
          "base_uri": "https://localhost:8080/",
          "height": 838
        },
        "id": "kLvt7U_6Q-ja",
        "outputId": "7faec767-5b52-42bc-aa05-d580823e6395"
      },
      "source": [
        "# Company A: Heat Map to identify the concentration of starting dockless rides (pick-up) during weekends\n",
        "df_copy = df_company_a_clean[df_company_a_clean[\"start_day_of_week\"].isin([\"Saturday\", \"Sunday\"])].copy()\n",
        "df_copy['count'] = 1\n",
        "base_map = generateBaseMap()\n",
        "\n",
        "HeatMap(data=df_copy[['start_latitude', 'start_longitude', 'count']].groupby(['start_latitude', 'start_longitude']).sum().reset_index().values.tolist(), radius=8, max_zoom=13).add_to(base_map)\n",
        "\n",
        "base_map"
      ],
      "execution_count": null,
      "outputs": [
        {
          "output_type": "execute_result",
          "data": {
            "text/html": [
              "<div style=\"width:100%;\"><div style=\"position:relative;width:100%;height:0;padding-bottom:60%;\"><span style=\"color:#565656\">Make this Notebook Trusted to load map: File -> Trust Notebook</span><iframe src=\"about:blank\" style=\"position:absolute;width:100%;height:100%;left:0;top:0;border:none !important;\" data-html=%3C%21DOCTYPE%20html%3E%0A%3Chead%3E%20%20%20%20%0A%20%20%20%20%3Cmeta%20http-equiv%3D%22content-type%22%20content%3D%22text/html%3B%20charset%3DUTF-8%22%20/%3E%0A%20%20%20%20%3Cscript%3EL_PREFER_CANVAS%3Dfalse%3B%20L_NO_TOUCH%3Dfalse%3B%20L_DISABLE_3D%3Dfalse%3B%3C/script%3E%0A%20%20%20%20%3Cscript%20src%3D%22https%3A//cdn.jsdelivr.net/npm/leaflet%401.4.0/dist/leaflet.js%22%3E%3C/script%3E%0A%20%20%20%20%3Cscript%20src%3D%22https%3A//code.jquery.com/jquery-1.12.4.min.js%22%3E%3C/script%3E%0A%20%20%20%20%3Cscript%20src%3D%22https%3A//maxcdn.bootstrapcdn.com/bootstrap/3.2.0/js/bootstrap.min.js%22%3E%3C/script%3E%0A%20%20%20%20%3Cscript%20src%3D%22https%3A//cdnjs.cloudflare.com/ajax/libs/Leaflet.awesome-markers/2.0.2/leaflet.awesome-markers.js%22%3E%3C/script%3E%0A%20%20%20%20%3Clink%20rel%3D%22stylesheet%22%20href%3D%22https%3A//cdn.jsdelivr.net/npm/leaflet%401.4.0/dist/leaflet.css%22/%3E%0A%20%20%20%20%3Clink%20rel%3D%22stylesheet%22%20href%3D%22https%3A//maxcdn.bootstrapcdn.com/bootstrap/3.2.0/css/bootstrap.min.css%22/%3E%0A%20%20%20%20%3Clink%20rel%3D%22stylesheet%22%20href%3D%22https%3A//maxcdn.bootstrapcdn.com/bootstrap/3.2.0/css/bootstrap-theme.min.css%22/%3E%0A%20%20%20%20%3Clink%20rel%3D%22stylesheet%22%20href%3D%22https%3A//maxcdn.bootstrapcdn.com/font-awesome/4.6.3/css/font-awesome.min.css%22/%3E%0A%20%20%20%20%3Clink%20rel%3D%22stylesheet%22%20href%3D%22https%3A//cdnjs.cloudflare.com/ajax/libs/Leaflet.awesome-markers/2.0.2/leaflet.awesome-markers.css%22/%3E%0A%20%20%20%20%3Clink%20rel%3D%22stylesheet%22%20href%3D%22https%3A//rawcdn.githack.com/python-visualization/folium/master/folium/templates/leaflet.awesome.rotate.css%22/%3E%0A%20%20%20%20%3Cstyle%3Ehtml%2C%20body%20%7Bwidth%3A%20100%25%3Bheight%3A%20100%25%3Bmargin%3A%200%3Bpadding%3A%200%3B%7D%3C/style%3E%0A%20%20%20%20%3Cstyle%3E%23map%20%7Bposition%3Aabsolute%3Btop%3A0%3Bbottom%3A0%3Bright%3A0%3Bleft%3A0%3B%7D%3C/style%3E%0A%20%20%20%20%0A%20%20%20%20%3Cmeta%20name%3D%22viewport%22%20content%3D%22width%3Ddevice-width%2C%0A%20%20%20%20%20%20%20%20initial-scale%3D1.0%2C%20maximum-scale%3D1.0%2C%20user-scalable%3Dno%22%20/%3E%0A%20%20%20%20%3Cstyle%3E%23map_54d9344e73d14412bc4be70ccb19804d%20%7B%0A%20%20%20%20%20%20%20%20position%3A%20relative%3B%0A%20%20%20%20%20%20%20%20width%3A%20100.0%25%3B%0A%20%20%20%20%20%20%20%20height%3A%20100.0%25%3B%0A%20%20%20%20%20%20%20%20left%3A%200.0%25%3B%0A%20%20%20%20%20%20%20%20top%3A%200.0%25%3B%0A%20%20%20%20%20%20%20%20%7D%0A%20%20%20%20%3C/style%3E%0A%20%20%20%20%3Cscript%20src%3D%22https%3A//leaflet.github.io/Leaflet.heat/dist/leaflet-heat.js%22%3E%3C/script%3E%0A%3C/head%3E%0A%3Cbody%3E%20%20%20%20%0A%20%20%20%20%0A%20%20%20%20%3Cdiv%20class%3D%22folium-map%22%20id%3D%22map_54d9344e73d14412bc4be70ccb19804d%22%20%3E%3C/div%3E%0A%3C/body%3E%0A%3Cscript%3E%20%20%20%20%0A%20%20%20%20%0A%20%20%20%20%0A%20%20%20%20%20%20%20%20var%20bounds%20%3D%20null%3B%0A%20%20%20%20%0A%0A%20%20%20%20var%20map_54d9344e73d14412bc4be70ccb19804d%20%3D%20L.map%28%0A%20%20%20%20%20%20%20%20%27map_54d9344e73d14412bc4be70ccb19804d%27%2C%20%7B%0A%20%20%20%20%20%20%20%20center%3A%20%5B38.245%2C%20-85.7647%5D%2C%0A%20%20%20%20%20%20%20%20zoom%3A%2011%2C%0A%20%20%20%20%20%20%20%20maxBounds%3A%20bounds%2C%0A%20%20%20%20%20%20%20%20layers%3A%20%5B%5D%2C%0A%20%20%20%20%20%20%20%20worldCopyJump%3A%20false%2C%0A%20%20%20%20%20%20%20%20crs%3A%20L.CRS.EPSG3857%2C%0A%20%20%20%20%20%20%20%20zoomControl%3A%20true%2C%0A%20%20%20%20%20%20%20%20%7D%29%3B%0AL.control.scale%28%29.addTo%28map_54d9344e73d14412bc4be70ccb19804d%29%3B%0A%0A%20%20%20%20%0A%20%20%20%20var%20tile_layer_4d1f103150a74aefa0a7efef57fa55a6%20%3D%20L.tileLayer%28%0A%20%20%20%20%20%20%20%20%27https%3A//%7Bs%7D.tile.openstreetmap.org/%7Bz%7D/%7Bx%7D/%7By%7D.png%27%2C%0A%20%20%20%20%20%20%20%20%7B%0A%20%20%20%20%20%20%20%20%22attribution%22%3A%20null%2C%0A%20%20%20%20%20%20%20%20%22detectRetina%22%3A%20false%2C%0A%20%20%20%20%20%20%20%20%22maxNativeZoom%22%3A%2018%2C%0A%20%20%20%20%20%20%20%20%22maxZoom%22%3A%2018%2C%0A%20%20%20%20%20%20%20%20%22minZoom%22%3A%200%2C%0A%20%20%20%20%20%20%20%20%22noWrap%22%3A%20false%2C%0A%20%20%20%20%20%20%20%20%22opacity%22%3A%201%2C%0A%20%20%20%20%20%20%20%20%22subdomains%22%3A%20%22abc%22%2C%0A%20%20%20%20%20%20%20%20%22tms%22%3A%20false%0A%7D%29.addTo%28map_54d9344e73d14412bc4be70ccb19804d%29%3B%0A%20%20%20%20%0A%20%20%20%20%20%20%20%20%20%20%20%20var%20heat_map_d641ffc9e32e407384c490c5e93a43c3%20%3D%20L.heatLayer%28%0A%20%20%20%20%20%20%20%20%20%20%20%20%20%20%20%20%5B%5B38.12%2C%20-85.69%2C%201.0%5D%2C%20%5B38.15%2C%20-85.9%2C%201.0%5D%2C%20%5B38.15%2C%20-85.61%2C%201.0%5D%2C%20%5B38.19%2C%20-85.79%2C%201.0%5D%2C%20%5B38.19%2C%20-85.78%2C%202.0%5D%2C%20%5B38.19%2C%20-85.77%2C%202.0%5D%2C%20%5B38.19%2C%20-85.71%2C%202.0%5D%2C%20%5B38.2%2C%20-85.79%2C%201.0%5D%2C%20%5B38.2%2C%20-85.78%2C%204.0%5D%2C%20%5B38.2%2C%20-85.76%2C%2041.0%5D%2C%20%5B38.2%2C%20-85.75%2C%2019.0%5D%2C%20%5B38.2%2C%20-85.74%2C%20172.0%5D%2C%20%5B38.2%2C%20-85.66%2C%202.0%5D%2C%20%5B38.2%2C%20-85.64%2C%201.0%5D%2C%20%5B38.21%2C%20-85.81%2C%201.0%5D%2C%20%5B38.21%2C%20-85.78%2C%202.0%5D%2C%20%5B38.21%2C%20-85.77%2C%2018.0%5D%2C%20%5B38.21%2C%20-85.76%2C%2096.0%5D%2C%20%5B38.21%2C%20-85.75%2C%2074.0%5D%2C%20%5B38.21%2C%20-85.74%2C%204.0%5D%2C%20%5B38.21%2C%20-85.7%2C%202.0%5D%2C%20%5B38.21%2C%20-85.68%2C%201.0%5D%2C%20%5B38.21%2C%20-85.67%2C%207.0%5D%2C%20%5B38.22%2C%20-85.77%2C%2043.0%5D%2C%20%5B38.22%2C%20-85.76%2C%20591.0%5D%2C%20%5B38.22%2C%20-85.75%2C%2039.0%5D%2C%20%5B38.22%2C%20-85.74%2C%2012.0%5D%2C%20%5B38.22%2C%20-85.73%2C%201.0%5D%2C%20%5B38.22%2C%20-85.71%2C%209.0%5D%2C%20%5B38.22%2C%20-85.7%2C%2025.0%5D%2C%20%5B38.22%2C%20-85.69%2C%20145.0%5D%2C%20%5B38.22%2C%20-85.68%2C%208.0%5D%2C%20%5B38.22%2C%20-85.67%2C%204.0%5D%2C%20%5B38.22%2C%20-85.66%2C%201.0%5D%2C%20%5B38.22%2C%20-85.65%2C%201.0%5D%2C%20%5B38.23%2C%20-85.77%2C%206.0%5D%2C%20%5B38.23%2C%20-85.76%2C%20153.0%5D%2C%20%5B38.23%2C%20-85.75%2C%2042.0%5D%2C%20%5B38.23%2C%20-85.74%2C%2037.0%5D%2C%20%5B38.23%2C%20-85.73%2C%2014.0%5D%2C%20%5B38.23%2C%20-85.72%2C%2018.0%5D%2C%20%5B38.23%2C%20-85.71%2C%20250.0%5D%2C%20%5B38.23%2C%20-85.7%2C%20172.0%5D%2C%20%5B38.23%2C%20-85.69%2C%2011.0%5D%2C%20%5B38.23%2C%20-85.68%2C%204.0%5D%2C%20%5B38.23%2C%20-85.67%2C%204.0%5D%2C%20%5B38.24%2C%20-85.8%2C%202.0%5D%2C%20%5B38.24%2C%20-85.79%2C%202.0%5D%2C%20%5B38.24%2C%20-85.78%2C%201.0%5D%2C%20%5B38.24%2C%20-85.77%2C%202.0%5D%2C%20%5B38.24%2C%20-85.76%2C%2087.0%5D%2C%20%5B38.24%2C%20-85.75%2C%2035.0%5D%2C%20%5B38.24%2C%20-85.74%2C%2014.0%5D%2C%20%5B38.24%2C%20-85.73%2C%20158.0%5D%2C%20%5B38.24%2C%20-85.72%2C%20576.0%5D%2C%20%5B38.24%2C%20-85.71%2C%2029.0%5D%2C%20%5B38.24%2C%20-85.7%2C%2025.0%5D%2C%20%5B38.24%2C%20-85.69%2C%201.0%5D%2C%20%5B38.24%2C%20-85.67%2C%203.0%5D%2C%20%5B38.24%2C%20-85.63%2C%201.0%5D%2C%20%5B38.25%2C%20-85.79%2C%202.0%5D%2C%20%5B38.25%2C%20-85.78%2C%201.0%5D%2C%20%5B38.25%2C%20-85.77%2C%2011.0%5D%2C%20%5B38.25%2C%20-85.76%2C%20911.0%5D%2C%20%5B38.25%2C%20-85.75%2C%20372.0%5D%2C%20%5B38.25%2C%20-85.74%2C%20801.0%5D%2C%20%5B38.25%2C%20-85.73%2C%20127.0%5D%2C%20%5B38.25%2C%20-85.72%2C%2031.0%5D%2C%20%5B38.25%2C%20-85.71%2C%2031.0%5D%2C%20%5B38.25%2C%20-85.7%2C%2076.0%5D%2C%20%5B38.25%2C%20-85.69%2C%2011.0%5D%2C%20%5B38.25%2C%20-85.67%2C%209.0%5D%2C%20%5B38.25%2C%20-85.65%2C%206.0%5D%2C%20%5B38.25%2C%20-85.63%2C%202.0%5D%2C%20%5B38.26%2C%20-85.81%2C%201.0%5D%2C%20%5B38.26%2C%20-85.78%2C%203.0%5D%2C%20%5B38.26%2C%20-85.77%2C%2016.0%5D%2C%20%5B38.26%2C%20-85.76%2C%20770.0%5D%2C%20%5B38.26%2C%20-85.75%2C%20659.0%5D%2C%20%5B38.26%2C%20-85.74%2C%20230.0%5D%2C%20%5B38.26%2C%20-85.73%2C%2082.0%5D%2C%20%5B38.26%2C%20-85.72%2C%2041.0%5D%2C%20%5B38.26%2C%20-85.71%2C%2013.0%5D%2C%20%5B38.26%2C%20-85.7%2C%204.0%5D%2C%20%5B38.26%2C%20-85.69%2C%204.0%5D%2C%20%5B38.26%2C%20-85.67%2C%202.0%5D%2C%20%5B38.26%2C%20-85.65%2C%202.0%5D%2C%20%5B38.27%2C%20-85.79%2C%201.0%5D%2C%20%5B38.27%2C%20-85.75%2C%203.0%5D%2C%20%5B38.27%2C%20-85.74%2C%2020.0%5D%2C%20%5B38.27%2C%20-85.73%2C%203.0%5D%2C%20%5B38.27%2C%20-85.72%2C%201.0%5D%2C%20%5B38.27%2C%20-85.7%2C%202.0%5D%2C%20%5B38.27%2C%20-85.67%2C%201.0%5D%2C%20%5B38.28%2C%20-85.7%2C%202.0%5D%2C%20%5B38.29%2C%20-85.67%2C%202.0%5D%5D%2C%0A%20%20%20%20%20%20%20%20%20%20%20%20%20%20%20%20%7B%0A%20%20%20%20%20%20%20%20%20%20%20%20%20%20%20%20%20%20%20%20minOpacity%3A%200.5%2C%0A%20%20%20%20%20%20%20%20%20%20%20%20%20%20%20%20%20%20%20%20maxZoom%3A%2013%2C%0A%20%20%20%20%20%20%20%20%20%20%20%20%20%20%20%20%20%20%20%20max%3A%201.0%2C%0A%20%20%20%20%20%20%20%20%20%20%20%20%20%20%20%20%20%20%20%20radius%3A%208%2C%0A%20%20%20%20%20%20%20%20%20%20%20%20%20%20%20%20%20%20%20%20blur%3A%2015%2C%0A%20%20%20%20%20%20%20%20%20%20%20%20%20%20%20%20%20%20%20%20gradient%3A%20null%0A%20%20%20%20%20%20%20%20%20%20%20%20%20%20%20%20%20%20%20%20%7D%29%0A%20%20%20%20%20%20%20%20%20%20%20%20%20%20%20%20.addTo%28map_54d9344e73d14412bc4be70ccb19804d%29%3B%0A%20%20%20%20%20%20%20%20%0A%3C/script%3E onload=\"this.contentDocument.open();this.contentDocument.write(    decodeURIComponent(this.getAttribute('data-html')));this.contentDocument.close();\" allowfullscreen webkitallowfullscreen mozallowfullscreen></iframe></div></div>"
            ],
            "text/plain": [
              "<folium.folium.Map at 0x7f5c4f517c50>"
            ]
          },
          "metadata": {
            "tags": []
          },
          "execution_count": 285
        }
      ]
    },
    {
      "cell_type": "code",
      "metadata": {
        "colab": {
          "base_uri": "https://localhost:8080/",
          "height": 838
        },
        "id": "wH1LLfLrwGc_",
        "outputId": "5270deb6-3eac-41a6-ef1f-10e45f11a62d"
      },
      "source": [
        "# Company A: Heat Map to identify the concentration of starting dockless rides (drop-off) during weekends\n",
        "df_copy = df_company_a_clean[df_company_a_clean[\"completed_day_of_week\"].isin([\"Saturday\", \"Sunday\"])].copy()\n",
        "df_copy['count'] = 1\n",
        "base_map = generateBaseMap()\n",
        "\n",
        "HeatMap(data=df_copy[['end_latitude', 'end_longitude', 'count']].groupby(['end_latitude', 'end_longitude']).sum().reset_index().values.tolist(), radius=8, max_zoom=13).add_to(base_map)\n",
        "\n",
        "base_map"
      ],
      "execution_count": null,
      "outputs": [
        {
          "output_type": "execute_result",
          "data": {
            "text/html": [
              "<div style=\"width:100%;\"><div style=\"position:relative;width:100%;height:0;padding-bottom:60%;\"><span style=\"color:#565656\">Make this Notebook Trusted to load map: File -> Trust Notebook</span><iframe src=\"about:blank\" style=\"position:absolute;width:100%;height:100%;left:0;top:0;border:none !important;\" data-html=%3C%21DOCTYPE%20html%3E%0A%3Chead%3E%20%20%20%20%0A%20%20%20%20%3Cmeta%20http-equiv%3D%22content-type%22%20content%3D%22text/html%3B%20charset%3DUTF-8%22%20/%3E%0A%20%20%20%20%3Cscript%3EL_PREFER_CANVAS%3Dfalse%3B%20L_NO_TOUCH%3Dfalse%3B%20L_DISABLE_3D%3Dfalse%3B%3C/script%3E%0A%20%20%20%20%3Cscript%20src%3D%22https%3A//cdn.jsdelivr.net/npm/leaflet%401.4.0/dist/leaflet.js%22%3E%3C/script%3E%0A%20%20%20%20%3Cscript%20src%3D%22https%3A//code.jquery.com/jquery-1.12.4.min.js%22%3E%3C/script%3E%0A%20%20%20%20%3Cscript%20src%3D%22https%3A//maxcdn.bootstrapcdn.com/bootstrap/3.2.0/js/bootstrap.min.js%22%3E%3C/script%3E%0A%20%20%20%20%3Cscript%20src%3D%22https%3A//cdnjs.cloudflare.com/ajax/libs/Leaflet.awesome-markers/2.0.2/leaflet.awesome-markers.js%22%3E%3C/script%3E%0A%20%20%20%20%3Clink%20rel%3D%22stylesheet%22%20href%3D%22https%3A//cdn.jsdelivr.net/npm/leaflet%401.4.0/dist/leaflet.css%22/%3E%0A%20%20%20%20%3Clink%20rel%3D%22stylesheet%22%20href%3D%22https%3A//maxcdn.bootstrapcdn.com/bootstrap/3.2.0/css/bootstrap.min.css%22/%3E%0A%20%20%20%20%3Clink%20rel%3D%22stylesheet%22%20href%3D%22https%3A//maxcdn.bootstrapcdn.com/bootstrap/3.2.0/css/bootstrap-theme.min.css%22/%3E%0A%20%20%20%20%3Clink%20rel%3D%22stylesheet%22%20href%3D%22https%3A//maxcdn.bootstrapcdn.com/font-awesome/4.6.3/css/font-awesome.min.css%22/%3E%0A%20%20%20%20%3Clink%20rel%3D%22stylesheet%22%20href%3D%22https%3A//cdnjs.cloudflare.com/ajax/libs/Leaflet.awesome-markers/2.0.2/leaflet.awesome-markers.css%22/%3E%0A%20%20%20%20%3Clink%20rel%3D%22stylesheet%22%20href%3D%22https%3A//rawcdn.githack.com/python-visualization/folium/master/folium/templates/leaflet.awesome.rotate.css%22/%3E%0A%20%20%20%20%3Cstyle%3Ehtml%2C%20body%20%7Bwidth%3A%20100%25%3Bheight%3A%20100%25%3Bmargin%3A%200%3Bpadding%3A%200%3B%7D%3C/style%3E%0A%20%20%20%20%3Cstyle%3E%23map%20%7Bposition%3Aabsolute%3Btop%3A0%3Bbottom%3A0%3Bright%3A0%3Bleft%3A0%3B%7D%3C/style%3E%0A%20%20%20%20%0A%20%20%20%20%3Cmeta%20name%3D%22viewport%22%20content%3D%22width%3Ddevice-width%2C%0A%20%20%20%20%20%20%20%20initial-scale%3D1.0%2C%20maximum-scale%3D1.0%2C%20user-scalable%3Dno%22%20/%3E%0A%20%20%20%20%3Cstyle%3E%23map_873707ca96eb44c1b08312ee7cbee80e%20%7B%0A%20%20%20%20%20%20%20%20position%3A%20relative%3B%0A%20%20%20%20%20%20%20%20width%3A%20100.0%25%3B%0A%20%20%20%20%20%20%20%20height%3A%20100.0%25%3B%0A%20%20%20%20%20%20%20%20left%3A%200.0%25%3B%0A%20%20%20%20%20%20%20%20top%3A%200.0%25%3B%0A%20%20%20%20%20%20%20%20%7D%0A%20%20%20%20%3C/style%3E%0A%20%20%20%20%3Cscript%20src%3D%22https%3A//leaflet.github.io/Leaflet.heat/dist/leaflet-heat.js%22%3E%3C/script%3E%0A%3C/head%3E%0A%3Cbody%3E%20%20%20%20%0A%20%20%20%20%0A%20%20%20%20%3Cdiv%20class%3D%22folium-map%22%20id%3D%22map_873707ca96eb44c1b08312ee7cbee80e%22%20%3E%3C/div%3E%0A%3C/body%3E%0A%3Cscript%3E%20%20%20%20%0A%20%20%20%20%0A%20%20%20%20%0A%20%20%20%20%20%20%20%20var%20bounds%20%3D%20null%3B%0A%20%20%20%20%0A%0A%20%20%20%20var%20map_873707ca96eb44c1b08312ee7cbee80e%20%3D%20L.map%28%0A%20%20%20%20%20%20%20%20%27map_873707ca96eb44c1b08312ee7cbee80e%27%2C%20%7B%0A%20%20%20%20%20%20%20%20center%3A%20%5B38.245%2C%20-85.7647%5D%2C%0A%20%20%20%20%20%20%20%20zoom%3A%2011%2C%0A%20%20%20%20%20%20%20%20maxBounds%3A%20bounds%2C%0A%20%20%20%20%20%20%20%20layers%3A%20%5B%5D%2C%0A%20%20%20%20%20%20%20%20worldCopyJump%3A%20false%2C%0A%20%20%20%20%20%20%20%20crs%3A%20L.CRS.EPSG3857%2C%0A%20%20%20%20%20%20%20%20zoomControl%3A%20true%2C%0A%20%20%20%20%20%20%20%20%7D%29%3B%0AL.control.scale%28%29.addTo%28map_873707ca96eb44c1b08312ee7cbee80e%29%3B%0A%0A%20%20%20%20%0A%20%20%20%20var%20tile_layer_53730786d9ff4311ba2fcf55694b0462%20%3D%20L.tileLayer%28%0A%20%20%20%20%20%20%20%20%27https%3A//%7Bs%7D.tile.openstreetmap.org/%7Bz%7D/%7Bx%7D/%7By%7D.png%27%2C%0A%20%20%20%20%20%20%20%20%7B%0A%20%20%20%20%20%20%20%20%22attribution%22%3A%20null%2C%0A%20%20%20%20%20%20%20%20%22detectRetina%22%3A%20false%2C%0A%20%20%20%20%20%20%20%20%22maxNativeZoom%22%3A%2018%2C%0A%20%20%20%20%20%20%20%20%22maxZoom%22%3A%2018%2C%0A%20%20%20%20%20%20%20%20%22minZoom%22%3A%200%2C%0A%20%20%20%20%20%20%20%20%22noWrap%22%3A%20false%2C%0A%20%20%20%20%20%20%20%20%22opacity%22%3A%201%2C%0A%20%20%20%20%20%20%20%20%22subdomains%22%3A%20%22abc%22%2C%0A%20%20%20%20%20%20%20%20%22tms%22%3A%20false%0A%7D%29.addTo%28map_873707ca96eb44c1b08312ee7cbee80e%29%3B%0A%20%20%20%20%0A%20%20%20%20%20%20%20%20%20%20%20%20var%20heat_map_776b7c09bfcf47a98094711e4c0f1e2e%20%3D%20L.heatLayer%28%0A%20%20%20%20%20%20%20%20%20%20%20%20%20%20%20%20%5B%5B38.12%2C%20-85.69%2C%201.0%5D%2C%20%5B38.15%2C%20-85.9%2C%201.0%5D%2C%20%5B38.15%2C%20-85.61%2C%201.0%5D%2C%20%5B38.18%2C%20-85.76%2C%201.0%5D%2C%20%5B38.19%2C%20-85.79%2C%202.0%5D%2C%20%5B38.19%2C%20-85.78%2C%202.0%5D%2C%20%5B38.19%2C%20-85.77%2C%201.0%5D%2C%20%5B38.19%2C%20-85.75%2C%201.0%5D%2C%20%5B38.19%2C%20-85.7%2C%201.0%5D%2C%20%5B38.2%2C%20-85.79%2C%201.0%5D%2C%20%5B38.2%2C%20-85.78%2C%202.0%5D%2C%20%5B38.2%2C%20-85.77%2C%202.0%5D%2C%20%5B38.2%2C%20-85.76%2C%2043.0%5D%2C%20%5B38.2%2C%20-85.75%2C%2030.0%5D%2C%20%5B38.2%2C%20-85.74%2C%20173.0%5D%2C%20%5B38.2%2C%20-85.71%2C%201.0%5D%2C%20%5B38.2%2C%20-85.66%2C%202.0%5D%2C%20%5B38.2%2C%20-85.64%2C%201.0%5D%2C%20%5B38.21%2C%20-85.78%2C%202.0%5D%2C%20%5B38.21%2C%20-85.77%2C%2013.0%5D%2C%20%5B38.21%2C%20-85.76%2C%20116.0%5D%2C%20%5B38.21%2C%20-85.75%2C%2086.0%5D%2C%20%5B38.21%2C%20-85.74%2C%207.0%5D%2C%20%5B38.21%2C%20-85.7%2C%202.0%5D%2C%20%5B38.21%2C%20-85.69%2C%201.0%5D%2C%20%5B38.21%2C%20-85.67%2C%208.0%5D%2C%20%5B38.22%2C%20-85.81%2C%201.0%5D%2C%20%5B38.22%2C%20-85.77%2C%2058.0%5D%2C%20%5B38.22%2C%20-85.76%2C%20507.0%5D%2C%20%5B38.22%2C%20-85.75%2C%2054.0%5D%2C%20%5B38.22%2C%20-85.74%2C%2021.0%5D%2C%20%5B38.22%2C%20-85.73%2C%201.0%5D%2C%20%5B38.22%2C%20-85.71%2C%206.0%5D%2C%20%5B38.22%2C%20-85.7%2C%2051.0%5D%2C%20%5B38.22%2C%20-85.69%2C%20105.0%5D%2C%20%5B38.22%2C%20-85.68%2C%2010.0%5D%2C%20%5B38.22%2C%20-85.67%2C%203.0%5D%2C%20%5B38.22%2C%20-85.66%2C%203.0%5D%2C%20%5B38.22%2C%20-85.65%2C%201.0%5D%2C%20%5B38.23%2C%20-85.77%2C%206.0%5D%2C%20%5B38.23%2C%20-85.76%2C%20162.0%5D%2C%20%5B38.23%2C%20-85.75%2C%2032.0%5D%2C%20%5B38.23%2C%20-85.74%2C%2039.0%5D%2C%20%5B38.23%2C%20-85.73%2C%2030.0%5D%2C%20%5B38.23%2C%20-85.72%2C%2021.0%5D%2C%20%5B38.23%2C%20-85.71%2C%20258.0%5D%2C%20%5B38.23%2C%20-85.7%2C%20147.0%5D%2C%20%5B38.23%2C%20-85.69%2C%2018.0%5D%2C%20%5B38.23%2C%20-85.68%2C%204.0%5D%2C%20%5B38.23%2C%20-85.67%2C%206.0%5D%2C%20%5B38.24%2C%20-85.8%2C%204.0%5D%2C%20%5B38.24%2C%20-85.77%2C%203.0%5D%2C%20%5B38.24%2C%20-85.76%2C%20112.0%5D%2C%20%5B38.24%2C%20-85.75%2C%2052.0%5D%2C%20%5B38.24%2C%20-85.74%2C%2025.0%5D%2C%20%5B38.24%2C%20-85.73%2C%20196.0%5D%2C%20%5B38.24%2C%20-85.72%2C%20495.0%5D%2C%20%5B38.24%2C%20-85.71%2C%2044.0%5D%2C%20%5B38.24%2C%20-85.7%2C%2028.0%5D%2C%20%5B38.24%2C%20-85.69%2C%201.0%5D%2C%20%5B38.24%2C%20-85.67%2C%205.0%5D%2C%20%5B38.24%2C%20-85.63%2C%201.0%5D%2C%20%5B38.25%2C%20-85.8%2C%201.0%5D%2C%20%5B38.25%2C%20-85.79%2C%202.0%5D%2C%20%5B38.25%2C%20-85.78%2C%204.0%5D%2C%20%5B38.25%2C%20-85.77%2C%2013.0%5D%2C%20%5B38.25%2C%20-85.76%2C%20850.0%5D%2C%20%5B38.25%2C%20-85.75%2C%20427.0%5D%2C%20%5B38.25%2C%20-85.74%2C%20752.0%5D%2C%20%5B38.25%2C%20-85.73%2C%20167.0%5D%2C%20%5B38.25%2C%20-85.72%2C%2033.0%5D%2C%20%5B38.25%2C%20-85.71%2C%2028.0%5D%2C%20%5B38.25%2C%20-85.7%2C%2064.0%5D%2C%20%5B38.25%2C%20-85.69%2C%2010.0%5D%2C%20%5B38.25%2C%20-85.68%2C%201.0%5D%2C%20%5B38.25%2C%20-85.67%2C%206.0%5D%2C%20%5B38.25%2C%20-85.66%2C%203.0%5D%2C%20%5B38.25%2C%20-85.65%2C%204.0%5D%2C%20%5B38.25%2C%20-85.63%2C%202.0%5D%2C%20%5B38.26%2C%20-85.79%2C%201.0%5D%2C%20%5B38.26%2C%20-85.78%2C%201.0%5D%2C%20%5B38.26%2C%20-85.77%2C%2024.0%5D%2C%20%5B38.26%2C%20-85.76%2C%20745.0%5D%2C%20%5B38.26%2C%20-85.75%2C%20650.0%5D%2C%20%5B38.26%2C%20-85.74%2C%20244.0%5D%2C%20%5B38.26%2C%20-85.73%2C%2087.0%5D%2C%20%5B38.26%2C%20-85.72%2C%2045.0%5D%2C%20%5B38.26%2C%20-85.71%2C%2013.0%5D%2C%20%5B38.26%2C%20-85.7%2C%206.0%5D%2C%20%5B38.26%2C%20-85.69%2C%203.0%5D%2C%20%5B38.26%2C%20-85.68%2C%201.0%5D%2C%20%5B38.26%2C%20-85.67%2C%202.0%5D%2C%20%5B38.26%2C%20-85.65%2C%201.0%5D%2C%20%5B38.27%2C%20-85.78%2C%202.0%5D%2C%20%5B38.27%2C%20-85.75%2C%202.0%5D%2C%20%5B38.27%2C%20-85.74%2C%2018.0%5D%2C%20%5B38.27%2C%20-85.73%2C%202.0%5D%2C%20%5B38.27%2C%20-85.72%2C%202.0%5D%2C%20%5B38.27%2C%20-85.7%2C%201.0%5D%2C%20%5B38.27%2C%20-85.69%2C%201.0%5D%2C%20%5B38.27%2C%20-85.66%2C%201.0%5D%2C%20%5B38.28%2C%20-85.7%2C%202.0%5D%2C%20%5B38.28%2C%20-85.67%2C%201.0%5D%2C%20%5B38.29%2C%20-85.67%2C%201.0%5D%5D%2C%0A%20%20%20%20%20%20%20%20%20%20%20%20%20%20%20%20%7B%0A%20%20%20%20%20%20%20%20%20%20%20%20%20%20%20%20%20%20%20%20minOpacity%3A%200.5%2C%0A%20%20%20%20%20%20%20%20%20%20%20%20%20%20%20%20%20%20%20%20maxZoom%3A%2013%2C%0A%20%20%20%20%20%20%20%20%20%20%20%20%20%20%20%20%20%20%20%20max%3A%201.0%2C%0A%20%20%20%20%20%20%20%20%20%20%20%20%20%20%20%20%20%20%20%20radius%3A%208%2C%0A%20%20%20%20%20%20%20%20%20%20%20%20%20%20%20%20%20%20%20%20blur%3A%2015%2C%0A%20%20%20%20%20%20%20%20%20%20%20%20%20%20%20%20%20%20%20%20gradient%3A%20null%0A%20%20%20%20%20%20%20%20%20%20%20%20%20%20%20%20%20%20%20%20%7D%29%0A%20%20%20%20%20%20%20%20%20%20%20%20%20%20%20%20.addTo%28map_873707ca96eb44c1b08312ee7cbee80e%29%3B%0A%20%20%20%20%20%20%20%20%0A%3C/script%3E onload=\"this.contentDocument.open();this.contentDocument.write(    decodeURIComponent(this.getAttribute('data-html')));this.contentDocument.close();\" allowfullscreen webkitallowfullscreen mozallowfullscreen></iframe></div></div>"
            ],
            "text/plain": [
              "<folium.folium.Map at 0x7f5c4f71fbe0>"
            ]
          },
          "metadata": {
            "tags": []
          },
          "execution_count": 284
        }
      ]
    },
    {
      "cell_type": "markdown",
      "metadata": {
        "id": "VEHEGJKZqcR-"
      },
      "source": [
        "#### Company B - Workdays vs. Weekends"
      ]
    },
    {
      "cell_type": "markdown",
      "metadata": {
        "id": "VwJ25PpTr8K3"
      },
      "source": [
        "The pattern here is much clearer with Company B. Riders tend to ride from the SW side of the city to the center of the city (closer to river). This is likely that people use scooters to commute to work during workdays.\n",
        "\n",
        "The weekend pattern is consistent over the weekends. Riders tend to hang out around where they pick up the scooters. In addition, we can still see some riders ride from the SW corner to the SE side of the city. Note that the SE corner where those riders drop off their scooters is a place quite close to the two nearest airports. It might be the case that those riders "
      ]
    },
    {
      "cell_type": "code",
      "metadata": {
        "colab": {
          "base_uri": "https://localhost:8080/",
          "height": 838
        },
        "id": "7OgDJ2H7r5af",
        "outputId": "aeb6e8f1-0e4f-437f-927e-c2023c7080d9"
      },
      "source": [
        "# Company B: Heat Map to identify the concentration of starting dockless rides (pick-up) during workdays\n",
        "df_copy = df_company_b_clean[df_company_b_clean[\"start_day_of_week\"].isin([\"Monday\", \"Tuesday\", \"Wednesday\", \"Thursday\", \"Friday\"])].copy()\n",
        "df_copy['count'] = 1\n",
        "base_map = generateBaseMap()\n",
        "\n",
        "HeatMap(data=df_copy[['start_latitude', 'start_longitude', 'count']].groupby(['start_latitude', 'start_longitude']).sum().reset_index().values.tolist(), radius=8, max_zoom=13).add_to(base_map)\n",
        "\n",
        "base_map"
      ],
      "execution_count": null,
      "outputs": [
        {
          "output_type": "execute_result",
          "data": {
            "text/html": [
              "<div style=\"width:100%;\"><div style=\"position:relative;width:100%;height:0;padding-bottom:60%;\"><span style=\"color:#565656\">Make this Notebook Trusted to load map: File -> Trust Notebook</span><iframe src=\"about:blank\" style=\"position:absolute;width:100%;height:100%;left:0;top:0;border:none !important;\" data-html=%3C%21DOCTYPE%20html%3E%0A%3Chead%3E%20%20%20%20%0A%20%20%20%20%3Cmeta%20http-equiv%3D%22content-type%22%20content%3D%22text/html%3B%20charset%3DUTF-8%22%20/%3E%0A%20%20%20%20%3Cscript%3EL_PREFER_CANVAS%3Dfalse%3B%20L_NO_TOUCH%3Dfalse%3B%20L_DISABLE_3D%3Dfalse%3B%3C/script%3E%0A%20%20%20%20%3Cscript%20src%3D%22https%3A//cdn.jsdelivr.net/npm/leaflet%401.4.0/dist/leaflet.js%22%3E%3C/script%3E%0A%20%20%20%20%3Cscript%20src%3D%22https%3A//code.jquery.com/jquery-1.12.4.min.js%22%3E%3C/script%3E%0A%20%20%20%20%3Cscript%20src%3D%22https%3A//maxcdn.bootstrapcdn.com/bootstrap/3.2.0/js/bootstrap.min.js%22%3E%3C/script%3E%0A%20%20%20%20%3Cscript%20src%3D%22https%3A//cdnjs.cloudflare.com/ajax/libs/Leaflet.awesome-markers/2.0.2/leaflet.awesome-markers.js%22%3E%3C/script%3E%0A%20%20%20%20%3Clink%20rel%3D%22stylesheet%22%20href%3D%22https%3A//cdn.jsdelivr.net/npm/leaflet%401.4.0/dist/leaflet.css%22/%3E%0A%20%20%20%20%3Clink%20rel%3D%22stylesheet%22%20href%3D%22https%3A//maxcdn.bootstrapcdn.com/bootstrap/3.2.0/css/bootstrap.min.css%22/%3E%0A%20%20%20%20%3Clink%20rel%3D%22stylesheet%22%20href%3D%22https%3A//maxcdn.bootstrapcdn.com/bootstrap/3.2.0/css/bootstrap-theme.min.css%22/%3E%0A%20%20%20%20%3Clink%20rel%3D%22stylesheet%22%20href%3D%22https%3A//maxcdn.bootstrapcdn.com/font-awesome/4.6.3/css/font-awesome.min.css%22/%3E%0A%20%20%20%20%3Clink%20rel%3D%22stylesheet%22%20href%3D%22https%3A//cdnjs.cloudflare.com/ajax/libs/Leaflet.awesome-markers/2.0.2/leaflet.awesome-markers.css%22/%3E%0A%20%20%20%20%3Clink%20rel%3D%22stylesheet%22%20href%3D%22https%3A//rawcdn.githack.com/python-visualization/folium/master/folium/templates/leaflet.awesome.rotate.css%22/%3E%0A%20%20%20%20%3Cstyle%3Ehtml%2C%20body%20%7Bwidth%3A%20100%25%3Bheight%3A%20100%25%3Bmargin%3A%200%3Bpadding%3A%200%3B%7D%3C/style%3E%0A%20%20%20%20%3Cstyle%3E%23map%20%7Bposition%3Aabsolute%3Btop%3A0%3Bbottom%3A0%3Bright%3A0%3Bleft%3A0%3B%7D%3C/style%3E%0A%20%20%20%20%0A%20%20%20%20%3Cmeta%20name%3D%22viewport%22%20content%3D%22width%3Ddevice-width%2C%0A%20%20%20%20%20%20%20%20initial-scale%3D1.0%2C%20maximum-scale%3D1.0%2C%20user-scalable%3Dno%22%20/%3E%0A%20%20%20%20%3Cstyle%3E%23map_dde822145e26446cb831850edf02f73e%20%7B%0A%20%20%20%20%20%20%20%20position%3A%20relative%3B%0A%20%20%20%20%20%20%20%20width%3A%20100.0%25%3B%0A%20%20%20%20%20%20%20%20height%3A%20100.0%25%3B%0A%20%20%20%20%20%20%20%20left%3A%200.0%25%3B%0A%20%20%20%20%20%20%20%20top%3A%200.0%25%3B%0A%20%20%20%20%20%20%20%20%7D%0A%20%20%20%20%3C/style%3E%0A%20%20%20%20%3Cscript%20src%3D%22https%3A//leaflet.github.io/Leaflet.heat/dist/leaflet-heat.js%22%3E%3C/script%3E%0A%3C/head%3E%0A%3Cbody%3E%20%20%20%20%0A%20%20%20%20%0A%20%20%20%20%3Cdiv%20class%3D%22folium-map%22%20id%3D%22map_dde822145e26446cb831850edf02f73e%22%20%3E%3C/div%3E%0A%3C/body%3E%0A%3Cscript%3E%20%20%20%20%0A%20%20%20%20%0A%20%20%20%20%0A%20%20%20%20%20%20%20%20var%20bounds%20%3D%20null%3B%0A%20%20%20%20%0A%0A%20%20%20%20var%20map_dde822145e26446cb831850edf02f73e%20%3D%20L.map%28%0A%20%20%20%20%20%20%20%20%27map_dde822145e26446cb831850edf02f73e%27%2C%20%7B%0A%20%20%20%20%20%20%20%20center%3A%20%5B38.245%2C%20-85.7647%5D%2C%0A%20%20%20%20%20%20%20%20zoom%3A%2011%2C%0A%20%20%20%20%20%20%20%20maxBounds%3A%20bounds%2C%0A%20%20%20%20%20%20%20%20layers%3A%20%5B%5D%2C%0A%20%20%20%20%20%20%20%20worldCopyJump%3A%20false%2C%0A%20%20%20%20%20%20%20%20crs%3A%20L.CRS.EPSG3857%2C%0A%20%20%20%20%20%20%20%20zoomControl%3A%20true%2C%0A%20%20%20%20%20%20%20%20%7D%29%3B%0AL.control.scale%28%29.addTo%28map_dde822145e26446cb831850edf02f73e%29%3B%0A%0A%20%20%20%20%0A%20%20%20%20var%20tile_layer_1c0da696b9ec4ede83308948ab010e52%20%3D%20L.tileLayer%28%0A%20%20%20%20%20%20%20%20%27https%3A//%7Bs%7D.tile.openstreetmap.org/%7Bz%7D/%7Bx%7D/%7By%7D.png%27%2C%0A%20%20%20%20%20%20%20%20%7B%0A%20%20%20%20%20%20%20%20%22attribution%22%3A%20null%2C%0A%20%20%20%20%20%20%20%20%22detectRetina%22%3A%20false%2C%0A%20%20%20%20%20%20%20%20%22maxNativeZoom%22%3A%2018%2C%0A%20%20%20%20%20%20%20%20%22maxZoom%22%3A%2018%2C%0A%20%20%20%20%20%20%20%20%22minZoom%22%3A%200%2C%0A%20%20%20%20%20%20%20%20%22noWrap%22%3A%20false%2C%0A%20%20%20%20%20%20%20%20%22opacity%22%3A%201%2C%0A%20%20%20%20%20%20%20%20%22subdomains%22%3A%20%22abc%22%2C%0A%20%20%20%20%20%20%20%20%22tms%22%3A%20false%0A%7D%29.addTo%28map_dde822145e26446cb831850edf02f73e%29%3B%0A%20%20%20%20%0A%20%20%20%20%20%20%20%20%20%20%20%20var%20heat_map_f84ed5c7037a47efa0e27cc170100069%20%3D%20L.heatLayer%28%0A%20%20%20%20%20%20%20%20%20%20%20%20%20%20%20%20%5B%5B38.16%2C%20-85.73%2C%201.0%5D%2C%20%5B38.18%2C%20-85.77%2C%201.0%5D%2C%20%5B38.18%2C%20-85.75%2C%201.0%5D%2C%20%5B38.19%2C%20-85.79%2C%201.0%5D%2C%20%5B38.2%2C%20-85.79%2C%201.0%5D%2C%20%5B38.2%2C%20-85.78%2C%203.0%5D%2C%20%5B38.2%2C%20-85.76%2C%2094.0%5D%2C%20%5B38.2%2C%20-85.75%2C%204.0%5D%2C%20%5B38.2%2C%20-85.74%2C%201.0%5D%2C%20%5B38.21%2C%20-85.78%2C%202.0%5D%2C%20%5B38.21%2C%20-85.77%2C%2031.0%5D%2C%20%5B38.21%2C%20-85.76%2C%20597.0%5D%2C%20%5B38.21%2C%20-85.75%2C%20191.0%5D%2C%20%5B38.21%2C%20-85.74%2C%2012.0%5D%2C%20%5B38.21%2C%20-85.69%2C%203.0%5D%2C%20%5B38.22%2C%20-85.77%2C%2097.0%5D%2C%20%5B38.22%2C%20-85.76%2C%202194.0%5D%2C%20%5B38.22%2C%20-85.75%2C%20284.0%5D%2C%20%5B38.22%2C%20-85.74%2C%2011.0%5D%2C%20%5B38.22%2C%20-85.71%2C%202.0%5D%2C%20%5B38.22%2C%20-85.67%2C%202.0%5D%2C%20%5B38.23%2C%20-85.78%2C%202.0%5D%2C%20%5B38.23%2C%20-85.77%2C%2053.0%5D%2C%20%5B38.23%2C%20-85.76%2C%20424.0%5D%2C%20%5B38.23%2C%20-85.75%2C%2063.0%5D%2C%20%5B38.23%2C%20-85.74%2C%2055.0%5D%2C%20%5B38.23%2C%20-85.73%2C%205.0%5D%2C%20%5B38.23%2C%20-85.72%2C%207.0%5D%2C%20%5B38.23%2C%20-85.71%2C%2026.0%5D%2C%20%5B38.23%2C%20-85.7%2C%2015.0%5D%2C%20%5B38.24%2C%20-85.78%2C%204.0%5D%2C%20%5B38.24%2C%20-85.77%2C%201.0%5D%2C%20%5B38.24%2C%20-85.76%2C%20111.0%5D%2C%20%5B38.24%2C%20-85.75%2C%203.0%5D%2C%20%5B38.24%2C%20-85.74%2C%206.0%5D%2C%20%5B38.24%2C%20-85.73%2C%2040.0%5D%2C%20%5B38.24%2C%20-85.72%2C%20178.0%5D%2C%20%5B38.24%2C%20-85.71%2C%204.0%5D%2C%20%5B38.24%2C%20-85.69%2C%203.0%5D%2C%20%5B38.25%2C%20-85.78%2C%202.0%5D%2C%20%5B38.25%2C%20-85.77%2C%202.0%5D%2C%20%5B38.25%2C%20-85.76%2C%20438.0%5D%2C%20%5B38.25%2C%20-85.75%2C%20183.0%5D%2C%20%5B38.25%2C%20-85.74%2C%20105.0%5D%2C%20%5B38.25%2C%20-85.73%2C%2041.0%5D%2C%20%5B38.25%2C%20-85.7%2C%203.0%5D%2C%20%5B38.25%2C%20-85.69%2C%202.0%5D%2C%20%5B38.25%2C%20-85.66%2C%201.0%5D%2C%20%5B38.25%2C%20-85.65%2C%204.0%5D%2C%20%5B38.26%2C%20-85.81%2C%201.0%5D%2C%20%5B38.26%2C%20-85.78%2C%206.0%5D%2C%20%5B38.26%2C%20-85.77%2C%203.0%5D%2C%20%5B38.26%2C%20-85.76%2C%20629.0%5D%2C%20%5B38.26%2C%20-85.75%2C%20186.0%5D%2C%20%5B38.26%2C%20-85.74%2C%2028.0%5D%2C%20%5B38.26%2C%20-85.73%2C%206.0%5D%2C%20%5B38.27%2C%20-85.78%2C%203.0%5D%2C%20%5B38.27%2C%20-85.69%2C%202.0%5D%2C%20%5B38.31%2C%20-85.58%2C%201.0%5D%5D%2C%0A%20%20%20%20%20%20%20%20%20%20%20%20%20%20%20%20%7B%0A%20%20%20%20%20%20%20%20%20%20%20%20%20%20%20%20%20%20%20%20minOpacity%3A%200.5%2C%0A%20%20%20%20%20%20%20%20%20%20%20%20%20%20%20%20%20%20%20%20maxZoom%3A%2013%2C%0A%20%20%20%20%20%20%20%20%20%20%20%20%20%20%20%20%20%20%20%20max%3A%201.0%2C%0A%20%20%20%20%20%20%20%20%20%20%20%20%20%20%20%20%20%20%20%20radius%3A%208%2C%0A%20%20%20%20%20%20%20%20%20%20%20%20%20%20%20%20%20%20%20%20blur%3A%2015%2C%0A%20%20%20%20%20%20%20%20%20%20%20%20%20%20%20%20%20%20%20%20gradient%3A%20null%0A%20%20%20%20%20%20%20%20%20%20%20%20%20%20%20%20%20%20%20%20%7D%29%0A%20%20%20%20%20%20%20%20%20%20%20%20%20%20%20%20.addTo%28map_dde822145e26446cb831850edf02f73e%29%3B%0A%20%20%20%20%20%20%20%20%0A%3C/script%3E onload=\"this.contentDocument.open();this.contentDocument.write(    decodeURIComponent(this.getAttribute('data-html')));this.contentDocument.close();\" allowfullscreen webkitallowfullscreen mozallowfullscreen></iframe></div></div>"
            ],
            "text/plain": [
              "<folium.folium.Map at 0x7f5c4f6a8dd8>"
            ]
          },
          "metadata": {
            "tags": []
          },
          "execution_count": 288
        }
      ]
    },
    {
      "cell_type": "code",
      "metadata": {
        "colab": {
          "base_uri": "https://localhost:8080/",
          "height": 838
        },
        "id": "CoecPxajyD_f",
        "outputId": "040ced6c-00f2-424f-d348-703555667fc7"
      },
      "source": [
        "# Company B: Heat Map to identify the concentration of starting dockless rides (drop-off) during workdays\n",
        "df_copy = df_company_b_clean[df_company_b_clean[\"completed_day_of_week\"].isin([\"Monday\", \"Tuesday\", \"Wednesday\", \"Thursday\", \"Friday\"])].copy()\n",
        "df_copy['count'] = 1\n",
        "base_map = generateBaseMap()\n",
        "\n",
        "HeatMap(data=df_copy[['end_latitude', 'end_longitude', 'count']].groupby(['end_latitude', 'end_longitude']).sum().reset_index().values.tolist(), radius=8, max_zoom=13).add_to(base_map)\n",
        "\n",
        "base_map"
      ],
      "execution_count": null,
      "outputs": [
        {
          "output_type": "execute_result",
          "data": {
            "text/html": [
              "<div style=\"width:100%;\"><div style=\"position:relative;width:100%;height:0;padding-bottom:60%;\"><span style=\"color:#565656\">Make this Notebook Trusted to load map: File -> Trust Notebook</span><iframe src=\"about:blank\" style=\"position:absolute;width:100%;height:100%;left:0;top:0;border:none !important;\" data-html=%3C%21DOCTYPE%20html%3E%0A%3Chead%3E%20%20%20%20%0A%20%20%20%20%3Cmeta%20http-equiv%3D%22content-type%22%20content%3D%22text/html%3B%20charset%3DUTF-8%22%20/%3E%0A%20%20%20%20%3Cscript%3EL_PREFER_CANVAS%3Dfalse%3B%20L_NO_TOUCH%3Dfalse%3B%20L_DISABLE_3D%3Dfalse%3B%3C/script%3E%0A%20%20%20%20%3Cscript%20src%3D%22https%3A//cdn.jsdelivr.net/npm/leaflet%401.4.0/dist/leaflet.js%22%3E%3C/script%3E%0A%20%20%20%20%3Cscript%20src%3D%22https%3A//code.jquery.com/jquery-1.12.4.min.js%22%3E%3C/script%3E%0A%20%20%20%20%3Cscript%20src%3D%22https%3A//maxcdn.bootstrapcdn.com/bootstrap/3.2.0/js/bootstrap.min.js%22%3E%3C/script%3E%0A%20%20%20%20%3Cscript%20src%3D%22https%3A//cdnjs.cloudflare.com/ajax/libs/Leaflet.awesome-markers/2.0.2/leaflet.awesome-markers.js%22%3E%3C/script%3E%0A%20%20%20%20%3Clink%20rel%3D%22stylesheet%22%20href%3D%22https%3A//cdn.jsdelivr.net/npm/leaflet%401.4.0/dist/leaflet.css%22/%3E%0A%20%20%20%20%3Clink%20rel%3D%22stylesheet%22%20href%3D%22https%3A//maxcdn.bootstrapcdn.com/bootstrap/3.2.0/css/bootstrap.min.css%22/%3E%0A%20%20%20%20%3Clink%20rel%3D%22stylesheet%22%20href%3D%22https%3A//maxcdn.bootstrapcdn.com/bootstrap/3.2.0/css/bootstrap-theme.min.css%22/%3E%0A%20%20%20%20%3Clink%20rel%3D%22stylesheet%22%20href%3D%22https%3A//maxcdn.bootstrapcdn.com/font-awesome/4.6.3/css/font-awesome.min.css%22/%3E%0A%20%20%20%20%3Clink%20rel%3D%22stylesheet%22%20href%3D%22https%3A//cdnjs.cloudflare.com/ajax/libs/Leaflet.awesome-markers/2.0.2/leaflet.awesome-markers.css%22/%3E%0A%20%20%20%20%3Clink%20rel%3D%22stylesheet%22%20href%3D%22https%3A//rawcdn.githack.com/python-visualization/folium/master/folium/templates/leaflet.awesome.rotate.css%22/%3E%0A%20%20%20%20%3Cstyle%3Ehtml%2C%20body%20%7Bwidth%3A%20100%25%3Bheight%3A%20100%25%3Bmargin%3A%200%3Bpadding%3A%200%3B%7D%3C/style%3E%0A%20%20%20%20%3Cstyle%3E%23map%20%7Bposition%3Aabsolute%3Btop%3A0%3Bbottom%3A0%3Bright%3A0%3Bleft%3A0%3B%7D%3C/style%3E%0A%20%20%20%20%0A%20%20%20%20%3Cmeta%20name%3D%22viewport%22%20content%3D%22width%3Ddevice-width%2C%0A%20%20%20%20%20%20%20%20initial-scale%3D1.0%2C%20maximum-scale%3D1.0%2C%20user-scalable%3Dno%22%20/%3E%0A%20%20%20%20%3Cstyle%3E%23map_0493b887569540a18edc8828f475e20b%20%7B%0A%20%20%20%20%20%20%20%20position%3A%20relative%3B%0A%20%20%20%20%20%20%20%20width%3A%20100.0%25%3B%0A%20%20%20%20%20%20%20%20height%3A%20100.0%25%3B%0A%20%20%20%20%20%20%20%20left%3A%200.0%25%3B%0A%20%20%20%20%20%20%20%20top%3A%200.0%25%3B%0A%20%20%20%20%20%20%20%20%7D%0A%20%20%20%20%3C/style%3E%0A%20%20%20%20%3Cscript%20src%3D%22https%3A//leaflet.github.io/Leaflet.heat/dist/leaflet-heat.js%22%3E%3C/script%3E%0A%3C/head%3E%0A%3Cbody%3E%20%20%20%20%0A%20%20%20%20%0A%20%20%20%20%3Cdiv%20class%3D%22folium-map%22%20id%3D%22map_0493b887569540a18edc8828f475e20b%22%20%3E%3C/div%3E%0A%3C/body%3E%0A%3Cscript%3E%20%20%20%20%0A%20%20%20%20%0A%20%20%20%20%0A%20%20%20%20%20%20%20%20var%20bounds%20%3D%20null%3B%0A%20%20%20%20%0A%0A%20%20%20%20var%20map_0493b887569540a18edc8828f475e20b%20%3D%20L.map%28%0A%20%20%20%20%20%20%20%20%27map_0493b887569540a18edc8828f475e20b%27%2C%20%7B%0A%20%20%20%20%20%20%20%20center%3A%20%5B38.245%2C%20-85.7647%5D%2C%0A%20%20%20%20%20%20%20%20zoom%3A%2011%2C%0A%20%20%20%20%20%20%20%20maxBounds%3A%20bounds%2C%0A%20%20%20%20%20%20%20%20layers%3A%20%5B%5D%2C%0A%20%20%20%20%20%20%20%20worldCopyJump%3A%20false%2C%0A%20%20%20%20%20%20%20%20crs%3A%20L.CRS.EPSG3857%2C%0A%20%20%20%20%20%20%20%20zoomControl%3A%20true%2C%0A%20%20%20%20%20%20%20%20%7D%29%3B%0AL.control.scale%28%29.addTo%28map_0493b887569540a18edc8828f475e20b%29%3B%0A%0A%20%20%20%20%0A%20%20%20%20var%20tile_layer_6c76b3fe262e44cc9279152d750de08d%20%3D%20L.tileLayer%28%0A%20%20%20%20%20%20%20%20%27https%3A//%7Bs%7D.tile.openstreetmap.org/%7Bz%7D/%7Bx%7D/%7By%7D.png%27%2C%0A%20%20%20%20%20%20%20%20%7B%0A%20%20%20%20%20%20%20%20%22attribution%22%3A%20null%2C%0A%20%20%20%20%20%20%20%20%22detectRetina%22%3A%20false%2C%0A%20%20%20%20%20%20%20%20%22maxNativeZoom%22%3A%2018%2C%0A%20%20%20%20%20%20%20%20%22maxZoom%22%3A%2018%2C%0A%20%20%20%20%20%20%20%20%22minZoom%22%3A%200%2C%0A%20%20%20%20%20%20%20%20%22noWrap%22%3A%20false%2C%0A%20%20%20%20%20%20%20%20%22opacity%22%3A%201%2C%0A%20%20%20%20%20%20%20%20%22subdomains%22%3A%20%22abc%22%2C%0A%20%20%20%20%20%20%20%20%22tms%22%3A%20false%0A%7D%29.addTo%28map_0493b887569540a18edc8828f475e20b%29%3B%0A%20%20%20%20%0A%20%20%20%20%20%20%20%20%20%20%20%20var%20heat_map_c78eaa571b7f481c9f8eea86161a6055%20%3D%20L.heatLayer%28%0A%20%20%20%20%20%20%20%20%20%20%20%20%20%20%20%20%5B%5B19.42%2C%20-99.16%2C%201.0%5D%2C%20%5B37.34%2C%20-121.89%2C%201.0%5D%2C%20%5B38.19%2C%20-85.79%2C%202.0%5D%2C%20%5B38.19%2C%20-85.78%2C%201.0%5D%2C%20%5B38.19%2C%20-85.77%2C%201.0%5D%2C%20%5B38.2%2C%20-85.79%2C%202.0%5D%2C%20%5B38.2%2C%20-85.78%2C%203.0%5D%2C%20%5B38.2%2C%20-85.76%2C%20155.0%5D%2C%20%5B38.2%2C%20-85.75%2C%204.0%5D%2C%20%5B38.21%2C%20-85.78%2C%203.0%5D%2C%20%5B38.21%2C%20-85.77%2C%2061.0%5D%2C%20%5B38.21%2C%20-85.76%2C%20602.0%5D%2C%20%5B38.21%2C%20-85.75%2C%20204.0%5D%2C%20%5B38.21%2C%20-85.74%2C%2022.0%5D%2C%20%5B38.21%2C%20-85.69%2C%204.0%5D%2C%20%5B38.22%2C%20-85.77%2C%20158.0%5D%2C%20%5B38.22%2C%20-85.76%2C%201925.0%5D%2C%20%5B38.22%2C%20-85.75%2C%20278.0%5D%2C%20%5B38.22%2C%20-85.74%2C%2020.0%5D%2C%20%5B38.22%2C%20-85.71%2C%202.0%5D%2C%20%5B38.22%2C%20-85.69%2C%202.0%5D%2C%20%5B38.23%2C%20-85.78%2C%203.0%5D%2C%20%5B38.23%2C%20-85.77%2C%2075.0%5D%2C%20%5B38.23%2C%20-85.76%2C%20431.0%5D%2C%20%5B38.23%2C%20-85.75%2C%20103.0%5D%2C%20%5B38.23%2C%20-85.74%2C%2073.0%5D%2C%20%5B38.23%2C%20-85.73%2C%2014.0%5D%2C%20%5B38.23%2C%20-85.72%2C%2014.0%5D%2C%20%5B38.23%2C%20-85.71%2C%2039.0%5D%2C%20%5B38.23%2C%20-85.7%2C%2015.0%5D%2C%20%5B38.24%2C%20-85.78%2C%205.0%5D%2C%20%5B38.24%2C%20-85.77%2C%201.0%5D%2C%20%5B38.24%2C%20-85.76%2C%2098.0%5D%2C%20%5B38.24%2C%20-85.75%2C%206.0%5D%2C%20%5B38.24%2C%20-85.74%2C%208.0%5D%2C%20%5B38.24%2C%20-85.73%2C%2047.0%5D%2C%20%5B38.24%2C%20-85.72%2C%20140.0%5D%2C%20%5B38.24%2C%20-85.71%2C%206.0%5D%2C%20%5B38.24%2C%20-85.69%2C%203.0%5D%2C%20%5B38.25%2C%20-85.78%2C%202.0%5D%2C%20%5B38.25%2C%20-85.77%2C%205.0%5D%2C%20%5B38.25%2C%20-85.76%2C%20481.0%5D%2C%20%5B38.25%2C%20-85.75%2C%20201.0%5D%2C%20%5B38.25%2C%20-85.74%2C%20113.0%5D%2C%20%5B38.25%2C%20-85.73%2C%2039.0%5D%2C%20%5B38.25%2C%20-85.72%2C%201.0%5D%2C%20%5B38.25%2C%20-85.7%2C%203.0%5D%2C%20%5B38.25%2C%20-85.69%2C%202.0%5D%2C%20%5B38.25%2C%20-85.68%2C%201.0%5D%2C%20%5B38.25%2C%20-85.66%2C%204.0%5D%2C%20%5B38.25%2C%20-85.65%2C%201.0%5D%2C%20%5B38.26%2C%20-85.79%2C%201.0%5D%2C%20%5B38.26%2C%20-85.78%2C%2014.0%5D%2C%20%5B38.26%2C%20-85.77%2C%2017.0%5D%2C%20%5B38.26%2C%20-85.76%2C%20499.0%5D%2C%20%5B38.26%2C%20-85.75%2C%20187.0%5D%2C%20%5B38.26%2C%20-85.74%2C%2044.0%5D%2C%20%5B38.26%2C%20-85.73%2C%2012.0%5D%2C%20%5B38.26%2C%20-85.72%2C%202.0%5D%2C%20%5B38.27%2C%20-85.78%2C%2010.0%5D%2C%20%5B38.27%2C%20-85.74%2C%201.0%5D%2C%20%5B38.27%2C%20-85.69%2C%201.0%5D%2C%20%5B38.28%2C%20-85.79%2C%201.0%5D%2C%20%5B38.31%2C%20-85.58%2C%201.0%5D%2C%20%5B48.84%2C%202.36%2C%201.0%5D%2C%20%5B48.86%2C%202.32%2C%201.0%5D%2C%20%5B48.86%2C%202.33%2C%201.0%5D%5D%2C%0A%20%20%20%20%20%20%20%20%20%20%20%20%20%20%20%20%7B%0A%20%20%20%20%20%20%20%20%20%20%20%20%20%20%20%20%20%20%20%20minOpacity%3A%200.5%2C%0A%20%20%20%20%20%20%20%20%20%20%20%20%20%20%20%20%20%20%20%20maxZoom%3A%2013%2C%0A%20%20%20%20%20%20%20%20%20%20%20%20%20%20%20%20%20%20%20%20max%3A%201.0%2C%0A%20%20%20%20%20%20%20%20%20%20%20%20%20%20%20%20%20%20%20%20radius%3A%208%2C%0A%20%20%20%20%20%20%20%20%20%20%20%20%20%20%20%20%20%20%20%20blur%3A%2015%2C%0A%20%20%20%20%20%20%20%20%20%20%20%20%20%20%20%20%20%20%20%20gradient%3A%20null%0A%20%20%20%20%20%20%20%20%20%20%20%20%20%20%20%20%20%20%20%20%7D%29%0A%20%20%20%20%20%20%20%20%20%20%20%20%20%20%20%20.addTo%28map_0493b887569540a18edc8828f475e20b%29%3B%0A%20%20%20%20%20%20%20%20%0A%3C/script%3E onload=\"this.contentDocument.open();this.contentDocument.write(    decodeURIComponent(this.getAttribute('data-html')));this.contentDocument.close();\" allowfullscreen webkitallowfullscreen mozallowfullscreen></iframe></div></div>"
            ],
            "text/plain": [
              "<folium.folium.Map at 0x7f5c4cb5b438>"
            ]
          },
          "metadata": {
            "tags": []
          },
          "execution_count": 290
        }
      ]
    },
    {
      "cell_type": "code",
      "metadata": {
        "colab": {
          "base_uri": "https://localhost:8080/",
          "height": 838
        },
        "id": "fXHzsk0Cyl0_",
        "outputId": "e5c2cf04-cc80-4d4f-b172-960e0e775c19"
      },
      "source": [
        "# Company B: Heat Map to identify the concentration of starting dockless rides (pick-up) during workdays\n",
        "df_copy = df_company_b_clean[df_company_b_clean[\"start_day_of_week\"].isin([\"Saturday\", \"Sunday\"])].copy()\n",
        "df_copy['count'] = 1\n",
        "base_map = generateBaseMap()\n",
        "\n",
        "HeatMap(data=df_copy[['start_latitude', 'start_longitude', 'count']].groupby(['start_latitude', 'start_longitude']).sum().reset_index().values.tolist(), radius=8, max_zoom=13).add_to(base_map)\n",
        "\n",
        "base_map"
      ],
      "execution_count": null,
      "outputs": [
        {
          "output_type": "execute_result",
          "data": {
            "text/html": [
              "<div style=\"width:100%;\"><div style=\"position:relative;width:100%;height:0;padding-bottom:60%;\"><span style=\"color:#565656\">Make this Notebook Trusted to load map: File -> Trust Notebook</span><iframe src=\"about:blank\" style=\"position:absolute;width:100%;height:100%;left:0;top:0;border:none !important;\" data-html=%3C%21DOCTYPE%20html%3E%0A%3Chead%3E%20%20%20%20%0A%20%20%20%20%3Cmeta%20http-equiv%3D%22content-type%22%20content%3D%22text/html%3B%20charset%3DUTF-8%22%20/%3E%0A%20%20%20%20%3Cscript%3EL_PREFER_CANVAS%3Dfalse%3B%20L_NO_TOUCH%3Dfalse%3B%20L_DISABLE_3D%3Dfalse%3B%3C/script%3E%0A%20%20%20%20%3Cscript%20src%3D%22https%3A//cdn.jsdelivr.net/npm/leaflet%401.4.0/dist/leaflet.js%22%3E%3C/script%3E%0A%20%20%20%20%3Cscript%20src%3D%22https%3A//code.jquery.com/jquery-1.12.4.min.js%22%3E%3C/script%3E%0A%20%20%20%20%3Cscript%20src%3D%22https%3A//maxcdn.bootstrapcdn.com/bootstrap/3.2.0/js/bootstrap.min.js%22%3E%3C/script%3E%0A%20%20%20%20%3Cscript%20src%3D%22https%3A//cdnjs.cloudflare.com/ajax/libs/Leaflet.awesome-markers/2.0.2/leaflet.awesome-markers.js%22%3E%3C/script%3E%0A%20%20%20%20%3Clink%20rel%3D%22stylesheet%22%20href%3D%22https%3A//cdn.jsdelivr.net/npm/leaflet%401.4.0/dist/leaflet.css%22/%3E%0A%20%20%20%20%3Clink%20rel%3D%22stylesheet%22%20href%3D%22https%3A//maxcdn.bootstrapcdn.com/bootstrap/3.2.0/css/bootstrap.min.css%22/%3E%0A%20%20%20%20%3Clink%20rel%3D%22stylesheet%22%20href%3D%22https%3A//maxcdn.bootstrapcdn.com/bootstrap/3.2.0/css/bootstrap-theme.min.css%22/%3E%0A%20%20%20%20%3Clink%20rel%3D%22stylesheet%22%20href%3D%22https%3A//maxcdn.bootstrapcdn.com/font-awesome/4.6.3/css/font-awesome.min.css%22/%3E%0A%20%20%20%20%3Clink%20rel%3D%22stylesheet%22%20href%3D%22https%3A//cdnjs.cloudflare.com/ajax/libs/Leaflet.awesome-markers/2.0.2/leaflet.awesome-markers.css%22/%3E%0A%20%20%20%20%3Clink%20rel%3D%22stylesheet%22%20href%3D%22https%3A//rawcdn.githack.com/python-visualization/folium/master/folium/templates/leaflet.awesome.rotate.css%22/%3E%0A%20%20%20%20%3Cstyle%3Ehtml%2C%20body%20%7Bwidth%3A%20100%25%3Bheight%3A%20100%25%3Bmargin%3A%200%3Bpadding%3A%200%3B%7D%3C/style%3E%0A%20%20%20%20%3Cstyle%3E%23map%20%7Bposition%3Aabsolute%3Btop%3A0%3Bbottom%3A0%3Bright%3A0%3Bleft%3A0%3B%7D%3C/style%3E%0A%20%20%20%20%0A%20%20%20%20%3Cmeta%20name%3D%22viewport%22%20content%3D%22width%3Ddevice-width%2C%0A%20%20%20%20%20%20%20%20initial-scale%3D1.0%2C%20maximum-scale%3D1.0%2C%20user-scalable%3Dno%22%20/%3E%0A%20%20%20%20%3Cstyle%3E%23map_4bdf6b8d0d0b44c688f7403bc8432741%20%7B%0A%20%20%20%20%20%20%20%20position%3A%20relative%3B%0A%20%20%20%20%20%20%20%20width%3A%20100.0%25%3B%0A%20%20%20%20%20%20%20%20height%3A%20100.0%25%3B%0A%20%20%20%20%20%20%20%20left%3A%200.0%25%3B%0A%20%20%20%20%20%20%20%20top%3A%200.0%25%3B%0A%20%20%20%20%20%20%20%20%7D%0A%20%20%20%20%3C/style%3E%0A%20%20%20%20%3Cscript%20src%3D%22https%3A//leaflet.github.io/Leaflet.heat/dist/leaflet-heat.js%22%3E%3C/script%3E%0A%3C/head%3E%0A%3Cbody%3E%20%20%20%20%0A%20%20%20%20%0A%20%20%20%20%3Cdiv%20class%3D%22folium-map%22%20id%3D%22map_4bdf6b8d0d0b44c688f7403bc8432741%22%20%3E%3C/div%3E%0A%3C/body%3E%0A%3Cscript%3E%20%20%20%20%0A%20%20%20%20%0A%20%20%20%20%0A%20%20%20%20%20%20%20%20var%20bounds%20%3D%20null%3B%0A%20%20%20%20%0A%0A%20%20%20%20var%20map_4bdf6b8d0d0b44c688f7403bc8432741%20%3D%20L.map%28%0A%20%20%20%20%20%20%20%20%27map_4bdf6b8d0d0b44c688f7403bc8432741%27%2C%20%7B%0A%20%20%20%20%20%20%20%20center%3A%20%5B38.245%2C%20-85.7647%5D%2C%0A%20%20%20%20%20%20%20%20zoom%3A%2011%2C%0A%20%20%20%20%20%20%20%20maxBounds%3A%20bounds%2C%0A%20%20%20%20%20%20%20%20layers%3A%20%5B%5D%2C%0A%20%20%20%20%20%20%20%20worldCopyJump%3A%20false%2C%0A%20%20%20%20%20%20%20%20crs%3A%20L.CRS.EPSG3857%2C%0A%20%20%20%20%20%20%20%20zoomControl%3A%20true%2C%0A%20%20%20%20%20%20%20%20%7D%29%3B%0AL.control.scale%28%29.addTo%28map_4bdf6b8d0d0b44c688f7403bc8432741%29%3B%0A%0A%20%20%20%20%0A%20%20%20%20var%20tile_layer_cdf97c3f2f8f451e99975cb6db3c30db%20%3D%20L.tileLayer%28%0A%20%20%20%20%20%20%20%20%27https%3A//%7Bs%7D.tile.openstreetmap.org/%7Bz%7D/%7Bx%7D/%7By%7D.png%27%2C%0A%20%20%20%20%20%20%20%20%7B%0A%20%20%20%20%20%20%20%20%22attribution%22%3A%20null%2C%0A%20%20%20%20%20%20%20%20%22detectRetina%22%3A%20false%2C%0A%20%20%20%20%20%20%20%20%22maxNativeZoom%22%3A%2018%2C%0A%20%20%20%20%20%20%20%20%22maxZoom%22%3A%2018%2C%0A%20%20%20%20%20%20%20%20%22minZoom%22%3A%200%2C%0A%20%20%20%20%20%20%20%20%22noWrap%22%3A%20false%2C%0A%20%20%20%20%20%20%20%20%22opacity%22%3A%201%2C%0A%20%20%20%20%20%20%20%20%22subdomains%22%3A%20%22abc%22%2C%0A%20%20%20%20%20%20%20%20%22tms%22%3A%20false%0A%7D%29.addTo%28map_4bdf6b8d0d0b44c688f7403bc8432741%29%3B%0A%20%20%20%20%0A%20%20%20%20%20%20%20%20%20%20%20%20var%20heat_map_8ece94173b154142827c0a919e1b4fa9%20%3D%20L.heatLayer%28%0A%20%20%20%20%20%20%20%20%20%20%20%20%20%20%20%20%5B%5B38.09%2C%20-85.56%2C%202.0%5D%2C%20%5B38.18%2C%20-85.75%2C%201.0%5D%2C%20%5B38.19%2C%20-85.81%2C%201.0%5D%2C%20%5B38.2%2C%20-85.79%2C%201.0%5D%2C%20%5B38.2%2C%20-85.76%2C%2015.0%5D%2C%20%5B38.2%2C%20-85.75%2C%202.0%5D%2C%20%5B38.2%2C%20-85.74%2C%201.0%5D%2C%20%5B38.21%2C%20-85.78%2C%203.0%5D%2C%20%5B38.21%2C%20-85.77%2C%2016.0%5D%2C%20%5B38.21%2C%20-85.76%2C%2081.0%5D%2C%20%5B38.21%2C%20-85.75%2C%2044.0%5D%2C%20%5B38.21%2C%20-85.74%2C%208.0%5D%2C%20%5B38.21%2C%20-85.73%2C%202.0%5D%2C%20%5B38.22%2C%20-85.78%2C%202.0%5D%2C%20%5B38.22%2C%20-85.77%2C%2035.0%5D%2C%20%5B38.22%2C%20-85.76%2C%20394.0%5D%2C%20%5B38.22%2C%20-85.75%2C%2036.0%5D%2C%20%5B38.22%2C%20-85.74%2C%2010.0%5D%2C%20%5B38.22%2C%20-85.73%2C%201.0%5D%2C%20%5B38.22%2C%20-85.71%2C%204.0%5D%2C%20%5B38.22%2C%20-85.7%2C%202.0%5D%2C%20%5B38.22%2C%20-85.69%2C%204.0%5D%2C%20%5B38.23%2C%20-85.77%2C%2013.0%5D%2C%20%5B38.23%2C%20-85.76%2C%20129.0%5D%2C%20%5B38.23%2C%20-85.75%2C%2018.0%5D%2C%20%5B38.23%2C%20-85.74%2C%2016.0%5D%2C%20%5B38.23%2C%20-85.73%2C%207.0%5D%2C%20%5B38.23%2C%20-85.72%2C%204.0%5D%2C%20%5B38.23%2C%20-85.71%2C%2031.0%5D%2C%20%5B38.23%2C%20-85.7%2C%2017.0%5D%2C%20%5B38.23%2C%20-85.69%2C%201.0%5D%2C%20%5B38.23%2C%20-85.68%2C%201.0%5D%2C%20%5B38.24%2C%20-85.76%2C%2036.0%5D%2C%20%5B38.24%2C%20-85.75%2C%202.0%5D%2C%20%5B38.24%2C%20-85.74%2C%202.0%5D%2C%20%5B38.24%2C%20-85.73%2C%2033.0%5D%2C%20%5B38.24%2C%20-85.72%2C%20123.0%5D%2C%20%5B38.24%2C%20-85.71%2C%201.0%5D%2C%20%5B38.24%2C%20-85.7%2C%202.0%5D%2C%20%5B38.25%2C%20-85.81%2C%201.0%5D%2C%20%5B38.25%2C%20-85.8%2C%201.0%5D%2C%20%5B38.25%2C%20-85.76%2C%20187.0%5D%2C%20%5B38.25%2C%20-85.75%2C%2069.0%5D%2C%20%5B38.25%2C%20-85.74%2C%2057.0%5D%2C%20%5B38.25%2C%20-85.73%2C%2020.0%5D%2C%20%5B38.25%2C%20-85.72%2C%203.0%5D%2C%20%5B38.25%2C%20-85.7%2C%202.0%5D%2C%20%5B38.25%2C%20-85.66%2C%201.0%5D%2C%20%5B38.26%2C%20-85.81%2C%201.0%5D%2C%20%5B38.26%2C%20-85.78%2C%205.0%5D%2C%20%5B38.26%2C%20-85.77%2C%207.0%5D%2C%20%5B38.26%2C%20-85.76%2C%20276.0%5D%2C%20%5B38.26%2C%20-85.75%2C%20122.0%5D%2C%20%5B38.26%2C%20-85.74%2C%2038.0%5D%2C%20%5B38.26%2C%20-85.73%2C%208.0%5D%2C%20%5B38.26%2C%20-85.68%2C%201.0%5D%2C%20%5B38.27%2C%20-85.79%2C%201.0%5D%2C%20%5B38.27%2C%20-85.78%2C%206.0%5D%2C%20%5B38.27%2C%20-85.74%2C%204.0%5D%5D%2C%0A%20%20%20%20%20%20%20%20%20%20%20%20%20%20%20%20%7B%0A%20%20%20%20%20%20%20%20%20%20%20%20%20%20%20%20%20%20%20%20minOpacity%3A%200.5%2C%0A%20%20%20%20%20%20%20%20%20%20%20%20%20%20%20%20%20%20%20%20maxZoom%3A%2013%2C%0A%20%20%20%20%20%20%20%20%20%20%20%20%20%20%20%20%20%20%20%20max%3A%201.0%2C%0A%20%20%20%20%20%20%20%20%20%20%20%20%20%20%20%20%20%20%20%20radius%3A%208%2C%0A%20%20%20%20%20%20%20%20%20%20%20%20%20%20%20%20%20%20%20%20blur%3A%2015%2C%0A%20%20%20%20%20%20%20%20%20%20%20%20%20%20%20%20%20%20%20%20gradient%3A%20null%0A%20%20%20%20%20%20%20%20%20%20%20%20%20%20%20%20%20%20%20%20%7D%29%0A%20%20%20%20%20%20%20%20%20%20%20%20%20%20%20%20.addTo%28map_4bdf6b8d0d0b44c688f7403bc8432741%29%3B%0A%20%20%20%20%20%20%20%20%0A%3C/script%3E onload=\"this.contentDocument.open();this.contentDocument.write(    decodeURIComponent(this.getAttribute('data-html')));this.contentDocument.close();\" allowfullscreen webkitallowfullscreen mozallowfullscreen></iframe></div></div>"
            ],
            "text/plain": [
              "<folium.folium.Map at 0x7f5c4cb5b828>"
            ]
          },
          "metadata": {
            "tags": []
          },
          "execution_count": 291
        }
      ]
    },
    {
      "cell_type": "code",
      "metadata": {
        "colab": {
          "base_uri": "https://localhost:8080/",
          "height": 838
        },
        "id": "eZuJhQ8Hxf_8",
        "outputId": "af6e9aa3-0355-4dec-fd57-b8bf13895de1"
      },
      "source": [
        "# Company B: Heat Map to identify the concentration of starting dockless rides (drop-off) during workdays\n",
        "df_copy = df_company_b_clean[df_company_b_clean[\"completed_day_of_week\"].isin([\"Saturday\", \"Sunday\"])].copy()\n",
        "df_copy['count'] = 1\n",
        "base_map = generateBaseMap()\n",
        "\n",
        "HeatMap(data=df_copy[['end_latitude', 'end_longitude', 'count']].groupby(['end_latitude', 'end_longitude']).sum().reset_index().values.tolist(), radius=8, max_zoom=13).add_to(base_map)\n",
        "\n",
        "base_map"
      ],
      "execution_count": null,
      "outputs": [
        {
          "output_type": "execute_result",
          "data": {
            "text/html": [
              "<div style=\"width:100%;\"><div style=\"position:relative;width:100%;height:0;padding-bottom:60%;\"><span style=\"color:#565656\">Make this Notebook Trusted to load map: File -> Trust Notebook</span><iframe src=\"about:blank\" style=\"position:absolute;width:100%;height:100%;left:0;top:0;border:none !important;\" data-html=%3C%21DOCTYPE%20html%3E%0A%3Chead%3E%20%20%20%20%0A%20%20%20%20%3Cmeta%20http-equiv%3D%22content-type%22%20content%3D%22text/html%3B%20charset%3DUTF-8%22%20/%3E%0A%20%20%20%20%3Cscript%3EL_PREFER_CANVAS%3Dfalse%3B%20L_NO_TOUCH%3Dfalse%3B%20L_DISABLE_3D%3Dfalse%3B%3C/script%3E%0A%20%20%20%20%3Cscript%20src%3D%22https%3A//cdn.jsdelivr.net/npm/leaflet%401.4.0/dist/leaflet.js%22%3E%3C/script%3E%0A%20%20%20%20%3Cscript%20src%3D%22https%3A//code.jquery.com/jquery-1.12.4.min.js%22%3E%3C/script%3E%0A%20%20%20%20%3Cscript%20src%3D%22https%3A//maxcdn.bootstrapcdn.com/bootstrap/3.2.0/js/bootstrap.min.js%22%3E%3C/script%3E%0A%20%20%20%20%3Cscript%20src%3D%22https%3A//cdnjs.cloudflare.com/ajax/libs/Leaflet.awesome-markers/2.0.2/leaflet.awesome-markers.js%22%3E%3C/script%3E%0A%20%20%20%20%3Clink%20rel%3D%22stylesheet%22%20href%3D%22https%3A//cdn.jsdelivr.net/npm/leaflet%401.4.0/dist/leaflet.css%22/%3E%0A%20%20%20%20%3Clink%20rel%3D%22stylesheet%22%20href%3D%22https%3A//maxcdn.bootstrapcdn.com/bootstrap/3.2.0/css/bootstrap.min.css%22/%3E%0A%20%20%20%20%3Clink%20rel%3D%22stylesheet%22%20href%3D%22https%3A//maxcdn.bootstrapcdn.com/bootstrap/3.2.0/css/bootstrap-theme.min.css%22/%3E%0A%20%20%20%20%3Clink%20rel%3D%22stylesheet%22%20href%3D%22https%3A//maxcdn.bootstrapcdn.com/font-awesome/4.6.3/css/font-awesome.min.css%22/%3E%0A%20%20%20%20%3Clink%20rel%3D%22stylesheet%22%20href%3D%22https%3A//cdnjs.cloudflare.com/ajax/libs/Leaflet.awesome-markers/2.0.2/leaflet.awesome-markers.css%22/%3E%0A%20%20%20%20%3Clink%20rel%3D%22stylesheet%22%20href%3D%22https%3A//rawcdn.githack.com/python-visualization/folium/master/folium/templates/leaflet.awesome.rotate.css%22/%3E%0A%20%20%20%20%3Cstyle%3Ehtml%2C%20body%20%7Bwidth%3A%20100%25%3Bheight%3A%20100%25%3Bmargin%3A%200%3Bpadding%3A%200%3B%7D%3C/style%3E%0A%20%20%20%20%3Cstyle%3E%23map%20%7Bposition%3Aabsolute%3Btop%3A0%3Bbottom%3A0%3Bright%3A0%3Bleft%3A0%3B%7D%3C/style%3E%0A%20%20%20%20%0A%20%20%20%20%3Cmeta%20name%3D%22viewport%22%20content%3D%22width%3Ddevice-width%2C%0A%20%20%20%20%20%20%20%20initial-scale%3D1.0%2C%20maximum-scale%3D1.0%2C%20user-scalable%3Dno%22%20/%3E%0A%20%20%20%20%3Cstyle%3E%23map_1a89e1aa32dc4ddda4a6951fd05e6951%20%7B%0A%20%20%20%20%20%20%20%20position%3A%20relative%3B%0A%20%20%20%20%20%20%20%20width%3A%20100.0%25%3B%0A%20%20%20%20%20%20%20%20height%3A%20100.0%25%3B%0A%20%20%20%20%20%20%20%20left%3A%200.0%25%3B%0A%20%20%20%20%20%20%20%20top%3A%200.0%25%3B%0A%20%20%20%20%20%20%20%20%7D%0A%20%20%20%20%3C/style%3E%0A%20%20%20%20%3Cscript%20src%3D%22https%3A//leaflet.github.io/Leaflet.heat/dist/leaflet-heat.js%22%3E%3C/script%3E%0A%3C/head%3E%0A%3Cbody%3E%20%20%20%20%0A%20%20%20%20%0A%20%20%20%20%3Cdiv%20class%3D%22folium-map%22%20id%3D%22map_1a89e1aa32dc4ddda4a6951fd05e6951%22%20%3E%3C/div%3E%0A%3C/body%3E%0A%3Cscript%3E%20%20%20%20%0A%20%20%20%20%0A%20%20%20%20%0A%20%20%20%20%20%20%20%20var%20bounds%20%3D%20null%3B%0A%20%20%20%20%0A%0A%20%20%20%20var%20map_1a89e1aa32dc4ddda4a6951fd05e6951%20%3D%20L.map%28%0A%20%20%20%20%20%20%20%20%27map_1a89e1aa32dc4ddda4a6951fd05e6951%27%2C%20%7B%0A%20%20%20%20%20%20%20%20center%3A%20%5B38.245%2C%20-85.7647%5D%2C%0A%20%20%20%20%20%20%20%20zoom%3A%2011%2C%0A%20%20%20%20%20%20%20%20maxBounds%3A%20bounds%2C%0A%20%20%20%20%20%20%20%20layers%3A%20%5B%5D%2C%0A%20%20%20%20%20%20%20%20worldCopyJump%3A%20false%2C%0A%20%20%20%20%20%20%20%20crs%3A%20L.CRS.EPSG3857%2C%0A%20%20%20%20%20%20%20%20zoomControl%3A%20true%2C%0A%20%20%20%20%20%20%20%20%7D%29%3B%0AL.control.scale%28%29.addTo%28map_1a89e1aa32dc4ddda4a6951fd05e6951%29%3B%0A%0A%20%20%20%20%0A%20%20%20%20var%20tile_layer_e67c3590b75049588704838aacb5fe72%20%3D%20L.tileLayer%28%0A%20%20%20%20%20%20%20%20%27https%3A//%7Bs%7D.tile.openstreetmap.org/%7Bz%7D/%7Bx%7D/%7By%7D.png%27%2C%0A%20%20%20%20%20%20%20%20%7B%0A%20%20%20%20%20%20%20%20%22attribution%22%3A%20null%2C%0A%20%20%20%20%20%20%20%20%22detectRetina%22%3A%20false%2C%0A%20%20%20%20%20%20%20%20%22maxNativeZoom%22%3A%2018%2C%0A%20%20%20%20%20%20%20%20%22maxZoom%22%3A%2018%2C%0A%20%20%20%20%20%20%20%20%22minZoom%22%3A%200%2C%0A%20%20%20%20%20%20%20%20%22noWrap%22%3A%20false%2C%0A%20%20%20%20%20%20%20%20%22opacity%22%3A%201%2C%0A%20%20%20%20%20%20%20%20%22subdomains%22%3A%20%22abc%22%2C%0A%20%20%20%20%20%20%20%20%22tms%22%3A%20false%0A%7D%29.addTo%28map_1a89e1aa32dc4ddda4a6951fd05e6951%29%3B%0A%20%20%20%20%0A%20%20%20%20%20%20%20%20%20%20%20%20var%20heat_map_4d18309cba2e48ee893a73090308605b%20%3D%20L.heatLayer%28%0A%20%20%20%20%20%20%20%20%20%20%20%20%20%20%20%20%5B%5B33.42%2C%20-111.94%2C%201.0%5D%2C%20%5B38.09%2C%20-85.56%2C%202.0%5D%2C%20%5B38.19%2C%20-85.81%2C%201.0%5D%2C%20%5B38.2%2C%20-85.79%2C%201.0%5D%2C%20%5B38.2%2C%20-85.76%2C%2022.0%5D%2C%20%5B38.2%2C%20-85.75%2C%203.0%5D%2C%20%5B38.2%2C%20-85.74%2C%201.0%5D%2C%20%5B38.21%2C%20-85.78%2C%205.0%5D%2C%20%5B38.21%2C%20-85.77%2C%2021.0%5D%2C%20%5B38.21%2C%20-85.76%2C%2076.0%5D%2C%20%5B38.21%2C%20-85.75%2C%2040.0%5D%2C%20%5B38.21%2C%20-85.74%2C%205.0%5D%2C%20%5B38.21%2C%20-85.73%2C%201.0%5D%2C%20%5B38.22%2C%20-85.78%2C%202.0%5D%2C%20%5B38.22%2C%20-85.77%2C%2042.0%5D%2C%20%5B38.22%2C%20-85.76%2C%20377.0%5D%2C%20%5B38.22%2C%20-85.75%2C%2037.0%5D%2C%20%5B38.22%2C%20-85.74%2C%2010.0%5D%2C%20%5B38.22%2C%20-85.73%2C%201.0%5D%2C%20%5B38.22%2C%20-85.71%2C%205.0%5D%2C%20%5B38.22%2C%20-85.7%2C%201.0%5D%2C%20%5B38.22%2C%20-85.69%2C%205.0%5D%2C%20%5B38.23%2C%20-85.77%2C%2020.0%5D%2C%20%5B38.23%2C%20-85.76%2C%20114.0%5D%2C%20%5B38.23%2C%20-85.75%2C%2023.0%5D%2C%20%5B38.23%2C%20-85.74%2C%2020.0%5D%2C%20%5B38.23%2C%20-85.73%2C%207.0%5D%2C%20%5B38.23%2C%20-85.72%2C%206.0%5D%2C%20%5B38.23%2C%20-85.71%2C%2026.0%5D%2C%20%5B38.23%2C%20-85.7%2C%2018.0%5D%2C%20%5B38.23%2C%20-85.69%2C%201.0%5D%2C%20%5B38.23%2C%20-85.68%2C%202.0%5D%2C%20%5B38.24%2C%20-85.76%2C%2039.0%5D%2C%20%5B38.24%2C%20-85.75%2C%205.0%5D%2C%20%5B38.24%2C%20-85.74%2C%202.0%5D%2C%20%5B38.24%2C%20-85.73%2C%2031.0%5D%2C%20%5B38.24%2C%20-85.72%2C%20110.0%5D%2C%20%5B38.24%2C%20-85.71%2C%205.0%5D%2C%20%5B38.24%2C%20-85.7%2C%204.0%5D%2C%20%5B38.25%2C%20-85.81%2C%201.0%5D%2C%20%5B38.25%2C%20-85.78%2C%201.0%5D%2C%20%5B38.25%2C%20-85.76%2C%20189.0%5D%2C%20%5B38.25%2C%20-85.75%2C%20100.0%5D%2C%20%5B38.25%2C%20-85.74%2C%2056.0%5D%2C%20%5B38.25%2C%20-85.73%2C%2024.0%5D%2C%20%5B38.25%2C%20-85.72%2C%204.0%5D%2C%20%5B38.25%2C%20-85.7%2C%203.0%5D%2C%20%5B38.25%2C%20-85.66%2C%201.0%5D%2C%20%5B38.26%2C%20-85.81%2C%202.0%5D%2C%20%5B38.26%2C%20-85.78%2C%204.0%5D%2C%20%5B38.26%2C%20-85.77%2C%2012.0%5D%2C%20%5B38.26%2C%20-85.76%2C%20226.0%5D%2C%20%5B38.26%2C%20-85.75%2C%20127.0%5D%2C%20%5B38.26%2C%20-85.74%2C%2040.0%5D%2C%20%5B38.26%2C%20-85.73%2C%2012.0%5D%2C%20%5B38.26%2C%20-85.67%2C%201.0%5D%2C%20%5B38.27%2C%20-85.79%2C%201.0%5D%2C%20%5B38.27%2C%20-85.78%2C%207.0%5D%2C%20%5B38.27%2C%20-85.75%2C%201.0%5D%2C%20%5B38.27%2C%20-85.74%2C%204.0%5D%2C%20%5B38.27%2C%20-85.72%2C%203.0%5D%2C%20%5B39.53%2C%20-119.81%2C%201.0%5D%5D%2C%0A%20%20%20%20%20%20%20%20%20%20%20%20%20%20%20%20%7B%0A%20%20%20%20%20%20%20%20%20%20%20%20%20%20%20%20%20%20%20%20minOpacity%3A%200.5%2C%0A%20%20%20%20%20%20%20%20%20%20%20%20%20%20%20%20%20%20%20%20maxZoom%3A%2013%2C%0A%20%20%20%20%20%20%20%20%20%20%20%20%20%20%20%20%20%20%20%20max%3A%201.0%2C%0A%20%20%20%20%20%20%20%20%20%20%20%20%20%20%20%20%20%20%20%20radius%3A%208%2C%0A%20%20%20%20%20%20%20%20%20%20%20%20%20%20%20%20%20%20%20%20blur%3A%2015%2C%0A%20%20%20%20%20%20%20%20%20%20%20%20%20%20%20%20%20%20%20%20gradient%3A%20null%0A%20%20%20%20%20%20%20%20%20%20%20%20%20%20%20%20%20%20%20%20%7D%29%0A%20%20%20%20%20%20%20%20%20%20%20%20%20%20%20%20.addTo%28map_1a89e1aa32dc4ddda4a6951fd05e6951%29%3B%0A%20%20%20%20%20%20%20%20%0A%3C/script%3E onload=\"this.contentDocument.open();this.contentDocument.write(    decodeURIComponent(this.getAttribute('data-html')));this.contentDocument.close();\" allowfullscreen webkitallowfullscreen mozallowfullscreen></iframe></div></div>"
            ],
            "text/plain": [
              "<folium.folium.Map at 0x7f5c4f6862e8>"
            ]
          },
          "metadata": {
            "tags": []
          },
          "execution_count": 289
        }
      ]
    },
    {
      "cell_type": "markdown",
      "metadata": {
        "id": "Xah7RdHwtkny"
      },
      "source": [
        "## Estimate number of scooters Company B operates"
      ]
    },
    {
      "cell_type": "markdown",
      "metadata": {
        "id": "JswonY5xEbcl"
      },
      "source": [
        "I have one relatively simple method to address this question. I will add the detailed calculation for the simpler method.\n",
        "\n",
        "To bring in actionable recommendations, we should compare the estimated number with the reality to assess the gap between demand and supply. The next step following would be \"How many scooters to expand considering market potential\". I have drafted my rough estimate below for methodology demonstration purpose only. The number could be adjusted by empowering with real data. Note that this step is not in-scope of this exercise."
      ]
    },
    {
      "cell_type": "markdown",
      "metadata": {
        "id": "_lFd3lTHZPUA"
      },
      "source": [
        "### A simpler model"
      ]
    },
    {
      "cell_type": "markdown",
      "metadata": {
        "id": "53W_OYrc54IR"
      },
      "source": [
        "Considering the two companies are operating in the same metropolitan area. Let's assume that the demand would likely be simlar. \n",
        "\n",
        "My initial simpler model is:\n",
        " * calculate the scooter/trip ratio of all trips operating by Comany A, and apply that on Company B to get number of scooters n(1)\n",
        " * perform similar exercise on the common month Dec 2018 and get number of scooters n(2)\n",
        " * cross-validate these two numbers n(1) and n(2)\n",
        "\n",
        "Note that:\n",
        "\n",
        "1) this is a rough estimate and we are not considering the specific deman of each neighborhood or the allocation of these scooters.\n",
        "\n",
        "2) The data provided is not enough for a more precise estimate. There's only one month in common between the two datasets. There could be potential variation or seasonality in the data which we might not be able to realize with the available data.\n",
        "\n",
        "3) Assume we are trying to estimate the number of scoters of the entire Metro area, so we should use the raw data based on the mechanism of this simple model, rather than the clean one."
      ]
    },
    {
      "cell_type": "markdown",
      "metadata": {
        "id": "GsCzuMRoDaZR"
      },
      "source": [
        "Calculate n1"
      ]
    },
    {
      "cell_type": "code",
      "metadata": {
        "colab": {
          "base_uri": "https://localhost:8080/"
        },
        "id": "6j6mjuM42car",
        "outputId": "cd56a8cd-d1fa-4478-98cb-8c7d066dbf43"
      },
      "source": [
        "print(df_company_a.TripID.nunique(), \"unique number of trips with Company A's\", df_company_a.ScooterID.nunique(), \"unique number of scooters\")"
      ],
      "execution_count": null,
      "outputs": [
        {
          "output_type": "stream",
          "text": [
            "57365 unique number of trips with Company A's 858 unique number of scooters\n"
          ],
          "name": "stdout"
        }
      ]
    },
    {
      "cell_type": "code",
      "metadata": {
        "colab": {
          "base_uri": "https://localhost:8080/"
        },
        "id": "f8xV4inq35cu",
        "outputId": "eb9316ad-2e7f-4402-d7c2-27ec33d8d11e"
      },
      "source": [
        "print(df_company_b.trip_id.nunique(), \"unique number of trips with Company B's scooters)"
      ],
      "execution_count": null,
      "outputs": [
        {
          "output_type": "stream",
          "text": [
            "10578 unique number of trips with Company B's scooters\n"
          ],
          "name": "stdout"
        }
      ]
    },
    {
      "cell_type": "code",
      "metadata": {
        "colab": {
          "base_uri": "https://localhost:8080/"
        },
        "id": "s2lu-KHS5n01",
        "outputId": "f3a35187-d9b5-4427-9873-96bab0b4c4e7"
      },
      "source": [
        "n1 = (858/57365)*10578\n",
        "n1"
      ],
      "execution_count": null,
      "outputs": [
        {
          "output_type": "execute_result",
          "data": {
            "text/plain": [
              "158.21361457334612"
            ]
          },
          "metadata": {
            "tags": []
          },
          "execution_count": 326
        }
      ]
    },
    {
      "cell_type": "markdown",
      "metadata": {
        "id": "XpIgftQ6DiEU"
      },
      "source": [
        "Calculate n2"
      ]
    },
    {
      "cell_type": "code",
      "metadata": {
        "id": "yRbf17U3A_9R"
      },
      "source": [
        "df_company_a[\"month\"] = pd.DatetimeIndex(df_company_a[\"StartTime\"]).strftime('%m')\n",
        "df_company_b[\"month\"] = pd.DatetimeIndex(df_company_b[\"start_time\"]).strftime('%m')"
      ],
      "execution_count": null,
      "outputs": []
    },
    {
      "cell_type": "code",
      "metadata": {
        "colab": {
          "base_uri": "https://localhost:8080/"
        },
        "id": "wiQPmtCUBiIR",
        "outputId": "fc4f6d57-b717-4c2e-bf15-234d24914563"
      },
      "source": [
        "print(\"In Dec 2018,\", df_company_a[df_company_a[\"month\"] == \"12\"].TripID.nunique(), \n",
        "      \"unique number of trips with Company A's\", \n",
        "      df_company_a[df_company_a[\"month\"] == \"12\"].ScooterID.nunique(),\n",
        "      \"unique number of scooters\")\n"
      ],
      "execution_count": null,
      "outputs": [
        {
          "output_type": "stream",
          "text": [
            "In Dec 2018, 8981 unique number of trips with Company A's 393 unique number of scooters\n"
          ],
          "name": "stdout"
        }
      ]
    },
    {
      "cell_type": "code",
      "metadata": {
        "colab": {
          "base_uri": "https://localhost:8080/"
        },
        "id": "1AZhKyRDCxP7",
        "outputId": "3280f199-4c7c-45f4-8578-772a2e39cd21"
      },
      "source": [
        "print(\"In Dec 2018,\", df_company_b[df_company_b[\"month\"] == \"12\"].trip_id.nunique(), \"unique number of trips with Company B's scooters\")"
      ],
      "execution_count": null,
      "outputs": [
        {
          "output_type": "stream",
          "text": [
            "In Dec 2018, 4088 unique number of trips with Company B's scooters\n"
          ],
          "name": "stdout"
        }
      ]
    },
    {
      "cell_type": "code",
      "metadata": {
        "colab": {
          "base_uri": "https://localhost:8080/"
        },
        "id": "kMgPf9h9DJrK",
        "outputId": "89c08502-4d96-421d-d2d1-57de33718120"
      },
      "source": [
        "n2 = (393/8981)*4088\n",
        "n2"
      ],
      "execution_count": null,
      "outputs": [
        {
          "output_type": "execute_result",
          "data": {
            "text/plain": [
              "178.88698363211222"
            ]
          },
          "metadata": {
            "tags": []
          },
          "execution_count": 325
        }
      ]
    },
    {
      "cell_type": "markdown",
      "metadata": {
        "id": "dJTivBmuDlO5"
      },
      "source": [
        "**Result**\n",
        "\n",
        "n1 = ~158 and n2 = ~179 are pretty close to each other. Although again, more data could help us achieve a more precise answer, it is reasonable to claim the range of estimation by this method is [158, 179].\n",
        "\n",
        "Thus, by this method, the estimated number of scooters ran by Company B should be in the range of [158, 179]"
      ]
    },
    {
      "cell_type": "markdown",
      "metadata": {
        "id": "ZZsclnGeplPJ"
      },
      "source": [
        "### Market Sizing"
      ]
    },
    {
      "cell_type": "markdown",
      "metadata": {
        "id": "uPOVgqRvIiZZ"
      },
      "source": [
        "I would calculate the number of riders requiring scooter in peak time each day and then divide by the number of rides a scooter makes in a day.\n",
        "\n",
        "**Top Equation:**\n",
        "Num scooters required = Num people requiring scooter in peak time / Num rides served per scooter at any time with acceptable wait time\n",
        "\n",
        "\n",
        "According to [worldpopulationreview.com](https://worldpopulationreview.com/us-cities/louisville-ky-population) Louisville, KY metro area has 616K population. I would divide the request of consumers based on age.\n",
        "\n",
        " * teenagers – Might use scooters for fun activity or travelling locally around town. 10% of population – 61.6k- assuming 10% of teenagers use it for 2 rides a week => 616K x 10% x 10% = 6.16k rides\n",
        "   * Peak time would have 10% use this service: 6.16K x 10% = .61K\n",
        "\n",
        " * 20-40 – working category – 50% of population – 30% use this service for averge 3 times a week => 616K x 50% x 30% x 3 = 277.2K\n",
        "   * Peak time would have 40% use this service: 277.2K x 40% = 110.8K\n",
        "\n",
        " * 40-60 years – 30 % of popoluation use service – 10% of this pop use this servie once a week => 616K x 30% x 10% x 1 = 18.48K rides weekly\n",
        "\n",
        " * 60+ = 300 rides a week\n",
        "\n",
        "Daily ride req = (.61K + 110.8K)/7 = 15K\n",
        "\n",
        "Average rides per scooters = 3.\n",
        "\n",
        "total scooterss = 3.3K"
      ]
    }
  ]
}